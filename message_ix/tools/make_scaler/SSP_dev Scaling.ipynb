{
 "cells": [
  {
   "cell_type": "markdown",
   "metadata": {},
   "source": [
    "# Using scaling tool in global model for SSPs scenarios"
   ]
  },
  {
   "cell_type": "code",
   "execution_count": 1,
   "metadata": {},
   "outputs": [],
   "source": [
    "import pandas as pd\n",
    "import ixmp\n",
    "import message_ix\n",
    "import os\n",
    "\n",
    "from message_ix.tools.lp_diag import LPdiag\n",
    "from message_ix.tools.make_scaler import make_scaler\n",
    "from message_ix.tools.make_scaler import show_range\n",
    "from message_ix.tools.make_scaler import get_scaler_args\n",
    "\n",
    "from message_ix.util import make_df\n",
    "\n",
    "%matplotlib inline\n",
    "\n",
    "lp = LPdiag()\n",
    "mp = ixmp.Platform()"
   ]
  },
  {
   "cell_type": "markdown",
   "metadata": {},
   "source": [
    "## Making a clone of the existing scenario 'baseline'"
   ]
  },
  {
   "cell_type": "code",
   "execution_count": 2,
   "metadata": {},
   "outputs": [
    {
     "name": "stderr",
     "output_type": "stream",
     "text": [
      "Existing index sets of 'EMISSION_EQUIVALENCE' ['node', 'emission', 'type_tec', 'year'] do not match []\n",
      "Existing index sets of 'EMISSION_EQUIVALENCE' ['node', 'emission', 'type_tec', 'year'] do not match []\n"
     ]
    }
   ],
   "source": [
    "ssp = \"SSP2\"\n",
    "base = message_ix.Scenario(mp, model=f\"SSP_{ssp}_v1.0\", scenario=\"baseline_DEFAULT\")\n",
    "\n",
    "# creating unscaled scenario\n",
    "model_name = f\"ScalingSSP_{ssp}_v1.0\"\n",
    "scenario_name = f\"baseline_DEFAULT\"\n",
    "scen = base.clone(\n",
    "    model_name,\n",
    "    scenario_name,\n",
    "    f\"unscaled {ssp} model\",\n",
    "    keep_solution = False,)\n",
    "\n",
    "scen.check_out()"
   ]
  },
  {
   "cell_type": "markdown",
   "metadata": {},
   "source": [
    "## Time to Solve the Model\n",
    "\n",
    "Solution time: 48.14s"
   ]
  },
  {
   "cell_type": "code",
   "execution_count": 3,
   "metadata": {},
   "outputs": [],
   "source": [
    "scen.commit(comment= f\"unscaled {ssp} scenario\")\n",
    "scen.set_as_default()\n",
    "\n",
    "current_directory = os.getcwd()\n",
    "mps_dir = os.path.join(current_directory, f\"{model_name}_{scenario_name}.mps\")"
   ]
  },
  {
   "cell_type": "code",
   "execution_count": 4,
   "metadata": {},
   "outputs": [
    {
     "ename": "ModelError",
     "evalue": "GAMS errored with return code 2:\n    There was a compilation error\n\nFor details, see the terminal output above, plus:\nListing   : C:\\Users\\pratama\\Documents\\GitHub\\MESSAGEix\\message_ix\\message_ix\\model\\MESSAGE_run.lst\nInput data: C:\\Users\\pratama\\Documents\\GitHub\\MESSAGEix\\message_ix\\message_ix\\model\\data\\MsgData_ScalingSSP_SSP2_v1.0_baseline_DEFAULT.gdx",
     "output_type": "error",
     "traceback": [
      "\u001b[1;31m---------------------------------------------------------------------------\u001b[0m",
      "\u001b[1;31mModelError\u001b[0m                                Traceback (most recent call last)",
      "Cell \u001b[1;32mIn[4], line 1\u001b[0m\n\u001b[1;32m----> 1\u001b[0m \u001b[43mscen\u001b[49m\u001b[38;5;241;43m.\u001b[39;49m\u001b[43msolve\u001b[49m\u001b[43m(\u001b[49m\u001b[43msolve_options\u001b[49m\u001b[38;5;241;43m=\u001b[39;49m\u001b[43m{\u001b[49m\u001b[38;5;124;43m'\u001b[39;49m\u001b[38;5;124;43mbarcrossalg\u001b[39;49m\u001b[38;5;124;43m'\u001b[39;49m\u001b[43m:\u001b[49m\u001b[43m \u001b[49m\u001b[38;5;124;43m'\u001b[39;49m\u001b[38;5;124;43m2\u001b[39;49m\u001b[38;5;124;43m'\u001b[39;49m\u001b[43m,\u001b[49m\n\u001b[0;32m      2\u001b[0m \u001b[43m                          \u001b[49m\u001b[38;5;124;43m'\u001b[39;49m\u001b[38;5;124;43mscaind\u001b[39;49m\u001b[38;5;124;43m'\u001b[39;49m\u001b[43m:\u001b[49m\u001b[38;5;124;43m'\u001b[39;49m\u001b[38;5;124;43m-1\u001b[39;49m\u001b[38;5;124;43m'\u001b[39;49m\u001b[43m,\u001b[49m\n\u001b[0;32m      3\u001b[0m \u001b[43m                          \u001b[49m\u001b[38;5;124;43m\"\u001b[39;49m\u001b[38;5;124;43mwritemps\u001b[39;49m\u001b[38;5;124;43m\"\u001b[39;49m\u001b[43m:\u001b[49m\u001b[43m \u001b[49m\u001b[43mmps_dir\u001b[49m\u001b[43m,\u001b[49m\n\u001b[0;32m      4\u001b[0m \u001b[43m                         \u001b[49m\u001b[43m}\u001b[49m\u001b[43m)\u001b[49m\n\u001b[0;32m      5\u001b[0m scen\u001b[38;5;241m.\u001b[39mvar(\u001b[38;5;124m\"\u001b[39m\u001b[38;5;124mOBJ\u001b[39m\u001b[38;5;124m\"\u001b[39m)[\u001b[38;5;124m\"\u001b[39m\u001b[38;5;124mlvl\u001b[39m\u001b[38;5;124m\"\u001b[39m]\n",
      "File \u001b[1;32m~\\Documents\\GitHub\\MESSAGEix\\message_ix\\message_ix\\core.py:707\u001b[0m, in \u001b[0;36mScenario.solve\u001b[1;34m(self, model, solve_options, **kwargs)\u001b[0m\n\u001b[0;32m    688\u001b[0m \u001b[38;5;28;01mdef\u001b[39;00m \u001b[38;5;21msolve\u001b[39m(\u001b[38;5;28mself\u001b[39m, model\u001b[38;5;241m=\u001b[39m\u001b[38;5;124m\"\u001b[39m\u001b[38;5;124mMESSAGE\u001b[39m\u001b[38;5;124m\"\u001b[39m, solve_options\u001b[38;5;241m=\u001b[39m{}, \u001b[38;5;241m*\u001b[39m\u001b[38;5;241m*\u001b[39mkwargs):\n\u001b[0;32m    689\u001b[0m \u001b[38;5;250m    \u001b[39m\u001b[38;5;124;03m\"\"\"Solve MESSAGE or MESSAGE-MACRO for the Scenario.\u001b[39;00m\n\u001b[0;32m    690\u001b[0m \n\u001b[0;32m    691\u001b[0m \u001b[38;5;124;03m    By default, :meth:`ixmp.Scenario.solve` is called with 'MESSAGE' as the\u001b[39;00m\n\u001b[1;32m   (...)\u001b[0m\n\u001b[0;32m    705\u001b[0m \u001b[38;5;124;03m        :class:`.MESSAGE_MACRO` class and :class:`.GAMSModel`.\u001b[39;00m\n\u001b[0;32m    706\u001b[0m \u001b[38;5;124;03m    \"\"\"\u001b[39;00m\n\u001b[1;32m--> 707\u001b[0m     \u001b[38;5;28msuper\u001b[39m()\u001b[38;5;241m.\u001b[39msolve(model\u001b[38;5;241m=\u001b[39mmodel, solve_options\u001b[38;5;241m=\u001b[39msolve_options, \u001b[38;5;241m*\u001b[39m\u001b[38;5;241m*\u001b[39mkwargs)\n",
      "File \u001b[1;32m~\\Anaconda3\\envs\\message_env\\lib\\site-packages\\ixmp\\core\\scenario.py:878\u001b[0m, in \u001b[0;36mScenario.solve\u001b[1;34m(self, model, callback, cb_kwargs, **model_options)\u001b[0m\n\u001b[0;32m    876\u001b[0m \u001b[38;5;66;03m# Iterate until convergence\u001b[39;00m\n\u001b[0;32m    877\u001b[0m \u001b[38;5;28;01mwhile\u001b[39;00m \u001b[38;5;28;01mTrue\u001b[39;00m:\n\u001b[1;32m--> 878\u001b[0m     \u001b[43mmodel_obj\u001b[49m\u001b[38;5;241;43m.\u001b[39;49m\u001b[43mrun\u001b[49m\u001b[43m(\u001b[49m\u001b[38;5;28;43mself\u001b[39;49m\u001b[43m)\u001b[49m\n\u001b[0;32m    880\u001b[0m     \u001b[38;5;66;03m# Store an iteration number to help the callback\u001b[39;00m\n\u001b[0;32m    881\u001b[0m     \u001b[38;5;28;01mif\u001b[39;00m \u001b[38;5;129;01mnot\u001b[39;00m \u001b[38;5;28mhasattr\u001b[39m(\u001b[38;5;28mself\u001b[39m, \u001b[38;5;124m\"\u001b[39m\u001b[38;5;124miteration\u001b[39m\u001b[38;5;124m\"\u001b[39m):\n",
      "File \u001b[1;32m~\\Documents\\GitHub\\MESSAGEix\\message_ix\\message_ix\\models.py:219\u001b[0m, in \u001b[0;36mGAMSModel.run\u001b[1;34m(self, scenario)\u001b[0m\n\u001b[0;32m    216\u001b[0m lines2 \u001b[38;5;241m=\u001b[39m (\u001b[38;5;124m\"\u001b[39m\u001b[38;5;132;01m{}\u001b[39;00m\u001b[38;5;124m = \u001b[39m\u001b[38;5;132;01m{}\u001b[39;00m\u001b[38;5;124m\"\u001b[39m\u001b[38;5;241m.\u001b[39mformat(\u001b[38;5;241m*\u001b[39mkv) \u001b[38;5;28;01mfor\u001b[39;00m kv \u001b[38;5;129;01min\u001b[39;00m \u001b[38;5;28mself\u001b[39m\u001b[38;5;241m.\u001b[39mcplex_opts\u001b[38;5;241m.\u001b[39mitems())\n\u001b[0;32m    217\u001b[0m optfile2\u001b[38;5;241m.\u001b[39mwrite_text(\u001b[38;5;124m\"\u001b[39m\u001b[38;5;130;01m\\n\u001b[39;00m\u001b[38;5;124m\"\u001b[39m\u001b[38;5;241m.\u001b[39mjoin(lines2))\n\u001b[1;32m--> 219\u001b[0m result \u001b[38;5;241m=\u001b[39m \u001b[38;5;28;43msuper\u001b[39;49m\u001b[43m(\u001b[49m\u001b[43m)\u001b[49m\u001b[38;5;241;43m.\u001b[39;49m\u001b[43mrun\u001b[49m\u001b[43m(\u001b[49m\u001b[43mscenario\u001b[49m\u001b[43m)\u001b[49m\n\u001b[0;32m    221\u001b[0m \u001b[38;5;66;03m# In previous versions, the `cplex.opt` file(s) were removed at this point\u001b[39;00m\n\u001b[0;32m    222\u001b[0m \u001b[38;5;66;03m# in the workflow. This has been removed due to issues when running\u001b[39;00m\n\u001b[0;32m    223\u001b[0m \u001b[38;5;66;03m# scenarios asynchronously.\u001b[39;00m\n\u001b[0;32m    225\u001b[0m \u001b[38;5;28;01mreturn\u001b[39;00m result\n",
      "File \u001b[1;32m~\\Anaconda3\\envs\\message_env\\lib\\site-packages\\ixmp\\model\\gams.py:374\u001b[0m, in \u001b[0;36mGAMSModel.run\u001b[1;34m(self, scenario)\u001b[0m\n\u001b[0;32m    362\u001b[0m     scenario\u001b[38;5;241m.\u001b[39mplatform\u001b[38;5;241m.\u001b[39m_backend\u001b[38;5;241m.\u001b[39mread_file(\n\u001b[0;32m    363\u001b[0m         \u001b[38;5;28mself\u001b[39m\u001b[38;5;241m.\u001b[39mout_file,\n\u001b[0;32m    364\u001b[0m         ItemType\u001b[38;5;241m.\u001b[39mMODEL,\n\u001b[1;32m   (...)\u001b[0m\n\u001b[0;32m    369\u001b[0m         var_list\u001b[38;5;241m=\u001b[39mas_str_list(\u001b[38;5;28mself\u001b[39m\u001b[38;5;241m.\u001b[39mvar_list) \u001b[38;5;129;01mor\u001b[39;00m [],\n\u001b[0;32m    370\u001b[0m     )\n\u001b[0;32m    371\u001b[0m \u001b[38;5;28;01mexcept\u001b[39;00m (CalledProcessError, \u001b[38;5;167;01mRuntimeError\u001b[39;00m) \u001b[38;5;28;01mas\u001b[39;00m exc:\n\u001b[0;32m    372\u001b[0m     \u001b[38;5;66;03m# CalledProcessError from run(); RuntimeError from read_file()\u001b[39;00m\n\u001b[0;32m    373\u001b[0m     \u001b[38;5;66;03m# Do not remove self.temp_dir; the user may want to inspect the GDX file\u001b[39;00m\n\u001b[1;32m--> 374\u001b[0m     \u001b[38;5;28;01mraise\u001b[39;00m \u001b[38;5;28mself\u001b[39m\u001b[38;5;241m.\u001b[39mformat_exception(\n\u001b[0;32m    375\u001b[0m         exc, model_file, scenario\u001b[38;5;241m.\u001b[39mplatform\u001b[38;5;241m.\u001b[39m_backend\u001b[38;5;241m.\u001b[39m\u001b[38;5;18m__class__\u001b[39m\n\u001b[0;32m    376\u001b[0m     ) \u001b[38;5;28;01mfrom\u001b[39;00m \u001b[38;5;28mNone\u001b[39m\n\u001b[0;32m    378\u001b[0m \u001b[38;5;66;03m# Finished: remove the temporary directory, if any\u001b[39;00m\n\u001b[0;32m    379\u001b[0m \u001b[38;5;28mself\u001b[39m\u001b[38;5;241m.\u001b[39mremove_temp_dir()\n",
      "\u001b[1;31mModelError\u001b[0m: GAMS errored with return code 2:\n    There was a compilation error\n\nFor details, see the terminal output above, plus:\nListing   : C:\\Users\\pratama\\Documents\\GitHub\\MESSAGEix\\message_ix\\message_ix\\model\\MESSAGE_run.lst\nInput data: C:\\Users\\pratama\\Documents\\GitHub\\MESSAGEix\\message_ix\\message_ix\\model\\data\\MsgData_ScalingSSP_SSP2_v1.0_baseline_DEFAULT.gdx"
     ]
    }
   ],
   "source": [
    "scen.solve(solve_options={'barcrossalg': '2',\n",
    "                          'scaind':'-1',\n",
    "                          \"writemps\": mps_dir,\n",
    "                         })\n",
    "scen.var(\"OBJ\")[\"lvl\"]"
   ]
  },
  {
   "cell_type": "markdown",
   "metadata": {},
   "source": [
    "Using the unscaled scenario above, we make scaler arguments to solve scenario with scaled matrix coefficients"
   ]
  },
  {
   "cell_type": "code",
   "execution_count": null,
   "metadata": {},
   "outputs": [],
   "source": [
    "scen = message_ix.Scenario(mp, model=\"GENIE_sandbox\", scenario=\"cb1000_splitCO2transdisp_unscaled\")\n"
   ]
  },
  {
   "cell_type": "raw",
   "metadata": {
    "scrolled": false
   },
   "source": [
    "model = \"GENIE_sandbox\"\n",
    "scen_name = \"cb1000_splitCO2transdisp_unscaled\"\n",
    "\n",
    "current_directory = os.getcwd()\n",
    "mps_dir = os.path.join(current_directory, f\"{model}_{scen_name}.mps\")\n",
    "scale_df = make_scaler(mps_dir, scen, bounds=4, steps=1)"
   ]
  },
  {
   "cell_type": "markdown",
   "metadata": {},
   "source": [
    "## Run scenarios with scaled matrix\n",
    "\n",
    "Results: solution time 57.8s"
   ]
  },
  {
   "cell_type": "code",
   "execution_count": null,
   "metadata": {},
   "outputs": [],
   "source": [
    "model = \"GENIE_sandbox\"\n",
    "\n",
    "base = message_ix.Scenario(mp, model=model, scenario=\"cb1000_splitCO2transdisp_unscaled\")\n",
    "\n",
    "\n",
    "sc_name = \"cb1000_splitCO2transdisp_scaled\"\n",
    "sc = base.clone(\n",
    "    model,\n",
    "    sc_name,\n",
    "    \"introducing scaling tool for global model daccs scenario\",\n",
    "    keep_solution=False,\n",
    ")\n",
    "sc.check_out()\n",
    "\n",
    "sc.commit(comment=\"Scaling tool test for global model\")\n",
    "sc.set_as_default()"
   ]
  },
  {
   "cell_type": "code",
   "execution_count": null,
   "metadata": {},
   "outputs": [],
   "source": [
    "current_directory = os.getcwd()\n",
    "mps_dir = os.path.join(current_directory, f\"{model}_{sc_name}.mps\")"
   ]
  },
  {
   "cell_type": "code",
   "execution_count": null,
   "metadata": {},
   "outputs": [],
   "source": [
    "argument = get_scaler_args(scen)\n",
    "\n",
    "sc.solve(solve_options={\"writemps\": mps_dir},\n",
    "         gams_args=[argument]\n",
    "        )"
   ]
  },
  {
   "cell_type": "code",
   "execution_count": null,
   "metadata": {},
   "outputs": [],
   "source": [
    "sc.var(\"OBJ\")[\"lvl\"]"
   ]
  },
  {
   "cell_type": "code",
   "execution_count": null,
   "metadata": {},
   "outputs": [],
   "source": [
    "scen.var(\"OBJ\")[\"lvl\"]"
   ]
  },
  {
   "cell_type": "raw",
   "metadata": {},
   "source": [
    "lp.read_mps(mps_dir)\n",
    "data = lp.read_matrix()\n",
    "show_range(data,\"\\nNew exp range:\")"
   ]
  },
  {
   "cell_type": "markdown",
   "metadata": {},
   "source": [
    "**Let's compare with running scenario without special arguments**\n",
    "\n",
    "Results: solution time 50s\n",
    "\n",
    "<code>\n",
    "\n",
    "Primal simplex solved model.\n",
    "\n",
    "Iteration:  4009    Objective     =       2609317.507987\n",
    "Elapsed time = 40.50 sec. (46961.19 ticks, 4009 iterations)\n",
    "Iteration:  4096    Objective     =       2609317.507987\n",
    "Iteration:  5667    Objective     =       2609317.519581\n",
    "Total crossover time = 29.84 sec. (24634.88 ticks)\n",
    "\n",
    "Total time on 4 threads = 50.02 sec. (52935.76 ticks)\n",
    "\n",
    "--- LP status (5): optimal with unscaled infeasibilities.\n",
    "--- Cplex Time: 50.03sec (det. 52937.85 ticks)\n",
    "\n",
    "Optimal solution found, but with infeasibilities after unscaling\n",
    "Simplex iterations after crossover: 0\n",
    "Objective:      2609317.507987\n",
    "\n",
    "</code>"
   ]
  },
  {
   "cell_type": "markdown",
   "metadata": {},
   "source": [
    "**Scaled with default GAMS options:**\n",
    "\n",
    "Solution time: 119.23s"
   ]
  },
  {
   "cell_type": "code",
   "execution_count": null,
   "metadata": {},
   "outputs": [],
   "source": [
    "import pandas as pd\n",
    "import ixmp\n",
    "import message_ix\n",
    "import os\n",
    "\n",
    "from message_ix.tools.lp_diag import LPdiag\n",
    "from message_ix.tools.make_scaler import make_scaler\n",
    "from message_ix.tools.make_scaler import show_range\n",
    "from message_ix.tools.make_scaler import get_scaler_args\n",
    "\n",
    "from message_ix.util import make_df\n",
    "\n",
    "%matplotlib inline\n",
    "\n",
    "lp = LPdiag()\n",
    "mp = ixmp.Platform()\n",
    "\n",
    "model = \"GENIE_sandbox\"\n",
    "\n",
    "base = message_ix.Scenario(mp, model=model, scenario=\"cb1000_splitCO2transdisp_unscaled\")\n",
    "\n",
    "\n",
    "scen_name = \"cb1000_splitCO2transdisp_scaled\"\n",
    "scen = base.clone(\n",
    "    model,\n",
    "    scen_name,\n",
    "    \"unscaled daccs scenario with split infrastructure\",\n",
    "    keep_solution=False,\n",
    ")\n",
    "scen.check_out()\n",
    "\n",
    "\n",
    "argument = get_scaler_args(base)\n",
    "\n",
    "\n",
    "scen.solve(solve_options={\"advind\": \"determined by GAMS Bratio\",\n",
    "                          \"epopt\": \"1.0e-06\",\n",
    "                          \"lpmethod\": \"0\",\n",
    "                         },\n",
    "           gams_args=[argument])\n",
    "scen.var(\"OBJ\")[\"lvl\"]"
   ]
  },
  {
   "cell_type": "markdown",
   "metadata": {},
   "source": [
    "**Unscaled with default GAMS settings**\n",
    "\n",
    "Solution time: 93.52sec"
   ]
  },
  {
   "cell_type": "code",
   "execution_count": null,
   "metadata": {},
   "outputs": [],
   "source": [
    "model = \"GENIE_sandbox\"\n",
    "\n",
    "base = message_ix.Scenario(mp, model=model, scenario=\"cb1000_splitCO2transdisp\")\n",
    "\n",
    "\n",
    "scen_name = \"cb1000_splitCO2transdisp_unscaled\"\n",
    "scen = base.clone(\n",
    "    model,\n",
    "    scen_name,\n",
    "    \"unscaled daccs scenario with split infrastructure\",\n",
    "    keep_solution=False,\n",
    ")\n",
    "scen.check_out()\n",
    "\n",
    "scen.solve(solve_options={\"advind\": \"determined by GAMS Bratio\",\n",
    "                          \"epopt\": \"1.0e-06\",\n",
    "                          \"lpmethod\": \"0\",\n",
    "                         })\n",
    "scen.var(\"OBJ\")[\"lvl\"]"
   ]
  },
  {
   "cell_type": "markdown",
   "metadata": {},
   "source": [
    "**Scaled with dual simplex:**\n",
    "\n",
    "Solution time: 5152.6 s"
   ]
  },
  {
   "cell_type": "code",
   "execution_count": null,
   "metadata": {},
   "outputs": [],
   "source": [
    "import pandas as pd\n",
    "import ixmp\n",
    "import message_ix\n",
    "import os\n",
    "\n",
    "from message_ix.tools.lp_diag import LPdiag\n",
    "from message_ix.tools.make_scaler import make_scaler\n",
    "from message_ix.tools.make_scaler import show_range\n",
    "from message_ix.tools.make_scaler import get_scaler_args\n",
    "\n",
    "from message_ix.util import make_df\n",
    "\n",
    "%matplotlib inline\n",
    "\n",
    "lp = LPdiag()\n",
    "mp = ixmp.Platform()\n",
    "\n",
    "model = \"GENIE_sandbox\"\n",
    "\n",
    "base = message_ix.Scenario(mp, model=model, scenario=\"cb1000_splitCO2transdisp_unscaled\")\n",
    "\n",
    "\n",
    "scen_name = \"cb1000_splitCO2transdisp_scaled\"\n",
    "scen = base.clone(\n",
    "    model,\n",
    "    scen_name,\n",
    "    \"unscaled daccs scenario with split infrastructure\",\n",
    "    keep_solution=False,\n",
    ")\n",
    "scen.check_out()\n",
    "\n",
    "\n",
    "argument = get_scaler_args(base)\n",
    "\n",
    "\n",
    "scen.solve(solve_options={\"advind\": \"determined by GAMS Bratio\",\n",
    "                          \"epopt\": \"1.0e-06\",\n",
    "                          \"lpmethod\": \"2\",\n",
    "                         },\n",
    "           gams_args=[argument])\n",
    "scen.var(\"OBJ\")[\"lvl\"]"
   ]
  },
  {
   "cell_type": "markdown",
   "metadata": {},
   "source": [
    "**Scaled with primal simplex:**\n",
    "\n",
    "Solution time: 54665.56 s"
   ]
  },
  {
   "cell_type": "code",
   "execution_count": null,
   "metadata": {},
   "outputs": [],
   "source": [
    "import pandas as pd\n",
    "import ixmp\n",
    "import message_ix\n",
    "import os\n",
    "\n",
    "from message_ix.tools.lp_diag import LPdiag\n",
    "from message_ix.tools.make_scaler import make_scaler\n",
    "from message_ix.tools.make_scaler import show_range\n",
    "from message_ix.tools.make_scaler import get_scaler_args\n",
    "\n",
    "from message_ix.util import make_df\n",
    "\n",
    "%matplotlib inline\n",
    "\n",
    "lp = LPdiag()\n",
    "mp = ixmp.Platform()\n",
    "\n",
    "model = \"GENIE_sandbox\"\n",
    "\n",
    "base = message_ix.Scenario(mp, model=model, scenario=\"cb1000_splitCO2transdisp_unscaled\")\n",
    "\n",
    "\n",
    "scen_name = \"cb1000_splitCO2transdisp_scaled\"\n",
    "scen = base.clone(\n",
    "    model,\n",
    "    scen_name,\n",
    "    \"unscaled daccs scenario with split infrastructure\",\n",
    "    keep_solution=False,\n",
    ")\n",
    "scen.check_out()\n",
    "\n",
    "\n",
    "argument = get_scaler_args(base)\n",
    "\n",
    "\n",
    "scen.solve(solve_options={\"advind\": \"determined by GAMS Bratio\",\n",
    "                          \"epopt\": \"1.0e-06\",\n",
    "                          \"lpmethod\": \"1\",\n",
    "                         },\n",
    "           gams_args=[argument])\n",
    "scen.var(\"OBJ\")[\"lvl\"]"
   ]
  },
  {
   "cell_type": "markdown",
   "metadata": {},
   "source": [
    "## Close the connection to the database"
   ]
  },
  {
   "cell_type": "code",
   "execution_count": null,
   "metadata": {},
   "outputs": [],
   "source": [
    "mp.close_db()"
   ]
  },
  {
   "cell_type": "code",
   "execution_count": null,
   "metadata": {},
   "outputs": [],
   "source": []
  }
 ],
 "metadata": {
  "kernelspec": {
   "display_name": "Python 3 (ipykernel)",
   "language": "python",
   "name": "python3"
  },
  "language_info": {
   "codemirror_mode": {
    "name": "ipython",
    "version": 3
   },
   "file_extension": ".py",
   "mimetype": "text/x-python",
   "name": "python",
   "nbconvert_exporter": "python",
   "pygments_lexer": "ipython3",
   "version": "3.10.9"
  }
 },
 "nbformat": 4,
 "nbformat_minor": 2
}

{
 "cells": [
  {
   "cell_type": "markdown",
   "metadata": {},
   "source": [
    "# Using scaling tool in global model with LED scenario"
   ]
  },
  {
   "cell_type": "code",
   "execution_count": 1,
   "metadata": {},
   "outputs": [],
   "source": [
    "import pandas as pd\n",
    "import ixmp\n",
    "import message_ix\n",
    "import os\n",
    "\n",
    "from message_ix.tools.lp_diag import LPdiag\n",
    "from message_ix.tools.make_scaler import make_scaler\n",
    "from message_ix.tools.make_scaler import show_range\n",
    "from message_ix.tools.make_scaler import get_scaler_args\n",
    "\n",
    "from message_ix.util import make_df\n",
    "\n",
    "%matplotlib inline\n",
    "\n",
    "lp = LPdiag()\n",
    "mp = ixmp.Platform()"
   ]
  },
  {
   "cell_type": "markdown",
   "metadata": {},
   "source": [
    "## Making a clone of the existing scenario 'baseline'"
   ]
  },
  {
   "cell_type": "raw",
   "metadata": {},
   "source": [
    "ssp = \"LED\"\n",
    "base = message_ix.Scenario(mp, model=f\"SSP_{ssp}_v1.0\", scenario=\"baseline_DEFAULT\")\n",
    "\n",
    "# creating unscaled scenario\n",
    "model_name = f\"ScalingSSP_{ssp}_v1.0\"\n",
    "scenario_name = f\"baseline_DEFAULT\"\n",
    "scen = base.clone(\n",
    "    model_name,\n",
    "    scenario_name,\n",
    "    f\"unscaled {ssp} model\",\n",
    "    keep_solution = False,)\n",
    "\n",
    "scen.check_out()"
   ]
  },
  {
   "cell_type": "markdown",
   "metadata": {},
   "source": [
    "## Time to Solve the Model\n",
    "\n",
    "Solution time: 48.14s"
   ]
  },
  {
   "cell_type": "raw",
   "metadata": {},
   "source": [
    "scen.commit(comment= f\"unscaled {ssp} scenario\")\n",
    "scen.set_as_default()\n",
    "\n",
    "current_directory = os.getcwd()\n",
    "mps_dir = os.path.join(current_directory, f\"{model_name}_{scenario_name}.mps\")"
   ]
  },
  {
   "cell_type": "raw",
   "metadata": {},
   "source": [
    "scen.solve(solve_options={'barcrossalg': '2',\n",
    "                          'scaind':'-1',\n",
    "                          \"writemps\": mps_dir,\n",
    "                         })\n",
    "scen.var(\"OBJ\")[\"lvl\"]"
   ]
  },
  {
   "cell_type": "markdown",
   "metadata": {},
   "source": [
    "Using the unscaled scenario above, we make scaler arguments to solve scenario with scaled matrix coefficients"
   ]
  },
  {
   "cell_type": "raw",
   "metadata": {},
   "source": [
    "file_name = f\"ScalingSSP_{ssp}_v1.0_baseline_DEFAULT\"\n",
    "file_loc = f\"C:/Users/pratama/Documents/GitHub/MESSAGEix/message_ix/message_ix/tools/make_scaler/{file_name}.mps\""
   ]
  },
  {
   "cell_type": "raw",
   "metadata": {},
   "source": [
    "import re\n",
    "\n",
    "regex = re.compile(r'^([^&]*)(&)([^&]*)(&)([^&]*)')\n",
    "\n",
    "with open(file_loc, 'r+') as f:\n",
    "    old = f.readlines() # Pull the file contents to a list\n",
    "    f.seek(0)           # Jump to start, so we overwrite instead of appending\n",
    "    for line in old:\n",
    "        f.write(line.replace(\"'Fertilizer Use|Nitrogen'\",\"Fertilizer_Use|Nitrogen\"))"
   ]
  },
  {
   "cell_type": "code",
   "execution_count": 3,
   "metadata": {},
   "outputs": [
    {
     "name": "stderr",
     "output_type": "stream",
     "text": [
      "Existing index sets of 'EMISSION_EQUIVALENCE' ['node', 'emission', 'type_tec', 'year'] do not match []\n"
     ]
    }
   ],
   "source": [
    "ssp =\"LED\"\n",
    "model_name = f\"ScalingSSP_{ssp}_v1.0\"\n",
    "scenario_name = f\"baseline_DEFAULT\"\n",
    "scen = message_ix.Scenario(mp, model=model_name, scenario=scenario_name)\n"
   ]
  },
  {
   "cell_type": "code",
   "execution_count": 4,
   "metadata": {},
   "outputs": [
    {
     "name": "stdout",
     "output_type": "stream",
     "text": [
      "\n",
      "Reading MPS-format file C:\\Users\\pratama\\Documents\\GitHub\\MESSAGEix\\message_ix\\message_ix\\tools\\make_scaler\\ScalingSSP_LED_v1.0_baseline_DEFAULT.mps.\n",
      "Next section found: NAME          gamsmodel (line 1).\n",
      "\tProblem name: gamsmodel.\n",
      "Next section found: ROWS (line 2).\n",
      "\tRow _obj (row_seq = 0) is the objective (goal function) row.\n",
      "Next section found: COLUMNS (line 1197606).\n",
      "Next section found: RHS (line 6989709).\n",
      "\tId of RHS: rhs\n",
      "Next section found: BOUNDS (line 7055589).\n",
      "\tId of BOUNDS: bnd\n",
      "Next section found: ENDATA (line 7559867).\n",
      "\n",
      "Finished processing 7559867 lines of the MPS file: C:\\Users\\pratama\\Documents\\GitHub\\MESSAGEix\\message_ix\\message_ix\\tools\\make_scaler\\ScalingSSP_LED_v1.0_baseline_DEFAULT.mps.\n",
      "LP has: 1197603 rows, 1104554 cols, 5792102 non-zeros, matrix density = 4.38e-06.\n",
      "Numbers of redefined: RHS = 65879, ranges = 0, bounds = 504277.\n",
      "\n",
      "The GF (objective) row named \"_obj\" has 169 elements.\n",
      "Distribution of the GF (objective) values:\n",
      "count    169.000000\n",
      "mean       0.047908\n",
      "std        0.080067\n",
      "min        0.005121\n",
      "25%        0.022131\n",
      "50%        0.036049\n",
      "75%        0.068446\n",
      "max        1.000000\n",
      "Name: val, dtype: float64\n",
      "\n",
      "Unscaled range     : [ -8 | 6 ]\n",
      "Scaled range step 1: [ -4 | 4 ]\n"
     ]
    }
   ],
   "source": [
    "current_directory = os.getcwd()\n",
    "mps_dir = os.path.join(current_directory, f\"{model_name}_{scenario_name}.mps\")\n",
    "scale_df = make_scaler(mps_dir, scen, bounds=4, steps=1)"
   ]
  },
  {
   "cell_type": "code",
   "execution_count": 9,
   "metadata": {},
   "outputs": [],
   "source": [
    "message_loc = \"C:/Users/pratama/Documents/GitHub/MESSAGEix/\"\n",
    "file_name = f\"ScalingSSP_{ssp}_v1.0_baseline_DEFAULT\"\n",
    "file_loc = f\"{message_loc}/message_ix/message_ix/model/scaler/MsgScaler_{file_name}.gms\""
   ]
  },
  {
   "cell_type": "code",
   "execution_count": 10,
   "metadata": {},
   "outputs": [],
   "source": [
    "import re\n",
    "\n",
    "regex = re.compile(r'^([^&]*)(&)([^&]*)(&)([^&]*)')\n",
    "\n",
    "with open(file_loc, 'r+') as f:\n",
    "    old = f.readlines() # Pull the file contents to a list\n",
    "    f.seek(0)           # Jump to start, so we overwrite instead of appending\n",
    "    for line in old:\n",
    "        f.write(line.replace(\"Fertilizer_Use|Nitrogen\",\"'Fertilizer Use|Nitrogen'\"))"
   ]
  },
  {
   "cell_type": "markdown",
   "metadata": {},
   "source": [
    "## Run scenarios with scaled matrix\n",
    "\n",
    "Results: solution time 57.8s"
   ]
  },
  {
   "cell_type": "code",
   "execution_count": null,
   "metadata": {},
   "outputs": [],
   "source": [
    "model = \"GENIE_sandbox\"\n",
    "\n",
    "base = message_ix.Scenario(mp, model=model, scenario=\"cb1000_splitCO2transdisp_unscaled\")\n",
    "\n",
    "\n",
    "sc_name = \"cb1000_splitCO2transdisp_scaled\"\n",
    "sc = base.clone(\n",
    "    model,\n",
    "    sc_name,\n",
    "    \"introducing scaling tool for global model daccs scenario\",\n",
    "    keep_solution=False,\n",
    ")\n",
    "sc.check_out()\n",
    "\n",
    "sc.commit(comment=\"Scaling tool test for global model\")\n",
    "sc.set_as_default()"
   ]
  },
  {
   "cell_type": "code",
   "execution_count": null,
   "metadata": {},
   "outputs": [],
   "source": [
    "current_directory = os.getcwd()\n",
    "mps_dir = os.path.join(current_directory, f\"{model}_{sc_name}.mps\")"
   ]
  },
  {
   "cell_type": "code",
   "execution_count": null,
   "metadata": {},
   "outputs": [],
   "source": [
    "argument = get_scaler_args(scen)\n",
    "\n",
    "sc.solve(solve_options={\"writemps\": mps_dir},\n",
    "         gams_args=[argument]\n",
    "        )"
   ]
  },
  {
   "cell_type": "code",
   "execution_count": null,
   "metadata": {},
   "outputs": [],
   "source": [
    "sc.var(\"OBJ\")[\"lvl\"]"
   ]
  },
  {
   "cell_type": "code",
   "execution_count": null,
   "metadata": {},
   "outputs": [],
   "source": [
    "scen.var(\"OBJ\")[\"lvl\"]"
   ]
  },
  {
   "cell_type": "raw",
   "metadata": {},
   "source": [
    "lp.read_mps(mps_dir)\n",
    "data = lp.read_matrix()\n",
    "show_range(data,\"\\nNew exp range:\")"
   ]
  },
  {
   "cell_type": "markdown",
   "metadata": {},
   "source": [
    "**Let's compare with running scenario without special arguments**\n",
    "\n",
    "Results: solution time 50s\n",
    "\n",
    "<code>\n",
    "\n",
    "Primal simplex solved model.\n",
    "\n",
    "Iteration:  4009    Objective     =       2609317.507987\n",
    "Elapsed time = 40.50 sec. (46961.19 ticks, 4009 iterations)\n",
    "Iteration:  4096    Objective     =       2609317.507987\n",
    "Iteration:  5667    Objective     =       2609317.519581\n",
    "Total crossover time = 29.84 sec. (24634.88 ticks)\n",
    "\n",
    "Total time on 4 threads = 50.02 sec. (52935.76 ticks)\n",
    "\n",
    "--- LP status (5): optimal with unscaled infeasibilities.\n",
    "--- Cplex Time: 50.03sec (det. 52937.85 ticks)\n",
    "\n",
    "Optimal solution found, but with infeasibilities after unscaling\n",
    "Simplex iterations after crossover: 0\n",
    "Objective:      2609317.507987\n",
    "\n",
    "</code>"
   ]
  },
  {
   "cell_type": "markdown",
   "metadata": {},
   "source": [
    "**Scaled with default GAMS options:**\n",
    "\n",
    "Solution time: 119.23s"
   ]
  },
  {
   "cell_type": "code",
   "execution_count": null,
   "metadata": {},
   "outputs": [],
   "source": [
    "import pandas as pd\n",
    "import ixmp\n",
    "import message_ix\n",
    "import os\n",
    "\n",
    "from message_ix.tools.lp_diag import LPdiag\n",
    "from message_ix.tools.make_scaler import make_scaler\n",
    "from message_ix.tools.make_scaler import show_range\n",
    "from message_ix.tools.make_scaler import get_scaler_args\n",
    "\n",
    "from message_ix.util import make_df\n",
    "\n",
    "%matplotlib inline\n",
    "\n",
    "lp = LPdiag()\n",
    "mp = ixmp.Platform()\n",
    "\n",
    "model = \"GENIE_sandbox\"\n",
    "\n",
    "base = message_ix.Scenario(mp, model=model, scenario=\"cb1000_splitCO2transdisp_unscaled\")\n",
    "\n",
    "\n",
    "scen_name = \"cb1000_splitCO2transdisp_scaled\"\n",
    "scen = base.clone(\n",
    "    model,\n",
    "    scen_name,\n",
    "    \"unscaled daccs scenario with split infrastructure\",\n",
    "    keep_solution=False,\n",
    ")\n",
    "scen.check_out()\n",
    "\n",
    "\n",
    "argument = get_scaler_args(base)\n",
    "\n",
    "\n",
    "scen.solve(solve_options={\"advind\": \"determined by GAMS Bratio\",\n",
    "                          \"epopt\": \"1.0e-06\",\n",
    "                          \"lpmethod\": \"0\",\n",
    "                         },\n",
    "           gams_args=[argument])\n",
    "scen.var(\"OBJ\")[\"lvl\"]"
   ]
  },
  {
   "cell_type": "markdown",
   "metadata": {},
   "source": [
    "**Unscaled with default GAMS settings**\n",
    "\n",
    "Solution time: 93.52sec"
   ]
  },
  {
   "cell_type": "code",
   "execution_count": null,
   "metadata": {},
   "outputs": [],
   "source": [
    "model = \"GENIE_sandbox\"\n",
    "\n",
    "base = message_ix.Scenario(mp, model=model, scenario=\"cb1000_splitCO2transdisp\")\n",
    "\n",
    "\n",
    "scen_name = \"cb1000_splitCO2transdisp_unscaled\"\n",
    "scen = base.clone(\n",
    "    model,\n",
    "    scen_name,\n",
    "    \"unscaled daccs scenario with split infrastructure\",\n",
    "    keep_solution=False,\n",
    ")\n",
    "scen.check_out()\n",
    "\n",
    "scen.solve(solve_options={\"advind\": \"determined by GAMS Bratio\",\n",
    "                          \"epopt\": \"1.0e-06\",\n",
    "                          \"lpmethod\": \"0\",\n",
    "                         })\n",
    "scen.var(\"OBJ\")[\"lvl\"]"
   ]
  },
  {
   "cell_type": "markdown",
   "metadata": {},
   "source": [
    "**Scaled with dual simplex:**\n",
    "\n",
    "Solution time: 5152.6 s"
   ]
  },
  {
   "cell_type": "code",
   "execution_count": null,
   "metadata": {},
   "outputs": [],
   "source": [
    "import pandas as pd\n",
    "import ixmp\n",
    "import message_ix\n",
    "import os\n",
    "\n",
    "from message_ix.tools.lp_diag import LPdiag\n",
    "from message_ix.tools.make_scaler import make_scaler\n",
    "from message_ix.tools.make_scaler import show_range\n",
    "from message_ix.tools.make_scaler import get_scaler_args\n",
    "\n",
    "from message_ix.util import make_df\n",
    "\n",
    "%matplotlib inline\n",
    "\n",
    "lp = LPdiag()\n",
    "mp = ixmp.Platform()\n",
    "\n",
    "model = \"GENIE_sandbox\"\n",
    "\n",
    "base = message_ix.Scenario(mp, model=model, scenario=\"cb1000_splitCO2transdisp_unscaled\")\n",
    "\n",
    "\n",
    "scen_name = \"cb1000_splitCO2transdisp_scaled\"\n",
    "scen = base.clone(\n",
    "    model,\n",
    "    scen_name,\n",
    "    \"unscaled daccs scenario with split infrastructure\",\n",
    "    keep_solution=False,\n",
    ")\n",
    "scen.check_out()\n",
    "\n",
    "\n",
    "argument = get_scaler_args(base)\n",
    "\n",
    "\n",
    "scen.solve(solve_options={\"advind\": \"determined by GAMS Bratio\",\n",
    "                          \"epopt\": \"1.0e-06\",\n",
    "                          \"lpmethod\": \"2\",\n",
    "                         },\n",
    "           gams_args=[argument])\n",
    "scen.var(\"OBJ\")[\"lvl\"]"
   ]
  },
  {
   "cell_type": "markdown",
   "metadata": {},
   "source": [
    "**Scaled with primal simplex:**\n",
    "\n",
    "Solution time: 54665.56 s"
   ]
  },
  {
   "cell_type": "code",
   "execution_count": null,
   "metadata": {},
   "outputs": [],
   "source": [
    "import pandas as pd\n",
    "import ixmp\n",
    "import message_ix\n",
    "import os\n",
    "\n",
    "from message_ix.tools.lp_diag import LPdiag\n",
    "from message_ix.tools.make_scaler import make_scaler\n",
    "from message_ix.tools.make_scaler import show_range\n",
    "from message_ix.tools.make_scaler import get_scaler_args\n",
    "\n",
    "from message_ix.util import make_df\n",
    "\n",
    "%matplotlib inline\n",
    "\n",
    "lp = LPdiag()\n",
    "mp = ixmp.Platform()\n",
    "\n",
    "model = \"GENIE_sandbox\"\n",
    "\n",
    "base = message_ix.Scenario(mp, model=model, scenario=\"cb1000_splitCO2transdisp_unscaled\")\n",
    "\n",
    "\n",
    "scen_name = \"cb1000_splitCO2transdisp_scaled\"\n",
    "scen = base.clone(\n",
    "    model,\n",
    "    scen_name,\n",
    "    \"unscaled daccs scenario with split infrastructure\",\n",
    "    keep_solution=False,\n",
    ")\n",
    "scen.check_out()\n",
    "\n",
    "\n",
    "argument = get_scaler_args(base)\n",
    "\n",
    "\n",
    "scen.solve(solve_options={\"advind\": \"determined by GAMS Bratio\",\n",
    "                          \"epopt\": \"1.0e-06\",\n",
    "                          \"lpmethod\": \"1\",\n",
    "                         },\n",
    "           gams_args=[argument])\n",
    "scen.var(\"OBJ\")[\"lvl\"]"
   ]
  },
  {
   "cell_type": "markdown",
   "metadata": {},
   "source": [
    "## Close the connection to the database"
   ]
  },
  {
   "cell_type": "code",
   "execution_count": null,
   "metadata": {},
   "outputs": [],
   "source": [
    "mp.close_db()"
   ]
  },
  {
   "cell_type": "code",
   "execution_count": null,
   "metadata": {},
   "outputs": [],
   "source": []
  }
 ],
 "metadata": {
  "kernelspec": {
   "display_name": "Python 3 (ipykernel)",
   "language": "python",
   "name": "python3"
  },
  "language_info": {
   "codemirror_mode": {
    "name": "ipython",
    "version": 3
   },
   "file_extension": ".py",
   "mimetype": "text/x-python",
   "name": "python",
   "nbconvert_exporter": "python",
   "pygments_lexer": "ipython3",
   "version": "3.10.9"
  }
 },
 "nbformat": 4,
 "nbformat_minor": 2
}

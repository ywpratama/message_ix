{
 "cells": [
  {
   "cell_type": "markdown",
   "id": "99832173",
   "metadata": {},
   "source": [
    "Import all needed just like usual"
   ]
  },
  {
   "cell_type": "code",
   "execution_count": 1,
   "id": "865e7eea",
   "metadata": {},
   "outputs": [
    {
     "data": {
      "application/javascript": [
       "if (typeof IPython !== 'undefined') { IPython.OutputArea.prototype._should_scroll = function(lines){ return false; }}"
      ],
      "text/plain": [
       "<IPython.core.display.Javascript object>"
      ]
     },
     "metadata": {},
     "output_type": "display_data"
    }
   ],
   "source": [
    "import ixmp\n",
    "import message_ix\n",
    "import numpy as np\n",
    "import pandas as pd\n",
    "import yaml\n",
    "\n",
    "from message_ix.utils import make_df\n",
    "\n",
    "%matplotlib inline\n",
    "\n",
    "mp = ixmp.Platform(\"local\")"
   ]
  },
  {
   "cell_type": "markdown",
   "id": "156265d0",
   "metadata": {},
   "source": [
    "Import the baseline scenario"
   ]
  },
  {
   "cell_type": "code",
   "execution_count": 2,
   "id": "cafaf619",
   "metadata": {},
   "outputs": [
    {
     "name": "stderr",
     "output_type": "stream",
     "text": [
      "This Scenario has a solution, use `Scenario.remove_solution()` or `Scenario.clone(..., keep_solution=False)`\n"
     ]
    }
   ],
   "source": [
    "model = \"Westeros Electrified\"\n",
    "\n",
    "base = message_ix.Scenario(mp, model=model, scenario=\"baseline\")\n"
   ]
  },
  {
   "cell_type": "markdown",
   "id": "2f7924d7",
   "metadata": {},
   "source": [
    "This is how you dump date from an existing scenario to an excel file"
   ]
  },
  {
   "cell_type": "code",
   "execution_count": 3,
   "id": "176883e6",
   "metadata": {},
   "outputs": [
    {
     "name": "stderr",
     "output_type": "stream",
     "text": [
      "C:\\Users\\pratama\\Anaconda3\\envs\\message_env\\lib\\site-packages\\ixmp\\backend\\io.py:130: FutureWarning: save is not part of the public API, usage can give unexpected results and will be removed in a future version\n",
      "  writer.save()\n"
     ]
    }
   ],
   "source": [
    "data_file = \"Westeros_baseline.xlsx\"\n",
    "base.to_excel(data_file)"
   ]
  },
  {
   "cell_type": "markdown",
   "id": "c2860ac9",
   "metadata": {},
   "source": [
    "Now, we can create a new empty scenario then fill the scenario with data from excel file"
   ]
  },
  {
   "cell_type": "code",
   "execution_count": 7,
   "id": "ee97db72",
   "metadata": {},
   "outputs": [],
   "source": [
    "# Creating a new, empty scenario\n",
    "scen = message_ix.Scenario(\n",
    "    mp, model=model, scenario=\"emission bound\", version='new'\n",
    ")\n",
    "\n",
    "# Fill the empty scenario with data from excel\n",
    "scen.read_excel(data_file, add_units=True)"
   ]
  },
  {
   "cell_type": "code",
   "execution_count": 8,
   "id": "d57dbeb4",
   "metadata": {},
   "outputs": [],
   "source": [
    "mp.close_db()"
   ]
  },
  {
   "cell_type": "code",
   "execution_count": null,
   "id": "836bede2",
   "metadata": {},
   "outputs": [],
   "source": []
  }
 ],
 "metadata": {
  "kernelspec": {
   "display_name": "Python 3 (ipykernel)",
   "language": "python",
   "name": "python3"
  },
  "language_info": {
   "codemirror_mode": {
    "name": "ipython",
    "version": 3
   },
   "file_extension": ".py",
   "mimetype": "text/x-python",
   "name": "python",
   "nbconvert_exporter": "python",
   "pygments_lexer": "ipython3",
   "version": "3.10.9"
  }
 },
 "nbformat": 4,
 "nbformat_minor": 5
}

{
 "cells": [
  {
   "cell_type": "markdown",
   "id": "9ce2dbbc",
   "metadata": {},
   "source": [
    "Import all required tools"
   ]
  },
  {
   "cell_type": "code",
   "execution_count": 1,
   "id": "db473272",
   "metadata": {},
   "outputs": [
    {
     "data": {
      "application/javascript": [
       "if (typeof IPython !== 'undefined') { IPython.OutputArea.prototype._should_scroll = function(lines){ return false; }}"
      ],
      "text/plain": [
       "<IPython.core.display.Javascript object>"
      ]
     },
     "metadata": {},
     "output_type": "display_data"
    }
   ],
   "source": [
    "import ixmp\n",
    "import message_ix\n",
    "import numpy as np\n",
    "import pandas as pd\n",
    "import yaml\n",
    "\n",
    "from collections.abc import Mapping\n",
    "from itertools import repeat\n",
    "from message_ix.models import MESSAGE_ITEMS\n",
    "from message_ix.utils import make_df\n",
    "\n",
    "%matplotlib inline\n",
    "\n",
    "mp = ixmp.Platform()"
   ]
  },
  {
   "cell_type": "markdown",
   "id": "7d4cf7f5",
   "metadata": {},
   "source": [
    "This part is just to generate a dummy scenario as basis for adding technology parameters. Need to be removed once integrated"
   ]
  },
  {
   "cell_type": "code",
   "execution_count": 2,
   "id": "34cf0deb",
   "metadata": {},
   "outputs": [
    {
     "name": "stderr",
     "output_type": "stream",
     "text": [
      "This Scenario has a solution, use `Scenario.remove_solution()` or `Scenario.clone(..., keep_solution=False)`\n"
     ]
    }
   ],
   "source": [
    "model = \"Westeros Electrified\"\n",
    "\n",
    "base = message_ix.Scenario(mp, model=model, scenario=\"baseline\")\n",
    "scen = base.clone(\n",
    "    model,\n",
    "    \"add_learning\",\n",
    "    \"introducing the add_learning feature on MESSAGEix\",\n",
    "    keep_solution=False,\n",
    ")\n",
    "scen.check_out()\n",
    "\n",
    "year_df = scen.vintage_and_active_years()\n",
    "vintage_years, act_years = year_df[\"year_vtg\"], year_df[\"year_act\"]\n",
    "model_horizon = scen.set(\"year\")\n",
    "country = \"Westeros\"\n",
    "\n",
    "#scen.commit(comment=\"Introducing emissions and setting an upper bound\")\n",
    "#scen.set_as_default()\n",
    "#scen.solve()\n",
    "#scen.var(\"OBJ\")[\"lvl\"]"
   ]
  },
  {
   "cell_type": "markdown",
   "id": "581520cb",
   "metadata": {},
   "source": [
    "Call all data required by add_tech module"
   ]
  },
  {
   "cell_type": "code",
   "execution_count": 3,
   "id": "fbbd29db",
   "metadata": {},
   "outputs": [],
   "source": [
    "with open('learning_data.yaml','r') as stream:\n",
    "    learning_data = yaml.safe_load(stream)"
   ]
  },
  {
   "cell_type": "markdown",
   "id": "c41ba1ba",
   "metadata": {},
   "source": [
    "Define years vintage and active according to `first_active_year` and scenarios year"
   ]
  },
  {
   "cell_type": "code",
   "execution_count": 4,
   "id": "c137bf39",
   "metadata": {
    "scrolled": true
   },
   "outputs": [],
   "source": [
    "parameters = {}\n",
    "for tech in list(learning_data.keys()):\n",
    "    parameters.update({par: list(MESSAGE_ITEMS[par]['idx_sets']) for par in list(learning_data[tech])})\n",
    "data = {par: [] for par in list(parameters.keys())}"
   ]
  },
  {
   "cell_type": "markdown",
   "id": "a0422c8a",
   "metadata": {},
   "source": [
    "Then create dataframe for each parameter"
   ]
  },
  {
   "cell_type": "code",
   "execution_count": 5,
   "id": "11775169",
   "metadata": {},
   "outputs": [],
   "source": [
    "# Creating The Individual DataFrame\n",
    "for tech, par_dict in learning_data.items():\n",
    "    for par, par_data in par_dict.items():\n",
    "        if not isinstance(par_data, Mapping):\n",
    "            par_data = {'value': par_data, 'unit': '-'}\n",
    "        if 'size' in parameters[par]:\n",
    "            value = list(par_data['value'].values())\n",
    "            kwargs = {'size': list(par_data['value'].keys())}\n",
    "        else:\n",
    "            value = par_data['value']\n",
    "            kwargs = {}\n",
    "        data[par].append(\n",
    "                make_df(\n",
    "                    par,\n",
    "                    technology=tech,\n",
    "                    value=value,\n",
    "                    unit=par_data['unit'],\n",
    "                    **kwargs\n",
    "                ))\n",
    "\n",
    "data = {k: pd.concat(v).reset_index(drop=True) for k, v in data.items()}"
   ]
  },
  {
   "cell_type": "markdown",
   "id": "103d6759",
   "metadata": {},
   "source": [
    "Creating basic dataframe to be filled in later"
   ]
  },
  {
   "cell_type": "code",
   "execution_count": 6,
   "id": "8ba2b797",
   "metadata": {},
   "outputs": [],
   "source": [
    "with pd.ExcelWriter('printed_data.xlsx', engine='xlsxwriter', mode='w') as writer:\n",
    "    for sheet_name, sheet_data in data.items():\n",
    "        sheet_data.to_excel(writer, sheet_name=sheet_name, index=False)"
   ]
  },
  {
   "cell_type": "code",
   "execution_count": 15,
   "id": "abf4ce20",
   "metadata": {},
   "outputs": [
    {
     "data": {
      "text/plain": [
       "['learning_par', 'eos_par', 'nbr_unit_ref', 'u_ref', 'u']"
      ]
     },
     "execution_count": 15,
     "metadata": {},
     "output_type": "execute_result"
    }
   ],
   "source": [
    "list(data.keys())"
   ]
  },
  {
   "cell_type": "code",
   "execution_count": 11,
   "id": "efd710f5",
   "metadata": {},
   "outputs": [],
   "source": [
    "selected_data = data['u'][data['u']['technology'] == 'DACCS']"
   ]
  },
  {
   "cell_type": "code",
   "execution_count": 35,
   "id": "c0bc18b2",
   "metadata": {},
   "outputs": [
    {
     "data": {
      "text/plain": [
       "['technology', 'size', 'value', 'unit']"
      ]
     },
     "execution_count": 35,
     "metadata": {},
     "output_type": "execute_result"
    }
   ],
   "source": [
    "list(selected_data.columns)"
   ]
  },
  {
   "cell_type": "code",
   "execution_count": 29,
   "id": "dfe82ede",
   "metadata": {},
   "outputs": [
    {
     "data": {
      "text/plain": [
       "['large', 'small', 'medium']"
      ]
     },
     "execution_count": 29,
     "metadata": {},
     "output_type": "execute_result"
    }
   ],
   "source": [
    "list(set(selected_data['size']))"
   ]
  },
  {
   "cell_type": "code",
   "execution_count": null,
   "id": "727de42e",
   "metadata": {},
   "outputs": [],
   "source": []
  }
 ],
 "metadata": {
  "kernelspec": {
   "display_name": "Python 3 (ipykernel)",
   "language": "python",
   "name": "python3"
  },
  "language_info": {
   "codemirror_mode": {
    "name": "ipython",
    "version": 3
   },
   "file_extension": ".py",
   "mimetype": "text/x-python",
   "name": "python",
   "nbconvert_exporter": "python",
   "pygments_lexer": "ipython3",
   "version": "3.10.9"
  }
 },
 "nbformat": 4,
 "nbformat_minor": 5
}

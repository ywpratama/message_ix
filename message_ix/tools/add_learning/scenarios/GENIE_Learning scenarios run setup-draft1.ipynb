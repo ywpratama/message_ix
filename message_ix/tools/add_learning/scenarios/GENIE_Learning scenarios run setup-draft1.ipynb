{
 "cells": [
  {
   "cell_type": "markdown",
   "metadata": {},
   "source": [
    "# GENIE Learning Scenarios with Carbon Taxes [TEST]\n",
    "\n",
    "**Pre-requisites**\n",
    "- You have the *MESSAGEix* framework installed and working\n",
    "- You have run Westeros baseline scenario (``westeros_baseline.ipynb``) and solved it successfully"
   ]
  },
  {
   "cell_type": "code",
   "execution_count": 1,
   "metadata": {},
   "outputs": [
    {
     "data": {
      "application/javascript": [
       "if (typeof IPython !== 'undefined') { IPython.OutputArea.prototype._should_scroll = function(lines){ return false; }}"
      ],
      "text/plain": [
       "<IPython.core.display.Javascript object>"
      ]
     },
     "metadata": {},
     "output_type": "display_data"
    }
   ],
   "source": [
    "import ixmp\n",
    "import message_ix\n",
    "import numpy as np\n",
    "import pandas as pd\n",
    "import yaml\n",
    "\n",
    "from collections.abc import Mapping\n",
    "from itertools import repeat\n",
    "from message_ix.models import MESSAGE_ITEMS\n",
    "from message_ix.utils import make_df\n",
    "\n",
    "from message_ix.tools.add_learning import add_learning\n",
    "\n",
    "\n",
    "%matplotlib inline"
   ]
  },
  {
   "cell_type": "code",
   "execution_count": 2,
   "metadata": {},
   "outputs": [],
   "source": [
    "mp = ixmp.Platform(\"local\", jvmargs=['-Xmx8G'])"
   ]
  },
  {
   "cell_type": "markdown",
   "metadata": {},
   "source": [
    "## Making a clone of the existing scenario 'baseline'"
   ]
  },
  {
   "cell_type": "markdown",
   "metadata": {},
   "source": [
    "Dump scenario to excel nad create a scenario from excel"
   ]
  },
  {
   "cell_type": "code",
   "execution_count": 3,
   "metadata": {},
   "outputs": [],
   "source": [
    "base = message_ix.Scenario(\n",
    "    mp, model=\"GENIE\", scenario=\"learning\",\n",
    "    )"
   ]
  },
  {
   "cell_type": "markdown",
   "metadata": {},
   "source": [
    "Clone baseline scenario and add learning parameters"
   ]
  },
  {
   "cell_type": "markdown",
   "metadata": {},
   "source": [
    "## High CO2 Tax Scenarios\n",
    "\n",
    "Here, we run the model under a range of CO2 tax scenaros"
   ]
  },
  {
   "cell_type": "code",
   "execution_count": 4,
   "metadata": {},
   "outputs": [],
   "source": [
    "# Firstly, let's create an empty list to contain the emissions data\n",
    "tax_growth = {'n':0,'l':0.025,'m':0.050,'h':0.075}\n",
    "data_collect = {par: [] for par in list(tax_growth.keys())}\n"
   ]
  },
  {
   "cell_type": "code",
   "execution_count": 5,
   "metadata": {},
   "outputs": [],
   "source": [
    "# Scenario setup\n",
    "txs = 'n'\n",
    "lrn = 'y'\n",
    "rnd = 'n'\n",
    "\n",
    "Base2020 = 0 if txs == 'n' else 10 # $/tCO2\n",
    "lrn_val = 1 if lrn == 'y' else 0"
   ]
  },
  {
   "cell_type": "code",
   "execution_count": 6,
   "metadata": {},
   "outputs": [],
   "source": [
    "scen = base.clone(\n",
    "    \"GENIE\",\n",
    "    \"with_\"+lrn+\"learning_CT\"+txs+\"-RNDn\",\n",
    "    txs+\" carbon tax with\"+rnd+\"RND target\",\n",
    "    keep_solution=False,\n",
    "    )\n",
    "scen.check_out()\n",
    "\n",
    "all_years = scen.set('year')\n",
    "all_nodes = scen.set('node')\n",
    "type_years = list(all_years[all_years>=2020])\n",
    "nodes = list(all_nodes[all_nodes==\"World\"])\n",
    "\n",
    "growth = tax_growth.get(txs) # lo: 3%, med: 5%, hi: 10\n",
    "\n",
    "value_taxes = [round((Base2020*((1+growth)**(x-2020))),2) for x in type_years]\n"
   ]
  },
  {
   "cell_type": "markdown",
   "metadata": {},
   "source": [
    "Add CO2 Tax to the scenario"
   ]
  },
  {
   "cell_type": "code",
   "execution_count": 7,
   "metadata": {},
   "outputs": [],
   "source": [
    "# In case you need to add the new unit to the platform\n",
    "mp.add_unit(\"USD/tCO2\")\n",
    "tax_emission = []\n",
    "for n in nodes:\n",
    "    data = make_df(\n",
    "        \"tax_emission\",\n",
    "        node=n,\n",
    "        type_year=type_years,\n",
    "        type_tec=\"all\",\n",
    "        unit=\"USD/tCO2\",\n",
    "        type_emission=\"TCE\",\n",
    "        value=value_taxes,\n",
    "        )\n",
    "    tax_emission.append(data)\n",
    "\n",
    "tax_emission = pd.concat(tax_emission)\n",
    "\n",
    "scen.add_par(\"tax_emission\", tax_emission)"
   ]
  },
  {
   "cell_type": "code",
   "execution_count": 8,
   "metadata": {},
   "outputs": [],
   "source": [
    "scen.commit(comment=\"GENIE with\"+lrn+\"learning |\"+txs+\"carbon tax |\"+rnd+\"RND target\")"
   ]
  },
  {
   "cell_type": "code",
   "execution_count": 9,
   "metadata": {},
   "outputs": [],
   "source": [
    "scen.solve(gams_args =[\"--learningmode=\"+str(lrn_val)],solve_options={\"scaind\":-1})"
   ]
  },
  {
   "cell_type": "code",
   "execution_count": 10,
   "metadata": {},
   "outputs": [
    {
     "data": {
      "text/plain": [
       "3051103.5"
      ]
     },
     "execution_count": 10,
     "metadata": {},
     "output_type": "execute_result"
    }
   ],
   "source": [
    "scen.var(\"OBJ\")[\"lvl\"]"
   ]
  },
  {
   "cell_type": "code",
   "execution_count": 31,
   "metadata": {},
   "outputs": [
    {
     "name": "stderr",
     "output_type": "stream",
     "text": [
      "C:\\Users\\pratama\\AppData\\Local\\Temp\\ipykernel_2804\\2877404961.py:15: FutureWarning: The default value of numeric_only in DataFrameGroupBy.sum is deprecated. In a future version, numeric_only will default to False. Either specify numeric_only or select only columns which should be valid for the function.\n",
      "  .groupby('technology').sum().reindex(etechs)\n",
      "C:\\Users\\pratama\\AppData\\Local\\Temp\\ipykernel_2804\\2877404961.py:15: FutureWarning: The default value of numeric_only in DataFrameGroupBy.sum is deprecated. In a future version, numeric_only will default to False. Either specify numeric_only or select only columns which should be valid for the function.\n",
      "  .groupby('technology').sum().reindex(etechs)\n"
     ]
    },
    {
     "data": {
      "text/html": [
       "<div>\n",
       "<style scoped>\n",
       "    .dataframe tbody tr th:only-of-type {\n",
       "        vertical-align: middle;\n",
       "    }\n",
       "\n",
       "    .dataframe tbody tr th {\n",
       "        vertical-align: top;\n",
       "    }\n",
       "\n",
       "    .dataframe thead th {\n",
       "        text-align: right;\n",
       "    }\n",
       "</style>\n",
       "<table border=\"1\" class=\"dataframe\">\n",
       "  <thead>\n",
       "    <tr style=\"text-align: right;\">\n",
       "      <th></th>\n",
       "      <th>2050</th>\n",
       "      <th>2100</th>\n",
       "    </tr>\n",
       "    <tr>\n",
       "      <th>technology</th>\n",
       "      <th></th>\n",
       "      <th></th>\n",
       "    </tr>\n",
       "  </thead>\n",
       "  <tbody>\n",
       "    <tr>\n",
       "      <th>coal_adv</th>\n",
       "      <td>1752.734578</td>\n",
       "      <td>4673.995310</td>\n",
       "    </tr>\n",
       "    <tr>\n",
       "      <th>coal_adv_ccs</th>\n",
       "      <td>0.000000</td>\n",
       "      <td>0.000000</td>\n",
       "    </tr>\n",
       "    <tr>\n",
       "      <th>coal_ppl</th>\n",
       "      <td>265.357455</td>\n",
       "      <td>54.167697</td>\n",
       "    </tr>\n",
       "    <tr>\n",
       "      <th>coal_ppl_u</th>\n",
       "      <td>66.659371</td>\n",
       "      <td>0.000000</td>\n",
       "    </tr>\n",
       "    <tr>\n",
       "      <th>igcc</th>\n",
       "      <td>0.000000</td>\n",
       "      <td>0.000000</td>\n",
       "    </tr>\n",
       "    <tr>\n",
       "      <th>igcc_ccs</th>\n",
       "      <td>0.000000</td>\n",
       "      <td>0.000000</td>\n",
       "    </tr>\n",
       "    <tr>\n",
       "      <th>gas_cc</th>\n",
       "      <td>2069.005200</td>\n",
       "      <td>2675.312282</td>\n",
       "    </tr>\n",
       "    <tr>\n",
       "      <th>gas_cc_ccs</th>\n",
       "      <td>0.000000</td>\n",
       "      <td>0.000000</td>\n",
       "    </tr>\n",
       "    <tr>\n",
       "      <th>gas_ct</th>\n",
       "      <td>3003.824265</td>\n",
       "      <td>10774.718303</td>\n",
       "    </tr>\n",
       "    <tr>\n",
       "      <th>gas_htfc</th>\n",
       "      <td>0.000000</td>\n",
       "      <td>0.000000</td>\n",
       "    </tr>\n",
       "    <tr>\n",
       "      <th>gas_ppl</th>\n",
       "      <td>22.780320</td>\n",
       "      <td>0.000000</td>\n",
       "    </tr>\n",
       "    <tr>\n",
       "      <th>bio_istig</th>\n",
       "      <td>33.411765</td>\n",
       "      <td>33.529412</td>\n",
       "    </tr>\n",
       "    <tr>\n",
       "      <th>bio_istig_ccs</th>\n",
       "      <td>0.000000</td>\n",
       "      <td>0.000000</td>\n",
       "    </tr>\n",
       "    <tr>\n",
       "      <th>bio_ppl</th>\n",
       "      <td>4.229059</td>\n",
       "      <td>4.043878</td>\n",
       "    </tr>\n",
       "    <tr>\n",
       "      <th>geo_ppl</th>\n",
       "      <td>3.960424</td>\n",
       "      <td>1.249106</td>\n",
       "    </tr>\n",
       "    <tr>\n",
       "      <th>hydro_hc</th>\n",
       "      <td>1112.746398</td>\n",
       "      <td>1193.234518</td>\n",
       "    </tr>\n",
       "    <tr>\n",
       "      <th>hydro_lc</th>\n",
       "      <td>396.351025</td>\n",
       "      <td>565.865421</td>\n",
       "    </tr>\n",
       "    <tr>\n",
       "      <th>nuc_fbr</th>\n",
       "      <td>0.000000</td>\n",
       "      <td>0.000000</td>\n",
       "    </tr>\n",
       "    <tr>\n",
       "      <th>nuc_hc</th>\n",
       "      <td>362.617200</td>\n",
       "      <td>2820.471554</td>\n",
       "    </tr>\n",
       "    <tr>\n",
       "      <th>nuc_lc</th>\n",
       "      <td>23.300221</td>\n",
       "      <td>0.000000</td>\n",
       "    </tr>\n",
       "    <tr>\n",
       "      <th>foil_ppl</th>\n",
       "      <td>8.087828</td>\n",
       "      <td>0.000000</td>\n",
       "    </tr>\n",
       "    <tr>\n",
       "      <th>loil_cc</th>\n",
       "      <td>0.000000</td>\n",
       "      <td>0.000000</td>\n",
       "    </tr>\n",
       "    <tr>\n",
       "      <th>lio_ppl</th>\n",
       "      <td>0.000000</td>\n",
       "      <td>0.000000</td>\n",
       "    </tr>\n",
       "    <tr>\n",
       "      <th>oil_ppl</th>\n",
       "      <td>0.449847</td>\n",
       "      <td>0.000000</td>\n",
       "    </tr>\n",
       "    <tr>\n",
       "      <th>SO2_scrub_ppl</th>\n",
       "      <td>0.000000</td>\n",
       "      <td>0.000000</td>\n",
       "    </tr>\n",
       "    <tr>\n",
       "      <th>solar_pv_ppl</th>\n",
       "      <td>2783.216522</td>\n",
       "      <td>11928.810386</td>\n",
       "    </tr>\n",
       "    <tr>\n",
       "      <th>csp_sm1_ppl</th>\n",
       "      <td>0.000000</td>\n",
       "      <td>0.000000</td>\n",
       "    </tr>\n",
       "    <tr>\n",
       "      <th>csp_sm3_ppl</th>\n",
       "      <td>0.000000</td>\n",
       "      <td>0.000000</td>\n",
       "    </tr>\n",
       "    <tr>\n",
       "      <th>wind_ppf</th>\n",
       "      <td>0.000000</td>\n",
       "      <td>0.000000</td>\n",
       "    </tr>\n",
       "    <tr>\n",
       "      <th>wind_ppl</th>\n",
       "      <td>1392.317623</td>\n",
       "      <td>3446.102058</td>\n",
       "    </tr>\n",
       "    <tr>\n",
       "      <th>h2_bio</th>\n",
       "      <td>0.000000</td>\n",
       "      <td>0.000000</td>\n",
       "    </tr>\n",
       "    <tr>\n",
       "      <th>h2_bio_ccs</th>\n",
       "      <td>0.000000</td>\n",
       "      <td>0.000000</td>\n",
       "    </tr>\n",
       "    <tr>\n",
       "      <th>eth_bio</th>\n",
       "      <td>0.000000</td>\n",
       "      <td>0.000000</td>\n",
       "    </tr>\n",
       "    <tr>\n",
       "      <th>eth_bio_ccs</th>\n",
       "      <td>0.000000</td>\n",
       "      <td>0.000000</td>\n",
       "    </tr>\n",
       "    <tr>\n",
       "      <th>liq_bio</th>\n",
       "      <td>0.000000</td>\n",
       "      <td>0.000000</td>\n",
       "    </tr>\n",
       "    <tr>\n",
       "      <th>liq_bio_ccs</th>\n",
       "      <td>0.000000</td>\n",
       "      <td>0.000000</td>\n",
       "    </tr>\n",
       "  </tbody>\n",
       "</table>\n",
       "</div>"
      ],
      "text/plain": [
       "                      2050          2100\n",
       "technology                              \n",
       "coal_adv       1752.734578   4673.995310\n",
       "coal_adv_ccs      0.000000      0.000000\n",
       "coal_ppl        265.357455     54.167697\n",
       "coal_ppl_u       66.659371      0.000000\n",
       "igcc              0.000000      0.000000\n",
       "igcc_ccs          0.000000      0.000000\n",
       "gas_cc         2069.005200   2675.312282\n",
       "gas_cc_ccs        0.000000      0.000000\n",
       "gas_ct         3003.824265  10774.718303\n",
       "gas_htfc          0.000000      0.000000\n",
       "gas_ppl          22.780320      0.000000\n",
       "bio_istig        33.411765     33.529412\n",
       "bio_istig_ccs     0.000000      0.000000\n",
       "bio_ppl           4.229059      4.043878\n",
       "geo_ppl           3.960424      1.249106\n",
       "hydro_hc       1112.746398   1193.234518\n",
       "hydro_lc        396.351025    565.865421\n",
       "nuc_fbr           0.000000      0.000000\n",
       "nuc_hc          362.617200   2820.471554\n",
       "nuc_lc           23.300221      0.000000\n",
       "foil_ppl          8.087828      0.000000\n",
       "loil_cc           0.000000      0.000000\n",
       "lio_ppl           0.000000      0.000000\n",
       "oil_ppl           0.449847      0.000000\n",
       "SO2_scrub_ppl     0.000000      0.000000\n",
       "solar_pv_ppl   2783.216522  11928.810386\n",
       "csp_sm1_ppl       0.000000      0.000000\n",
       "csp_sm3_ppl       0.000000      0.000000\n",
       "wind_ppf          0.000000      0.000000\n",
       "wind_ppl       1392.317623   3446.102058\n",
       "h2_bio            0.000000      0.000000\n",
       "h2_bio_ccs        0.000000      0.000000\n",
       "eth_bio           0.000000      0.000000\n",
       "eth_bio_ccs       0.000000      0.000000\n",
       "liq_bio           0.000000      0.000000\n",
       "liq_bio_ccs       0.000000      0.000000"
      ]
     },
     "execution_count": 31,
     "metadata": {},
     "output_type": "execute_result"
    }
   ],
   "source": [
    "# List of technologies in electricity sector\n",
    "etechs = ['coal_adv','coal_adv_ccs','coal_ppl','coal_ppl_u',\n",
    "         'igcc','igcc_ccs','gas_cc','gas_cc_ccs','gas_ct',\n",
    "         'gas_htfc','gas_ppl','bio_istig','bio_istig_ccs',\n",
    "         'bio_ppl','geo_ppl','hydro_hc','hydro_lc','nuc_fbr',\n",
    "         'nuc_hc','nuc_lc','foil_ppl','loil_cc','lio_ppl','oil_ppl',\n",
    "         'SO2_scrub_ppl','solar_pv_ppl','csp_sm1_ppl','csp_sm3_ppl',\n",
    "         'wind_ppf','wind_ppl','h2_bio','h2_bio_ccs','eth_bio',\n",
    "         'eth_bio_ccs','liq_bio','liq_bio_ccs']\n",
    "years = [2050,2100]\n",
    "capacity = []\n",
    "\n",
    "for y in years:\n",
    "    capacity.append(scen.var(\"CAP\", filters={'year_act':y,'technology':etechs})\n",
    "                    .groupby('technology').sum().reindex(etechs)\n",
    "                    .drop(columns=['year_vtg','year_act','mrg'])\n",
    "                    .rename(columns={'lvl':y}).fillna(0)\n",
    "                   )\n",
    "capacity = pd.concat(capacity, axis=1)\n",
    "\n",
    "with pd.ExcelWriter('output.xlsx',\n",
    "                    mode='a') as writer:  \n",
    "    capacity.to_excel(writer, sheet_name=\"CT\"+txs+\"-RNDn\")"
   ]
  },
  {
   "cell_type": "markdown",
   "metadata": {},
   "source": [
    "## Close the connection to the database"
   ]
  },
  {
   "cell_type": "code",
   "execution_count": null,
   "metadata": {},
   "outputs": [],
   "source": [
    "mp.close_db()"
   ]
  },
  {
   "cell_type": "code",
   "execution_count": null,
   "metadata": {},
   "outputs": [],
   "source": []
  }
 ],
 "metadata": {
  "kernelspec": {
   "display_name": "Python 3 (ipykernel)",
   "language": "python",
   "name": "python3"
  },
  "language_info": {
   "codemirror_mode": {
    "name": "ipython",
    "version": 3
   },
   "file_extension": ".py",
   "mimetype": "text/x-python",
   "name": "python",
   "nbconvert_exporter": "python",
   "pygments_lexer": "ipython3",
   "version": "3.10.9"
  }
 },
 "nbformat": 4,
 "nbformat_minor": 2
}

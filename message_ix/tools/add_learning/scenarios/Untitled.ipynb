{
 "cells": [
  {
   "cell_type": "code",
   "execution_count": 8,
   "id": "4e45acab",
   "metadata": {},
   "outputs": [
    {
     "data": {
      "text/plain": [
       "[10.0,\n",
       " 14.69,\n",
       " 21.59,\n",
       " 31.72,\n",
       " 46.61,\n",
       " 68.48,\n",
       " 100.63,\n",
       " 147.85,\n",
       " 217.25,\n",
       " 319.2,\n",
       " 469.02,\n",
       " 689.14,\n",
       " 1012.57,\n",
       " 1487.8,\n",
       " 2186.06,\n",
       " 3212.05,\n",
       " 4719.55,\n",
       " 6934.56]"
      ]
     },
     "execution_count": 8,
     "metadata": {},
     "output_type": "execute_result"
    }
   ],
   "source": [
    "growth = 0.08 # lo: 3%, med: 5%, hi: 10\n",
    "type_years = [*range(2020,2110,5)]\n",
    "Base2020 = 10\n",
    "\n",
    "value_taxes = [round((Base2020*((1+growth)**(x-2020))),2) for x in type_years]\n",
    "\n",
    "value_taxes"
   ]
  },
  {
   "cell_type": "code",
   "execution_count": null,
   "id": "a5c2893d",
   "metadata": {},
   "outputs": [],
   "source": []
  }
 ],
 "metadata": {
  "kernelspec": {
   "display_name": "message_dev",
   "language": "python",
   "name": "message_dev"
  },
  "language_info": {
   "codemirror_mode": {
    "name": "ipython",
    "version": 3
   },
   "file_extension": ".py",
   "mimetype": "text/x-python",
   "name": "python",
   "nbconvert_exporter": "python",
   "pygments_lexer": "ipython3",
   "version": "3.10.9"
  }
 },
 "nbformat": 4,
 "nbformat_minor": 5
}

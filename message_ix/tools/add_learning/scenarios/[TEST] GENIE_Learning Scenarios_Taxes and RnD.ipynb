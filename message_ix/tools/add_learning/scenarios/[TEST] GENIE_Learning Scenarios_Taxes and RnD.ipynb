{
 "cells": [
  {
   "cell_type": "markdown",
   "metadata": {},
   "source": [
    "# GENIE Learning Scenarios: Carbon Taxes and R&D\n",
    "\n",
    "**Pre-requisites**\n",
    "- You have the *MESSAGEix* framework installed and working\n",
    "- You have run Westeros baseline scenario (``westeros_baseline.ipynb``) and solved it successfully"
   ]
  },
  {
   "cell_type": "code",
   "execution_count": 1,
   "metadata": {},
   "outputs": [
    {
     "data": {
      "application/javascript": [
       "if (typeof IPython !== 'undefined') { IPython.OutputArea.prototype._should_scroll = function(lines){ return false; }}"
      ],
      "text/plain": [
       "<IPython.core.display.Javascript object>"
      ]
     },
     "metadata": {},
     "output_type": "display_data"
    }
   ],
   "source": [
    "import ixmp\n",
    "import message_ix\n",
    "import numpy as np\n",
    "import pandas as pd\n",
    "import yaml\n",
    "\n",
    "from collections.abc import Mapping\n",
    "from itertools import repeat\n",
    "from message_ix.models import MESSAGE_ITEMS\n",
    "from message_ix.utils import make_df\n",
    "\n",
    "from message_ix.tools.add_learning import add_learning\n",
    "\n",
    "\n",
    "%matplotlib inline"
   ]
  },
  {
   "cell_type": "code",
   "execution_count": 2,
   "metadata": {},
   "outputs": [],
   "source": [
    "mp = ixmp.Platform(\"local\")"
   ]
  },
  {
   "cell_type": "markdown",
   "metadata": {},
   "source": [
    "## Making a clone of the existing scenario 'baseline'"
   ]
  },
  {
   "cell_type": "markdown",
   "metadata": {},
   "source": [
    "Dump scenario to excel nad create a scenario from excel"
   ]
  },
  {
   "cell_type": "code",
   "execution_count": 3,
   "metadata": {},
   "outputs": [],
   "source": [
    "base = message_ix.Scenario(\n",
    "    mp, model=\"GENIE\", scenario=\"learning\",\n",
    "    )"
   ]
  },
  {
   "cell_type": "markdown",
   "metadata": {},
   "source": [
    "Clone baseline scenario and add learning parameters"
   ]
  },
  {
   "cell_type": "markdown",
   "metadata": {},
   "source": [
    "## High CO2 Tax with no R&D Target\n",
    "\n",
    "To add learning parameters to the scenario, one needs to include `add_learning(Scenario)` to the script, with `Scenario` is the name of scenario object that you want to run. In this example, we want to run `scen`, thus:"
   ]
  },
  {
   "cell_type": "code",
   "execution_count": 4,
   "metadata": {},
   "outputs": [],
   "source": [
    "scen = base.clone(\n",
    "    \"GENIE\",\n",
    "    \"learning_CTh-RNDn\",\n",
    "    \"high carbon tax with no RND target\",\n",
    "    keep_solution=False,\n",
    ")\n",
    "scen.check_out()"
   ]
  },
  {
   "cell_type": "code",
   "execution_count": 5,
   "metadata": {},
   "outputs": [],
   "source": [
    "all_years = scen.set('year')\n",
    "all_nodes = scen.set('node')\n",
    "type_years = list(all_years[all_years>=2020])\n",
    "nodes = list(all_nodes[all_nodes!=\"World\"])\n",
    "\n",
    "Base2020 = 10 # $/tCO2\n",
    "growth = 0.10 # lo: 3%, med: 5%, hi: 10\n",
    "\n",
    "value_taxes = [round((Base2020*((1+growth)**(x-2020))),2) for x in type_years]"
   ]
  },
  {
   "cell_type": "markdown",
   "metadata": {},
   "source": [
    "Add CO2 Tax to the scenario"
   ]
  },
  {
   "cell_type": "code",
   "execution_count": 6,
   "metadata": {},
   "outputs": [],
   "source": [
    "# In case you need to add the new unit to the platform\n",
    "mp.add_unit(\"USD/tCO2\")\n",
    "tax_emission = []\n",
    "for n in nodes:\n",
    "    data = make_df(\n",
    "        \"tax_emission\",\n",
    "        node=n,\n",
    "        type_year=type_years,\n",
    "        type_tec=\"all\",\n",
    "        unit=\"USD/tCO2\",\n",
    "        type_emission=\"TCE\",\n",
    "        value=value_taxes,\n",
    "        )\n",
    "    tax_emission.append(data)\n",
    "\n",
    "tax_emission = pd.concat(tax_emission)\n",
    "\n",
    "scen.add_par(\"tax_emission\", tax_emission)\n"
   ]
  },
  {
   "cell_type": "code",
   "execution_count": 7,
   "metadata": {},
   "outputs": [],
   "source": [
    "scen.commit(comment=\"GENIE learning with high carbon tax and no RND target\")"
   ]
  },
  {
   "cell_type": "code",
   "execution_count": 8,
   "metadata": {},
   "outputs": [],
   "source": [
    "scen.solve(gams_args =[\"--learningmode=1\"])"
   ]
  },
  {
   "cell_type": "code",
   "execution_count": 23,
   "metadata": {},
   "outputs": [
    {
     "data": {
      "text/html": [
       "<div>\n",
       "<style scoped>\n",
       "    .dataframe tbody tr th:only-of-type {\n",
       "        vertical-align: middle;\n",
       "    }\n",
       "\n",
       "    .dataframe tbody tr th {\n",
       "        vertical-align: top;\n",
       "    }\n",
       "\n",
       "    .dataframe thead th {\n",
       "        text-align: right;\n",
       "    }\n",
       "</style>\n",
       "<table border=\"1\" class=\"dataframe\">\n",
       "  <thead>\n",
       "    <tr style=\"text-align: right;\">\n",
       "      <th></th>\n",
       "      <th>node_loc</th>\n",
       "      <th>technology</th>\n",
       "      <th>year_vtg</th>\n",
       "      <th>value</th>\n",
       "      <th>unit</th>\n",
       "    </tr>\n",
       "  </thead>\n",
       "  <tbody>\n",
       "    <tr>\n",
       "      <th>0</th>\n",
       "      <td>R11_EEU</td>\n",
       "      <td>bio_istig</td>\n",
       "      <td>2030</td>\n",
       "      <td>3907.69</td>\n",
       "      <td>USD/kWa</td>\n",
       "    </tr>\n",
       "    <tr>\n",
       "      <th>1</th>\n",
       "      <td>R11_EEU</td>\n",
       "      <td>bio_istig_ccs</td>\n",
       "      <td>2030</td>\n",
       "      <td>5388.63</td>\n",
       "      <td>USD/kWa</td>\n",
       "    </tr>\n",
       "    <tr>\n",
       "      <th>2</th>\n",
       "      <td>R11_EEU</td>\n",
       "      <td>coal_adv_ccs</td>\n",
       "      <td>2030</td>\n",
       "      <td>4129.71</td>\n",
       "      <td>USD/kWa</td>\n",
       "    </tr>\n",
       "    <tr>\n",
       "      <th>3</th>\n",
       "      <td>R11_EEU</td>\n",
       "      <td>eth_bio_ccs</td>\n",
       "      <td>2030</td>\n",
       "      <td>3627.11</td>\n",
       "      <td>USD/kWa</td>\n",
       "    </tr>\n",
       "    <tr>\n",
       "      <th>4</th>\n",
       "      <td>R11_EEU</td>\n",
       "      <td>gas_cc_ccs</td>\n",
       "      <td>2030</td>\n",
       "      <td>2145.83</td>\n",
       "      <td>USD/kWa</td>\n",
       "    </tr>\n",
       "    <tr>\n",
       "      <th>5</th>\n",
       "      <td>R11_EEU</td>\n",
       "      <td>h2_bio_ccs</td>\n",
       "      <td>2030</td>\n",
       "      <td>3445.03</td>\n",
       "      <td>USD/kWa</td>\n",
       "    </tr>\n",
       "    <tr>\n",
       "      <th>6</th>\n",
       "      <td>R11_EEU</td>\n",
       "      <td>liq_bio_ccs</td>\n",
       "      <td>2030</td>\n",
       "      <td>3979.37</td>\n",
       "      <td>USD/kWa</td>\n",
       "    </tr>\n",
       "  </tbody>\n",
       "</table>\n",
       "</div>"
      ],
      "text/plain": [
       "  node_loc     technology  year_vtg    value     unit\n",
       "0  R11_EEU      bio_istig      2030  3907.69  USD/kWa\n",
       "1  R11_EEU  bio_istig_ccs      2030  5388.63  USD/kWa\n",
       "2  R11_EEU   coal_adv_ccs      2030  4129.71  USD/kWa\n",
       "3  R11_EEU    eth_bio_ccs      2030  3627.11  USD/kWa\n",
       "4  R11_EEU     gas_cc_ccs      2030  2145.83  USD/kWa\n",
       "5  R11_EEU     h2_bio_ccs      2030  3445.03  USD/kWa\n",
       "6  R11_EEU    liq_bio_ccs      2030  3979.37  USD/kWa"
      ]
     },
     "execution_count": 23,
     "metadata": {},
     "output_type": "execute_result"
    }
   ],
   "source": [
    "#scen.var(\"OBJ\")[\"lvl\"]\n",
    "#scen.par(\"emission_factor\",filters={'technology':'gas_cc_ccs','emission':'CO2'})\n",
    "#scen.par(\"inv_cost\",filters={'technology':['gas_cc_ccs','bio_istig_ccs','bio_istig',\n",
    "#                                           'eth_bio_ccs','h2_bio_ccs','liq_bio_ccs','coal_adv_ccs'],\n",
    "#                             'year_vtg':2030,\n",
    "#                             'node_loc':'R11_EEU'})\n",
    "#scen.var(\"CAP\",filters={'technology':'bio_istig_ccs', 'year_act':2050})"
   ]
  },
  {
   "cell_type": "markdown",
   "metadata": {},
   "source": [
    "## Plotting Results"
   ]
  },
  {
   "cell_type": "code",
   "execution_count": null,
   "metadata": {},
   "outputs": [],
   "source": [
    "from message_ix.reporting import Reporter\n",
    "from message_ix.util.tutorial import prepare_plots\n",
    "\n",
    "rep = Reporter.from_scenario(scen)\n",
    "prepare_plots(rep)"
   ]
  },
  {
   "cell_type": "markdown",
   "metadata": {},
   "source": [
    "### Activity\n",
    "\n",
    "How much energy is generated in each time period from the different potential sources?"
   ]
  },
  {
   "cell_type": "code",
   "execution_count": null,
   "metadata": {},
   "outputs": [],
   "source": [
    "rep.set_filters(t=[\"wind_ppl\"])\n",
    "rep.get(\"plot activity\")"
   ]
  },
  {
   "cell_type": "markdown",
   "metadata": {},
   "source": [
    "### Capacity\n",
    "\n",
    "How much capacity of each plant is installed in each period?"
   ]
  },
  {
   "cell_type": "code",
   "execution_count": null,
   "metadata": {},
   "outputs": [],
   "source": [
    "rep.get(\"plot capacity\")"
   ]
  },
  {
   "cell_type": "markdown",
   "metadata": {},
   "source": [
    "## Close the connection to the database"
   ]
  },
  {
   "cell_type": "code",
   "execution_count": 24,
   "metadata": {},
   "outputs": [],
   "source": [
    "mp.close_db()"
   ]
  },
  {
   "cell_type": "code",
   "execution_count": null,
   "metadata": {},
   "outputs": [],
   "source": []
  }
 ],
 "metadata": {
  "kernelspec": {
   "display_name": "Python 3 (ipykernel)",
   "language": "python",
   "name": "python3"
  },
  "language_info": {
   "codemirror_mode": {
    "name": "ipython",
    "version": 3
   },
   "file_extension": ".py",
   "mimetype": "text/x-python",
   "name": "python",
   "nbconvert_exporter": "python",
   "pygments_lexer": "ipython3",
   "version": "3.10.9"
  }
 },
 "nbformat": 4,
 "nbformat_minor": 2
}

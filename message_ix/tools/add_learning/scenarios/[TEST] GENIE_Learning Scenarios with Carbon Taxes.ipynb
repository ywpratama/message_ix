{
 "cells": [
  {
   "cell_type": "markdown",
   "metadata": {},
   "source": [
    "# GENIE Learning Scenarios with Carbon Taxes [TEST]\n",
    "\n",
    "**Pre-requisites**\n",
    "- You have the *MESSAGEix* framework installed and working\n",
    "- You have run Westeros baseline scenario (``westeros_baseline.ipynb``) and solved it successfully"
   ]
  },
  {
   "cell_type": "code",
   "execution_count": 1,
   "metadata": {},
   "outputs": [
    {
     "data": {
      "application/javascript": [
       "if (typeof IPython !== 'undefined') { IPython.OutputArea.prototype._should_scroll = function(lines){ return false; }}"
      ],
      "text/plain": [
       "<IPython.core.display.Javascript object>"
      ]
     },
     "metadata": {},
     "output_type": "display_data"
    }
   ],
   "source": [
    "import ixmp\n",
    "import message_ix\n",
    "import numpy as np\n",
    "import pandas as pd\n",
    "import yaml\n",
    "\n",
    "from collections.abc import Mapping\n",
    "from itertools import repeat\n",
    "from message_ix.models import MESSAGE_ITEMS\n",
    "from message_ix.utils import make_df\n",
    "\n",
    "from message_ix.tools.add_learning import add_learning\n",
    "\n",
    "\n",
    "%matplotlib inline"
   ]
  },
  {
   "cell_type": "code",
   "execution_count": 2,
   "metadata": {},
   "outputs": [],
   "source": [
    "mp = ixmp.Platform(\"local\", jvmargs=['-Xmx8G'])"
   ]
  },
  {
   "cell_type": "markdown",
   "metadata": {},
   "source": [
    "## Making a clone of the existing scenario 'baseline'"
   ]
  },
  {
   "cell_type": "markdown",
   "metadata": {},
   "source": [
    "Dump scenario to excel nad create a scenario from excel"
   ]
  },
  {
   "cell_type": "code",
   "execution_count": 3,
   "metadata": {},
   "outputs": [],
   "source": [
    "base = message_ix.Scenario(\n",
    "    mp, model=\"GENIE\", scenario=\"learning\",\n",
    "    )"
   ]
  },
  {
   "cell_type": "markdown",
   "metadata": {},
   "source": [
    "Clone baseline scenario and add learning parameters"
   ]
  },
  {
   "cell_type": "markdown",
   "metadata": {},
   "source": [
    "## High CO2 Tax Scenarios\n",
    "\n",
    "Here, we run the model under a range of CO2 tax scenaros"
   ]
  },
  {
   "cell_type": "code",
   "execution_count": 4,
   "metadata": {},
   "outputs": [],
   "source": [
    "# Firstly, let's create an empty list to contain the emissions data\n",
    "tax_growth = {'n':0,'l':0.025,'m':0.050,'h':0.075}\n",
    "data_collect = {par: [] for par in list(tax_growth.keys())}\n"
   ]
  },
  {
   "cell_type": "code",
   "execution_count": 5,
   "metadata": {},
   "outputs": [],
   "source": [
    "# Scenario setup\n",
    "txs = 'n'\n",
    "lrn = 'y'\n",
    "rnd = 'n'\n",
    "\n",
    "Base2020 = 0 if txs == 'n' else 10 # $/tCO2\n",
    "lrn_val = 1 if lrn == 'y' else 0"
   ]
  },
  {
   "cell_type": "code",
   "execution_count": 6,
   "metadata": {},
   "outputs": [],
   "source": [
    "scen = base.clone(\n",
    "    \"GENIE\",\n",
    "    \"with_\"+lrn+\"learning_CT\"+txs+\"-RNDn\",\n",
    "    txs+\" carbon tax with\"+rnd+\"RND target\",\n",
    "    keep_solution=False,\n",
    "    )\n",
    "scen.check_out()\n",
    "\n",
    "all_years = scen.set('year')\n",
    "all_nodes = scen.set('node')\n",
    "type_years = list(all_years[all_years>=2020])\n",
    "nodes = list(all_nodes[all_nodes==\"World\"])\n",
    "\n",
    "growth = tax_growth.get(txs) # lo: 3%, med: 5%, hi: 10\n",
    "\n",
    "value_taxes = [round((Base2020*((1+growth)**(x-2020))),2) for x in type_years]\n"
   ]
  },
  {
   "cell_type": "markdown",
   "metadata": {},
   "source": [
    "Add CO2 Tax to the scenario"
   ]
  },
  {
   "cell_type": "code",
   "execution_count": 7,
   "metadata": {},
   "outputs": [
    {
     "data": {
      "text/html": [
       "<div>\n",
       "<style scoped>\n",
       "    .dataframe tbody tr th:only-of-type {\n",
       "        vertical-align: middle;\n",
       "    }\n",
       "\n",
       "    .dataframe tbody tr th {\n",
       "        vertical-align: top;\n",
       "    }\n",
       "\n",
       "    .dataframe thead th {\n",
       "        text-align: right;\n",
       "    }\n",
       "</style>\n",
       "<table border=\"1\" class=\"dataframe\">\n",
       "  <thead>\n",
       "    <tr style=\"text-align: right;\">\n",
       "      <th></th>\n",
       "      <th>node</th>\n",
       "      <th>type_emission</th>\n",
       "      <th>type_tec</th>\n",
       "      <th>type_year</th>\n",
       "      <th>value</th>\n",
       "      <th>unit</th>\n",
       "    </tr>\n",
       "  </thead>\n",
       "  <tbody>\n",
       "    <tr>\n",
       "      <th>0</th>\n",
       "      <td>World</td>\n",
       "      <td>TCE</td>\n",
       "      <td>all</td>\n",
       "      <td>2020</td>\n",
       "      <td>0</td>\n",
       "      <td>USD/tCO2</td>\n",
       "    </tr>\n",
       "    <tr>\n",
       "      <th>1</th>\n",
       "      <td>World</td>\n",
       "      <td>TCE</td>\n",
       "      <td>all</td>\n",
       "      <td>2025</td>\n",
       "      <td>0</td>\n",
       "      <td>USD/tCO2</td>\n",
       "    </tr>\n",
       "    <tr>\n",
       "      <th>2</th>\n",
       "      <td>World</td>\n",
       "      <td>TCE</td>\n",
       "      <td>all</td>\n",
       "      <td>2030</td>\n",
       "      <td>0</td>\n",
       "      <td>USD/tCO2</td>\n",
       "    </tr>\n",
       "    <tr>\n",
       "      <th>3</th>\n",
       "      <td>World</td>\n",
       "      <td>TCE</td>\n",
       "      <td>all</td>\n",
       "      <td>2035</td>\n",
       "      <td>0</td>\n",
       "      <td>USD/tCO2</td>\n",
       "    </tr>\n",
       "    <tr>\n",
       "      <th>4</th>\n",
       "      <td>World</td>\n",
       "      <td>TCE</td>\n",
       "      <td>all</td>\n",
       "      <td>2040</td>\n",
       "      <td>0</td>\n",
       "      <td>USD/tCO2</td>\n",
       "    </tr>\n",
       "    <tr>\n",
       "      <th>5</th>\n",
       "      <td>World</td>\n",
       "      <td>TCE</td>\n",
       "      <td>all</td>\n",
       "      <td>2045</td>\n",
       "      <td>0</td>\n",
       "      <td>USD/tCO2</td>\n",
       "    </tr>\n",
       "    <tr>\n",
       "      <th>6</th>\n",
       "      <td>World</td>\n",
       "      <td>TCE</td>\n",
       "      <td>all</td>\n",
       "      <td>2050</td>\n",
       "      <td>0</td>\n",
       "      <td>USD/tCO2</td>\n",
       "    </tr>\n",
       "    <tr>\n",
       "      <th>7</th>\n",
       "      <td>World</td>\n",
       "      <td>TCE</td>\n",
       "      <td>all</td>\n",
       "      <td>2055</td>\n",
       "      <td>0</td>\n",
       "      <td>USD/tCO2</td>\n",
       "    </tr>\n",
       "    <tr>\n",
       "      <th>8</th>\n",
       "      <td>World</td>\n",
       "      <td>TCE</td>\n",
       "      <td>all</td>\n",
       "      <td>2060</td>\n",
       "      <td>0</td>\n",
       "      <td>USD/tCO2</td>\n",
       "    </tr>\n",
       "    <tr>\n",
       "      <th>9</th>\n",
       "      <td>World</td>\n",
       "      <td>TCE</td>\n",
       "      <td>all</td>\n",
       "      <td>2070</td>\n",
       "      <td>0</td>\n",
       "      <td>USD/tCO2</td>\n",
       "    </tr>\n",
       "    <tr>\n",
       "      <th>10</th>\n",
       "      <td>World</td>\n",
       "      <td>TCE</td>\n",
       "      <td>all</td>\n",
       "      <td>2080</td>\n",
       "      <td>0</td>\n",
       "      <td>USD/tCO2</td>\n",
       "    </tr>\n",
       "    <tr>\n",
       "      <th>11</th>\n",
       "      <td>World</td>\n",
       "      <td>TCE</td>\n",
       "      <td>all</td>\n",
       "      <td>2090</td>\n",
       "      <td>0</td>\n",
       "      <td>USD/tCO2</td>\n",
       "    </tr>\n",
       "    <tr>\n",
       "      <th>12</th>\n",
       "      <td>World</td>\n",
       "      <td>TCE</td>\n",
       "      <td>all</td>\n",
       "      <td>2100</td>\n",
       "      <td>0</td>\n",
       "      <td>USD/tCO2</td>\n",
       "    </tr>\n",
       "    <tr>\n",
       "      <th>13</th>\n",
       "      <td>World</td>\n",
       "      <td>TCE</td>\n",
       "      <td>all</td>\n",
       "      <td>2110</td>\n",
       "      <td>0</td>\n",
       "      <td>USD/tCO2</td>\n",
       "    </tr>\n",
       "  </tbody>\n",
       "</table>\n",
       "</div>"
      ],
      "text/plain": [
       "     node type_emission type_tec  type_year  value      unit\n",
       "0   World           TCE      all       2020      0  USD/tCO2\n",
       "1   World           TCE      all       2025      0  USD/tCO2\n",
       "2   World           TCE      all       2030      0  USD/tCO2\n",
       "3   World           TCE      all       2035      0  USD/tCO2\n",
       "4   World           TCE      all       2040      0  USD/tCO2\n",
       "5   World           TCE      all       2045      0  USD/tCO2\n",
       "6   World           TCE      all       2050      0  USD/tCO2\n",
       "7   World           TCE      all       2055      0  USD/tCO2\n",
       "8   World           TCE      all       2060      0  USD/tCO2\n",
       "9   World           TCE      all       2070      0  USD/tCO2\n",
       "10  World           TCE      all       2080      0  USD/tCO2\n",
       "11  World           TCE      all       2090      0  USD/tCO2\n",
       "12  World           TCE      all       2100      0  USD/tCO2\n",
       "13  World           TCE      all       2110      0  USD/tCO2"
      ]
     },
     "execution_count": 7,
     "metadata": {},
     "output_type": "execute_result"
    }
   ],
   "source": [
    "# In case you need to add the new unit to the platform\n",
    "mp.add_unit(\"USD/tCO2\")\n",
    "tax_emission = []\n",
    "for n in nodes:\n",
    "    data = make_df(\n",
    "        \"tax_emission\",\n",
    "        node=n,\n",
    "        type_year=type_years,\n",
    "        type_tec=\"all\",\n",
    "        unit=\"USD/tCO2\",\n",
    "        type_emission=\"TCE\",\n",
    "        value=value_taxes,\n",
    "        )\n",
    "    tax_emission.append(data)\n",
    "\n",
    "tax_emission = pd.concat(tax_emission)\n",
    "\n",
    "scen.add_par(\"tax_emission\", tax_emission)\n",
    "\n",
    "tax_emission"
   ]
  },
  {
   "cell_type": "code",
   "execution_count": 8,
   "metadata": {},
   "outputs": [],
   "source": [
    "scen.commit(comment=\"GENIE with\"+lrn+\"learning |\"+txs+\"carbon tax |\"+rnd+\"RND target\")"
   ]
  },
  {
   "cell_type": "code",
   "execution_count": 9,
   "metadata": {},
   "outputs": [],
   "source": [
    "scen.solve(gams_args =[\"--learningmode=\"+str(lrn_val)],solve_options={\"scaind\":-1})"
   ]
  },
  {
   "cell_type": "code",
   "execution_count": 10,
   "metadata": {},
   "outputs": [
    {
     "data": {
      "text/plain": [
       "3115606.75"
      ]
     },
     "execution_count": 10,
     "metadata": {},
     "output_type": "execute_result"
    }
   ],
   "source": [
    "scen.var(\"OBJ\")[\"lvl\"]"
   ]
  },
  {
   "cell_type": "code",
   "execution_count": 14,
   "metadata": {},
   "outputs": [
    {
     "name": "stderr",
     "output_type": "stream",
     "text": [
      "C:\\Users\\pratama\\AppData\\Local\\Temp\\ipykernel_9364\\1306185295.py:10: FutureWarning: The default value of numeric_only in DataFrameGroupBy.sum is deprecated. In a future version, numeric_only will default to False. Either specify numeric_only or select only columns which should be valid for the function.\n",
      "  .drop(columns='mrg').groupby('technology').sum().reindex(techs))\n"
     ]
    }
   ],
   "source": [
    "techs = ['coal_adv','coal_adv_ccs','coal_ppl','coal_ppl_u',\n",
    "         'igcc','igcc_ccs','gas_cc','gas_cc_ccs','gas_ct',\n",
    "         'gas_htfc','gas_ppl','bio_istig','bio_istig_ccs',\n",
    "         'bio_ppl','geo_ppl','hydro_hc','hydro_lc','nuc_fbr',\n",
    "         'nuc_hc','nuc_lc','foil_ppl','loil_cc','lio_ppl','oil_ppl',\n",
    "         'SO2_scrub_ppl','solar_pv_ppl','csp_sm1_ppl','csp_sm3_ppl',\n",
    "         'wind_ppf','wind_ppl','h2_bio','h2_bio_ccs','eth_bio',\n",
    "         'eth_bio_ccs','liq_bio','liq_bio_ccs']\n",
    "capacity = (scen.var(\"CAP\", filters={'year_act':2050,'technology':techs})\n",
    "            .drop(columns='mrg').groupby('technology').sum().reindex(techs))\n",
    "capacity.to_excel('output.xlsx', index=True)"
   ]
  },
  {
   "cell_type": "code",
   "execution_count": 16,
   "metadata": {},
   "outputs": [
    {
     "data": {
      "text/html": [
       "<div>\n",
       "<style scoped>\n",
       "    .dataframe tbody tr th:only-of-type {\n",
       "        vertical-align: middle;\n",
       "    }\n",
       "\n",
       "    .dataframe tbody tr th {\n",
       "        vertical-align: top;\n",
       "    }\n",
       "\n",
       "    .dataframe thead th {\n",
       "        text-align: right;\n",
       "    }\n",
       "</style>\n",
       "<table border=\"1\" class=\"dataframe\">\n",
       "  <thead>\n",
       "    <tr style=\"text-align: right;\">\n",
       "      <th></th>\n",
       "      <th>node</th>\n",
       "      <th>emission</th>\n",
       "      <th>type_tec</th>\n",
       "      <th>year</th>\n",
       "      <th>lvl</th>\n",
       "      <th>mrg</th>\n",
       "    </tr>\n",
       "  </thead>\n",
       "  <tbody>\n",
       "    <tr>\n",
       "      <th>0</th>\n",
       "      <td>World</td>\n",
       "      <td>TCE</td>\n",
       "      <td>all</td>\n",
       "      <td>2050</td>\n",
       "      <td>19505.405214</td>\n",
       "      <td>0.0</td>\n",
       "    </tr>\n",
       "  </tbody>\n",
       "</table>\n",
       "</div>"
      ],
      "text/plain": [
       "    node emission type_tec  year           lvl  mrg\n",
       "0  World      TCE      all  2050  19505.405214  0.0"
      ]
     },
     "execution_count": 16,
     "metadata": {},
     "output_type": "execute_result"
    }
   ],
   "source": [
    "scen.var(\"EMISS\", filters={'node':'World','type_tec':'all','emission':'TCE','year':2050})"
   ]
  },
  {
   "cell_type": "markdown",
   "metadata": {},
   "source": [
    "## Close the connection to the database"
   ]
  },
  {
   "cell_type": "code",
   "execution_count": 13,
   "metadata": {},
   "outputs": [],
   "source": [
    "mp.close_db()"
   ]
  },
  {
   "cell_type": "code",
   "execution_count": null,
   "metadata": {},
   "outputs": [],
   "source": []
  }
 ],
 "metadata": {
  "kernelspec": {
   "display_name": "Python 3 (ipykernel)",
   "language": "python",
   "name": "python3"
  },
  "language_info": {
   "codemirror_mode": {
    "name": "ipython",
    "version": 3
   },
   "file_extension": ".py",
   "mimetype": "text/x-python",
   "name": "python",
   "nbconvert_exporter": "python",
   "pygments_lexer": "ipython3",
   "version": "3.10.9"
  }
 },
 "nbformat": 4,
 "nbformat_minor": 2
}

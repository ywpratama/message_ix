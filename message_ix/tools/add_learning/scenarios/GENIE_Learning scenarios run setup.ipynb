{
 "cells": [
  {
   "cell_type": "markdown",
   "metadata": {},
   "source": [
    "##### GENIE Learning Scenarios with Carbon Taxes\n",
    "\n",
    "**Pre-requisites**\n",
    "- You have the *MESSAGEix* framework installed and working\n",
    "- You have run Westeros baseline scenario (``westeros_baseline.ipynb``) and solved it successfully"
   ]
  },
  {
   "cell_type": "code",
   "execution_count": 15,
   "metadata": {},
   "outputs": [],
   "source": [
    "import ixmp\n",
    "import message_ix\n",
    "import numpy as np\n",
    "import pandas as pd\n",
    "import yaml\n",
    "\n",
    "from collections.abc import Mapping\n",
    "from itertools import repeat\n",
    "from message_ix.models import MESSAGE_ITEMS\n",
    "from message_ix.utils import make_df\n",
    "\n",
    "from message_ix.tools.add_learning import add_learning\n",
    "\n",
    "\n",
    "%matplotlib inline"
   ]
  },
  {
   "cell_type": "code",
   "execution_count": 16,
   "metadata": {},
   "outputs": [],
   "source": [
    "mp = ixmp.Platform(\"local\", jvmargs=['-Xmx8G'])"
   ]
  },
  {
   "cell_type": "markdown",
   "metadata": {},
   "source": [
    "## Making a clone of the existing scenario 'baseline'"
   ]
  },
  {
   "cell_type": "markdown",
   "metadata": {},
   "source": [
    "Dump scenario to excel nad create a scenario from excel"
   ]
  },
  {
   "cell_type": "code",
   "execution_count": 17,
   "metadata": {},
   "outputs": [],
   "source": [
    "base = message_ix.Scenario(\n",
    "    mp, model=\"GENIE_sandbox\", scenario=\"learning\",\n",
    "    )"
   ]
  },
  {
   "cell_type": "markdown",
   "metadata": {},
   "source": [
    "Clone baseline scenario and add learning parameters"
   ]
  },
  {
   "cell_type": "markdown",
   "metadata": {},
   "source": [
    "## Scenario generation\n",
    "\n",
    "Here, we run the model under a range of CO2 tax scenaros"
   ]
  },
  {
   "cell_type": "code",
   "execution_count": 18,
   "metadata": {},
   "outputs": [],
   "source": [
    "# Firstly, let's create an empty list to contain the emissions data\n",
    "tax_growth = {'n':0,'l':0.025,'m':0.050,'h':0.075} #{'h':0.075}\n",
    "rnd_target = {'n':0,'l':5,'m':10,'h':15} #{'l':1}\n",
    "\n",
    "data_collect = {par: [] for par in list(tax_growth.keys())}\n"
   ]
  },
  {
   "cell_type": "code",
   "execution_count": 19,
   "metadata": {},
   "outputs": [],
   "source": [
    "# Scenario setup\n",
    "lrn = 'y'\n",
    "rnd = 'h'\n",
    "lrn_val = 1 if lrn == 'y' else 0"
   ]
  },
  {
   "cell_type": "code",
   "execution_count": 20,
   "metadata": {},
   "outputs": [],
   "source": [
    "for txs in tax_growth.keys():\n",
    "    # define base number for emissions taxes in 2020\n",
    "    Base2020 = 0 if txs == 'n' else 10 # $/tCO2\n",
    "    \n",
    "    # clone an editable scenario from the baseline\n",
    "    scen = base.clone(\n",
    "    \"GENIE\",\n",
    "    \"learning\"+lrn+\"_CT\"+txs+\"_RND\"+rnd,\n",
    "    txs+\" carbon tax with\"+rnd+\"RND target\",\n",
    "    keep_solution=False,\n",
    "    )\n",
    "    scen.check_out()\n",
    "    \n",
    "    # add R&D target parameter\n",
    "    rnd_target_df = make_df(\n",
    "            \"bound_total_capacity_lo\",\n",
    "            node_loc='R11_WEU',\n",
    "            technology=\"liq_bio_ccs\",\n",
    "            year_act=2035,\n",
    "            unit=\"GW\",\n",
    "            value=rnd_target[rnd],\n",
    "            )\n",
    "    scen.add_par(\"bound_total_capacity_lo\", rnd_target_df)\n",
    "    \n",
    "    # generate timeseries value of emissions taxes\n",
    "    all_years = scen.set('year')\n",
    "    all_nodes = scen.set('node')\n",
    "    type_years = list(all_years[all_years>=2020])\n",
    "    nodes = list(all_nodes[all_nodes==\"World\"])\n",
    "\n",
    "    growth = tax_growth.get(txs) # lo: 3%, med: 5%, hi: 10\n",
    "\n",
    "    value_taxes = [round((Base2020*((1+growth)**(x-2020))),2) for x in type_years]\n",
    "    \n",
    "    # Generate emission tax data and add to the scenario\n",
    "    mp.add_unit(\"USD/tCO2\")\n",
    "    tax_emission = []\n",
    "    for n in nodes:\n",
    "        data = make_df(\n",
    "            \"tax_emission\",\n",
    "            node=n,\n",
    "            type_year=type_years,\n",
    "            type_tec=\"all\",\n",
    "            unit=\"USD/tCO2\",\n",
    "            type_emission=\"TCE\",\n",
    "            value=value_taxes,\n",
    "            )\n",
    "        tax_emission.append(data)\n",
    "\n",
    "    tax_emission = pd.concat(tax_emission)\n",
    "\n",
    "    scen.add_par(\"tax_emission\", tax_emission)\n",
    "    \n",
    "    # commit and solve the scenario    \n",
    "    scen.commit(comment=\"GENIE with\"+lrn+\"learning |\"+txs+\"carbon tax |\"+rnd+\"RND target\")\n",
    "    \n",
    "    scen.solve(gams_args =[\"--learningmode=\"+str(lrn_val)],solve_options={\"scaind\":-1})\n",
    "    \n",
    "    scen.var(\"OBJ\")[\"lvl\"]\n",
    "    \n",
    "    # List of technologies in electricity sector and daccs\n",
    "    etechs = ['nuc_hc','nuc_lc','nuc_fbr',\n",
    "              'bio_istig','bio_istig_ccs','bio_ppl','h2_bio','h2_bio_ccs',\n",
    "              'eth_bio','eth_bio_ccs','liq_bio','liq_bio_ccs',\n",
    "              'coal_adv','coal_adv_ccs','coal_ppl','coal_ppl_u','igcc','igcc_ccs',\n",
    "              'foil_ppl','loil_cc','lio_ppl','oil_ppl','oil_ppl',\n",
    "              'gas_cc','gas_cc_ccs','gas_ct','gas_htfc','gas_ppl',\n",
    "              'geo_ppl',\n",
    "              'hydro_hc','hydro_lc',\n",
    "              'solar_pv_ppl','csp_sm1_ppl','csp_sm3_ppl','solar_th_ppl',\n",
    "              'wind_ppl','wind_ppf',\n",
    "              'SO2_scrub_ppl',\n",
    "              'dac_1_exports','dac_2_exports','dac_3_exports','dac_4_exports','dac_5_exports']\n",
    "    years = [yr for yr in scen.set('year') if yr >= 2025]\n",
    "    capacity = []\n",
    "\n",
    "    for y in years:\n",
    "        capacity.append(scen.var(\"CAP\", filters={'year_act':y,'technology':etechs})\n",
    "                        .groupby('technology').sum(numeric_only=True).reindex(etechs).fillna(0)\n",
    "                        .drop(columns=['year_vtg','year_act','mrg'])\n",
    "                        .rename(columns={'lvl':y})\n",
    "                       )\n",
    "    capacity = pd.concat(capacity, axis=1)\n",
    "\n",
    "    with pd.ExcelWriter('output.xlsx', mode='a', engine='openpyxl', if_sheet_exists='overlay') as writer:  \n",
    "        capacity.to_excel(writer, sheet_name=\"CT\"+txs+\"_RND\"+rnd)"
   ]
  },
  {
   "cell_type": "markdown",
   "metadata": {},
   "source": [
    "## Close the connection to the database"
   ]
  },
  {
   "cell_type": "code",
   "execution_count": 21,
   "metadata": {},
   "outputs": [],
   "source": [
    "mp.close_db()"
   ]
  },
  {
   "cell_type": "code",
   "execution_count": null,
   "metadata": {},
   "outputs": [],
   "source": []
  }
 ],
 "metadata": {
  "kernelspec": {
   "display_name": "Python 3 (ipykernel)",
   "language": "python",
   "name": "python3"
  },
  "language_info": {
   "codemirror_mode": {
    "name": "ipython",
    "version": 3
   },
   "file_extension": ".py",
   "mimetype": "text/x-python",
   "name": "python",
   "nbconvert_exporter": "python",
   "pygments_lexer": "ipython3",
   "version": "3.10.9"
  }
 },
 "nbformat": 4,
 "nbformat_minor": 2
}

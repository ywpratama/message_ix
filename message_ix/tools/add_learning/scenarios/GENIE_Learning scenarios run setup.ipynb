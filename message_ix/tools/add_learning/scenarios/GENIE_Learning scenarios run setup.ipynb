{
 "cells": [
  {
   "cell_type": "markdown",
   "metadata": {},
   "source": [
    "# GENIE Learning Scenarios with Carbon Taxes\n",
    "\n",
    "**Pre-requisites**\n",
    "- You have the *MESSAGEix* framework installed and working\n",
    "- You have run Westeros baseline scenario (``westeros_baseline.ipynb``) and solved it successfully"
   ]
  },
  {
   "cell_type": "code",
   "execution_count": 1,
   "metadata": {},
   "outputs": [
    {
     "data": {
      "application/javascript": [
       "if (typeof IPython !== 'undefined') { IPython.OutputArea.prototype._should_scroll = function(lines){ return false; }}"
      ],
      "text/plain": [
       "<IPython.core.display.Javascript object>"
      ]
     },
     "metadata": {},
     "output_type": "display_data"
    }
   ],
   "source": [
    "import ixmp\n",
    "import message_ix\n",
    "import numpy as np\n",
    "import pandas as pd\n",
    "import yaml\n",
    "\n",
    "from collections.abc import Mapping\n",
    "from itertools import repeat\n",
    "from message_ix.models import MESSAGE_ITEMS\n",
    "from message_ix.utils import make_df\n",
    "\n",
    "from message_ix.tools.add_learning import add_learning\n",
    "\n",
    "\n",
    "%matplotlib inline"
   ]
  },
  {
   "cell_type": "code",
   "execution_count": 2,
   "metadata": {},
   "outputs": [],
   "source": [
    "mp = ixmp.Platform(\"local\", jvmargs=['-Xmx8G'])"
   ]
  },
  {
   "cell_type": "markdown",
   "metadata": {},
   "source": [
    "## Making a clone of the existing scenario 'baseline'"
   ]
  },
  {
   "cell_type": "markdown",
   "metadata": {},
   "source": [
    "Dump scenario to excel nad create a scenario from excel"
   ]
  },
  {
   "cell_type": "code",
   "execution_count": 3,
   "metadata": {},
   "outputs": [],
   "source": [
    "base = message_ix.Scenario(\n",
    "    mp, model=\"GENIE_sandbox\", scenario=\"learning\",\n",
    "    )"
   ]
  },
  {
   "cell_type": "markdown",
   "metadata": {},
   "source": [
    "Clone baseline scenario and add learning parameters"
   ]
  },
  {
   "cell_type": "markdown",
   "metadata": {},
   "source": [
    "## Scenario generation\n",
    "\n",
    "Here, we run the model under a range of CO2 tax scenaros"
   ]
  },
  {
   "cell_type": "code",
   "execution_count": 4,
   "metadata": {},
   "outputs": [],
   "source": [
    "# Firstly, let's create an empty list to contain the emissions data\n",
    "tax_growth = {'n':0,'l':0.015,'m':0.030,'h':0.045,'vh':0.060} #{'h':0.050} \n",
    "rnd_target = {'n':0,'l':0.5,'m':5,'h':50,'vh':500} #{'h':0.050} \n",
    "\n",
    "data_collect = {par: [] for par in list(tax_growth.keys())}\n"
   ]
  },
  {
   "cell_type": "code",
   "execution_count": 5,
   "metadata": {},
   "outputs": [],
   "source": [
    "# Scenario setup\n",
    "lrn = 'y'\n",
    "#rnd = 'l'\n",
    "lrn_val = 1 if lrn == 'y' else 0"
   ]
  },
  {
   "cell_type": "code",
   "execution_count": 6,
   "metadata": {},
   "outputs": [
    {
     "ename": "ModelError",
     "evalue": "GAMS errored with return code 1:\n    Solver is to be called, the system should never return this number\n\nFor details, see the terminal output above, plus:\nListing   : C:\\Users\\pratama\\Documents\\GitHub\\MESSAGEix\\message_ix\\message_ix\\model\\MESSAGE_run.lst\nInput data: C:\\Users\\pratama\\Documents\\GitHub\\MESSAGEix\\message_ix\\message_ix\\model\\data\\MsgData_GENIE_learningy_CTn_RNDvh.gdx",
     "output_type": "error",
     "traceback": [
      "\u001b[1;31m---------------------------------------------------------------------------\u001b[0m",
      "\u001b[1;31mModelError\u001b[0m                                Traceback (most recent call last)",
      "Cell \u001b[1;32mIn[6], line 58\u001b[0m\n\u001b[0;32m     55\u001b[0m \u001b[38;5;66;03m# commit and solve the scenario    \u001b[39;00m\n\u001b[0;32m     56\u001b[0m scen\u001b[38;5;241m.\u001b[39mcommit(comment\u001b[38;5;241m=\u001b[39m\u001b[38;5;124m\"\u001b[39m\u001b[38;5;124mGENIE with\u001b[39m\u001b[38;5;124m\"\u001b[39m\u001b[38;5;241m+\u001b[39mlrn\u001b[38;5;241m+\u001b[39m\u001b[38;5;124m\"\u001b[39m\u001b[38;5;124mlearning |\u001b[39m\u001b[38;5;124m\"\u001b[39m\u001b[38;5;241m+\u001b[39mtxs\u001b[38;5;241m+\u001b[39m\u001b[38;5;124m\"\u001b[39m\u001b[38;5;124mcarbon tax |\u001b[39m\u001b[38;5;124m\"\u001b[39m\u001b[38;5;241m+\u001b[39mrnd\u001b[38;5;241m+\u001b[39m\u001b[38;5;124m\"\u001b[39m\u001b[38;5;124mRND target\u001b[39m\u001b[38;5;124m\"\u001b[39m)\n\u001b[1;32m---> 58\u001b[0m \u001b[43mscen\u001b[49m\u001b[38;5;241;43m.\u001b[39;49m\u001b[43msolve\u001b[49m\u001b[43m(\u001b[49m\u001b[43mgams_args\u001b[49m\u001b[43m \u001b[49m\u001b[38;5;241;43m=\u001b[39;49m\u001b[43m[\u001b[49m\u001b[38;5;124;43m\"\u001b[39;49m\u001b[38;5;124;43m--learningmode=\u001b[39;49m\u001b[38;5;124;43m\"\u001b[39;49m\u001b[38;5;241;43m+\u001b[39;49m\u001b[38;5;28;43mstr\u001b[39;49m\u001b[43m(\u001b[49m\u001b[43mlrn_val\u001b[49m\u001b[43m)\u001b[49m\u001b[43m]\u001b[49m\u001b[43m,\u001b[49m\u001b[43msolve_options\u001b[49m\u001b[38;5;241;43m=\u001b[39;49m\u001b[43m{\u001b[49m\u001b[38;5;124;43m\"\u001b[39;49m\u001b[38;5;124;43mthreads\u001b[39;49m\u001b[38;5;124;43m\"\u001b[39;49m\u001b[43m:\u001b[49m\u001b[38;5;241;43m4\u001b[39;49m\u001b[43m,\u001b[49m\u001b[38;5;124;43m\"\u001b[39;49m\u001b[38;5;124;43mscaind\u001b[39;49m\u001b[38;5;124;43m\"\u001b[39;49m\u001b[43m:\u001b[49m\u001b[38;5;241;43m-\u001b[39;49m\u001b[38;5;241;43m1\u001b[39;49m\u001b[43m}\u001b[49m\u001b[43m)\u001b[49m\n\u001b[0;32m     60\u001b[0m scen\u001b[38;5;241m.\u001b[39mvar(\u001b[38;5;124m\"\u001b[39m\u001b[38;5;124mOBJ\u001b[39m\u001b[38;5;124m\"\u001b[39m)[\u001b[38;5;124m\"\u001b[39m\u001b[38;5;124mlvl\u001b[39m\u001b[38;5;124m\"\u001b[39m]\n\u001b[0;32m     62\u001b[0m \u001b[38;5;66;03m# List of technologies in electricity sector and daccs\u001b[39;00m\n",
      "File \u001b[1;32m~\\Documents\\GitHub\\MESSAGEix\\message_ix\\message_ix\\core.py:676\u001b[0m, in \u001b[0;36mScenario.solve\u001b[1;34m(self, model, solve_options, **kwargs)\u001b[0m\n\u001b[0;32m    656\u001b[0m \u001b[38;5;28;01mdef\u001b[39;00m \u001b[38;5;21msolve\u001b[39m(\u001b[38;5;28mself\u001b[39m, model\u001b[38;5;241m=\u001b[39m\u001b[38;5;124m\"\u001b[39m\u001b[38;5;124mMESSAGE\u001b[39m\u001b[38;5;124m\"\u001b[39m, solve_options\u001b[38;5;241m=\u001b[39m{}, \u001b[38;5;241m*\u001b[39m\u001b[38;5;241m*\u001b[39mkwargs):\n\u001b[0;32m    657\u001b[0m \u001b[38;5;250m    \u001b[39m\u001b[38;5;124;03m\"\"\"Solve MESSAGE or MESSAGE-MACRO for the Scenario.\u001b[39;00m\n\u001b[0;32m    658\u001b[0m \n\u001b[0;32m    659\u001b[0m \u001b[38;5;124;03m    By default, :meth:`ixmp.Scenario.solve` is called with 'MESSAGE' as the\u001b[39;00m\n\u001b[1;32m   (...)\u001b[0m\n\u001b[0;32m    674\u001b[0m \u001b[38;5;124;03m        :class:`.GAMSModel`.\u001b[39;00m\n\u001b[0;32m    675\u001b[0m \u001b[38;5;124;03m    \"\"\"\u001b[39;00m\n\u001b[1;32m--> 676\u001b[0m     \u001b[38;5;28msuper\u001b[39m()\u001b[38;5;241m.\u001b[39msolve(model\u001b[38;5;241m=\u001b[39mmodel, solve_options\u001b[38;5;241m=\u001b[39msolve_options, \u001b[38;5;241m*\u001b[39m\u001b[38;5;241m*\u001b[39mkwargs)\n",
      "File \u001b[1;32m~\\Anaconda3\\envs\\message_env\\lib\\site-packages\\ixmp\\core\\scenario.py:835\u001b[0m, in \u001b[0;36mScenario.solve\u001b[1;34m(self, model, callback, cb_kwargs, **model_options)\u001b[0m\n\u001b[0;32m    833\u001b[0m \u001b[38;5;66;03m# Iterate until convergence\u001b[39;00m\n\u001b[0;32m    834\u001b[0m \u001b[38;5;28;01mwhile\u001b[39;00m \u001b[38;5;28;01mTrue\u001b[39;00m:\n\u001b[1;32m--> 835\u001b[0m     \u001b[43mmodel_obj\u001b[49m\u001b[38;5;241;43m.\u001b[39;49m\u001b[43mrun\u001b[49m\u001b[43m(\u001b[49m\u001b[38;5;28;43mself\u001b[39;49m\u001b[43m)\u001b[49m\n\u001b[0;32m    837\u001b[0m     \u001b[38;5;66;03m# Store an iteration number to help the callback\u001b[39;00m\n\u001b[0;32m    838\u001b[0m     \u001b[38;5;28;01mif\u001b[39;00m \u001b[38;5;129;01mnot\u001b[39;00m \u001b[38;5;28mhasattr\u001b[39m(\u001b[38;5;28mself\u001b[39m, \u001b[38;5;124m\"\u001b[39m\u001b[38;5;124miteration\u001b[39m\u001b[38;5;124m\"\u001b[39m):\n",
      "File \u001b[1;32m~\\Documents\\GitHub\\MESSAGEix\\message_ix\\message_ix\\models.py:382\u001b[0m, in \u001b[0;36mGAMSModel.run\u001b[1;34m(self, scenario)\u001b[0m\n\u001b[0;32m    379\u001b[0m lines2 \u001b[38;5;241m=\u001b[39m (\u001b[38;5;124m\"\u001b[39m\u001b[38;5;132;01m{}\u001b[39;00m\u001b[38;5;124m = \u001b[39m\u001b[38;5;132;01m{}\u001b[39;00m\u001b[38;5;124m\"\u001b[39m\u001b[38;5;241m.\u001b[39mformat(\u001b[38;5;241m*\u001b[39mkv) \u001b[38;5;28;01mfor\u001b[39;00m kv \u001b[38;5;129;01min\u001b[39;00m \u001b[38;5;28mself\u001b[39m\u001b[38;5;241m.\u001b[39mcplex_opts\u001b[38;5;241m.\u001b[39mitems())\n\u001b[0;32m    380\u001b[0m optfile2\u001b[38;5;241m.\u001b[39mwrite_text(\u001b[38;5;124m\"\u001b[39m\u001b[38;5;130;01m\\n\u001b[39;00m\u001b[38;5;124m\"\u001b[39m\u001b[38;5;241m.\u001b[39mjoin(lines2))\n\u001b[1;32m--> 382\u001b[0m result \u001b[38;5;241m=\u001b[39m \u001b[38;5;28;43msuper\u001b[39;49m\u001b[43m(\u001b[49m\u001b[43m)\u001b[49m\u001b[38;5;241;43m.\u001b[39;49m\u001b[43mrun\u001b[49m\u001b[43m(\u001b[49m\u001b[43mscenario\u001b[49m\u001b[43m)\u001b[49m\n\u001b[0;32m    384\u001b[0m \u001b[38;5;66;03m# In previous versions, the `cplex.opt` file(s) were removed at this point\u001b[39;00m\n\u001b[0;32m    385\u001b[0m \u001b[38;5;66;03m# in the workflow. This has been removed due to issues when running\u001b[39;00m\n\u001b[0;32m    386\u001b[0m \u001b[38;5;66;03m# scenarios asynchronously.\u001b[39;00m\n\u001b[0;32m    388\u001b[0m \u001b[38;5;28;01mreturn\u001b[39;00m result\n",
      "File \u001b[1;32m~\\Anaconda3\\envs\\message_env\\lib\\site-packages\\ixmp\\model\\gams.py:296\u001b[0m, in \u001b[0;36mGAMSModel.run\u001b[1;34m(self, scenario)\u001b[0m\n\u001b[0;32m    293\u001b[0m     check_call(command, shell\u001b[38;5;241m=\u001b[39mos\u001b[38;5;241m.\u001b[39mname \u001b[38;5;241m==\u001b[39m \u001b[38;5;124m\"\u001b[39m\u001b[38;5;124mnt\u001b[39m\u001b[38;5;124m\"\u001b[39m, cwd\u001b[38;5;241m=\u001b[39m\u001b[38;5;28mself\u001b[39m\u001b[38;5;241m.\u001b[39mcwd)\n\u001b[0;32m    294\u001b[0m \u001b[38;5;28;01mexcept\u001b[39;00m CalledProcessError \u001b[38;5;28;01mas\u001b[39;00m exc:\n\u001b[0;32m    295\u001b[0m     \u001b[38;5;66;03m# Do not remove self.temp_dir; the user may want to inspect the GDX file\u001b[39;00m\n\u001b[1;32m--> 296\u001b[0m     \u001b[38;5;28;01mraise\u001b[39;00m \u001b[38;5;28mself\u001b[39m\u001b[38;5;241m.\u001b[39mformat_exception(exc, model_file) \u001b[38;5;28;01mfrom\u001b[39;00m \u001b[38;5;28mNone\u001b[39m\n\u001b[0;32m    298\u001b[0m \u001b[38;5;66;03m# Read model solution\u001b[39;00m\n\u001b[0;32m    299\u001b[0m scenario\u001b[38;5;241m.\u001b[39mplatform\u001b[38;5;241m.\u001b[39m_backend\u001b[38;5;241m.\u001b[39mread_file(\n\u001b[0;32m    300\u001b[0m     \u001b[38;5;28mself\u001b[39m\u001b[38;5;241m.\u001b[39mout_file,\n\u001b[0;32m    301\u001b[0m     ItemType\u001b[38;5;241m.\u001b[39mMODEL,\n\u001b[1;32m   (...)\u001b[0m\n\u001b[0;32m    306\u001b[0m     var_list\u001b[38;5;241m=\u001b[39mas_str_list(\u001b[38;5;28mself\u001b[39m\u001b[38;5;241m.\u001b[39mvar_list) \u001b[38;5;129;01mor\u001b[39;00m [],\n\u001b[0;32m    307\u001b[0m )\n",
      "\u001b[1;31mModelError\u001b[0m: GAMS errored with return code 1:\n    Solver is to be called, the system should never return this number\n\nFor details, see the terminal output above, plus:\nListing   : C:\\Users\\pratama\\Documents\\GitHub\\MESSAGEix\\message_ix\\message_ix\\model\\MESSAGE_run.lst\nInput data: C:\\Users\\pratama\\Documents\\GitHub\\MESSAGEix\\message_ix\\message_ix\\model\\data\\MsgData_GENIE_learningy_CTn_RNDvh.gdx"
     ]
    }
   ],
   "source": [
    "for txs in tax_growth.keys():\n",
    "    for rnd in rnd_target.keys():\n",
    "        # define base number for emissions taxes in 2020\n",
    "        Base2020 = 0 if txs == 'n' else 10 # $/tCO2\n",
    "\n",
    "        # clone an editable scenario from the baseline\n",
    "        scen = base.clone(\n",
    "        \"GENIE\",\n",
    "        \"learning\"+lrn+\"_CT\"+txs+\"_RND\"+rnd,\n",
    "        txs+\" carbon tax with\"+rnd+\"RND target\",\n",
    "        keep_solution=False,\n",
    "        )\n",
    "        scen.check_out()\n",
    "\n",
    "        # add R&D target parameter\n",
    "        rnd_target_df = make_df(\n",
    "                \"relation_lower\",\n",
    "                relation='dac_cap_global',\n",
    "                node_rel='R11_GLB',\n",
    "                year_rel= 2035,\n",
    "                value=rnd_target[rnd],\n",
    "                unit='-',\n",
    "                )\n",
    "        scen.add_par(\"relation_lower\", rnd_target_df)\n",
    "\n",
    "        # generate timeseries value of emissions taxes\n",
    "        all_years = scen.set('year')\n",
    "        all_nodes = scen.set('node')\n",
    "        type_years = list(all_years[all_years>=2020])\n",
    "        nodes = list(all_nodes[all_nodes==\"World\"])\n",
    "\n",
    "        growth = tax_growth.get(txs)\n",
    "\n",
    "        value_taxes = [round((Base2020*((1+growth)**(x-2020))),2) for x in type_years]\n",
    "\n",
    "        # Generate emission tax data and add to the scenario\n",
    "        mp.add_unit(\"USD/tCO2\")\n",
    "        tax_emission = []\n",
    "        for n in nodes:\n",
    "            data = make_df(\n",
    "                \"tax_emission\",\n",
    "                node=n,\n",
    "                type_year=type_years,\n",
    "                type_tec=\"all\",\n",
    "                unit=\"USD/tCO2\",\n",
    "                type_emission=\"TCE\",\n",
    "                value=value_taxes,\n",
    "                )\n",
    "            tax_emission.append(data)\n",
    "\n",
    "        tax_emission = pd.concat(tax_emission)\n",
    "\n",
    "        scen.add_par(\"tax_emission\", tax_emission)\n",
    "\n",
    "        # commit and solve the scenario    \n",
    "        scen.commit(comment=\"GENIE with\"+lrn+\"learning |\"+txs+\"carbon tax |\"+rnd+\"RND target\")\n",
    "\n",
    "        scen.solve(gams_args =[\"--learningmode=\"+str(lrn_val)],solve_options={\"threads\":4,\"scaind\":-1})\n",
    "\n",
    "        scen.var(\"OBJ\")[\"lvl\"]\n",
    "\n",
    "        # List of technologies in electricity sector and daccs\n",
    "        etechs = ['nuc_hc','nuc_lc','nuc_fbr',\n",
    "                  'bio_istig','bio_istig_ccs','bio_ppl','h2_bio','h2_bio_ccs',\n",
    "                  'eth_bio','eth_bio_ccs','liq_bio','liq_bio_ccs',\n",
    "                  'coal_adv','coal_adv_ccs','coal_ppl','coal_ppl_u','igcc','igcc_ccs',\n",
    "                  'foil_ppl','loil_cc','lio_ppl','oil_ppl','oil_ppl',\n",
    "                  'gas_cc','gas_cc_ccs','gas_ct','gas_htfc','gas_ppl',\n",
    "                  'geo_ppl',\n",
    "                  'hydro_hc','hydro_lc',\n",
    "                  'solar_pv_ppl','csp_sm1_ppl','csp_sm3_ppl','solar_th_ppl',\n",
    "                  'wind_ppl','wind_ppf',\n",
    "                  'SO2_scrub_ppl',\n",
    "                  'dac_1_exports','dac_2_exports','dac_3_exports','dac_4_exports','dac_5_exports']\n",
    "        years = [yr for yr in scen.set('year') if yr >= 2025]\n",
    "        capacity = []\n",
    "\n",
    "        for y in years:\n",
    "            capacity.append(scen.var(\"CAP\", filters={'year_act':y,'technology':etechs})\n",
    "                            .groupby('technology').sum(numeric_only=True).reindex(etechs).fillna(0)\n",
    "                            .drop(columns=['year_vtg','year_act','mrg'])\n",
    "                            .rename(columns={'lvl':y})\n",
    "                           )\n",
    "        capacity = pd.concat(capacity, axis=1)\n",
    "\n",
    "        with pd.ExcelWriter('output.xlsx', mode='a', engine='openpyxl', if_sheet_exists='overlay') as writer:  \n",
    "            capacity.to_excel(writer, sheet_name=\"CT\"+txs+\"_RND\"+rnd)\n"
   ]
  },
  {
   "cell_type": "markdown",
   "metadata": {},
   "source": [
    "## Close the connection to the database"
   ]
  },
  {
   "cell_type": "code",
   "execution_count": null,
   "metadata": {},
   "outputs": [],
   "source": [
    "mp.close_db()"
   ]
  },
  {
   "cell_type": "code",
   "execution_count": null,
   "metadata": {},
   "outputs": [],
   "source": []
  }
 ],
 "metadata": {
  "kernelspec": {
   "display_name": "Python 3 (ipykernel)",
   "language": "python",
   "name": "python3"
  },
  "language_info": {
   "codemirror_mode": {
    "name": "ipython",
    "version": 3
   },
   "file_extension": ".py",
   "mimetype": "text/x-python",
   "name": "python",
   "nbconvert_exporter": "python",
   "pygments_lexer": "ipython3",
   "version": "3.10.9"
  }
 },
 "nbformat": 4,
 "nbformat_minor": 2
}

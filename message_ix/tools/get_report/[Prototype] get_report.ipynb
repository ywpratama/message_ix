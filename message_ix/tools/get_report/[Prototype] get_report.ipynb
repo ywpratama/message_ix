{
 "cells": [
  {
   "cell_type": "markdown",
   "id": "9ce2dbbc",
   "metadata": {},
   "source": [
    "This script is to add data general. \n",
    "Import all required tools"
   ]
  },
  {
   "cell_type": "code",
   "execution_count": 1,
   "id": "db473272",
   "metadata": {},
   "outputs": [
    {
     "data": {
      "application/javascript": [
       "if (typeof IPython !== 'undefined') { IPython.OutputArea.prototype._should_scroll = function(lines){ return false; }}"
      ],
      "text/plain": [
       "<IPython.core.display.Javascript object>"
      ]
     },
     "metadata": {},
     "output_type": "display_data"
    },
    {
     "name": "stderr",
     "output_type": "stream",
     "text": [
      "C:\\Users\\pratama\\Documents\\GitHub\\MESSAGEix\\message_ix\\message_ix\\reporting\\__init__.py:98: FutureWarning: Importing from genno.computations will be deprecated in a future version; use genno.operator instead.\n",
      "  (\"tom:nl-t-yv-ya\", (genno.computations.add, \"fom:nl-t-yv-ya\", \"vom:nl-t-yv-ya\")),\n"
     ]
    }
   ],
   "source": [
    "import ixmp\n",
    "import message_ix\n",
    "import numpy as np\n",
    "import pandas as pd\n",
    "import yaml\n",
    "\n",
    "from collections.abc import Mapping\n",
    "from itertools import repeat\n",
    "from message_ix.models import MESSAGE_ITEMS\n",
    "from message_ix.utils import make_df\n",
    "\n",
    "%matplotlib inline\n",
    "\n",
    "mp = ixmp.Platform('local')"
   ]
  },
  {
   "cell_type": "code",
   "execution_count": 2,
   "id": "1b1a0478",
   "metadata": {},
   "outputs": [
    {
     "name": "stdout",
     "output_type": "stream",
     "text": [
      "Buddy\n",
      "Buddy says Woof!\n"
     ]
    }
   ],
   "source": [
    "class Dog:\n",
    "    def __init__(self, name, age):\n",
    "        self.name = name\n",
    "        self.age = age\n",
    "\n",
    "    def bark(self):\n",
    "        print(f\"{self.name} says Woof!\")\n",
    "\n",
    "# Creating an instance of the Dog class\n",
    "my_dog = Dog(name=\"Buddy\", age=3)\n",
    "\n",
    "# Accessing attributes and calling methods of the object\n",
    "print(my_dog.name)  # Output: Buddy\n",
    "my_dog.bark()       # Output: Buddy says Woof!"
   ]
  },
  {
   "cell_type": "markdown",
   "id": "7d4cf7f5",
   "metadata": {},
   "source": [
    "This part is just to generate a dummy scenario as basis for adding technology parameters. Need to be removed once integrated"
   ]
  },
  {
   "cell_type": "code",
   "execution_count": 3,
   "id": "34cf0deb",
   "metadata": {},
   "outputs": [],
   "source": [
    "base = message_ix.Scenario(mp, model='GENIE_sandbox', scenario=\"add_tech_emission_bound1000\")\n",
    "\n"
   ]
  },
  {
   "cell_type": "markdown",
   "id": "103d6759",
   "metadata": {},
   "source": [
    "Creating basic dataframe to be filled in later"
   ]
  },
  {
   "cell_type": "code",
   "execution_count": 4,
   "id": "abb86a67",
   "metadata": {},
   "outputs": [],
   "source": [
    "def get_values(scenario,\n",
    "               variable = '', valuetype = 'lvl',\n",
    "               #filters = {}\n",
    "              ): \n",
    "    # filters must use 'cat_tec' to aggregate technology\n",
    "    # don't forget to include check unit\n",
    "    \"\"\"\n",
    "    Parameters\n",
    "    ----------\n",
    "    scenario    : message_ix.Scenario()\n",
    "        MESSAGEix Scenario where the data will be included\n",
    "    variable    : string\n",
    "        name of variable to report\n",
    "    valuetype   : string, 'lvl' or 'mrg'\n",
    "        type of values reported to report,\n",
    "        either level or marginal.\n",
    "        default is 'lvl'\n",
    "    \"\"\"\n",
    "    \n",
    "    if isinstance(scenario.var(variable), pd.DataFrame): # this is specific for technology, hence all should be dataframe already\n",
    "        df = scenario.var(variable)\n",
    "        dimensions = [col for col in df.columns if col not in ['lvl','mrg']]\n",
    "        return df.set_index(dimensions)[[valuetype]]\n",
    "    else:\n",
    "        return scenario.var(variable)[valuetype]\n",
    "\n"
   ]
  },
  {
   "cell_type": "code",
   "execution_count": 5,
   "id": "2b8decd1",
   "metadata": {},
   "outputs": [],
   "source": [
    "groups = {'DACs': ['LT_DAC','HT_DAC']}\n",
    "\n",
    "def get_report(scenario,\n",
    "               grouptec = '',\n",
    "              ): \n",
    "    \"\"\"\n",
    "    Parameters\n",
    "    ----------\n",
    "    scenario    : message_ix.Scenario()\n",
    "        MESSAGEix Scenario where the data will be included\n",
    "    grouptec    : string\n",
    "        type of values reported to report,\n",
    "        either level or marginal.\n",
    "        default is 'lvl'\n",
    "    variable    : string\n",
    "        name of variable to report\n",
    "    \"\"\"\n",
    "    var_dict = {var: [] for var in ['CAP','CAP_NEW']}\n",
    "    \n",
    "    for var in var_dict.keys():\n",
    "        df = (get_values(scenario,var)['lvl'].unstack()\n",
    "              .loc[:,groups.get(grouptec),:]\n",
    "              .groupby(['node_loc']).sum()\n",
    "             )\n",
    "        df.loc['World'] = df.sum(axis=0)\n",
    "        \n",
    "        var_dict[var] = df\n",
    "        \n",
    "        return print(df) # TODO: This need to be printing to excel\n",
    "    "
   ]
  },
  {
   "cell_type": "code",
   "execution_count": 6,
   "id": "8f5cd0a5",
   "metadata": {},
   "outputs": [
    {
     "data": {
      "text/html": [
       "<div>\n",
       "<style scoped>\n",
       "    .dataframe tbody tr th:only-of-type {\n",
       "        vertical-align: middle;\n",
       "    }\n",
       "\n",
       "    .dataframe tbody tr th {\n",
       "        vertical-align: top;\n",
       "    }\n",
       "\n",
       "    .dataframe thead th {\n",
       "        text-align: right;\n",
       "    }\n",
       "</style>\n",
       "<table border=\"1\" class=\"dataframe\">\n",
       "  <thead>\n",
       "    <tr style=\"text-align: right;\">\n",
       "      <th></th>\n",
       "      <th></th>\n",
       "      <th></th>\n",
       "      <th></th>\n",
       "      <th>lvl</th>\n",
       "    </tr>\n",
       "    <tr>\n",
       "      <th>node_loc</th>\n",
       "      <th>technology</th>\n",
       "      <th>year_vtg</th>\n",
       "      <th>year_act</th>\n",
       "      <th></th>\n",
       "    </tr>\n",
       "  </thead>\n",
       "  <tbody>\n",
       "    <tr>\n",
       "      <th rowspan=\"5\" valign=\"top\">R11_AFR</th>\n",
       "      <th rowspan=\"5\" valign=\"top\">LNG_exp</th>\n",
       "      <th>1995</th>\n",
       "      <th>1995</th>\n",
       "      <td>0.000000</td>\n",
       "    </tr>\n",
       "    <tr>\n",
       "      <th rowspan=\"2\" valign=\"top\">2000</th>\n",
       "      <th>2000</th>\n",
       "      <td>0.000000</td>\n",
       "    </tr>\n",
       "    <tr>\n",
       "      <th>2020</th>\n",
       "      <td>0.000000</td>\n",
       "    </tr>\n",
       "    <tr>\n",
       "      <th rowspan=\"2\" valign=\"top\">2005</th>\n",
       "      <th>2005</th>\n",
       "      <td>0.000000</td>\n",
       "    </tr>\n",
       "    <tr>\n",
       "      <th>2020</th>\n",
       "      <td>8.000000</td>\n",
       "    </tr>\n",
       "    <tr>\n",
       "      <th>...</th>\n",
       "      <th>...</th>\n",
       "      <th>...</th>\n",
       "      <th>...</th>\n",
       "      <td>...</td>\n",
       "    </tr>\n",
       "    <tr>\n",
       "      <th rowspan=\"5\" valign=\"top\">R11_WEU</th>\n",
       "      <th rowspan=\"5\" valign=\"top\">LT_DAC</th>\n",
       "      <th rowspan=\"2\" valign=\"top\">2090</th>\n",
       "      <th>2100</th>\n",
       "      <td>218.896243</td>\n",
       "    </tr>\n",
       "    <tr>\n",
       "      <th>2110</th>\n",
       "      <td>109.448121</td>\n",
       "    </tr>\n",
       "    <tr>\n",
       "      <th rowspan=\"2\" valign=\"top\">2100</th>\n",
       "      <th>2100</th>\n",
       "      <td>61.280695</td>\n",
       "    </tr>\n",
       "    <tr>\n",
       "      <th>2110</th>\n",
       "      <td>61.280695</td>\n",
       "    </tr>\n",
       "    <tr>\n",
       "      <th>2110</th>\n",
       "      <th>2110</th>\n",
       "      <td>230.610939</td>\n",
       "    </tr>\n",
       "  </tbody>\n",
       "</table>\n",
       "<p>124384 rows × 1 columns</p>\n",
       "</div>"
      ],
      "text/plain": [
       "                                              lvl\n",
       "node_loc technology year_vtg year_act            \n",
       "R11_AFR  LNG_exp    1995     1995        0.000000\n",
       "                    2000     2000        0.000000\n",
       "                             2020        0.000000\n",
       "                    2005     2005        0.000000\n",
       "                             2020        8.000000\n",
       "...                                           ...\n",
       "R11_WEU  LT_DAC     2090     2100      218.896243\n",
       "                             2110      109.448121\n",
       "                    2100     2100       61.280695\n",
       "                             2110       61.280695\n",
       "                    2110     2110      230.610939\n",
       "\n",
       "[124384 rows x 1 columns]"
      ]
     },
     "execution_count": 6,
     "metadata": {},
     "output_type": "execute_result"
    }
   ],
   "source": [
    "get_values(base,'CAP')"
   ]
  },
  {
   "cell_type": "code",
   "execution_count": 7,
   "id": "e3248a4e",
   "metadata": {},
   "outputs": [
    {
     "name": "stdout",
     "output_type": "stream",
     "text": [
      "year_act  1960  1965  1970  1975  1980  1985  1990  1995  2000  2005  ...  \\\n",
      "node_loc                                                              ...   \n",
      "R11_AFR    0.0   0.0   0.0   0.0   0.0   0.0   0.0   0.0   0.0   0.0  ...   \n",
      "R11_CPA    0.0   0.0   0.0   0.0   0.0   0.0   0.0   0.0   0.0   0.0  ...   \n",
      "R11_EEU    0.0   0.0   0.0   0.0   0.0   0.0   0.0   0.0   0.0   0.0  ...   \n",
      "R11_FSU    0.0   0.0   0.0   0.0   0.0   0.0   0.0   0.0   0.0   0.0  ...   \n",
      "R11_LAM    0.0   0.0   0.0   0.0   0.0   0.0   0.0   0.0   0.0   0.0  ...   \n",
      "R11_MEA    0.0   0.0   0.0   0.0   0.0   0.0   0.0   0.0   0.0   0.0  ...   \n",
      "R11_NAM    0.0   0.0   0.0   0.0   0.0   0.0   0.0   0.0   0.0   0.0  ...   \n",
      "R11_PAO    0.0   0.0   0.0   0.0   0.0   0.0   0.0   0.0   0.0   0.0  ...   \n",
      "R11_PAS    0.0   0.0   0.0   0.0   0.0   0.0   0.0   0.0   0.0   0.0  ...   \n",
      "R11_SAS    0.0   0.0   0.0   0.0   0.0   0.0   0.0   0.0   0.0   0.0  ...   \n",
      "R11_WEU    0.0   0.0   0.0   0.0   0.0   0.0   0.0   0.0   0.0   0.0  ...   \n",
      "World      0.0   0.0   0.0   0.0   0.0   0.0   0.0   0.0   0.0   0.0  ...   \n",
      "\n",
      "year_act  2040  2045  2050  2055  2060        2070         2080         2090  \\\n",
      "node_loc                                                                       \n",
      "R11_AFR    0.0   0.0   0.0   0.0   0.0    0.000000   345.295638  1422.604984   \n",
      "R11_CPA    0.0   0.0   0.0   0.0   0.0    0.000000   136.931427  1189.122886   \n",
      "R11_EEU    0.0   0.0   0.0   0.0   0.0    9.084707    31.083113   106.509547   \n",
      "R11_FSU    0.0   0.0   0.0   0.0   0.0    0.000000    35.934393   676.257677   \n",
      "R11_LAM    0.0   0.0   0.0   0.0   0.0    0.000000   229.153286   904.680298   \n",
      "R11_MEA    0.0   0.0   0.0   0.0   0.0    0.000000   344.147937  1609.144651   \n",
      "R11_NAM    0.0   0.0   0.0   0.0   0.0  213.551698   454.832376  1922.403274   \n",
      "R11_PAO    0.0   0.0   0.0   0.0   0.0    0.000000    61.011516   371.773561   \n",
      "R11_PAS    0.0   0.0   0.0   0.0   0.0    0.000000    70.252290   400.661257   \n",
      "R11_SAS    0.0   0.0   0.0   0.0   0.0    0.000000   291.576791   640.172920   \n",
      "R11_WEU    0.0   0.0   0.0   0.0   0.0    0.000000   161.795362   380.691605   \n",
      "World      0.0   0.0   0.0   0.0   0.0  222.636405  2162.014127  9624.022659   \n",
      "\n",
      "year_act          2100          2110  \n",
      "node_loc                              \n",
      "R11_AFR    3141.241682   3727.690748  \n",
      "R11_CPA    1186.685276   1095.162923  \n",
      "R11_EEU     128.243031    128.978114  \n",
      "R11_FSU     658.290480    677.781590  \n",
      "R11_LAM    1638.463840   1947.014041  \n",
      "R11_MEA    3370.519990   5180.066677  \n",
      "R11_NAM    1992.185085   2231.368703  \n",
      "R11_PAO     346.774824    382.961104  \n",
      "R11_PAS     365.535112    397.114914  \n",
      "R11_SAS     799.409229   1097.057180  \n",
      "R11_WEU     361.074619    401.339756  \n",
      "World     13988.423168  17266.535749  \n",
      "\n",
      "[12 rows x 26 columns]\n"
     ]
    }
   ],
   "source": [
    "get_report(base,'DACs')"
   ]
  },
  {
   "cell_type": "code",
   "execution_count": 8,
   "id": "f8e3cad8",
   "metadata": {},
   "outputs": [],
   "source": [
    "mp.close_db()"
   ]
  }
 ],
 "metadata": {
  "kernelspec": {
   "display_name": "Python 3 (ipykernel)",
   "language": "python",
   "name": "python3"
  },
  "language_info": {
   "codemirror_mode": {
    "name": "ipython",
    "version": 3
   },
   "file_extension": ".py",
   "mimetype": "text/x-python",
   "name": "python",
   "nbconvert_exporter": "python",
   "pygments_lexer": "ipython3",
   "version": "3.10.9"
  }
 },
 "nbformat": 4,
 "nbformat_minor": 5
}

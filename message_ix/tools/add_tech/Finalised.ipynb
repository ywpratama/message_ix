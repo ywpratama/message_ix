{
 "cells": [
  {
   "cell_type": "markdown",
   "id": "9ce2dbbc",
   "metadata": {},
   "source": [
    "Import all required tools"
   ]
  },
  {
   "cell_type": "code",
   "execution_count": 1,
   "id": "db473272",
   "metadata": {},
   "outputs": [
    {
     "data": {
      "application/javascript": [
       "if (typeof IPython !== 'undefined') { IPython.OutputArea.prototype._should_scroll = function(lines){ return false; }}"
      ],
      "text/plain": [
       "<IPython.core.display.Javascript object>"
      ]
     },
     "metadata": {},
     "output_type": "display_data"
    }
   ],
   "source": [
    "import ixmp\n",
    "import message_ix\n",
    "import numpy as np\n",
    "import pandas as pd\n",
    "import yaml\n",
    "\n",
    "from collections.abc import Mapping\n",
    "from itertools import repeat\n",
    "from message_ix.models import MESSAGE_ITEMS\n",
    "from message_ix.utils import make_df\n",
    "\n",
    "%matplotlib inline\n",
    "\n",
    "mp = ixmp.Platform()"
   ]
  },
  {
   "cell_type": "markdown",
   "id": "7d4cf7f5",
   "metadata": {},
   "source": [
    "This part is just to generate a dummy scenario as basis for adding technology parameters. Need to be removed once integrated"
   ]
  },
  {
   "cell_type": "code",
   "execution_count": 2,
   "id": "34cf0deb",
   "metadata": {},
   "outputs": [
    {
     "name": "stderr",
     "output_type": "stream",
     "text": [
      "This Scenario has a solution, use `Scenario.remove_solution()` or `Scenario.clone(..., keep_solution=False)`\n"
     ]
    }
   ],
   "source": [
    "model = \"Westeros Electrified\"\n",
    "\n",
    "base = message_ix.Scenario(mp, model=model, scenario=\"baseline\")\n",
    "scen = base.clone(\n",
    "    model,\n",
    "    \"add_tech\",\n",
    "    \"introducing the add_tech feature on MESSAGEix\",\n",
    "    keep_solution=False,\n",
    ")\n",
    "scen.check_out()\n",
    "\n",
    "year_df = scen.vintage_and_active_years()\n",
    "vintage_years, act_years = year_df[\"year_vtg\"], year_df[\"year_act\"]\n",
    "model_horizon = scen.set(\"year\")\n",
    "country = \"Westeros\""
   ]
  },
  {
   "cell_type": "code",
   "execution_count": null,
   "id": "9f091580",
   "metadata": {
    "scrolled": true
   },
   "outputs": [],
   "source": [
    "x = list(scen.set('node'))\n",
    "x.remove('World')\n",
    "\n",
    "x\n",
    "\n"
   ]
  },
  {
   "cell_type": "markdown",
   "id": "581520cb",
   "metadata": {},
   "source": [
    "Call all data required by add_tech module"
   ]
  },
  {
   "cell_type": "code",
   "execution_count": 4,
   "id": "fbbd29db",
   "metadata": {},
   "outputs": [],
   "source": [
    "with open('tech_data.yaml','r') as stream:\n",
    "    tech_data = yaml.safe_load(stream)\n",
    "\n",
    "# As if these parameters provided in the arguments\n",
    "#regions = ['Westeros', 'Westerlands']\n",
    "#modes = ['standard']\n",
    "#emissions = ['CO2','CH4']\n",
    "#time = ['year']\n",
    "first_active_year = tech_data['model_data'].get('first_active_year')\n",
    "# If those are not provided, then this block of code is needed to retrieve them from the data input\n",
    "if not regions:\n",
    "    regions = list(tech_data.get('model_data',{}).get('DACCS',{}).get('fix_cost',{}).get('node_loc').keys())\n",
    "if not modes:\n",
    "    modes = list(tech_data.get('model_data',{}).get('DACCS',{}).get('var_cost',{}).get('mode').keys())\n",
    "if not emissions:\n",
    "    emissions = list(tech_data.get('model_data',{}).get('DACCS',{}).get('emission_factor',{}).get('emission').keys())\n",
    "if not time:\n",
    "    time = list(tech_data.get('model_data',{}).get('DACCS',{}).get('var_cost',{}).get('time').keys())\n",
    "    \n"
   ]
  },
  {
   "cell_type": "code",
   "execution_count": 9,
   "id": "515f6f2e",
   "metadata": {},
   "outputs": [
    {
     "data": {
      "text/plain": [
       "700"
      ]
     },
     "execution_count": 9,
     "metadata": {},
     "output_type": "execute_result"
    }
   ],
   "source": [
    "first_active_year"
   ]
  },
  {
   "cell_type": "markdown",
   "id": "c41ba1ba",
   "metadata": {},
   "source": [
    "Define years vintage and active according to `first_active_year` and scenarios year"
   ]
  },
  {
   "cell_type": "code",
   "execution_count": null,
   "id": "0369ccab",
   "metadata": {},
   "outputs": [],
   "source": [
    "years_vtg_act = scen.vintage_and_active_years()\n",
    "years_vtg_act = years_vtg_act[years_vtg_act['year_vtg'] >= first_active_year]\n",
    "\n",
    "years_vtg_act"
   ]
  },
  {
   "cell_type": "code",
   "execution_count": null,
   "id": "c137bf39",
   "metadata": {},
   "outputs": [],
   "source": [
    "parameters = {}\n",
    "for tech in set(tech_data) - set(['model_data']):\n",
    "    parameters.update({par: list(MESSAGE_ITEMS[par]['idx_names']) for par in set(tech_data[tech])})\n",
    "data = {par: [] for par in list(parameters.keys())}"
   ]
  },
  {
   "cell_type": "markdown",
   "id": "103d6759",
   "metadata": {},
   "source": [
    "Creating basic dataframe to be filled in later"
   ]
  },
  {
   "cell_type": "code",
   "execution_count": null,
   "id": "b6f681b6",
   "metadata": {
    "scrolled": true
   },
   "outputs": [],
   "source": [
    "# Basic DataFrame\n",
    "for tech, par_dict in tech_data.items():\n",
    "    if tech != 'model_data':\n",
    "        for par, par_data in par_dict.items():\n",
    "            if not isinstance(par_data, Mapping):\n",
    "                par_data = {'value': par_data, 'unit': '-'}\n",
    "            if parameters[par] == ['node_loc', 'technology', 'year_vtg']:\n",
    "                kwargs = {'year_vtg': sorted(list(set(years_vtg_act['year_vtg'])))}\n",
    "            elif all(e in ['node_loc', 'technology', 'year_vtg', 'year_act'] for e in parameters[par]):\n",
    "                kwargs = {'year_vtg': years_vtg_act['year_vtg'],\n",
    "                          'year_act': years_vtg_act['year_act']}\n",
    "            data[par].append(\n",
    "                make_df(\n",
    "                    par,\n",
    "                    technology=tech,\n",
    "                    value=par_data['value'],\n",
    "                    unit=par_data['unit'],\n",
    "                    **kwargs,\n",
    "                ))\n",
    "            if 'emission' in parameters[par]:\n",
    "                data[par] = data[par]*len(emissions)\n",
    "                for e in range(len(emissions)):\n",
    "                    data[par][e] = data[par][e].assign(emission=emissions[e])\n",
    "            if 'mode' in parameters[par]:\n",
    "                data[par] = data[par]*len(modes)\n",
    "                for m in range(len(modes)):\n",
    "                    for e in range(len(data[par])):\n",
    "                        data[par][e] = data[par][e].assign(mode=modes[m])\n",
    "            if 'time' in parameters[par]:\n",
    "                data[par] = data[par]*len(time)\n",
    "                for t in range(len(time)):\n",
    "                    for e in range(len(data[par])):\n",
    "                        data[par][e] = data[par][e].assign(time=time[t])\n",
    "            \n",
    "\n",
    "data = {k: pd.concat(v).reset_index(drop=True) for k, v in data.items()}\n",
    "\n",
    "data['inv_cost']"
   ]
  },
  {
   "cell_type": "code",
   "execution_count": null,
   "id": "6d55acdb",
   "metadata": {},
   "outputs": [],
   "source": [
    "# Expanded DataFrame\n",
    "data_expand ={par: [] for par in list(parameters.keys())} \n",
    "for par in list(parameters.keys()):\n",
    "    for tech, diffs in tech_data['model_data'].items():\n",
    "        if tech != 'first_active_year':\n",
    "            for reg in regions:\n",
    "                multiplier = []\n",
    "                for i in range(len(data[par])):\n",
    "                    multiplier.append(\n",
    "                        np.prod([diffs.get(par,{}).get('node_loc',{}).get(reg,1), # by region \n",
    "                                 ((1+diffs.get(par,{}).get('year_vtg',{}).get('rate',0))\n",
    "                                  **(data[par]['year_vtg'][i]-first_active_year)), # by year_vtg\n",
    "                                 ((1+diffs.get(par,{}).get('year_act',{}).get('rate',0))\n",
    "                                  **(data.get(par,{}).get('year_act',{}) # by year_act\n",
    "                                     .get(i,data[par]['year_vtg'][i])-data[par]['year_vtg'][i])),\n",
    "                                 diffs.get(par,{}).get('mode',{}).get(data.get(par,{}).get('mode',{}).get(i),1), # by mode\n",
    "                                 diffs.get(par,{}).get('emission',{}).get(data.get(par,{}).get('emission',{}).get(i),1), # by emission\n",
    "                        ])\n",
    "                    )\n",
    "\n",
    "                value = data[par]['value']*multiplier\n",
    "                data_expand[par].append(\n",
    "                    data[par].assign(node_loc=reg,value=value)\n",
    "                   )\n",
    "\n",
    "pd.concat(data_expand['inv_cost'])"
   ]
  },
  {
   "cell_type": "code",
   "execution_count": null,
   "id": "03aab2a3",
   "metadata": {},
   "outputs": [],
   "source": [
    "data_expand = {k: pd.concat(v) for k, v in data_expand.items() \n",
    "               if k in parameters.keys()}"
   ]
  },
  {
   "cell_type": "code",
   "execution_count": null,
   "id": "8ba2b797",
   "metadata": {},
   "outputs": [],
   "source": [
    "with pd.ExcelWriter('printed_data.xlsx', engine='xlsxwriter', mode='w') as writer:\n",
    "    for sheet_name, sheet_data in data_expand.items():\n",
    "        sheet_data.to_excel(writer, sheet_name=sheet_name, index=False)"
   ]
  },
  {
   "cell_type": "code",
   "execution_count": null,
   "id": "abf4ce20",
   "metadata": {},
   "outputs": [],
   "source": []
  }
 ],
 "metadata": {
  "kernelspec": {
   "display_name": "Python 3 (ipykernel)",
   "language": "python",
   "name": "python3"
  },
  "language_info": {
   "codemirror_mode": {
    "name": "ipython",
    "version": 3
   },
   "file_extension": ".py",
   "mimetype": "text/x-python",
   "name": "python",
   "nbconvert_exporter": "python",
   "pygments_lexer": "ipython3",
   "version": "3.10.9"
  }
 },
 "nbformat": 4,
 "nbformat_minor": 5
}

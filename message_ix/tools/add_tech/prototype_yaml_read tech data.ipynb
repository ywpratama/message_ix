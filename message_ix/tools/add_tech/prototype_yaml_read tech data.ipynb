{
 "cells": [
  {
   "cell_type": "code",
   "execution_count": 1,
   "id": "a0561644",
   "metadata": {},
   "outputs": [
    {
     "data": {
      "application/javascript": [
       "if (typeof IPython !== 'undefined') { IPython.OutputArea.prototype._should_scroll = function(lines){ return false; }}"
      ],
      "text/plain": [
       "<IPython.core.display.Javascript object>"
      ]
     },
     "metadata": {},
     "output_type": "display_data"
    }
   ],
   "source": [
    "import yaml\n",
    "import pandas as pd\n",
    "from message_ix.utils import make_df\n",
    "from message_ix.models import MESSAGE_ITEMS\n",
    "from collections.abc import Mapping\n",
    "from itertools import repeat"
   ]
  },
  {
   "cell_type": "code",
   "execution_count": 2,
   "id": "cb23560f",
   "metadata": {},
   "outputs": [],
   "source": [
    "with open('tech_data_01_update.yaml','r') as stream:\n",
    "    tech_data = yaml.safe_load(stream)\n",
    "    \n",
    "years = [*range(700,730,10)]\n",
    "regions = ['Westeros', 'Westerlands']"
   ]
  },
  {
   "cell_type": "code",
   "execution_count": 3,
   "id": "1d6b64be",
   "metadata": {},
   "outputs": [],
   "source": [
    "# scenario.regions is the list of nodes in the scenario\n",
    "default_cost_by_region = {reg: 1 for reg in regions}\n",
    "cost_by_region = {\n",
    "    tech: tech_data['model_data']\n",
    "            .get(tech,{})\n",
    "            .get('cost_by_region', default_cost_by_region)\n",
    "    for tech in set(tech_data) - set(['model_data'])\n",
    "}"
   ]
  },
  {
   "cell_type": "code",
   "execution_count": 4,
   "id": "449ec3c5",
   "metadata": {},
   "outputs": [],
   "source": [
    "# scenario.years is the list of years in the scenario\n",
    "first_active_year = tech_data['model_data'].get('first_active_year')\n",
    "default_costreduction_by_region = {'rate': 0}\n",
    "costreduction_by_region = {\n",
    "    tech: tech_data['model_data']\n",
    "            .get(tech,{})\n",
    "            .get('costreduction_by_region', default_costreduction_by_region)\n",
    "    for tech in set(tech_data) - set(['model_data'])\n",
    "}\n",
    "\n",
    "vtg_years = [y for y in years if y >= first_active_year]\n"
   ]
  },
  {
   "cell_type": "code",
   "execution_count": 5,
   "id": "6439b5b0",
   "metadata": {},
   "outputs": [
    {
     "data": {
      "text/html": [
       "<div>\n",
       "<style scoped>\n",
       "    .dataframe tbody tr th:only-of-type {\n",
       "        vertical-align: middle;\n",
       "    }\n",
       "\n",
       "    .dataframe tbody tr th {\n",
       "        vertical-align: top;\n",
       "    }\n",
       "\n",
       "    .dataframe thead th {\n",
       "        text-align: right;\n",
       "    }\n",
       "</style>\n",
       "<table border=\"1\" class=\"dataframe\">\n",
       "  <thead>\n",
       "    <tr style=\"text-align: right;\">\n",
       "      <th></th>\n",
       "      <th>year_vtg</th>\n",
       "      <th>year_act</th>\n",
       "    </tr>\n",
       "  </thead>\n",
       "  <tbody>\n",
       "    <tr>\n",
       "      <th>0</th>\n",
       "      <td>700</td>\n",
       "      <td>700</td>\n",
       "    </tr>\n",
       "    <tr>\n",
       "      <th>1</th>\n",
       "      <td>700</td>\n",
       "      <td>710</td>\n",
       "    </tr>\n",
       "    <tr>\n",
       "      <th>2</th>\n",
       "      <td>700</td>\n",
       "      <td>720</td>\n",
       "    </tr>\n",
       "    <tr>\n",
       "      <th>3</th>\n",
       "      <td>710</td>\n",
       "      <td>710</td>\n",
       "    </tr>\n",
       "    <tr>\n",
       "      <th>4</th>\n",
       "      <td>710</td>\n",
       "      <td>720</td>\n",
       "    </tr>\n",
       "    <tr>\n",
       "      <th>5</th>\n",
       "      <td>720</td>\n",
       "      <td>720</td>\n",
       "    </tr>\n",
       "  </tbody>\n",
       "</table>\n",
       "</div>"
      ],
      "text/plain": [
       "   year_vtg  year_act\n",
       "0       700       700\n",
       "1       700       710\n",
       "2       700       720\n",
       "3       710       710\n",
       "4       710       720\n",
       "5       720       720"
      ]
     },
     "execution_count": 5,
     "metadata": {},
     "output_type": "execute_result"
    }
   ],
   "source": [
    "years_dict = {yv:[ya for ya in years if ya >= yv] for yv in years if yv >= first_active_year}\n",
    "\n",
    "vtg = [yv for ya in list(years_dict.keys()) for yv in repeat(ya,len(years_dict[ya]))]\n",
    "\n",
    "act = [yv for ya in list(years_dict.keys()) for yv in repeat(ya,len(years_dict[ya]))]\n",
    "\n",
    "years_vtg_act = pd.DataFrame(\n",
    "    {\n",
    "    'year_vtg':[k for k, v in years_dict.items() for i in range(len(v))],\n",
    "    'year_act':[ya for value in years_dict.values() for ya in value]\n",
    "    }\n",
    ")\n",
    "\n",
    "years_vtg_act"
   ]
  },
  {
   "cell_type": "code",
   "execution_count": 6,
   "id": "e24a64a7",
   "metadata": {},
   "outputs": [],
   "source": [
    "costperiodfactor_by_region = {\n",
    "    tech: {\n",
    "        y: (1-costreduction_by_region.get(tech).get('rate'))**(y-first_active_year)\n",
    "        for y in years_vtg_act['year_vtg']\n",
    "    }\n",
    "    for tech in set(tech_data)-set(['model_data'])\n",
    "}"
   ]
  },
  {
   "cell_type": "code",
   "execution_count": 7,
   "id": "c137bf39",
   "metadata": {},
   "outputs": [],
   "source": [
    "#par_dim = {'inv_cost':['node_loc'],'fix_cost':['node_loc'],'var_cost':['node_loc']}\n",
    "parameters = {}\n",
    "for tech in set(tech_data) - set(['model_data']):\n",
    "    parameters.update({par: list(MESSAGE_ITEMS[par]['idx_names']) for par in set(tech_data[tech])})\n",
    "data = {par: [] for par in list(parameters.keys())}"
   ]
  },
  {
   "cell_type": "code",
   "execution_count": 13,
   "id": "0ce570ac",
   "metadata": {},
   "outputs": [
    {
     "name": "stdout",
     "output_type": "stream",
     "text": [
      "('node_loc', 'technology', 'year_vtg') -- technical_lifetime\n",
      "('node_loc', 'technology', 'year_vtg') -- growth_new_capacity_up\n",
      "('node_loc', 'technology', 'year_vtg') -- initial_new_capacity_up\n",
      "('node_loc', 'technology', 'year_vtg') -- inv_cost\n",
      "\n",
      "('node_loc', 'technology', 'year_vtg', 'year_act', 'time') -- capacity_factor\n",
      "\n",
      "('node_loc', 'technology', 'year_vtg', 'year_act', 'mode', 'time') -- var_cost\n",
      "('node_loc', 'technology', 'year_vtg', 'year_act', 'mode', 'emission') -- emission_factor\n",
      "\n",
      "('node_loc', 'technology', 'year_vtg', 'year_act', 'mode', 'node_origin', 'commodity', 'level', 'time', 'time_origin') -- input\n"
     ]
    }
   ],
   "source": [
    "print(MESSAGE_ITEMS['technical_lifetime']['idx_names'],'-- technical_lifetime')\n",
    "print(MESSAGE_ITEMS['growth_new_capacity_up']['idx_names'],'-- growth_new_capacity_up')\n",
    "print(MESSAGE_ITEMS['initial_new_capacity_up']['idx_names'],'-- initial_new_capacity_up')\n",
    "print(MESSAGE_ITEMS['inv_cost']['idx_names'],'-- inv_cost')\n",
    "print('')\n",
    "print(MESSAGE_ITEMS['capacity_factor']['idx_names'],'-- capacity_factor')\n",
    "print('')\n",
    "print(MESSAGE_ITEMS['var_cost']['idx_names'],'-- var_cost')\n",
    "print(MESSAGE_ITEMS['emission_factor']['idx_names'],'-- emission_factor')\n",
    "print('')\n",
    "print(MESSAGE_ITEMS['input']['idx_names'],'-- input')\n"
   ]
  },
  {
   "cell_type": "code",
   "execution_count": 9,
   "id": "b6f681b6",
   "metadata": {},
   "outputs": [],
   "source": [
    "# Basic DataFrame\n",
    "for tech, par_dict in tech_data.items():\n",
    "    if tech != 'model_data':\n",
    "        for par, par_data in par_dict.items():\n",
    "            if not isinstance(par_data, Mapping):\n",
    "                par_data = {'value': par_data, 'unit': '-'}\n",
    "            data[par].append(\n",
    "                make_df(\n",
    "                    par,\n",
    "                    technology=tech,\n",
    "                    value=par_data['value'],\n",
    "                    unit=par_data['unit'],\n",
    "                )\n",
    "            )\n",
    "\n",
    "data = {k: pd.concat(v) for k, v in data.items()}"
   ]
  },
  {
   "cell_type": "code",
   "execution_count": 10,
   "id": "6d55acdb",
   "metadata": {},
   "outputs": [],
   "source": [
    "# Expanded DataFrame\n",
    "data_expand ={par: [] for par in list(parameters.keys())} \n",
    "for par in list(parameters.keys()):\n",
    "    if par in ['inv_cost','technical_lifetime','growth_new_capacity_up','initial_new_capacity_up']:\n",
    "        for tech, diffs in tech_data['model_data'].items():\n",
    "            if tech != 'first_active_year':\n",
    "                for reg in regions:\n",
    "                    for y in sorted(list(set(years_vtg_act['year_vtg']))):\n",
    "                        if par == 'inv_cost':\n",
    "                            value = (data[par]['value']\n",
    "                                       *diffs.get('cost_by_region').get(reg)\n",
    "                                       *costperiodfactor_by_region.get(tech).get(y)\n",
    "                                      )\n",
    "                        else:\n",
    "                            value = data[par]['value']\n",
    "                        data_expand[par].append(\n",
    "                            data[par].assign(\n",
    "                                node_loc=reg,\n",
    "                                year_vtg=y,\n",
    "                                value=value\n",
    "                                ))\n"
   ]
  },
  {
   "cell_type": "code",
   "execution_count": 11,
   "id": "03aab2a3",
   "metadata": {},
   "outputs": [],
   "source": [
    "data_expand = {k: pd.concat(v) for k, v in data_expand.items() \n",
    "               if k in ['inv_cost','technical_lifetime','growth_new_capacity_up','initial_new_capacity_up']}"
   ]
  },
  {
   "cell_type": "code",
   "execution_count": 12,
   "id": "8ba2b797",
   "metadata": {},
   "outputs": [],
   "source": [
    "with pd.ExcelWriter('tech_data.xlsx', engine='xlsxwriter', mode='w') as writer:\n",
    "    for sheet_name, sheet_data in data_expand.items():\n",
    "        sheet_data.to_excel(writer, sheet_name=sheet_name, index=False)"
   ]
  },
  {
   "cell_type": "code",
   "execution_count": null,
   "id": "6bc42760",
   "metadata": {
    "scrolled": true
   },
   "outputs": [],
   "source": []
  },
  {
   "cell_type": "code",
   "execution_count": null,
   "id": "39bd720e",
   "metadata": {},
   "outputs": [],
   "source": []
  },
  {
   "cell_type": "code",
   "execution_count": null,
   "id": "cc717c29",
   "metadata": {},
   "outputs": [],
   "source": []
  },
  {
   "cell_type": "code",
   "execution_count": null,
   "id": "868b4738",
   "metadata": {},
   "outputs": [],
   "source": []
  }
 ],
 "metadata": {
  "kernelspec": {
   "display_name": "Python 3 (ipykernel)",
   "language": "python",
   "name": "python3"
  },
  "language_info": {
   "codemirror_mode": {
    "name": "ipython",
    "version": 3
   },
   "file_extension": ".py",
   "mimetype": "text/x-python",
   "name": "python",
   "nbconvert_exporter": "python",
   "pygments_lexer": "ipython3",
   "version": "3.10.9"
  }
 },
 "nbformat": 4,
 "nbformat_minor": 5
}

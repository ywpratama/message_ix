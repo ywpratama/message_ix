{
 "cells": [
  {
   "cell_type": "code",
   "execution_count": 1,
   "id": "a0561644",
   "metadata": {},
   "outputs": [
    {
     "data": {
      "application/javascript": [
       "if (typeof IPython !== 'undefined') { IPython.OutputArea.prototype._should_scroll = function(lines){ return false; }}"
      ],
      "text/plain": [
       "<IPython.core.display.Javascript object>"
      ]
     },
     "metadata": {},
     "output_type": "display_data"
    }
   ],
   "source": [
    "import yaml\n",
    "import pandas as pd\n",
    "from message_ix.utils import make_df\n",
    "from message_ix.models import MESSAGE_ITEMS\n",
    "from collections.abc import Mapping"
   ]
  },
  {
   "cell_type": "code",
   "execution_count": 18,
   "id": "cb23560f",
   "metadata": {},
   "outputs": [],
   "source": [
    "with open('tech_data_01_update.yaml','r') as stream:\n",
    "    tech_data = yaml.safe_load(stream)\n",
    "    \n",
    "#this is something we need to get from the scenario\n",
    "years = [*range(700,720,10)]\n",
    "first_active_year = 700\n",
    "vtg_years = [y for y in years if y >= first_active_year]\n",
    "regions = ['Westeros', 'Westerlands']"
   ]
  },
  {
   "cell_type": "code",
   "execution_count": 19,
   "id": "1d6b64be",
   "metadata": {},
   "outputs": [
    {
     "data": {
      "text/plain": [
       "{'DACCS': {'Westeros': 1, 'Westerlands': 0.8}}"
      ]
     },
     "execution_count": 19,
     "metadata": {},
     "output_type": "execute_result"
    }
   ],
   "source": [
    "# scenario.regions is the list of nodes in the scenario\n",
    "default_cost_by_region = {reg: 1 for reg in regions}\n",
    "cost_by_region = {\n",
    "    tech: tech_data['model_data']\n",
    "            .get(tech,{})\n",
    "            .get('cost_by_region', default_cost_by_region)\n",
    "    for tech in set(tech_data) - set(['model_data'])\n",
    "}\n",
    "\n",
    "cost_by_region"
   ]
  },
  {
   "cell_type": "code",
   "execution_count": 20,
   "id": "c137bf39",
   "metadata": {},
   "outputs": [
    {
     "data": {
      "text/plain": [
       "{'inv_cost': ['node_loc', 'technology', 'year_vtg']}"
      ]
     },
     "execution_count": 20,
     "metadata": {},
     "output_type": "execute_result"
    }
   ],
   "source": [
    "#par_dim = {'inv_cost':['node_loc'],'fix_cost':['node_loc'],'var_cost':['node_loc']}\n",
    "parameters = {}\n",
    "for tech in set(tech_data) - set(['model_data']):\n",
    "    parameters.update({par: list(MESSAGE_ITEMS[par]['idx_names']) for par in set(tech_data[tech])})\n",
    "data = {par: [] for par in list(parameters.keys())}\n",
    "\n",
    "parameters"
   ]
  },
  {
   "cell_type": "code",
   "execution_count": 21,
   "id": "b6f681b6",
   "metadata": {},
   "outputs": [
    {
     "name": "stdout",
     "output_type": "stream",
     "text": [
      "DACCS - inv_cost - ['year_vtg']\n"
     ]
    }
   ],
   "source": [
    "#Trial\n",
    "for tech, par_dict in tech_data.items():\n",
    "    if tech != 'model_data':\n",
    "        for par, par_data in par_dict.items():\n",
    "            print(tech,'-',par,'-',list(set(parameters.get(par))-set(['node_loc','technology']))) # this is important\n",
    "            if not isinstance(par_data, Mapping):\n",
    "                par_data = {'value': par_data, 'unit': '-'}\n",
    "            data[par].append(\n",
    "                make_df(\n",
    "                    par,\n",
    "                    technology=tech,\n",
    "                    value=par_data['value'],\n",
    "                    unit=par_data['unit'],\n",
    "                )\n",
    "            )\n",
    "\n",
    "data = {k: pd.concat(v) for k, v in data.items()}"
   ]
  },
  {
   "cell_type": "code",
   "execution_count": 22,
   "id": "6d55acdb",
   "metadata": {},
   "outputs": [
    {
     "data": {
      "text/html": [
       "<div>\n",
       "<style scoped>\n",
       "    .dataframe tbody tr th:only-of-type {\n",
       "        vertical-align: middle;\n",
       "    }\n",
       "\n",
       "    .dataframe tbody tr th {\n",
       "        vertical-align: top;\n",
       "    }\n",
       "\n",
       "    .dataframe thead th {\n",
       "        text-align: right;\n",
       "    }\n",
       "</style>\n",
       "<table border=\"1\" class=\"dataframe\">\n",
       "  <thead>\n",
       "    <tr style=\"text-align: right;\">\n",
       "      <th></th>\n",
       "      <th>node_loc</th>\n",
       "      <th>technology</th>\n",
       "      <th>year_vtg</th>\n",
       "      <th>value</th>\n",
       "      <th>unit</th>\n",
       "    </tr>\n",
       "  </thead>\n",
       "  <tbody>\n",
       "    <tr>\n",
       "      <th>0</th>\n",
       "      <td>Westeros</td>\n",
       "      <td>DACCS</td>\n",
       "      <td>700</td>\n",
       "      <td>2500.0</td>\n",
       "      <td>$/kW</td>\n",
       "    </tr>\n",
       "    <tr>\n",
       "      <th>0</th>\n",
       "      <td>Westeros</td>\n",
       "      <td>DACCS</td>\n",
       "      <td>710</td>\n",
       "      <td>2500.0</td>\n",
       "      <td>$/kW</td>\n",
       "    </tr>\n",
       "    <tr>\n",
       "      <th>0</th>\n",
       "      <td>Westerlands</td>\n",
       "      <td>DACCS</td>\n",
       "      <td>700</td>\n",
       "      <td>2000.0</td>\n",
       "      <td>$/kW</td>\n",
       "    </tr>\n",
       "    <tr>\n",
       "      <th>0</th>\n",
       "      <td>Westerlands</td>\n",
       "      <td>DACCS</td>\n",
       "      <td>710</td>\n",
       "      <td>2000.0</td>\n",
       "      <td>$/kW</td>\n",
       "    </tr>\n",
       "  </tbody>\n",
       "</table>\n",
       "</div>"
      ],
      "text/plain": [
       "      node_loc technology  year_vtg   value  unit\n",
       "0     Westeros      DACCS       700  2500.0  $/kW\n",
       "0     Westeros      DACCS       710  2500.0  $/kW\n",
       "0  Westerlands      DACCS       700  2000.0  $/kW\n",
       "0  Westerlands      DACCS       710  2000.0  $/kW"
      ]
     },
     "execution_count": 22,
     "metadata": {},
     "output_type": "execute_result"
    }
   ],
   "source": [
    "dummy = data['inv_cost']\n",
    "\n",
    "data_expand = []\n",
    "for tech, dims in tech_data['model_data'].items():\n",
    "    for reg in regions:\n",
    "        for y in vtg_years:\n",
    "            data_expand.append(\n",
    "                dummy.assign(\n",
    "                    node_loc=reg,\n",
    "                    year_vtg=y,\n",
    "                    value=(dummy['value']\n",
    "                           *dims.get('cost_by_region').get(reg)\n",
    "                           *1\n",
    "                          )\n",
    "                    ))\n",
    "\n",
    "pd.concat(data_expand)"
   ]
  },
  {
   "cell_type": "code",
   "execution_count": 16,
   "id": "ece1b39f",
   "metadata": {},
   "outputs": [
    {
     "data": {
      "text/plain": [
       "[700, 710]"
      ]
     },
     "execution_count": 16,
     "metadata": {},
     "output_type": "execute_result"
    }
   ],
   "source": [
    "\n",
    "#pd.DataFrame(years)"
   ]
  },
  {
   "cell_type": "code",
   "execution_count": null,
   "id": "2e42e677",
   "metadata": {},
   "outputs": [],
   "source": []
  },
  {
   "cell_type": "code",
   "execution_count": null,
   "id": "03aab2a3",
   "metadata": {},
   "outputs": [],
   "source": [
    "data = {k: pd.concat(v) for k, v in data.items()}"
   ]
  },
  {
   "cell_type": "code",
   "execution_count": null,
   "id": "8ba2b797",
   "metadata": {},
   "outputs": [],
   "source": [
    "with pd.ExcelWriter('tech_data.xlsx', engine='xlsxwriter', mode='w') as writer:\n",
    "    for sheet_name, sheet_data in data.items():\n",
    "        sheet_data.to_excel(writer, sheet_name=sheet_name, index=False)"
   ]
  },
  {
   "cell_type": "code",
   "execution_count": null,
   "id": "6bc42760",
   "metadata": {
    "scrolled": true
   },
   "outputs": [],
   "source": [
    "data"
   ]
  },
  {
   "cell_type": "code",
   "execution_count": null,
   "id": "39bd720e",
   "metadata": {},
   "outputs": [],
   "source": []
  }
 ],
 "metadata": {
  "kernelspec": {
   "display_name": "Python 3 (ipykernel)",
   "language": "python",
   "name": "python3"
  },
  "language_info": {
   "codemirror_mode": {
    "name": "ipython",
    "version": 3
   },
   "file_extension": ".py",
   "mimetype": "text/x-python",
   "name": "python",
   "nbconvert_exporter": "python",
   "pygments_lexer": "ipython3",
   "version": "3.10.9"
  }
 },
 "nbformat": 4,
 "nbformat_minor": 5
}

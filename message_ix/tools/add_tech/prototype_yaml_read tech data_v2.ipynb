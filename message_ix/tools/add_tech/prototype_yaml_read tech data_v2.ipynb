{
 "cells": [
  {
   "cell_type": "code",
   "execution_count": 1,
   "id": "a0561644",
   "metadata": {},
   "outputs": [
    {
     "data": {
      "application/javascript": [
       "if (typeof IPython !== 'undefined') { IPython.OutputArea.prototype._should_scroll = function(lines){ return false; }}"
      ],
      "text/plain": [
       "<IPython.core.display.Javascript object>"
      ]
     },
     "metadata": {},
     "output_type": "display_data"
    }
   ],
   "source": [
    "import yaml\n",
    "import pandas as pd\n",
    "import numpy as np\n",
    "from message_ix.utils import make_df\n",
    "from message_ix.models import MESSAGE_ITEMS\n",
    "from collections.abc import Mapping\n",
    "from itertools import repeat"
   ]
  },
  {
   "cell_type": "code",
   "execution_count": 2,
   "id": "cb23560f",
   "metadata": {},
   "outputs": [],
   "source": [
    "with open('tech_data_02.yaml','r') as stream:\n",
    "    tech_data = yaml.safe_load(stream)\n",
    "    \n",
    "years = [*range(700,730,10)]\n",
    "regions = ['Westeros', 'Westerlands']\n",
    "modes = ['standard']\n",
    "emissions = ['CO2','CH4']\n",
    "time = ['year']\n",
    "first_active_year = tech_data['model_data'].get('first_active_year')"
   ]
  },
  {
   "cell_type": "code",
   "execution_count": 3,
   "id": "0369ccab",
   "metadata": {},
   "outputs": [
    {
     "data": {
      "text/html": [
       "<div>\n",
       "<style scoped>\n",
       "    .dataframe tbody tr th:only-of-type {\n",
       "        vertical-align: middle;\n",
       "    }\n",
       "\n",
       "    .dataframe tbody tr th {\n",
       "        vertical-align: top;\n",
       "    }\n",
       "\n",
       "    .dataframe thead th {\n",
       "        text-align: right;\n",
       "    }\n",
       "</style>\n",
       "<table border=\"1\" class=\"dataframe\">\n",
       "  <thead>\n",
       "    <tr style=\"text-align: right;\">\n",
       "      <th></th>\n",
       "      <th>year_vtg</th>\n",
       "      <th>year_act</th>\n",
       "    </tr>\n",
       "  </thead>\n",
       "  <tbody>\n",
       "    <tr>\n",
       "      <th>0</th>\n",
       "      <td>700</td>\n",
       "      <td>700</td>\n",
       "    </tr>\n",
       "    <tr>\n",
       "      <th>1</th>\n",
       "      <td>700</td>\n",
       "      <td>710</td>\n",
       "    </tr>\n",
       "    <tr>\n",
       "      <th>2</th>\n",
       "      <td>700</td>\n",
       "      <td>720</td>\n",
       "    </tr>\n",
       "    <tr>\n",
       "      <th>3</th>\n",
       "      <td>710</td>\n",
       "      <td>710</td>\n",
       "    </tr>\n",
       "    <tr>\n",
       "      <th>4</th>\n",
       "      <td>710</td>\n",
       "      <td>720</td>\n",
       "    </tr>\n",
       "    <tr>\n",
       "      <th>5</th>\n",
       "      <td>720</td>\n",
       "      <td>720</td>\n",
       "    </tr>\n",
       "  </tbody>\n",
       "</table>\n",
       "</div>"
      ],
      "text/plain": [
       "   year_vtg  year_act\n",
       "0       700       700\n",
       "1       700       710\n",
       "2       700       720\n",
       "3       710       710\n",
       "4       710       720\n",
       "5       720       720"
      ]
     },
     "execution_count": 3,
     "metadata": {},
     "output_type": "execute_result"
    }
   ],
   "source": [
    "years_dict = {yv:[ya for ya in years if ya >= yv] for yv in years if yv >= first_active_year}\n",
    "\n",
    "vtg = [yv for ya in list(years_dict.keys()) for yv in repeat(ya,len(years_dict[ya]))]\n",
    "\n",
    "act = [yv for ya in list(years_dict.keys()) for yv in repeat(ya,len(years_dict[ya]))]\n",
    "\n",
    "years_vtg_act = pd.DataFrame(\n",
    "    {\n",
    "    'year_vtg':[k for k, v in years_dict.items() for i in range(len(v))],\n",
    "    'year_act':[ya for value in years_dict.values() for ya in value]\n",
    "    }\n",
    ")\n",
    "\n",
    "years_vtg_act"
   ]
  },
  {
   "cell_type": "code",
   "execution_count": 4,
   "id": "c137bf39",
   "metadata": {},
   "outputs": [
    {
     "data": {
      "text/plain": [
       "{'capacity_factor': [],\n",
       " 'var_cost': [],\n",
       " 'technical_lifetime': [],\n",
       " 'inv_cost': [],\n",
       " 'growth_new_capacity_up': [],\n",
       " 'fix_cost': [],\n",
       " 'emission_factor': [],\n",
       " 'initial_new_capacity_up': []}"
      ]
     },
     "execution_count": 4,
     "metadata": {},
     "output_type": "execute_result"
    }
   ],
   "source": [
    "#par_dim = {'inv_cost':['node_loc'],'fix_cost':['node_loc'],'var_cost':['node_loc']}\n",
    "parameters = {}\n",
    "for tech in set(tech_data) - set(['model_data']):\n",
    "    parameters.update({par: list(MESSAGE_ITEMS[par]['idx_names']) for par in set(tech_data[tech])})\n",
    "data = {par: [] for par in list(parameters.keys())}\n",
    "\n",
    "data"
   ]
  },
  {
   "cell_type": "code",
   "execution_count": 5,
   "id": "d7dbc80f",
   "metadata": {},
   "outputs": [
    {
     "name": "stdout",
     "output_type": "stream",
     "text": [
      "('node_loc', 'technology', 'year_vtg') -- technical_lifetime\n",
      "('node_loc', 'technology', 'year_vtg') -- growth_new_capacity_up\n",
      "('node_loc', 'technology', 'year_vtg') -- initial_new_capacity_up\n",
      "('node_loc', 'technology', 'year_vtg') -- inv_cost\n",
      "\n",
      "('node_loc', 'technology', 'year_vtg', 'year_act') -- fix_cost\n",
      "('node_loc', 'technology', 'year_vtg', 'year_act', 'time') -- capacity_factor\n",
      "\n",
      "('node_loc', 'technology', 'year_vtg', 'year_act', 'mode', 'time') -- var_cost\n",
      "('node_loc', 'technology', 'year_vtg', 'year_act', 'mode', 'emission') -- emission_factor\n",
      "\n",
      "('node_loc', 'technology', 'year_vtg', 'year_act', 'mode', 'node_origin', 'commodity', 'level', 'time', 'time_origin') -- input\n"
     ]
    }
   ],
   "source": [
    "print(MESSAGE_ITEMS['technical_lifetime']['idx_names'],'-- technical_lifetime')\n",
    "print(MESSAGE_ITEMS['growth_new_capacity_up']['idx_names'],'-- growth_new_capacity_up')\n",
    "print(MESSAGE_ITEMS['initial_new_capacity_up']['idx_names'],'-- initial_new_capacity_up')\n",
    "print(MESSAGE_ITEMS['inv_cost']['idx_names'],'-- inv_cost')\n",
    "print('')\n",
    "print(MESSAGE_ITEMS['fix_cost']['idx_names'],'-- fix_cost')\n",
    "print(MESSAGE_ITEMS['capacity_factor']['idx_names'],'-- capacity_factor')\n",
    "print('')\n",
    "print(MESSAGE_ITEMS['var_cost']['idx_names'],'-- var_cost')\n",
    "print(MESSAGE_ITEMS['emission_factor']['idx_names'],'-- emission_factor')\n",
    "print('')\n",
    "print(MESSAGE_ITEMS['input']['idx_names'],'-- input')\n"
   ]
  },
  {
   "cell_type": "code",
   "execution_count": 6,
   "id": "b6f681b6",
   "metadata": {
    "scrolled": true
   },
   "outputs": [
    {
     "name": "stdout",
     "output_type": "stream",
     "text": [
      "inv_cost\n",
      "fix_cost\n",
      "var_cost\n",
      "emission_factor\n",
      "capacity_factor\n",
      "technical_lifetime\n",
      "growth_new_capacity_up\n",
      "initial_new_capacity_up\n"
     ]
    },
    {
     "data": {
      "text/plain": [
       "{'capacity_factor':   node_loc technology  year_vtg  year_act  time  value unit\n",
       " 0     None      DACCS       700       700  None      1    -\n",
       " 1     None      DACCS       700       710  None      1    -\n",
       " 2     None      DACCS       700       720  None      1    -\n",
       " 3     None      DACCS       710       710  None      1    -\n",
       " 4     None      DACCS       710       720  None      1    -\n",
       " 5     None      DACCS       720       720  None      1    -,\n",
       " 'var_cost':   node_loc technology  year_vtg  year_act  mode  time  value   unit\n",
       " 0     None      DACCS       700       700  None  None    100  $/kWa\n",
       " 1     None      DACCS       700       710  None  None    100  $/kWa\n",
       " 2     None      DACCS       700       720  None  None    100  $/kWa\n",
       " 3     None      DACCS       710       710  None  None    100  $/kWa\n",
       " 4     None      DACCS       710       720  None  None    100  $/kWa\n",
       " 5     None      DACCS       720       720  None  None    100  $/kWa,\n",
       " 'technical_lifetime':   node_loc technology  year_vtg  value unit\n",
       " 0     None      DACCS       700     20    y\n",
       " 1     None      DACCS       710     20    y\n",
       " 2     None      DACCS       720     20    y,\n",
       " 'inv_cost':   node_loc technology  year_vtg  value  unit\n",
       " 0     None      DACCS       700   2500  $/kW\n",
       " 1     None      DACCS       710   2500  $/kW\n",
       " 2     None      DACCS       720   2500  $/kW,\n",
       " 'growth_new_capacity_up':   node_loc technology  year_vtg  value unit\n",
       " 0     None      DACCS       700    0.5    -\n",
       " 1     None      DACCS       710    0.5    -\n",
       " 2     None      DACCS       720    0.5    -,\n",
       " 'fix_cost':   node_loc technology  year_vtg  year_act  value   unit\n",
       " 0     None      DACCS       700       700     10  $/kWa\n",
       " 1     None      DACCS       700       710     10  $/kWa\n",
       " 2     None      DACCS       700       720     10  $/kWa\n",
       " 3     None      DACCS       710       710     10  $/kWa\n",
       " 4     None      DACCS       710       720     10  $/kWa\n",
       " 5     None      DACCS       720       720     10  $/kWa,\n",
       " 'emission_factor':   node_loc technology  year_vtg  year_act  mode emission  value unit\n",
       " 0     None      DACCS       700       700  None      CO2      1    -\n",
       " 1     None      DACCS       700       710  None      CO2      1    -\n",
       " 2     None      DACCS       700       720  None      CO2      1    -\n",
       " 3     None      DACCS       710       710  None      CO2      1    -\n",
       " 4     None      DACCS       710       720  None      CO2      1    -\n",
       " 5     None      DACCS       720       720  None      CO2      1    -\n",
       " 0     None      DACCS       700       700  None      CH4      1    -\n",
       " 1     None      DACCS       700       710  None      CH4      1    -\n",
       " 2     None      DACCS       700       720  None      CH4      1    -\n",
       " 3     None      DACCS       710       710  None      CH4      1    -\n",
       " 4     None      DACCS       710       720  None      CH4      1    -\n",
       " 5     None      DACCS       720       720  None      CH4      1    -,\n",
       " 'initial_new_capacity_up':   node_loc technology  year_vtg  value unit\n",
       " 0     None      DACCS       700    0.5   GW\n",
       " 1     None      DACCS       710    0.5   GW\n",
       " 2     None      DACCS       720    0.5   GW}"
      ]
     },
     "execution_count": 6,
     "metadata": {},
     "output_type": "execute_result"
    }
   ],
   "source": [
    "# Basic DataFrame\n",
    "group1 = ['inv_cost','technical_lifetime','growth_new_capacity_up','initial_new_capacity_up']\n",
    "group2 = ['fix_cost','capacity_factor']\n",
    "for tech, par_dict in tech_data.items():\n",
    "    if tech != 'model_data':\n",
    "        for par, par_data in par_dict.items():\n",
    "            print(par)\n",
    "            if not isinstance(par_data, Mapping):\n",
    "                par_data = {'value': par_data, 'unit': '-'}\n",
    "            if parameters[par] == ['node_loc', 'technology', 'year_vtg']:\n",
    "                kwargs = {'year_vtg': sorted(list(set(years_vtg_act['year_vtg'])))}\n",
    "            elif all(e in ['node_loc', 'technology', 'year_vtg', 'year_act'] for e in parameters[par]):\n",
    "                kwargs = {'year_vtg': years_vtg_act['year_vtg'],\n",
    "                          'year_act': years_vtg_act['year_act']}\n",
    "            data[par].append(\n",
    "                make_df(\n",
    "                    par,\n",
    "                    technology=tech,\n",
    "                    value=par_data['value'],\n",
    "                    unit=par_data['unit'],\n",
    "                    **kwargs,\n",
    "                ))\n",
    "            if 'emission' in parameters[par]: # this is an important block for dimentional expansion\n",
    "                data[par] = data[par]*len(emissions)\n",
    "                for e in range(len(emissions)):\n",
    "                    data[par][e] = data[par][e].assign(emission=emissions[e])\n",
    "            # below should follow the 'emission' format\n",
    "            #if 'mode' in parameters[par]:\n",
    "            #    kwargs.update({'mode':par_data['mode']}) [SEARCH 'mode' in 'model_data']\n",
    "            #if 'time' in parameters[par]:\n",
    "            #    kwargs.update({'time':par_data['time']}) [SEARCH 'time' in 'model_data']\n",
    "            # do the same for dimensions in input and output\n",
    "            \n",
    "\n",
    "data = {k: pd.concat(v) for k, v in data.items()}\n",
    "\n",
    "data"
   ]
  },
  {
   "cell_type": "code",
   "execution_count": 7,
   "id": "6d55acdb",
   "metadata": {},
   "outputs": [
    {
     "data": {
      "text/plain": [
       "{'capacity_factor': [   node_loc technology  year_vtg  year_act  time  value unit\n",
       "  0  Westeros      DACCS       700       700  None      1    -\n",
       "  1  Westeros      DACCS       700       710  None      1    -\n",
       "  2  Westeros      DACCS       700       720  None      1    -\n",
       "  3  Westeros      DACCS       710       710  None      1    -\n",
       "  4  Westeros      DACCS       710       720  None      1    -\n",
       "  5  Westeros      DACCS       720       720  None      1    -,\n",
       "        node_loc technology  year_vtg  year_act  time  value unit\n",
       "  0  Westerlands      DACCS       700       700  None      1    -\n",
       "  1  Westerlands      DACCS       700       710  None      1    -\n",
       "  2  Westerlands      DACCS       700       720  None      1    -\n",
       "  3  Westerlands      DACCS       710       710  None      1    -\n",
       "  4  Westerlands      DACCS       710       720  None      1    -\n",
       "  5  Westerlands      DACCS       720       720  None      1    -],\n",
       " 'var_cost': [],\n",
       " 'technical_lifetime': [   node_loc technology  year_vtg  value unit\n",
       "  0  Westeros      DACCS       700     20    y\n",
       "  1  Westeros      DACCS       710     20    y\n",
       "  2  Westeros      DACCS       720     20    y,\n",
       "        node_loc technology  year_vtg  value unit\n",
       "  0  Westerlands      DACCS       700     20    y\n",
       "  1  Westerlands      DACCS       710     20    y\n",
       "  2  Westerlands      DACCS       720     20    y],\n",
       " 'inv_cost': [   node_loc technology  year_vtg        value  unit\n",
       "  0  Westeros      DACCS       700  2500.000000  $/kW\n",
       "  1  Westeros      DACCS       710  1496.842348  $/kW\n",
       "  2  Westeros      DACCS       720   896.214806  $/kW,\n",
       "        node_loc technology  year_vtg        value  unit\n",
       "  0  Westerlands      DACCS       700  2000.000000  $/kW\n",
       "  1  Westerlands      DACCS       710  1197.473878  $/kW\n",
       "  2  Westerlands      DACCS       720   716.971845  $/kW],\n",
       " 'growth_new_capacity_up': [   node_loc technology  year_vtg  value unit\n",
       "  0  Westeros      DACCS       700    0.5    -\n",
       "  1  Westeros      DACCS       710    0.5    -\n",
       "  2  Westeros      DACCS       720    0.5    -,\n",
       "        node_loc technology  year_vtg  value unit\n",
       "  0  Westerlands      DACCS       700    0.5    -\n",
       "  1  Westerlands      DACCS       710    0.5    -\n",
       "  2  Westerlands      DACCS       720    0.5    -],\n",
       " 'fix_cost': [   node_loc technology  year_vtg  year_act      value   unit\n",
       "  0  Westeros      DACCS       700       700  10.000000  $/kWa\n",
       "  1  Westeros      DACCS       700       710  13.439164  $/kWa\n",
       "  2  Westeros      DACCS       700       720  18.061112  $/kWa\n",
       "  3  Westeros      DACCS       710       710   5.987369  $/kWa\n",
       "  4  Westeros      DACCS       710       720   8.046524  $/kWa\n",
       "  5  Westeros      DACCS       720       720   3.584859  $/kWa,\n",
       "        node_loc technology  year_vtg  year_act      value   unit\n",
       "  0  Westerlands      DACCS       700       700   8.000000  $/kWa\n",
       "  1  Westerlands      DACCS       700       710  10.751331  $/kWa\n",
       "  2  Westerlands      DACCS       700       720  14.448890  $/kWa\n",
       "  3  Westerlands      DACCS       710       710   4.789896  $/kWa\n",
       "  4  Westerlands      DACCS       710       720   6.437219  $/kWa\n",
       "  5  Westerlands      DACCS       720       720   2.867887  $/kWa],\n",
       " 'emission_factor': [],\n",
       " 'initial_new_capacity_up': [   node_loc technology  year_vtg  value unit\n",
       "  0  Westeros      DACCS       700    0.5   GW\n",
       "  1  Westeros      DACCS       710    0.5   GW\n",
       "  2  Westeros      DACCS       720    0.5   GW,\n",
       "        node_loc technology  year_vtg  value unit\n",
       "  0  Westerlands      DACCS       700    0.5   GW\n",
       "  1  Westerlands      DACCS       710    0.5   GW\n",
       "  2  Westerlands      DACCS       720    0.5   GW]}"
      ]
     },
     "execution_count": 7,
     "metadata": {},
     "output_type": "execute_result"
    }
   ],
   "source": [
    "# Expanded DataFrame\n",
    "data_expand ={par: [] for par in list(parameters.keys())} \n",
    "for par in list(parameters.keys()):\n",
    "    if par in group1+group2:\n",
    "        for tech, diffs in tech_data['model_data'].items():\n",
    "            if tech != 'first_active_year':\n",
    "                for reg in regions:\n",
    "                    multiplier = []\n",
    "                    for i in range(len(data[par])):\n",
    "                    #for y_vtg in data[par]['year_vtg'].values:\n",
    "                        multiplier.append(\n",
    "                            np.prod([diffs.get(par,{}).get('node_loc',{}).get(reg,1), # by region \n",
    "                                     ((1+diffs.get(par,{}).get('year_vtg',{}).get('rate',0))\n",
    "                                      **(data[par]['year_vtg'][i]-first_active_year)), # by year_vtg\n",
    "                                     ((1+diffs.get(par,{}).get('year_act',{}).get('rate',0))\n",
    "                                      **(data.get(par,{}).get('year_act',{}) # by year_act\n",
    "                                         .get(i,data[par]['year_vtg'][i])-data[par]['year_vtg'][i])),\n",
    "                                     # for year_act, n years is calculated according to year_vtg\n",
    "                                     # if year_act is not in dimension, year_act here is made to be equal to year_vtg so the power is 0\n",
    "                                     # yielding 1 as multiplier\n",
    "                            ])\n",
    "                        )\n",
    "                                          \n",
    "#                                               *costperiodfactor_by_region.get(tech).get(y))\n",
    "                    value = data[par]['value']*multiplier\n",
    "                    data_expand[par].append(\n",
    "                        data[par].assign(node_loc=reg,value=value)\n",
    "                       )\n",
    "                    \n",
    "data_expand"
   ]
  },
  {
   "cell_type": "code",
   "execution_count": 16,
   "id": "9e312c20",
   "metadata": {},
   "outputs": [
    {
     "data": {
      "text/plain": [
       "710"
      ]
     },
     "execution_count": 16,
     "metadata": {},
     "output_type": "execute_result"
    }
   ],
   "source": [
    "data['fix_cost']['year_act'].get(3)"
   ]
  },
  {
   "cell_type": "code",
   "execution_count": null,
   "id": "03aab2a3",
   "metadata": {},
   "outputs": [],
   "source": [
    "data_expand = {k: pd.concat(v) for k, v in data_expand.items() \n",
    "               if k in group2+group1}"
   ]
  },
  {
   "cell_type": "code",
   "execution_count": null,
   "id": "8ba2b797",
   "metadata": {},
   "outputs": [],
   "source": [
    "with pd.ExcelWriter('tech_data.xlsx', engine='xlsxwriter', mode='w') as writer:\n",
    "    for sheet_name, sheet_data in data_expand.items():\n",
    "        sheet_data.to_excel(writer, sheet_name=sheet_name, index=False)"
   ]
  }
 ],
 "metadata": {
  "kernelspec": {
   "display_name": "Python 3 (ipykernel)",
   "language": "python",
   "name": "python3"
  },
  "language_info": {
   "codemirror_mode": {
    "name": "ipython",
    "version": 3
   },
   "file_extension": ".py",
   "mimetype": "text/x-python",
   "name": "python",
   "nbconvert_exporter": "python",
   "pygments_lexer": "ipython3",
   "version": "3.10.9"
  }
 },
 "nbformat": 4,
 "nbformat_minor": 5
}

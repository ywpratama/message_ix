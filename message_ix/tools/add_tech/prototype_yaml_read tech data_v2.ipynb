{
 "cells": [
  {
   "cell_type": "code",
   "execution_count": null,
   "id": "a0561644",
   "metadata": {},
   "outputs": [],
   "source": [
    "import yaml\n",
    "import pandas as pd\n",
    "import numpy as np\n",
    "from message_ix.utils import make_df\n",
    "from message_ix.models import MESSAGE_ITEMS\n",
    "from collections.abc import Mapping\n",
    "from itertools import repeat"
   ]
  },
  {
   "cell_type": "code",
   "execution_count": null,
   "id": "cb23560f",
   "metadata": {},
   "outputs": [],
   "source": [
    "with open('tech_data_02.yaml','r') as stream:\n",
    "    tech_data = yaml.safe_load(stream)\n",
    "    \n",
    "years = [*range(700,730,10)]\n",
    "regions = ['Westeros', 'Westerlands']\n",
    "modes = ['standard']\n",
    "emissions = ['CO2','CH4']\n",
    "time = ['year']\n",
    "first_active_year = tech_data['model_data'].get('first_active_year')"
   ]
  },
  {
   "cell_type": "code",
   "execution_count": null,
   "id": "0369ccab",
   "metadata": {},
   "outputs": [],
   "source": [
    "years_dict = {yv:[ya for ya in years if ya >= yv] for yv in years if yv >= first_active_year}\n",
    "\n",
    "vtg = [yv for ya in list(years_dict.keys()) for yv in repeat(ya,len(years_dict[ya]))]\n",
    "\n",
    "act = [yv for ya in list(years_dict.keys()) for yv in repeat(ya,len(years_dict[ya]))]\n",
    "\n",
    "years_vtg_act = pd.DataFrame(\n",
    "    {\n",
    "    'year_vtg':[k for k, v in years_dict.items() for i in range(len(v))],\n",
    "    'year_act':[ya for value in years_dict.values() for ya in value]\n",
    "    }\n",
    ")"
   ]
  },
  {
   "cell_type": "code",
   "execution_count": null,
   "id": "c137bf39",
   "metadata": {},
   "outputs": [],
   "source": [
    "parameters = {}\n",
    "for tech in set(tech_data) - set(['model_data']):\n",
    "    parameters.update({par: list(MESSAGE_ITEMS[par]['idx_names']) for par in set(tech_data[tech])})\n",
    "data = {par: [] for par in list(parameters.keys())}"
   ]
  },
  {
   "cell_type": "code",
   "execution_count": null,
   "id": "b6f681b6",
   "metadata": {
    "scrolled": true
   },
   "outputs": [],
   "source": [
    "# Basic DataFrame\n",
    "#group1 = ['inv_cost','technical_lifetime','growth_new_capacity_up','initial_new_capacity_up']\n",
    "#group2 = ['var_cost','fix_cost','emission_factor','capacity_factor']\n",
    "for tech, par_dict in tech_data.items():\n",
    "    if tech != 'model_data':\n",
    "        for par, par_data in par_dict.items():\n",
    "            if not isinstance(par_data, Mapping):\n",
    "                par_data = {'value': par_data, 'unit': '-'}\n",
    "            if parameters[par] == ['node_loc', 'technology', 'year_vtg']:\n",
    "                kwargs = {'year_vtg': sorted(list(set(years_vtg_act['year_vtg'])))}\n",
    "            elif all(e in ['node_loc', 'technology', 'year_vtg', 'year_act'] for e in parameters[par]):\n",
    "                kwargs = {'year_vtg': years_vtg_act['year_vtg'],\n",
    "                          'year_act': years_vtg_act['year_act']}\n",
    "            data[par].append(\n",
    "                make_df(\n",
    "                    par,\n",
    "                    technology=tech,\n",
    "                    value=par_data['value'],\n",
    "                    unit=par_data['unit'],\n",
    "                    **kwargs,\n",
    "                ))\n",
    "            if 'emission' in parameters[par]:\n",
    "                data[par] = data[par]*len(emissions)\n",
    "                for e in range(len(emissions)):\n",
    "                    data[par][e] = data[par][e].assign(emission=emissions[e])\n",
    "            if 'mode' in parameters[par]:\n",
    "                data[par] = data[par]*len(modes)\n",
    "                for m in range(len(modes)):\n",
    "                    for e in range(len(data[par])):\n",
    "                        data[par][e] = data[par][e].assign(mode=modes[m])\n",
    "            if 'time' in parameters[par]:\n",
    "                data[par] = data[par]*len(time)\n",
    "                for t in range(len(time)):\n",
    "                    for e in range(len(data[par])):\n",
    "                        data[par][e] = data[par][e].assign(time=time[t])\n",
    "            \n",
    "\n",
    "data = {k: pd.concat(v).reset_index(drop=True) for k, v in data.items()}\n",
    "\n",
    "data"
   ]
  },
  {
   "cell_type": "code",
   "execution_count": null,
   "id": "6d55acdb",
   "metadata": {},
   "outputs": [],
   "source": [
    "# Expanded DataFrame\n",
    "data_expand ={par: [] for par in list(parameters.keys())} \n",
    "for par in list(parameters.keys()):\n",
    "    for tech, diffs in tech_data['model_data'].items():\n",
    "        if tech != 'first_active_year':\n",
    "            for reg in regions:\n",
    "                print(par,tech,reg)\n",
    "                multiplier = []\n",
    "                for i in range(len(data[par])):\n",
    "                    multiplier.append(\n",
    "                        np.prod([diffs.get(par,{}).get('node_loc',{}).get(reg,1), # by region \n",
    "                                 ((1+diffs.get(par,{}).get('year_vtg',{}).get('rate',0))\n",
    "                                  **(data[par]['year_vtg'][i]-first_active_year)), # by year_vtg\n",
    "                                 ((1+diffs.get(par,{}).get('year_act',{}).get('rate',0))\n",
    "                                  **(data.get(par,{}).get('year_act',{}) # by year_act\n",
    "                                     .get(i,data[par]['year_vtg'][i])-data[par]['year_vtg'][i])),\n",
    "                                 diffs.get(par,{}).get('mode',{}).get(data.get(par,{}).get('mode',{}).get(i),1), # by mode\n",
    "                                 diffs.get(par,{}).get('emission',{}).get(data.get(par,{}).get('emission',{}).get(i),1), # by emission\n",
    "                        ])\n",
    "                    )\n",
    "\n",
    "                value = data[par]['value']*multiplier\n",
    "                data_expand[par].append(\n",
    "                    data[par].assign(node_loc=reg,value=value)\n",
    "                   )\n",
    "\n",
    "data_expand"
   ]
  },
  {
   "cell_type": "code",
   "execution_count": null,
   "id": "03aab2a3",
   "metadata": {},
   "outputs": [],
   "source": [
    "data_expand = {k: pd.concat(v) for k, v in data_expand.items() \n",
    "               if k in group2+group1}"
   ]
  },
  {
   "cell_type": "code",
   "execution_count": null,
   "id": "8ba2b797",
   "metadata": {},
   "outputs": [],
   "source": [
    "with pd.ExcelWriter('tech_data.xlsx', engine='xlsxwriter', mode='w') as writer:\n",
    "    for sheet_name, sheet_data in data_expand.items():\n",
    "        sheet_data.to_excel(writer, sheet_name=sheet_name, index=False)"
   ]
  },
  {
   "cell_type": "code",
   "execution_count": null,
   "id": "9fda5648",
   "metadata": {},
   "outputs": [],
   "source": []
  }
 ],
 "metadata": {
  "kernelspec": {
   "display_name": "Python 3 (ipykernel)",
   "language": "python",
   "name": "python3"
  },
  "language_info": {
   "codemirror_mode": {
    "name": "ipython",
    "version": 3
   },
   "file_extension": ".py",
   "mimetype": "text/x-python",
   "name": "python",
   "nbconvert_exporter": "python",
   "pygments_lexer": "ipython3",
   "version": "3.10.9"
  }
 },
 "nbformat": 4,
 "nbformat_minor": 5
}

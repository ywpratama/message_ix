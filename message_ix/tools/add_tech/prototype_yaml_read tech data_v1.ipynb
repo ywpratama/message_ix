{
 "cells": [
  {
   "cell_type": "code",
   "execution_count": 1,
   "id": "a0561644",
   "metadata": {},
   "outputs": [
    {
     "data": {
      "application/javascript": [
       "if (typeof IPython !== 'undefined') { IPython.OutputArea.prototype._should_scroll = function(lines){ return false; }}"
      ],
      "text/plain": [
       "<IPython.core.display.Javascript object>"
      ]
     },
     "metadata": {},
     "output_type": "display_data"
    }
   ],
   "source": [
    "import yaml\n",
    "import pandas as pd\n",
    "from message_ix.utils import make_df\n",
    "from message_ix.models import MESSAGE_ITEMS\n",
    "from collections.abc import Mapping\n",
    "from itertools import repeat"
   ]
  },
  {
   "cell_type": "code",
   "execution_count": 158,
   "id": "cb23560f",
   "metadata": {},
   "outputs": [],
   "source": [
    "with open('tech_data_01_update.yaml','r') as stream:\n",
    "    tech_data = yaml.safe_load(stream)\n",
    "    \n",
    "years = [*range(700,730,10)]\n",
    "regions = ['Westeros', 'Westerlands']"
   ]
  },
  {
   "cell_type": "code",
   "execution_count": 159,
   "id": "1d6b64be",
   "metadata": {},
   "outputs": [
    {
     "data": {
      "text/plain": [
       "{'DACCS': {'Westeros': 1, 'Westerlands': 1}}"
      ]
     },
     "execution_count": 159,
     "metadata": {},
     "output_type": "execute_result"
    }
   ],
   "source": [
    "# scenario.regions is the list of nodes in the scenario\n",
    "default_cost_by_region = {reg: 1 for reg in regions}\n",
    "cost_by_region = {\n",
    "    tech: tech_data['model_data']\n",
    "            .get(tech,{})\n",
    "            .get('cost_by_region', default_cost_by_region)\n",
    "    for tech in set(tech_data) - set(['model_data'])\n",
    "}\n",
    "\n",
    "cost_by_region"
   ]
  },
  {
   "cell_type": "code",
   "execution_count": 160,
   "id": "5c8ff61c",
   "metadata": {},
   "outputs": [
    {
     "data": {
      "text/plain": [
       "{'DACCS': {'rate': 0}}"
      ]
     },
     "execution_count": 160,
     "metadata": {},
     "output_type": "execute_result"
    }
   ],
   "source": [
    "# scenario.years is the list of years in the scenario\n",
    "first_active_year = tech_data['model_data'].get('first_active_year')\n",
    "default_costreduction_by_region = {'rate': 0}\n",
    "costreduction_by_region = {\n",
    "    tech: tech_data['model_data']\n",
    "            .get(tech,{})\n",
    "            .get('costreduction_by_region', default_costreduction_by_region)\n",
    "    for tech in set(tech_data) - set(['model_data'])\n",
    "}\n",
    "\n",
    "vtg_years = [y for y in years if y >= first_active_year]\n",
    "costreduction_by_region"
   ]
  },
  {
   "cell_type": "code",
   "execution_count": 161,
   "id": "0369ccab",
   "metadata": {},
   "outputs": [
    {
     "data": {
      "text/html": [
       "<div>\n",
       "<style scoped>\n",
       "    .dataframe tbody tr th:only-of-type {\n",
       "        vertical-align: middle;\n",
       "    }\n",
       "\n",
       "    .dataframe tbody tr th {\n",
       "        vertical-align: top;\n",
       "    }\n",
       "\n",
       "    .dataframe thead th {\n",
       "        text-align: right;\n",
       "    }\n",
       "</style>\n",
       "<table border=\"1\" class=\"dataframe\">\n",
       "  <thead>\n",
       "    <tr style=\"text-align: right;\">\n",
       "      <th></th>\n",
       "      <th>year_vtg</th>\n",
       "      <th>year_act</th>\n",
       "    </tr>\n",
       "  </thead>\n",
       "  <tbody>\n",
       "    <tr>\n",
       "      <th>0</th>\n",
       "      <td>700</td>\n",
       "      <td>700</td>\n",
       "    </tr>\n",
       "    <tr>\n",
       "      <th>1</th>\n",
       "      <td>700</td>\n",
       "      <td>710</td>\n",
       "    </tr>\n",
       "    <tr>\n",
       "      <th>2</th>\n",
       "      <td>700</td>\n",
       "      <td>720</td>\n",
       "    </tr>\n",
       "    <tr>\n",
       "      <th>3</th>\n",
       "      <td>710</td>\n",
       "      <td>710</td>\n",
       "    </tr>\n",
       "    <tr>\n",
       "      <th>4</th>\n",
       "      <td>710</td>\n",
       "      <td>720</td>\n",
       "    </tr>\n",
       "    <tr>\n",
       "      <th>5</th>\n",
       "      <td>720</td>\n",
       "      <td>720</td>\n",
       "    </tr>\n",
       "  </tbody>\n",
       "</table>\n",
       "</div>"
      ],
      "text/plain": [
       "   year_vtg  year_act\n",
       "0       700       700\n",
       "1       700       710\n",
       "2       700       720\n",
       "3       710       710\n",
       "4       710       720\n",
       "5       720       720"
      ]
     },
     "execution_count": 161,
     "metadata": {},
     "output_type": "execute_result"
    }
   ],
   "source": [
    "years_dict = {yv:[ya for ya in years if ya >= yv] for yv in years if yv >= first_active_year}\n",
    "\n",
    "vtg = [yv for ya in list(years_dict.keys()) for yv in repeat(ya,len(years_dict[ya]))]\n",
    "\n",
    "act = [yv for ya in list(years_dict.keys()) for yv in repeat(ya,len(years_dict[ya]))]\n",
    "\n",
    "years_vtg_act = pd.DataFrame(\n",
    "    {\n",
    "    'year_vtg':[k for k, v in years_dict.items() for i in range(len(v))],\n",
    "    'year_act':[ya for value in years_dict.values() for ya in value]\n",
    "    }\n",
    ")\n",
    "\n",
    "years_vtg_act"
   ]
  },
  {
   "cell_type": "code",
   "execution_count": 162,
   "id": "df95e8e2",
   "metadata": {},
   "outputs": [
    {
     "data": {
      "text/plain": [
       "{'DACCS': {700: 1, 710: 1, 720: 1}}"
      ]
     },
     "execution_count": 162,
     "metadata": {},
     "output_type": "execute_result"
    }
   ],
   "source": [
    "costperiodfactor_by_region = {\n",
    "    tech: {\n",
    "        y: (1-costreduction_by_region.get(tech).get('rate'))**(y-first_active_year)\n",
    "        for y in years_vtg_act['year_vtg']\n",
    "    }\n",
    "    for tech in set(tech_data)-set(['model_data'])\n",
    "}\n",
    "\n",
    "costperiodfactor_by_region"
   ]
  },
  {
   "cell_type": "code",
   "execution_count": 163,
   "id": "c137bf39",
   "metadata": {},
   "outputs": [],
   "source": [
    "#par_dim = {'inv_cost':['node_loc'],'fix_cost':['node_loc'],'var_cost':['node_loc']}\n",
    "parameters = {}\n",
    "for tech in set(tech_data) - set(['model_data']):\n",
    "    parameters.update({par: list(MESSAGE_ITEMS[par]['idx_names']) for par in set(tech_data[tech])})\n",
    "data = {par: [] for par in list(parameters.keys())}"
   ]
  },
  {
   "cell_type": "code",
   "execution_count": 164,
   "id": "d7dbc80f",
   "metadata": {},
   "outputs": [
    {
     "name": "stdout",
     "output_type": "stream",
     "text": [
      "('node_loc', 'technology', 'year_vtg') -- technical_lifetime\n",
      "('node_loc', 'technology', 'year_vtg') -- growth_new_capacity_up\n",
      "('node_loc', 'technology', 'year_vtg') -- initial_new_capacity_up\n",
      "('node_loc', 'technology', 'year_vtg') -- inv_cost\n",
      "\n",
      "('node_loc', 'technology', 'year_vtg', 'year_act') -- fix_cost\n",
      "('node_loc', 'technology', 'year_vtg', 'year_act', 'time') -- capacity_factor\n",
      "\n",
      "('node_loc', 'technology', 'year_vtg', 'year_act', 'mode', 'time') -- var_cost\n",
      "('node_loc', 'technology', 'year_vtg', 'year_act', 'mode', 'emission') -- emission_factor\n",
      "\n",
      "('node_loc', 'technology', 'year_vtg', 'year_act', 'mode', 'node_origin', 'commodity', 'level', 'time', 'time_origin') -- input\n"
     ]
    }
   ],
   "source": [
    "print(MESSAGE_ITEMS['technical_lifetime']['idx_names'],'-- technical_lifetime')\n",
    "print(MESSAGE_ITEMS['growth_new_capacity_up']['idx_names'],'-- growth_new_capacity_up')\n",
    "print(MESSAGE_ITEMS['initial_new_capacity_up']['idx_names'],'-- initial_new_capacity_up')\n",
    "print(MESSAGE_ITEMS['inv_cost']['idx_names'],'-- inv_cost')\n",
    "print('')\n",
    "print(MESSAGE_ITEMS['fix_cost']['idx_names'],'-- fix_cost')\n",
    "print(MESSAGE_ITEMS['capacity_factor']['idx_names'],'-- capacity_factor')\n",
    "print('')\n",
    "print(MESSAGE_ITEMS['var_cost']['idx_names'],'-- var_cost')\n",
    "print(MESSAGE_ITEMS['emission_factor']['idx_names'],'-- emission_factor')\n",
    "print('')\n",
    "print(MESSAGE_ITEMS['input']['idx_names'],'-- input')\n"
   ]
  },
  {
   "cell_type": "code",
   "execution_count": 165,
   "id": "b6f681b6",
   "metadata": {},
   "outputs": [
    {
     "name": "stdout",
     "output_type": "stream",
     "text": [
      "inv_cost\n",
      "fix_cost\n",
      "var_cost\n",
      "emission_factor\n",
      "capacity_factor\n",
      "technical_lifetime\n",
      "growth_new_capacity_up\n",
      "initial_new_capacity_up\n"
     ]
    },
    {
     "data": {
      "text/plain": [
       "{'fix_cost':   node_loc technology  year_vtg  year_act  value   unit\n",
       " 0     None      DACCS       700       700     10  $/kWa\n",
       " 1     None      DACCS       700       710     10  $/kWa\n",
       " 2     None      DACCS       700       720     10  $/kWa\n",
       " 3     None      DACCS       710       710     10  $/kWa\n",
       " 4     None      DACCS       710       720     10  $/kWa\n",
       " 5     None      DACCS       720       720     10  $/kWa,\n",
       " 'growth_new_capacity_up':   node_loc technology  year_vtg  value unit\n",
       " 0     None      DACCS       700    0.5    -\n",
       " 1     None      DACCS       710    0.5    -\n",
       " 2     None      DACCS       720    0.5    -,\n",
       " 'inv_cost':   node_loc technology  year_vtg  value  unit\n",
       " 0     None      DACCS       700   2500  $/kW\n",
       " 1     None      DACCS       710   2500  $/kW\n",
       " 2     None      DACCS       720   2500  $/kW,\n",
       " 'var_cost':   node_loc technology  year_vtg  year_act  mode  time  value   unit\n",
       " 0     None      DACCS       700       700  None  None    100  $/kWa\n",
       " 1     None      DACCS       700       710  None  None    100  $/kWa\n",
       " 2     None      DACCS       700       720  None  None    100  $/kWa\n",
       " 3     None      DACCS       710       710  None  None    100  $/kWa\n",
       " 4     None      DACCS       710       720  None  None    100  $/kWa\n",
       " 5     None      DACCS       720       720  None  None    100  $/kWa,\n",
       " 'initial_new_capacity_up':   node_loc technology  year_vtg  value unit\n",
       " 0     None      DACCS       700    0.5   GW\n",
       " 1     None      DACCS       710    0.5   GW\n",
       " 2     None      DACCS       720    0.5   GW,\n",
       " 'capacity_factor':   node_loc technology  year_vtg  year_act  time  value unit\n",
       " 0     None      DACCS       700       700  None      1    -\n",
       " 1     None      DACCS       700       710  None      1    -\n",
       " 2     None      DACCS       700       720  None      1    -\n",
       " 3     None      DACCS       710       710  None      1    -\n",
       " 4     None      DACCS       710       720  None      1    -\n",
       " 5     None      DACCS       720       720  None      1    -,\n",
       " 'technical_lifetime':   node_loc technology  year_vtg  value unit\n",
       " 0     None      DACCS       700     20    y\n",
       " 1     None      DACCS       710     20    y\n",
       " 2     None      DACCS       720     20    y,\n",
       " 'emission_factor':   node_loc technology  year_vtg  year_act  mode emission  value unit\n",
       " 0     None      DACCS       700       700  None     None      1    -\n",
       " 1     None      DACCS       700       710  None     None      1    -\n",
       " 2     None      DACCS       700       720  None     None      1    -\n",
       " 3     None      DACCS       710       710  None     None      1    -\n",
       " 4     None      DACCS       710       720  None     None      1    -\n",
       " 5     None      DACCS       720       720  None     None      1    -}"
      ]
     },
     "execution_count": 165,
     "metadata": {},
     "output_type": "execute_result"
    }
   ],
   "source": [
    "# Basic DataFrame\n",
    "group1 = ['inv_cost','technical_lifetime','growth_new_capacity_up','initial_new_capacity_up']\n",
    "group2 = ['fix_cost','capacity_factor']\n",
    "for tech, par_dict in tech_data.items():\n",
    "    if tech != 'model_data':\n",
    "        for par, par_data in par_dict.items():\n",
    "            print(par)\n",
    "            if not isinstance(par_data, Mapping):\n",
    "                par_data = {'value': par_data, 'unit': '-'}\n",
    "            if MESSAGE_ITEMS[par]['idx_names'] == ('node_loc', 'technology', 'year_vtg'):\n",
    "                kwargs = {'year_vtg': sorted(list(set(years_vtg_act['year_vtg'])))}\n",
    "            elif all(e in ('node_loc', 'technology', 'year_vtg', 'year_act') for e in MESSAGE_ITEMS[par]['idx_names']):\n",
    "                kwargs = {'year_vtg': years_vtg_act['year_vtg'],\n",
    "                          'year_act': years_vtg_act['year_act']}\n",
    "            #if 'mode' in parameters[par]:\n",
    "            #    kwargs.update({'mode':par_data['mode']})\n",
    "            #if 'emission' in parameters[par]:\n",
    "            #    kwargs.update({'emission':par_data['emission']})\n",
    "            data[par].append(\n",
    "                make_df(\n",
    "                    par,\n",
    "                    technology=tech,\n",
    "                    value=par_data['value'],\n",
    "                    unit=par_data['unit'],\n",
    "                    **kwargs,\n",
    "                )\n",
    "            )\n",
    "\n",
    "data = {k: pd.concat(v) for k, v in data.items()}\n",
    "\n",
    "data"
   ]
  },
  {
   "cell_type": "code",
   "execution_count": 166,
   "id": "6d55acdb",
   "metadata": {},
   "outputs": [
    {
     "data": {
      "text/plain": [
       "{'fix_cost': [   node_loc technology  year_vtg  year_act  value   unit\n",
       "  0  Westeros      DACCS       700       700     10  $/kWa\n",
       "  1  Westeros      DACCS       700       710     10  $/kWa\n",
       "  2  Westeros      DACCS       700       720     10  $/kWa\n",
       "  3  Westeros      DACCS       710       710     10  $/kWa\n",
       "  4  Westeros      DACCS       710       720     10  $/kWa\n",
       "  5  Westeros      DACCS       720       720     10  $/kWa,\n",
       "        node_loc technology  year_vtg  year_act  value   unit\n",
       "  0  Westerlands      DACCS       700       700     10  $/kWa\n",
       "  1  Westerlands      DACCS       700       710     10  $/kWa\n",
       "  2  Westerlands      DACCS       700       720     10  $/kWa\n",
       "  3  Westerlands      DACCS       710       710     10  $/kWa\n",
       "  4  Westerlands      DACCS       710       720     10  $/kWa\n",
       "  5  Westerlands      DACCS       720       720     10  $/kWa],\n",
       " 'growth_new_capacity_up': [   node_loc technology  year_vtg  value unit\n",
       "  0  Westeros      DACCS       700    0.5    -\n",
       "  1  Westeros      DACCS       710    0.5    -\n",
       "  2  Westeros      DACCS       720    0.5    -,\n",
       "        node_loc technology  year_vtg  value unit\n",
       "  0  Westerlands      DACCS       700    0.5    -\n",
       "  1  Westerlands      DACCS       710    0.5    -\n",
       "  2  Westerlands      DACCS       720    0.5    -],\n",
       " 'inv_cost': [   node_loc technology  year_vtg  value  unit\n",
       "  0  Westeros      DACCS       700   2500  $/kW\n",
       "  1  Westeros      DACCS       710   2500  $/kW\n",
       "  2  Westeros      DACCS       720   2500  $/kW,\n",
       "        node_loc technology  year_vtg   value  unit\n",
       "  0  Westerlands      DACCS       700  2000.0  $/kW\n",
       "  1  Westerlands      DACCS       710  2000.0  $/kW\n",
       "  2  Westerlands      DACCS       720  2000.0  $/kW],\n",
       " 'var_cost': [],\n",
       " 'initial_new_capacity_up': [   node_loc technology  year_vtg  value unit\n",
       "  0  Westeros      DACCS       700    0.5   GW\n",
       "  1  Westeros      DACCS       710    0.5   GW\n",
       "  2  Westeros      DACCS       720    0.5   GW,\n",
       "        node_loc technology  year_vtg  value unit\n",
       "  0  Westerlands      DACCS       700    0.5   GW\n",
       "  1  Westerlands      DACCS       710    0.5   GW\n",
       "  2  Westerlands      DACCS       720    0.5   GW],\n",
       " 'capacity_factor': [   node_loc technology  year_vtg  year_act  time  value unit\n",
       "  0  Westeros      DACCS       700       700  None      1    -\n",
       "  1  Westeros      DACCS       700       710  None      1    -\n",
       "  2  Westeros      DACCS       700       720  None      1    -\n",
       "  3  Westeros      DACCS       710       710  None      1    -\n",
       "  4  Westeros      DACCS       710       720  None      1    -\n",
       "  5  Westeros      DACCS       720       720  None      1    -,\n",
       "        node_loc technology  year_vtg  year_act  time  value unit\n",
       "  0  Westerlands      DACCS       700       700  None      1    -\n",
       "  1  Westerlands      DACCS       700       710  None      1    -\n",
       "  2  Westerlands      DACCS       700       720  None      1    -\n",
       "  3  Westerlands      DACCS       710       710  None      1    -\n",
       "  4  Westerlands      DACCS       710       720  None      1    -\n",
       "  5  Westerlands      DACCS       720       720  None      1    -],\n",
       " 'technical_lifetime': [   node_loc technology  year_vtg  value unit\n",
       "  0  Westeros      DACCS       700     20    y\n",
       "  1  Westeros      DACCS       710     20    y\n",
       "  2  Westeros      DACCS       720     20    y,\n",
       "        node_loc technology  year_vtg  value unit\n",
       "  0  Westerlands      DACCS       700     20    y\n",
       "  1  Westerlands      DACCS       710     20    y\n",
       "  2  Westerlands      DACCS       720     20    y],\n",
       " 'emission_factor': []}"
      ]
     },
     "execution_count": 166,
     "metadata": {},
     "output_type": "execute_result"
    }
   ],
   "source": [
    "# Expanded DataFrame\n",
    "data_expand ={par: [] for par in list(parameters.keys())} \n",
    "for par in list(parameters.keys()):\n",
    "    if par in group1+group2:\n",
    "        for tech, diffs in tech_data['model_data'].items():\n",
    "            if tech != 'first_active_year':\n",
    "                for reg in regions:\n",
    "                    multiplier = []\n",
    "                    for y in data[par]['year_vtg'].values:\n",
    "                        multiplier.append(diffs.get(par,{}).get('node_loc',{}).get(reg,1))\n",
    "                                          *diffs.get(par).get(year_vtg).get(reg)\n",
    "                                          \n",
    "#                                               *costperiodfactor_by_region.get(tech).get(y))\n",
    "                    value = data[par]['value']*multiplier\n",
    "                    data_expand[par].append(\n",
    "                        data[par].assign(node_loc=reg,value=value)\n",
    "                       )\n",
    "                    \n",
    "data_expand"
   ]
  },
  {
   "cell_type": "code",
   "execution_count": 61,
   "id": "03aab2a3",
   "metadata": {},
   "outputs": [],
   "source": [
    "data_expand = {k: pd.concat(v) for k, v in data_expand.items() \n",
    "               if k in group2+group1}"
   ]
  },
  {
   "cell_type": "code",
   "execution_count": 62,
   "id": "8ba2b797",
   "metadata": {},
   "outputs": [],
   "source": [
    "with pd.ExcelWriter('tech_data.xlsx', engine='xlsxwriter', mode='w') as writer:\n",
    "    for sheet_name, sheet_data in data_expand.items():\n",
    "        sheet_data.to_excel(writer, sheet_name=sheet_name, index=False)"
   ]
  },
  {
   "cell_type": "code",
   "execution_count": 79,
   "id": "6389d08f",
   "metadata": {},
   "outputs": [
    {
     "data": {
      "text/plain": [
       "{'DACCS': {'inv_cost': {'value': 2500, 'unit': '$/kW'},\n",
       "  'fix_cost': {'value': 10, 'unit': '$/kWa'},\n",
       "  'technical_lifetime': {'value': 20, 'unit': 'y'},\n",
       "  'growth_new_capacity_up': {'value': 0.5, 'unit': '-'},\n",
       "  'initial_new_capacity_up': {'value': 0.5, 'unit': 'GW'}},\n",
       " 'model_data': {'DACCS': {'cost_by_region': {'Westeros': 1,\n",
       "    'Westerlands': 0.8},\n",
       "   'costreduction_by_region': {'rate': 0.05}},\n",
       "  'first_active_year': 700}}"
      ]
     },
     "execution_count": 79,
     "metadata": {},
     "output_type": "execute_result"
    }
   ],
   "source": [
    "tech_data"
   ]
  },
  {
   "cell_type": "code",
   "execution_count": 114,
   "id": "65bab26a",
   "metadata": {},
   "outputs": [
    {
     "data": {
      "text/plain": [
       "{'DACCS': {'inv_cost': {'value': 2500, 'unit': '$/kW'},\n",
       "  'fix_cost': {'value': 10, 'unit': '$/kWa'},\n",
       "  'emission_factor': {'value': -20,\n",
       "   'unit': 'tCO2/kWa',\n",
       "   'mode': 'standard',\n",
       "   'emission': 'CH4'},\n",
       "  'technical_lifetime': {'value': 20, 'unit': 'y'},\n",
       "  'growth_new_capacity_up': {'value': 0.5, 'unit': '-'},\n",
       "  'initial_new_capacity_up': {'value': 0.5, 'unit': 'GW'}},\n",
       " 'model_data': {'DACCS': {'cost_by_region': {'Westeros': 1,\n",
       "    'Westerlands': 0.8},\n",
       "   'costreduction_by_region': {'rate': 0.05}},\n",
       "  'first_active_year': 700}}"
      ]
     },
     "execution_count": 114,
     "metadata": {},
     "output_type": "execute_result"
    }
   ],
   "source": [
    "tech_data"
   ]
  },
  {
   "cell_type": "code",
   "execution_count": null,
   "id": "360a9296",
   "metadata": {},
   "outputs": [],
   "source": []
  }
 ],
 "metadata": {
  "kernelspec": {
   "display_name": "Python 3 (ipykernel)",
   "language": "python",
   "name": "python3"
  },
  "language_info": {
   "codemirror_mode": {
    "name": "ipython",
    "version": 3
   },
   "file_extension": ".py",
   "mimetype": "text/x-python",
   "name": "python",
   "nbconvert_exporter": "python",
   "pygments_lexer": "ipython3",
   "version": "3.10.9"
  }
 },
 "nbformat": 4,
 "nbformat_minor": 5
}

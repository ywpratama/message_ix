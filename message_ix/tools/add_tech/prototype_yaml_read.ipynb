{
 "cells": [
  {
   "cell_type": "code",
   "execution_count": 8,
   "id": "a0561644",
   "metadata": {},
   "outputs": [],
   "source": [
    "import yaml\n",
    "import pandas as pd\n",
    "from message_ix.utils import make_df\n",
    "from collections.abc import Mapping"
   ]
  },
  {
   "cell_type": "code",
   "execution_count": 9,
   "id": "cb23560f",
   "metadata": {},
   "outputs": [],
   "source": [
    "with open('learning_data.yaml','r') as stream:\n",
    "    learning_data = yaml.safe_load(stream)\n"
   ]
  },
  {
   "cell_type": "code",
   "execution_count": 10,
   "id": "c137bf39",
   "metadata": {},
   "outputs": [],
   "source": [
    "par_list = ['learning_par','eos_par','nbr_unit_ref','u_ref','u']\n",
    "par_dim = {'learning_par':[],'eos_par':[],'nbr_unit_ref':[],'u_ref':[],'u':['size']}\n",
    "\n",
    "data = {par: [] for par in list(par_dim.keys())}\n"
   ]
  },
  {
   "cell_type": "code",
   "execution_count": 11,
   "id": "f5d981bc",
   "metadata": {},
   "outputs": [],
   "source": [
    "for tech, par_dict in learning_data.items():\n",
    "    for par, par_data in par_dict.items():\n",
    "        if not isinstance(par_data, Mapping):\n",
    "            par_data = {'value': par_data, 'unit': '-'}\n",
    "        if par == 'u':\n",
    "            for size, value in par_data['value'].items():\n",
    "                data[par].append(\n",
    "                    make_df(\n",
    "                        par,\n",
    "                        technology=tech,\n",
    "                        value=value,\n",
    "                        unit=par_data['unit'],\n",
    "                        size=size,\n",
    "                    )\n",
    "                )\n",
    "        else:\n",
    "            data[par].append(\n",
    "                make_df(\n",
    "                    par,\n",
    "                    technology=tech,\n",
    "                    value=par_data['value'],\n",
    "                    unit=par_data['unit'],\n",
    "                )\n",
    "            )\n"
   ]
  },
  {
   "cell_type": "code",
   "execution_count": 12,
   "id": "03aab2a3",
   "metadata": {},
   "outputs": [],
   "source": [
    "data = {k: pd.concat(v) for k, v in data.items()}"
   ]
  },
  {
   "cell_type": "code",
   "execution_count": 13,
   "id": "8ba2b797",
   "metadata": {},
   "outputs": [],
   "source": [
    "with pd.ExcelWriter('learning_data.xlsx', engine='xlsxwriter', mode='w') as writer:\n",
    "    for sheet_name, sheet_data in data.items():\n",
    "        sheet_data.to_excel(writer, sheet_name=sheet_name, index=False)"
   ]
  },
  {
   "cell_type": "code",
   "execution_count": 14,
   "id": "6bc42760",
   "metadata": {
    "scrolled": true
   },
   "outputs": [
    {
     "data": {
      "text/html": [
       "<div>\n",
       "<style scoped>\n",
       "    .dataframe tbody tr th:only-of-type {\n",
       "        vertical-align: middle;\n",
       "    }\n",
       "\n",
       "    .dataframe tbody tr th {\n",
       "        vertical-align: top;\n",
       "    }\n",
       "\n",
       "    .dataframe thead th {\n",
       "        text-align: right;\n",
       "    }\n",
       "</style>\n",
       "<table border=\"1\" class=\"dataframe\">\n",
       "  <thead>\n",
       "    <tr style=\"text-align: right;\">\n",
       "      <th></th>\n",
       "      <th>technology</th>\n",
       "      <th>size</th>\n",
       "      <th>value</th>\n",
       "      <th>unit</th>\n",
       "    </tr>\n",
       "  </thead>\n",
       "  <tbody>\n",
       "    <tr>\n",
       "      <th>0</th>\n",
       "      <td>wind_ppl</td>\n",
       "      <td>small</td>\n",
       "      <td>5</td>\n",
       "      <td>GW</td>\n",
       "    </tr>\n",
       "    <tr>\n",
       "      <th>0</th>\n",
       "      <td>wind_ppl</td>\n",
       "      <td>medium</td>\n",
       "      <td>10</td>\n",
       "      <td>GW</td>\n",
       "    </tr>\n",
       "    <tr>\n",
       "      <th>0</th>\n",
       "      <td>wind_ppl</td>\n",
       "      <td>large</td>\n",
       "      <td>50</td>\n",
       "      <td>GW</td>\n",
       "    </tr>\n",
       "    <tr>\n",
       "      <th>0</th>\n",
       "      <td>DACCS</td>\n",
       "      <td>small</td>\n",
       "      <td>5</td>\n",
       "      <td>GW</td>\n",
       "    </tr>\n",
       "    <tr>\n",
       "      <th>0</th>\n",
       "      <td>DACCS</td>\n",
       "      <td>medium</td>\n",
       "      <td>10</td>\n",
       "      <td>GW</td>\n",
       "    </tr>\n",
       "    <tr>\n",
       "      <th>0</th>\n",
       "      <td>DACCS</td>\n",
       "      <td>large</td>\n",
       "      <td>50</td>\n",
       "      <td>GW</td>\n",
       "    </tr>\n",
       "  </tbody>\n",
       "</table>\n",
       "</div>"
      ],
      "text/plain": [
       "  technology    size  value unit\n",
       "0   wind_ppl   small      5   GW\n",
       "0   wind_ppl  medium     10   GW\n",
       "0   wind_ppl   large     50   GW\n",
       "0      DACCS   small      5   GW\n",
       "0      DACCS  medium     10   GW\n",
       "0      DACCS   large     50   GW"
      ]
     },
     "execution_count": 14,
     "metadata": {},
     "output_type": "execute_result"
    }
   ],
   "source": [
    "data['u']"
   ]
  },
  {
   "cell_type": "code",
   "execution_count": null,
   "id": "e818babc",
   "metadata": {},
   "outputs": [],
   "source": []
  }
 ],
 "metadata": {
  "kernelspec": {
   "display_name": "Python 3 (ipykernel)",
   "language": "python",
   "name": "python3"
  },
  "language_info": {
   "codemirror_mode": {
    "name": "ipython",
    "version": 3
   },
   "file_extension": ".py",
   "mimetype": "text/x-python",
   "name": "python",
   "nbconvert_exporter": "python",
   "pygments_lexer": "ipython3",
   "version": "3.10.9"
  }
 },
 "nbformat": 4,
 "nbformat_minor": 5
}

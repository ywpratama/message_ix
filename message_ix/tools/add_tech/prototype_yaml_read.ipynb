{
 "cells": [
  {
   "cell_type": "code",
   "execution_count": 1,
   "id": "a0561644",
   "metadata": {},
   "outputs": [
    {
     "data": {
      "application/javascript": [
       "if (typeof IPython !== 'undefined') { IPython.OutputArea.prototype._should_scroll = function(lines){ return false; }}"
      ],
      "text/plain": [
       "<IPython.core.display.Javascript object>"
      ]
     },
     "metadata": {},
     "output_type": "display_data"
    }
   ],
   "source": [
    "import yaml\n",
    "import pandas as pd\n",
    "from message_ix.utils import make_df\n",
    "from collections.abc import Mapping"
   ]
  },
  {
   "cell_type": "code",
   "execution_count": 2,
   "id": "cb23560f",
   "metadata": {},
   "outputs": [],
   "source": [
    "with open('learning_data_01.yaml','r') as stream:\n",
    "    learning_data = yaml.safe_load(stream)"
   ]
  },
  {
   "cell_type": "code",
   "execution_count": 3,
   "id": "c137bf39",
   "metadata": {},
   "outputs": [],
   "source": [
    "par_dim = {'learning_par':[],'eos_par':[],'nbr_unit_ref':[],'u_ref':[],'u':['size']}\n",
    "\n",
    "data = {par: [] for par in list(par_dim.keys())}"
   ]
  },
  {
   "cell_type": "code",
   "execution_count": 4,
   "id": "f5d981bc",
   "metadata": {},
   "outputs": [],
   "source": [
    "for tech, par_dict in learning_data.items():\n",
    "    for par, par_data in par_dict.items():\n",
    "        if not isinstance(par_data, Mapping):\n",
    "            par_data = {'value': par_data, 'unit': '-'}\n",
    "        if isinstance(par_data['value'], dict):\n",
    "            for size, value in par_data['value'].items():\n",
    "                kwargs = {'size': size}\n",
    "                data[par].append(\n",
    "                    make_df(\n",
    "                        par,\n",
    "                        technology=tech,\n",
    "                        value=value,\n",
    "                        unit=par_data['unit'],\n",
    "                        **kwargs,\n",
    "                    )\n",
    "                )\n",
    "        else:\n",
    "            data[par].append(\n",
    "                make_df(\n",
    "                    par,\n",
    "                    technology=tech,\n",
    "                    value=par_data['value'],\n",
    "                    unit=par_data['unit'],\n",
    "                )\n",
    "            )"
   ]
  },
  {
   "cell_type": "code",
   "execution_count": 5,
   "id": "03aab2a3",
   "metadata": {},
   "outputs": [],
   "source": [
    "data = {k: pd.concat(v) for k, v in data.items()}"
   ]
  },
  {
   "cell_type": "code",
   "execution_count": 6,
   "id": "8ba2b797",
   "metadata": {},
   "outputs": [],
   "source": [
    "with pd.ExcelWriter('learning_data.xlsx', engine='xlsxwriter', mode='w') as writer:\n",
    "    for sheet_name, sheet_data in data.items():\n",
    "        sheet_data.to_excel(writer, sheet_name=sheet_name, index=False)"
   ]
  },
  {
   "cell_type": "code",
   "execution_count": 8,
   "id": "6bc42760",
   "metadata": {
    "scrolled": true
   },
   "outputs": [
    {
     "data": {
      "text/plain": [
       "{'learning_par':   technology  value unit\n",
       " 0   wind_ppl    0.9    -,\n",
       " 'eos_par':   technology  value unit\n",
       " 0   wind_ppl    0.9    -,\n",
       " 'nbr_unit_ref':   technology  value unit\n",
       " 0   wind_ppl    100    -,\n",
       " 'u_ref':   technology  value unit\n",
       " 0   wind_ppl      5   GW,\n",
       " 'u':   technology    size  value unit\n",
       " 0   wind_ppl   small      5   GW\n",
       " 0   wind_ppl  medium     10   GW\n",
       " 0   wind_ppl   large     50   GW}"
      ]
     },
     "execution_count": 8,
     "metadata": {},
     "output_type": "execute_result"
    }
   ],
   "source": [
    "data"
   ]
  },
  {
   "cell_type": "code",
   "execution_count": null,
   "id": "e818babc",
   "metadata": {},
   "outputs": [],
   "source": []
  }
 ],
 "metadata": {
  "kernelspec": {
   "display_name": "Python 3 (ipykernel)",
   "language": "python",
   "name": "python3"
  },
  "language_info": {
   "codemirror_mode": {
    "name": "ipython",
    "version": 3
   },
   "file_extension": ".py",
   "mimetype": "text/x-python",
   "name": "python",
   "nbconvert_exporter": "python",
   "pygments_lexer": "ipython3",
   "version": "3.10.9"
  }
 },
 "nbformat": 4,
 "nbformat_minor": 5
}

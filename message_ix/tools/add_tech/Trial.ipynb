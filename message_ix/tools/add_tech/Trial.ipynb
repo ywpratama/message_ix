{
 "cells": [
  {
   "cell_type": "code",
   "execution_count": 1,
   "id": "2f9d1cb0",
   "metadata": {},
   "outputs": [
    {
     "data": {
      "application/javascript": [
       "if (typeof IPython !== 'undefined') { IPython.OutputArea.prototype._should_scroll = function(lines){ return false; }}"
      ],
      "text/plain": [
       "<IPython.core.display.Javascript object>"
      ]
     },
     "metadata": {},
     "output_type": "display_data"
    }
   ],
   "source": [
    "import pandas as pd\n",
    "import ixmp\n",
    "import message_ix\n",
    "\n",
    "from message_ix.tools.add_tech import add_tech\n",
    "from message_ix.tools.add_tech import add_learning\n",
    "from message_ix.tools.add_tech import generate_df\n",
    "from message_ix.tools.add_tech import print_df\n",
    "from message_ix.utils import make_df"
   ]
  },
  {
   "cell_type": "code",
   "execution_count": 2,
   "id": "0fae390a",
   "metadata": {},
   "outputs": [
    {
     "name": "stdout",
     "output_type": "stream",
     "text": [
      "technical_lifetime DACCS Westeros\n",
      "technical_lifetime DACCS Westerlands\n",
      "var_cost DACCS Westeros\n",
      "var_cost DACCS Westerlands\n",
      "inv_cost DACCS Westeros\n",
      "inv_cost DACCS Westerlands\n",
      "emission_factor DACCS Westeros\n",
      "emission_factor DACCS Westerlands\n",
      "growth_new_capacity_up DACCS Westeros\n",
      "growth_new_capacity_up DACCS Westerlands\n",
      "fix_cost DACCS Westeros\n",
      "fix_cost DACCS Westerlands\n",
      "capacity_factor DACCS Westeros\n",
      "capacity_factor DACCS Westerlands\n",
      "initial_new_capacity_up DACCS Westeros\n",
      "initial_new_capacity_up DACCS Westerlands\n"
     ]
    },
    {
     "data": {
      "text/plain": [
       "{'technical_lifetime':       node_loc technology  year_vtg  value unit\n",
       " 0     Westeros      DACCS       700     20    y\n",
       " 1     Westeros      DACCS       710     20    y\n",
       " 2     Westeros      DACCS       720     20    y\n",
       " 0  Westerlands      DACCS       700     20    y\n",
       " 1  Westerlands      DACCS       710     20    y\n",
       " 2  Westerlands      DACCS       720     20    y,\n",
       " 'var_cost':       node_loc technology  year_vtg  year_act      mode  time       value  \\\n",
       " 0     Westeros      DACCS       700       700  standard  year  100.000000   \n",
       " 1     Westeros      DACCS       700       710  standard  year  134.391638   \n",
       " 2     Westeros      DACCS       700       720  standard  year  180.611123   \n",
       " 3     Westeros      DACCS       710       710  standard  year   59.873694   \n",
       " 4     Westeros      DACCS       710       720  standard  year   80.465238   \n",
       " 5     Westeros      DACCS       720       720  standard  year   35.848592   \n",
       " 0  Westerlands      DACCS       700       700  standard  year   80.000000   \n",
       " 1  Westerlands      DACCS       700       710  standard  year  107.513310   \n",
       " 2  Westerlands      DACCS       700       720  standard  year  144.488899   \n",
       " 3  Westerlands      DACCS       710       710  standard  year   47.898955   \n",
       " 4  Westerlands      DACCS       710       720  standard  year   64.372190   \n",
       " 5  Westerlands      DACCS       720       720  standard  year   28.678874   \n",
       " \n",
       "     unit  \n",
       " 0  $/kWa  \n",
       " 1  $/kWa  \n",
       " 2  $/kWa  \n",
       " 3  $/kWa  \n",
       " 4  $/kWa  \n",
       " 5  $/kWa  \n",
       " 0  $/kWa  \n",
       " 1  $/kWa  \n",
       " 2  $/kWa  \n",
       " 3  $/kWa  \n",
       " 4  $/kWa  \n",
       " 5  $/kWa  ,\n",
       " 'inv_cost':       node_loc technology  year_vtg        value  unit\n",
       " 0     Westeros      DACCS       700  2500.000000  $/kW\n",
       " 1     Westeros      DACCS       710  1496.842348  $/kW\n",
       " 2     Westeros      DACCS       720   896.214806  $/kW\n",
       " 0  Westerlands      DACCS       700  2000.000000  $/kW\n",
       " 1  Westerlands      DACCS       710  1197.473878  $/kW\n",
       " 2  Westerlands      DACCS       720   716.971845  $/kW,\n",
       " 'emission_factor':        node_loc technology  year_vtg  year_act      mode emission  value  \\\n",
       " 0      Westeros      DACCS       700       700  standard      CO2    -20   \n",
       " 1      Westeros      DACCS       700       710  standard      CO2    -20   \n",
       " 2      Westeros      DACCS       700       720  standard      CO2    -20   \n",
       " 3      Westeros      DACCS       710       710  standard      CO2    -20   \n",
       " 4      Westeros      DACCS       710       720  standard      CO2    -20   \n",
       " 5      Westeros      DACCS       720       720  standard      CO2    -20   \n",
       " 6      Westeros      DACCS       700       700  standard      CH4      0   \n",
       " 7      Westeros      DACCS       700       710  standard      CH4      0   \n",
       " 8      Westeros      DACCS       700       720  standard      CH4      0   \n",
       " 9      Westeros      DACCS       710       710  standard      CH4      0   \n",
       " 10     Westeros      DACCS       710       720  standard      CH4      0   \n",
       " 11     Westeros      DACCS       720       720  standard      CH4      0   \n",
       " 0   Westerlands      DACCS       700       700  standard      CO2    -20   \n",
       " 1   Westerlands      DACCS       700       710  standard      CO2    -20   \n",
       " 2   Westerlands      DACCS       700       720  standard      CO2    -20   \n",
       " 3   Westerlands      DACCS       710       710  standard      CO2    -20   \n",
       " 4   Westerlands      DACCS       710       720  standard      CO2    -20   \n",
       " 5   Westerlands      DACCS       720       720  standard      CO2    -20   \n",
       " 6   Westerlands      DACCS       700       700  standard      CH4      0   \n",
       " 7   Westerlands      DACCS       700       710  standard      CH4      0   \n",
       " 8   Westerlands      DACCS       700       720  standard      CH4      0   \n",
       " 9   Westerlands      DACCS       710       710  standard      CH4      0   \n",
       " 10  Westerlands      DACCS       710       720  standard      CH4      0   \n",
       " 11  Westerlands      DACCS       720       720  standard      CH4      0   \n",
       " \n",
       "         unit  \n",
       " 0   tCO2/kWa  \n",
       " 1   tCO2/kWa  \n",
       " 2   tCO2/kWa  \n",
       " 3   tCO2/kWa  \n",
       " 4   tCO2/kWa  \n",
       " 5   tCO2/kWa  \n",
       " 6   tCO2/kWa  \n",
       " 7   tCO2/kWa  \n",
       " 8   tCO2/kWa  \n",
       " 9   tCO2/kWa  \n",
       " 10  tCO2/kWa  \n",
       " 11  tCO2/kWa  \n",
       " 0   tCO2/kWa  \n",
       " 1   tCO2/kWa  \n",
       " 2   tCO2/kWa  \n",
       " 3   tCO2/kWa  \n",
       " 4   tCO2/kWa  \n",
       " 5   tCO2/kWa  \n",
       " 6   tCO2/kWa  \n",
       " 7   tCO2/kWa  \n",
       " 8   tCO2/kWa  \n",
       " 9   tCO2/kWa  \n",
       " 10  tCO2/kWa  \n",
       " 11  tCO2/kWa  ,\n",
       " 'growth_new_capacity_up':       node_loc technology  year_vtg  value unit\n",
       " 0     Westeros      DACCS       700    0.5    -\n",
       " 1     Westeros      DACCS       710    0.5    -\n",
       " 2     Westeros      DACCS       720    0.5    -\n",
       " 0  Westerlands      DACCS       700    0.5    -\n",
       " 1  Westerlands      DACCS       710    0.5    -\n",
       " 2  Westerlands      DACCS       720    0.5    -,\n",
       " 'fix_cost':       node_loc technology  year_vtg  year_act      value   unit\n",
       " 0     Westeros      DACCS       700       700  10.000000  $/kWa\n",
       " 1     Westeros      DACCS       700       710  13.439164  $/kWa\n",
       " 2     Westeros      DACCS       700       720  18.061112  $/kWa\n",
       " 3     Westeros      DACCS       710       710   5.987369  $/kWa\n",
       " 4     Westeros      DACCS       710       720   8.046524  $/kWa\n",
       " 5     Westeros      DACCS       720       720   3.584859  $/kWa\n",
       " 0  Westerlands      DACCS       700       700   8.000000  $/kWa\n",
       " 1  Westerlands      DACCS       700       710  10.751331  $/kWa\n",
       " 2  Westerlands      DACCS       700       720  14.448890  $/kWa\n",
       " 3  Westerlands      DACCS       710       710   4.789896  $/kWa\n",
       " 4  Westerlands      DACCS       710       720   6.437219  $/kWa\n",
       " 5  Westerlands      DACCS       720       720   2.867887  $/kWa,\n",
       " 'capacity_factor':       node_loc technology  year_vtg  year_act  time  value unit\n",
       " 0     Westeros      DACCS       700       700  year      1    -\n",
       " 1     Westeros      DACCS       700       710  year      1    -\n",
       " 2     Westeros      DACCS       700       720  year      1    -\n",
       " 3     Westeros      DACCS       710       710  year      1    -\n",
       " 4     Westeros      DACCS       710       720  year      1    -\n",
       " 5     Westeros      DACCS       720       720  year      1    -\n",
       " 0  Westerlands      DACCS       700       700  year      1    -\n",
       " 1  Westerlands      DACCS       700       710  year      1    -\n",
       " 2  Westerlands      DACCS       700       720  year      1    -\n",
       " 3  Westerlands      DACCS       710       710  year      1    -\n",
       " 4  Westerlands      DACCS       710       720  year      1    -\n",
       " 5  Westerlands      DACCS       720       720  year      1    -,\n",
       " 'initial_new_capacity_up':       node_loc technology  year_vtg  value unit\n",
       " 0     Westeros      DACCS       700    0.5   GW\n",
       " 1     Westeros      DACCS       710    0.5   GW\n",
       " 2     Westeros      DACCS       720    0.5   GW\n",
       " 0  Westerlands      DACCS       700    0.5   GW\n",
       " 1  Westerlands      DACCS       710    0.5   GW\n",
       " 2  Westerlands      DACCS       720    0.5   GW}"
      ]
     },
     "execution_count": 2,
     "metadata": {},
     "output_type": "execute_result"
    }
   ],
   "source": [
    "generate_df()"
   ]
  },
  {
   "cell_type": "code",
   "execution_count": 3,
   "id": "33a25744",
   "metadata": {},
   "outputs": [
    {
     "name": "stdout",
     "output_type": "stream",
     "text": [
      "technical_lifetime DACCS Westeros\n",
      "technical_lifetime DACCS Westerlands\n",
      "var_cost DACCS Westeros\n",
      "var_cost DACCS Westerlands\n",
      "inv_cost DACCS Westeros\n",
      "inv_cost DACCS Westerlands\n",
      "emission_factor DACCS Westeros\n",
      "emission_factor DACCS Westerlands\n",
      "growth_new_capacity_up DACCS Westeros\n",
      "growth_new_capacity_up DACCS Westerlands\n",
      "fix_cost DACCS Westeros\n",
      "fix_cost DACCS Westerlands\n",
      "capacity_factor DACCS Westeros\n",
      "capacity_factor DACCS Westerlands\n",
      "initial_new_capacity_up DACCS Westeros\n",
      "initial_new_capacity_up DACCS Westerlands\n"
     ]
    }
   ],
   "source": [
    "print_df()"
   ]
  },
  {
   "cell_type": "code",
   "execution_count": null,
   "id": "98f3f561",
   "metadata": {},
   "outputs": [],
   "source": [
    "data_expand"
   ]
  },
  {
   "cell_type": "code",
   "execution_count": null,
   "id": "34cf0deb",
   "metadata": {},
   "outputs": [],
   "source": []
  }
 ],
 "metadata": {
  "kernelspec": {
   "display_name": "Python 3 (ipykernel)",
   "language": "python",
   "name": "python3"
  },
  "language_info": {
   "codemirror_mode": {
    "name": "ipython",
    "version": 3
   },
   "file_extension": ".py",
   "mimetype": "text/x-python",
   "name": "python",
   "nbconvert_exporter": "python",
   "pygments_lexer": "ipython3",
   "version": "3.10.9"
  }
 },
 "nbformat": 4,
 "nbformat_minor": 5
}

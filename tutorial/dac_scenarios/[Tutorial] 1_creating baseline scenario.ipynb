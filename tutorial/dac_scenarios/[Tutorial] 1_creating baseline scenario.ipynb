{
 "cells": [
  {
   "cell_type": "markdown",
   "id": "9ce2dbbc",
   "metadata": {},
   "source": [
    "This script is to add data general. \n",
    "Import all required tools"
   ]
  },
  {
   "cell_type": "code",
   "execution_count": null,
   "id": "db473272",
   "metadata": {},
   "outputs": [],
   "source": [
    "import ixmp\n",
    "import message_ix\n",
    "import numpy as np\n",
    "import pandas as pd\n",
    "import yaml\n",
    "\n",
    "from collections.abc import Mapping\n",
    "from itertools import repeat\n",
    "from message_ix.models import MESSAGE_ITEMS\n",
    "from message_ix.utils import make_df\n",
    "from message_ix.tools.add_dac import add_dac\n",
    "\n",
    "%matplotlib inline\n",
    "\n",
    "mp = ixmp.Platform('local')\n",
    "#mp.scenario_list()"
   ]
  },
  {
   "cell_type": "markdown",
   "id": "7d4cf7f5",
   "metadata": {},
   "source": [
    "This part is just to generate a dummy scenario as basis for adding technology parameters. Need to be removed once integrated"
   ]
  },
  {
   "cell_type": "code",
   "execution_count": null,
   "id": "8664097c",
   "metadata": {},
   "outputs": [],
   "source": [
    "base = message_ix.Scenario(\n",
    "    mp, model=\"GENIE_sandbox_daccstest\", scenario=\"baseline\", version=\"new\"\n",
    ")\n",
    "data_file = 'GENIE_sandbox_daccstest.xlsx'\n",
    "base.read_excel(data_file, add_units=True, init_items=True)"
   ]
  },
  {
   "cell_type": "code",
   "execution_count": null,
   "id": "34cf0deb",
   "metadata": {},
   "outputs": [],
   "source": [
    "\n",
    "scen = base.clone(\n",
    "    \"GENIE_sandbox\",\n",
    "    \"add_tech_baseline\",\n",
    "    \"introducing the add_tech feature on MESSAGEix\", \n",
    "    keep_solution=False, \n",
    ")\n",
    "scen.check_out()\n",
    "\n",
    "year_df = scen.vintage_and_active_years()\n",
    "vintage_years, act_years = year_df[\"year_vtg\"], year_df[\"year_act\"]\n",
    "model_horizon = scen.set(\"year\")"
   ]
  },
  {
   "cell_type": "markdown",
   "id": "abcbfbe2",
   "metadata": {},
   "source": [
    "## Run the model"
   ]
  },
  {
   "cell_type": "code",
   "execution_count": null,
   "id": "32bf3996",
   "metadata": {},
   "outputs": [],
   "source": [
    "scen.commit(comment=\"Copy and run baseline scenario\")\n",
    "scen.set_as_default()\n",
    "scen.solve(solve_options={'barcrossalg': '2','scaind':'1'})\n",
    "scen.var(\"OBJ\")[\"lvl\"]"
   ]
  },
  {
   "cell_type": "markdown",
   "id": "92dd9c90",
   "metadata": {},
   "source": [
    "## Close connection"
   ]
  },
  {
   "cell_type": "code",
   "execution_count": null,
   "id": "f8e3cad8",
   "metadata": {},
   "outputs": [],
   "source": [
    "mp.close_db()"
   ]
  },
  {
   "cell_type": "code",
   "execution_count": null,
   "id": "0742df19",
   "metadata": {},
   "outputs": [],
   "source": []
  }
 ],
 "metadata": {
  "kernelspec": {
   "display_name": "Python 3 (ipykernel)",
   "language": "python",
   "name": "python3"
  },
  "language_info": {
   "codemirror_mode": {
    "name": "ipython",
    "version": 3
   },
   "file_extension": ".py",
   "mimetype": "text/x-python",
   "name": "python",
   "nbconvert_exporter": "python",
   "pygments_lexer": "ipython3",
   "version": "3.10.9"
  }
 },
 "nbformat": 4,
 "nbformat_minor": 5
}

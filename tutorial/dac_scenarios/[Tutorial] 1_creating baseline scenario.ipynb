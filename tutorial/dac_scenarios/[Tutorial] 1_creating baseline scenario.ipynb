{
 "cells": [
  {
   "cell_type": "markdown",
   "id": "9ce2dbbc",
   "metadata": {},
   "source": [
    "This script is to add data general. \n",
    "Import all required tools"
   ]
  },
  {
   "cell_type": "code",
   "execution_count": 1,
   "id": "db473272",
   "metadata": {},
   "outputs": [
    {
     "data": {
      "application/javascript": [
       "if (typeof IPython !== 'undefined') { IPython.OutputArea.prototype._should_scroll = function(lines){ return false; }}"
      ],
      "text/plain": [
       "<IPython.core.display.Javascript object>"
      ]
     },
     "metadata": {},
     "output_type": "display_data"
    },
    {
     "name": "stderr",
     "output_type": "stream",
     "text": [
      "C:\\Users\\pratama\\Documents\\GitHub\\MESSAGEix\\message_ix\\message_ix\\reporting\\__init__.py:98: FutureWarning: Importing from genno.computations will be deprecated in a future version; use genno.operator instead.\n",
      "  (\"tom:nl-t-yv-ya\", (genno.computations.add, \"fom:nl-t-yv-ya\", \"vom:nl-t-yv-ya\")),\n"
     ]
    },
    {
     "ename": "ImportError",
     "evalue": "cannot import name 'add_dac' from 'message_ix.tools.add_dac' (unknown location)",
     "output_type": "error",
     "traceback": [
      "\u001b[1;31m---------------------------------------------------------------------------\u001b[0m",
      "\u001b[1;31mImportError\u001b[0m                               Traceback (most recent call last)",
      "Cell \u001b[1;32mIn[1], line 11\u001b[0m\n\u001b[0;32m      9\u001b[0m \u001b[38;5;28;01mfrom\u001b[39;00m \u001b[38;5;21;01mmessage_ix\u001b[39;00m\u001b[38;5;21;01m.\u001b[39;00m\u001b[38;5;21;01mmodels\u001b[39;00m \u001b[38;5;28;01mimport\u001b[39;00m MESSAGE_ITEMS\n\u001b[0;32m     10\u001b[0m \u001b[38;5;28;01mfrom\u001b[39;00m \u001b[38;5;21;01mmessage_ix\u001b[39;00m\u001b[38;5;21;01m.\u001b[39;00m\u001b[38;5;21;01mutils\u001b[39;00m \u001b[38;5;28;01mimport\u001b[39;00m make_df\n\u001b[1;32m---> 11\u001b[0m \u001b[38;5;28;01mfrom\u001b[39;00m \u001b[38;5;21;01mmessage_ix\u001b[39;00m\u001b[38;5;21;01m.\u001b[39;00m\u001b[38;5;21;01mtools\u001b[39;00m\u001b[38;5;21;01m.\u001b[39;00m\u001b[38;5;21;01madd_dac\u001b[39;00m \u001b[38;5;28;01mimport\u001b[39;00m add_dac\n\u001b[0;32m     13\u001b[0m get_ipython()\u001b[38;5;241m.\u001b[39mrun_line_magic(\u001b[38;5;124m'\u001b[39m\u001b[38;5;124mmatplotlib\u001b[39m\u001b[38;5;124m'\u001b[39m, \u001b[38;5;124m'\u001b[39m\u001b[38;5;124minline\u001b[39m\u001b[38;5;124m'\u001b[39m)\n\u001b[0;32m     15\u001b[0m mp \u001b[38;5;241m=\u001b[39m ixmp\u001b[38;5;241m.\u001b[39mPlatform(\u001b[38;5;124m'\u001b[39m\u001b[38;5;124mlocal\u001b[39m\u001b[38;5;124m'\u001b[39m)\n",
      "\u001b[1;31mImportError\u001b[0m: cannot import name 'add_dac' from 'message_ix.tools.add_dac' (unknown location)"
     ]
    }
   ],
   "source": [
    "import ixmp\n",
    "import message_ix\n",
    "import numpy as np\n",
    "import pandas as pd\n",
    "import yaml\n",
    "\n",
    "from collections.abc import Mapping\n",
    "from itertools import repeat\n",
    "from message_ix.models import MESSAGE_ITEMS\n",
    "from message_ix.utils import make_df\n",
    "from message_ix.tools.add_dac import add_dac\n",
    "\n",
    "%matplotlib inline\n",
    "\n",
    "mp = ixmp.Platform('local')\n",
    "#mp.scenario_list()"
   ]
  },
  {
   "cell_type": "code",
   "execution_count": 2,
   "id": "250f7c65",
   "metadata": {},
   "outputs": [
    {
     "data": {
      "text/html": [
       "<div>\n",
       "<style scoped>\n",
       "    .dataframe tbody tr th:only-of-type {\n",
       "        vertical-align: middle;\n",
       "    }\n",
       "\n",
       "    .dataframe tbody tr th {\n",
       "        vertical-align: top;\n",
       "    }\n",
       "\n",
       "    .dataframe thead th {\n",
       "        text-align: right;\n",
       "    }\n",
       "</style>\n",
       "<table border=\"1\" class=\"dataframe\">\n",
       "  <thead>\n",
       "    <tr style=\"text-align: right;\">\n",
       "      <th></th>\n",
       "      <th>model</th>\n",
       "      <th>scenario</th>\n",
       "      <th>scheme</th>\n",
       "      <th>is_default</th>\n",
       "      <th>is_locked</th>\n",
       "      <th>cre_user</th>\n",
       "      <th>cre_date</th>\n",
       "      <th>upd_user</th>\n",
       "      <th>upd_date</th>\n",
       "      <th>lock_user</th>\n",
       "      <th>lock_date</th>\n",
       "      <th>annotation</th>\n",
       "      <th>version</th>\n",
       "    </tr>\n",
       "  </thead>\n",
       "  <tbody>\n",
       "    <tr>\n",
       "      <th>0</th>\n",
       "      <td>GENIE_sandbox</td>\n",
       "      <td>add_tech</td>\n",
       "      <td>MESSAGE</td>\n",
       "      <td>1</td>\n",
       "      <td>0</td>\n",
       "      <td>pratama</td>\n",
       "      <td>2023-11-02 11:58:45.873000</td>\n",
       "      <td>pratama</td>\n",
       "      <td>2023-11-02 12:05:54.796000</td>\n",
       "      <td>None</td>\n",
       "      <td>None</td>\n",
       "      <td>clone Scenario from 'GENIE_sandbox|baseline', ...</td>\n",
       "      <td>2</td>\n",
       "    </tr>\n",
       "    <tr>\n",
       "      <th>1</th>\n",
       "      <td>GENIE_sandbox</td>\n",
       "      <td>add_tech_baseline</td>\n",
       "      <td>MESSAGE</td>\n",
       "      <td>1</td>\n",
       "      <td>0</td>\n",
       "      <td>pratama</td>\n",
       "      <td>2024-01-18 14:39:37.876000</td>\n",
       "      <td>None</td>\n",
       "      <td>None</td>\n",
       "      <td>None</td>\n",
       "      <td>None</td>\n",
       "      <td>clone Scenario from 'GENIE_sandbox|baseline', ...</td>\n",
       "      <td>15</td>\n",
       "    </tr>\n",
       "    <tr>\n",
       "      <th>2</th>\n",
       "      <td>GENIE_sandbox</td>\n",
       "      <td>add_tech_emission bound 1000</td>\n",
       "      <td>MESSAGE</td>\n",
       "      <td>1</td>\n",
       "      <td>0</td>\n",
       "      <td>pratama</td>\n",
       "      <td>2023-11-02 14:36:01.778000</td>\n",
       "      <td>None</td>\n",
       "      <td>None</td>\n",
       "      <td>None</td>\n",
       "      <td>None</td>\n",
       "      <td>clone Scenario from 'GENIE_sandbox|add_tech_ba...</td>\n",
       "      <td>2</td>\n",
       "    </tr>\n",
       "    <tr>\n",
       "      <th>3</th>\n",
       "      <td>GENIE_sandbox</td>\n",
       "      <td>add_tech_emission_bound1000</td>\n",
       "      <td>MESSAGE</td>\n",
       "      <td>1</td>\n",
       "      <td>0</td>\n",
       "      <td>pratama</td>\n",
       "      <td>2023-11-07 08:36:52.773000</td>\n",
       "      <td>pratama</td>\n",
       "      <td>2023-11-07 08:41:17.168000</td>\n",
       "      <td>None</td>\n",
       "      <td>None</td>\n",
       "      <td>clone Scenario from 'GENIE_sandbox|add_tech_ba...</td>\n",
       "      <td>5</td>\n",
       "    </tr>\n",
       "    <tr>\n",
       "      <th>4</th>\n",
       "      <td>GENIE_sandbox</td>\n",
       "      <td>baseline</td>\n",
       "      <td>MESSAGE</td>\n",
       "      <td>1</td>\n",
       "      <td>0</td>\n",
       "      <td>pratama</td>\n",
       "      <td>2023-11-02 11:57:59.509000</td>\n",
       "      <td>None</td>\n",
       "      <td>None</td>\n",
       "      <td>None</td>\n",
       "      <td>None</td>\n",
       "      <td>clone Scenario from 'ENGAGE_SSP2_v4.1.7|NPi202...</td>\n",
       "      <td>1</td>\n",
       "    </tr>\n",
       "    <tr>\n",
       "      <th>5</th>\n",
       "      <td>GENIE_sandbox</td>\n",
       "      <td>daccs_baseline</td>\n",
       "      <td>MESSAGE</td>\n",
       "      <td>1</td>\n",
       "      <td>0</td>\n",
       "      <td>pratama</td>\n",
       "      <td>2024-01-16 11:15:01.943000</td>\n",
       "      <td>None</td>\n",
       "      <td>None</td>\n",
       "      <td>None</td>\n",
       "      <td>None</td>\n",
       "      <td>clone Scenario from 'GENIE_sandbox|baseline', ...</td>\n",
       "      <td>2</td>\n",
       "    </tr>\n",
       "    <tr>\n",
       "      <th>6</th>\n",
       "      <td>GENIE_sandbox</td>\n",
       "      <td>daccs_emission_bound1000</td>\n",
       "      <td>MESSAGE</td>\n",
       "      <td>1</td>\n",
       "      <td>0</td>\n",
       "      <td>pratama</td>\n",
       "      <td>2024-01-16 11:25:53.502000</td>\n",
       "      <td>None</td>\n",
       "      <td>None</td>\n",
       "      <td>None</td>\n",
       "      <td>None</td>\n",
       "      <td>clone Scenario from 'GENIE_sandbox|daccs_basel...</td>\n",
       "      <td>1</td>\n",
       "    </tr>\n",
       "    <tr>\n",
       "      <th>7</th>\n",
       "      <td>Westeros Electrified</td>\n",
       "      <td>add_tech</td>\n",
       "      <td>MESSAGE</td>\n",
       "      <td>1</td>\n",
       "      <td>1</td>\n",
       "      <td>pratama</td>\n",
       "      <td>2023-10-09 12:35:27.406000</td>\n",
       "      <td>None</td>\n",
       "      <td>None</td>\n",
       "      <td>pratama</td>\n",
       "      <td>2023-10-09 12:35:28.043000</td>\n",
       "      <td>clone Scenario from 'Westeros Electrified|base...</td>\n",
       "      <td>1</td>\n",
       "    </tr>\n",
       "    <tr>\n",
       "      <th>8</th>\n",
       "      <td>Westeros Electrified</td>\n",
       "      <td>baseline</td>\n",
       "      <td>MESSAGE</td>\n",
       "      <td>1</td>\n",
       "      <td>0</td>\n",
       "      <td>pratama</td>\n",
       "      <td>2023-10-09 12:34:00.554000</td>\n",
       "      <td>pratama</td>\n",
       "      <td>2023-10-09 12:34:02.301000</td>\n",
       "      <td>None</td>\n",
       "      <td>None</td>\n",
       "      <td>basic model of Westeros electrification</td>\n",
       "      <td>1</td>\n",
       "    </tr>\n",
       "    <tr>\n",
       "      <th>9</th>\n",
       "      <td>mps_test</td>\n",
       "      <td>22sept_1053am</td>\n",
       "      <td>MESSAGE</td>\n",
       "      <td>1</td>\n",
       "      <td>0</td>\n",
       "      <td>pratama</td>\n",
       "      <td>2023-10-24 17:09:31.326000</td>\n",
       "      <td>pratama</td>\n",
       "      <td>2023-10-24 17:13:19.338000</td>\n",
       "      <td>None</td>\n",
       "      <td>None</td>\n",
       "      <td>clone Scenario from 'mps_test|baseline', versi...</td>\n",
       "      <td>11</td>\n",
       "    </tr>\n",
       "    <tr>\n",
       "      <th>10</th>\n",
       "      <td>mps_test</td>\n",
       "      <td>baseline</td>\n",
       "      <td>MESSAGE</td>\n",
       "      <td>1</td>\n",
       "      <td>0</td>\n",
       "      <td>pratama</td>\n",
       "      <td>2023-09-22 10:30:54.423000</td>\n",
       "      <td>pratama</td>\n",
       "      <td>2023-09-22 11:03:16.215000</td>\n",
       "      <td>None</td>\n",
       "      <td>None</td>\n",
       "      <td>Import from mps_test_data.xlsx</td>\n",
       "      <td>1</td>\n",
       "    </tr>\n",
       "  </tbody>\n",
       "</table>\n",
       "</div>"
      ],
      "text/plain": [
       "                   model                      scenario   scheme  is_default  \\\n",
       "0          GENIE_sandbox                      add_tech  MESSAGE           1   \n",
       "1          GENIE_sandbox             add_tech_baseline  MESSAGE           1   \n",
       "2          GENIE_sandbox  add_tech_emission bound 1000  MESSAGE           1   \n",
       "3          GENIE_sandbox   add_tech_emission_bound1000  MESSAGE           1   \n",
       "4          GENIE_sandbox                      baseline  MESSAGE           1   \n",
       "5          GENIE_sandbox                daccs_baseline  MESSAGE           1   \n",
       "6          GENIE_sandbox      daccs_emission_bound1000  MESSAGE           1   \n",
       "7   Westeros Electrified                      add_tech  MESSAGE           1   \n",
       "8   Westeros Electrified                      baseline  MESSAGE           1   \n",
       "9               mps_test                 22sept_1053am  MESSAGE           1   \n",
       "10              mps_test                      baseline  MESSAGE           1   \n",
       "\n",
       "    is_locked cre_user                    cre_date upd_user  \\\n",
       "0           0  pratama  2023-11-02 11:58:45.873000  pratama   \n",
       "1           0  pratama  2024-01-18 14:39:37.876000     None   \n",
       "2           0  pratama  2023-11-02 14:36:01.778000     None   \n",
       "3           0  pratama  2023-11-07 08:36:52.773000  pratama   \n",
       "4           0  pratama  2023-11-02 11:57:59.509000     None   \n",
       "5           0  pratama  2024-01-16 11:15:01.943000     None   \n",
       "6           0  pratama  2024-01-16 11:25:53.502000     None   \n",
       "7           1  pratama  2023-10-09 12:35:27.406000     None   \n",
       "8           0  pratama  2023-10-09 12:34:00.554000  pratama   \n",
       "9           0  pratama  2023-10-24 17:09:31.326000  pratama   \n",
       "10          0  pratama  2023-09-22 10:30:54.423000  pratama   \n",
       "\n",
       "                      upd_date lock_user                   lock_date  \\\n",
       "0   2023-11-02 12:05:54.796000      None                        None   \n",
       "1                         None      None                        None   \n",
       "2                         None      None                        None   \n",
       "3   2023-11-07 08:41:17.168000      None                        None   \n",
       "4                         None      None                        None   \n",
       "5                         None      None                        None   \n",
       "6                         None      None                        None   \n",
       "7                         None   pratama  2023-10-09 12:35:28.043000   \n",
       "8   2023-10-09 12:34:02.301000      None                        None   \n",
       "9   2023-10-24 17:13:19.338000      None                        None   \n",
       "10  2023-09-22 11:03:16.215000      None                        None   \n",
       "\n",
       "                                           annotation  version  \n",
       "0   clone Scenario from 'GENIE_sandbox|baseline', ...        2  \n",
       "1   clone Scenario from 'GENIE_sandbox|baseline', ...       15  \n",
       "2   clone Scenario from 'GENIE_sandbox|add_tech_ba...        2  \n",
       "3   clone Scenario from 'GENIE_sandbox|add_tech_ba...        5  \n",
       "4   clone Scenario from 'ENGAGE_SSP2_v4.1.7|NPi202...        1  \n",
       "5   clone Scenario from 'GENIE_sandbox|baseline', ...        2  \n",
       "6   clone Scenario from 'GENIE_sandbox|daccs_basel...        1  \n",
       "7   clone Scenario from 'Westeros Electrified|base...        1  \n",
       "8             basic model of Westeros electrification        1  \n",
       "9   clone Scenario from 'mps_test|baseline', versi...       11  \n",
       "10                     Import from mps_test_data.xlsx        1  "
      ]
     },
     "execution_count": 2,
     "metadata": {},
     "output_type": "execute_result"
    }
   ],
   "source": [
    "mp.scenario_list()"
   ]
  },
  {
   "cell_type": "code",
   "execution_count": 10,
   "id": "d278c46b",
   "metadata": {},
   "outputs": [],
   "source": [
    "base = message_ix.Scenario(mp, model=\"GENIE_sandbox\", scenario=\"baseline\")"
   ]
  },
  {
   "cell_type": "code",
   "execution_count": 11,
   "id": "741e3350",
   "metadata": {},
   "outputs": [
    {
     "data": {
      "text/plain": [
       "3136094.25"
      ]
     },
     "execution_count": 11,
     "metadata": {},
     "output_type": "execute_result"
    }
   ],
   "source": [
    "base.var(\"OBJ\")[\"lvl\"]"
   ]
  },
  {
   "cell_type": "code",
   "execution_count": 12,
   "id": "6106c7ad",
   "metadata": {},
   "outputs": [
    {
     "name": "stderr",
     "output_type": "stream",
     "text": [
      "C:\\Users\\pratama\\Documents\\GitHub\\MESSAGEix\\message_data\\message_data\\tools\\utilities\\get_historical_years.py:17: FutureWarning: Calling int on a single element Series is deprecated and will raise a TypeError in the future. Use int(ser.iloc[0]) instead\n",
      "  firstmodelyear = int(\n",
      "C:\\Users\\pratama\\Documents\\GitHub\\MESSAGEix\\message_data\\message_data\\tools\\utilities\\get_optimization_years.py:15: FutureWarning: Calling int on a single element Series is deprecated and will raise a TypeError in the future. Use int(ser.iloc[0]) instead\n",
      "  firstmodelyear = int(\n"
     ]
    },
    {
     "name": "stdout",
     "output_type": "stream",
     "text": [
      "processing Table: Resource|Extraction\n",
      "processing Table: Resource|Cumulative Extraction\n",
      "processing Table: Primary Energy\n"
     ]
    },
    {
     "ename": "TypeError",
     "evalue": "unsupported operand type(s) for /: 'str' and 'str'",
     "output_type": "error",
     "traceback": [
      "\u001b[1;31m---------------------------------------------------------------------------\u001b[0m",
      "\u001b[1;31mTypeError\u001b[0m                                 Traceback (most recent call last)",
      "File \u001b[1;32m~\\Anaconda3\\envs\\message_env\\lib\\site-packages\\pandas\\core\\ops\\array_ops.py:220\u001b[0m, in \u001b[0;36m_na_arithmetic_op\u001b[1;34m(left, right, op, is_cmp)\u001b[0m\n\u001b[0;32m    219\u001b[0m \u001b[38;5;28;01mtry\u001b[39;00m:\n\u001b[1;32m--> 220\u001b[0m     result \u001b[38;5;241m=\u001b[39m \u001b[43mfunc\u001b[49m\u001b[43m(\u001b[49m\u001b[43mleft\u001b[49m\u001b[43m,\u001b[49m\u001b[43m \u001b[49m\u001b[43mright\u001b[49m\u001b[43m)\u001b[49m\n\u001b[0;32m    221\u001b[0m \u001b[38;5;28;01mexcept\u001b[39;00m \u001b[38;5;167;01mTypeError\u001b[39;00m:\n",
      "File \u001b[1;32m~\\Anaconda3\\envs\\message_env\\lib\\site-packages\\pandas\\core\\computation\\expressions.py:242\u001b[0m, in \u001b[0;36mevaluate\u001b[1;34m(op, a, b, use_numexpr)\u001b[0m\n\u001b[0;32m    240\u001b[0m     \u001b[38;5;28;01mif\u001b[39;00m use_numexpr:\n\u001b[0;32m    241\u001b[0m         \u001b[38;5;66;03m# error: \"None\" not callable\u001b[39;00m\n\u001b[1;32m--> 242\u001b[0m         \u001b[38;5;28;01mreturn\u001b[39;00m \u001b[43m_evaluate\u001b[49m\u001b[43m(\u001b[49m\u001b[43mop\u001b[49m\u001b[43m,\u001b[49m\u001b[43m \u001b[49m\u001b[43mop_str\u001b[49m\u001b[43m,\u001b[49m\u001b[43m \u001b[49m\u001b[43ma\u001b[49m\u001b[43m,\u001b[49m\u001b[43m \u001b[49m\u001b[43mb\u001b[49m\u001b[43m)\u001b[49m  \u001b[38;5;66;03m# type: ignore[misc]\u001b[39;00m\n\u001b[0;32m    243\u001b[0m \u001b[38;5;28;01mreturn\u001b[39;00m _evaluate_standard(op, op_str, a, b)\n",
      "File \u001b[1;32m~\\Anaconda3\\envs\\message_env\\lib\\site-packages\\pandas\\core\\computation\\expressions.py:73\u001b[0m, in \u001b[0;36m_evaluate_standard\u001b[1;34m(op, op_str, a, b)\u001b[0m\n\u001b[0;32m     72\u001b[0m     _store_test_result(\u001b[38;5;28;01mFalse\u001b[39;00m)\n\u001b[1;32m---> 73\u001b[0m \u001b[38;5;28;01mreturn\u001b[39;00m \u001b[43mop\u001b[49m\u001b[43m(\u001b[49m\u001b[43ma\u001b[49m\u001b[43m,\u001b[49m\u001b[43m \u001b[49m\u001b[43mb\u001b[49m\u001b[43m)\u001b[49m\n",
      "\u001b[1;31mTypeError\u001b[0m: unsupported operand type(s) for /: 'str' and 'str'",
      "\nDuring handling of the above exception, another exception occurred:\n",
      "\u001b[1;31mTypeError\u001b[0m                                 Traceback (most recent call last)",
      "Cell \u001b[1;32mIn[12], line 3\u001b[0m\n\u001b[0;32m      1\u001b[0m \u001b[38;5;66;03m# report baseline\u001b[39;00m\n\u001b[0;32m      2\u001b[0m \u001b[38;5;28;01mfrom\u001b[39;00m \u001b[38;5;21;01mmessage_data\u001b[39;00m\u001b[38;5;21;01m.\u001b[39;00m\u001b[38;5;21;01mtools\u001b[39;00m\u001b[38;5;21;01m.\u001b[39;00m\u001b[38;5;21;01mpost_processing\u001b[39;00m\u001b[38;5;21;01m.\u001b[39;00m\u001b[38;5;21;01miamc_report_hackathon\u001b[39;00m \u001b[38;5;28;01mimport\u001b[39;00m report \u001b[38;5;28;01mas\u001b[39;00m reporting\n\u001b[1;32m----> 3\u001b[0m \u001b[43mreporting\u001b[49m\u001b[43m(\u001b[49m\n\u001b[0;32m      4\u001b[0m \u001b[43m    \u001b[49m\u001b[43mmp\u001b[49m\u001b[43m,\u001b[49m\n\u001b[0;32m      5\u001b[0m \u001b[43m    \u001b[49m\u001b[43mbase\u001b[49m\u001b[43m,\u001b[49m\n\u001b[0;32m      6\u001b[0m \u001b[43m    \u001b[49m\u001b[38;5;66;43;03m# NB(PNK) this is not an error; .iamc_report_hackathon.report() expects a\u001b[39;49;00m\n\u001b[0;32m      7\u001b[0m \u001b[43m    \u001b[49m\u001b[38;5;66;43;03m#         string containing \"True\" or \"False\" instead of an actual bool.\u001b[39;49;00m\n\u001b[0;32m      8\u001b[0m \u001b[43m    \u001b[49m\u001b[38;5;124;43m\"\u001b[39;49m\u001b[38;5;124;43mTrue\u001b[39;49m\u001b[38;5;124;43m\"\u001b[39;49m\u001b[43m,\u001b[49m\n\u001b[0;32m      9\u001b[0m \u001b[43m    \u001b[49m\u001b[43mbase\u001b[49m\u001b[38;5;241;43m.\u001b[39;49m\u001b[43mmodel\u001b[49m\u001b[43m,\u001b[49m\n\u001b[0;32m     10\u001b[0m \u001b[43m    \u001b[49m\u001b[43mbase\u001b[49m\u001b[38;5;241;43m.\u001b[39;49m\u001b[43mscenario\u001b[49m\u001b[43m,\u001b[49m\n\u001b[0;32m     11\u001b[0m \u001b[43m    \u001b[49m\u001b[43mmerge_hist\u001b[49m\u001b[38;5;241;43m=\u001b[39;49m\u001b[38;5;28;43;01mTrue\u001b[39;49;00m\u001b[43m,\u001b[49m\n\u001b[0;32m     12\u001b[0m \u001b[43m    \u001b[49m\u001b[43mmerge_ts\u001b[49m\u001b[38;5;241;43m=\u001b[39;49m\u001b[38;5;28;43;01mTrue\u001b[39;49;00m\u001b[43m,\u001b[49m\n\u001b[0;32m     13\u001b[0m \u001b[43m    \u001b[49m\u001b[38;5;66;43;03m#run_config=\"materials_run_config.yaml\",\u001b[39;49;00m\n\u001b[0;32m     14\u001b[0m \u001b[43m)\u001b[49m\n",
      "File \u001b[1;32m~\\Documents\\GitHub\\MESSAGEix\\message_data\\message_data\\tools\\post_processing\\iamc_report_hackathon.py:278\u001b[0m, in \u001b[0;36mreport\u001b[1;34m(mp, scen, ref_sol, model_out, scenario_out, out_dir, merge_hist, merge_ts, aggr_def, var_def, unit_yaml, run_config, urban_perc, kyoto_hist, lu_hist, verbose)\u001b[0m\n\u001b[0;32m    270\u001b[0m         \u001b[38;5;28;01mif\u001b[39;00m (\n\u001b[0;32m    271\u001b[0m             \u001b[38;5;124m\"\u001b[39m\u001b[38;5;124mcondition\u001b[39m\u001b[38;5;124m\"\u001b[39m \u001b[38;5;129;01min\u001b[39;00m run_tables[i]\n\u001b[0;32m    272\u001b[0m             \u001b[38;5;129;01mand\u001b[39;00m \u001b[38;5;28meval\u001b[39m(run_tables[i][\u001b[38;5;124m\"\u001b[39m\u001b[38;5;124mcondition\u001b[39m\u001b[38;5;124m\"\u001b[39m]) \u001b[38;5;129;01mis\u001b[39;00m \u001b[38;5;28;01mTrue\u001b[39;00m\n\u001b[0;32m    273\u001b[0m         ):\n\u001b[0;32m    274\u001b[0m             \u001b[38;5;28;01mcontinue\u001b[39;00m\n\u001b[0;32m    275\u001b[0m         dfs[i] \u001b[38;5;241m=\u001b[39m (\n\u001b[0;32m    276\u001b[0m             func_dict[run_tables[i][\u001b[38;5;124m\"\u001b[39m\u001b[38;5;124mfunction\u001b[39m\u001b[38;5;124m\"\u001b[39m]]()\n\u001b[0;32m    277\u001b[0m             \u001b[38;5;28;01mif\u001b[39;00m \u001b[38;5;124m\"\u001b[39m\u001b[38;5;124margs\u001b[39m\u001b[38;5;124m\"\u001b[39m \u001b[38;5;129;01mnot\u001b[39;00m \u001b[38;5;129;01min\u001b[39;00m run_tables[i]\n\u001b[1;32m--> 278\u001b[0m             \u001b[38;5;28;01melse\u001b[39;00m func_dict[run_tables[i][\u001b[38;5;124m\"\u001b[39m\u001b[38;5;124mfunction\u001b[39m\u001b[38;5;124m\"\u001b[39m]](\u001b[38;5;241m*\u001b[39m\u001b[38;5;241m*\u001b[39mrun_tables[i][\u001b[38;5;124m\"\u001b[39m\u001b[38;5;124margs\u001b[39m\u001b[38;5;124m\"\u001b[39m])\n\u001b[0;32m    279\u001b[0m         )\n\u001b[0;32m    281\u001b[0m \u001b[38;5;66;03m# ---------------------------------\u001b[39;00m\n\u001b[0;32m    282\u001b[0m \u001b[38;5;66;03m# Convert dataframes to IAMC-format\u001b[39;00m\n\u001b[0;32m    283\u001b[0m \u001b[38;5;66;03m# ---------------------------------\u001b[39;00m\n\u001b[0;32m    285\u001b[0m \u001b[38;5;28;01mif\u001b[39;00m merge_hist \u001b[38;5;129;01mor\u001b[39;00m merge_ts:\n\u001b[0;32m    286\u001b[0m     \u001b[38;5;66;03m# Create mapping for regions\u001b[39;00m\n\u001b[0;32m    287\u001b[0m     \u001b[38;5;66;03m# {database name: output name}\u001b[39;00m\n\u001b[0;32m    288\u001b[0m     \u001b[38;5;66;03m# e.g. {\"Subsaharan Africa (R11)\": \"AFR\"}\u001b[39;00m\n",
      "File \u001b[1;32m~\\Documents\\GitHub\\MESSAGEix\\message_data\\message_data\\tools\\post_processing\\default_tables.py:4756\u001b[0m, in \u001b[0;36mretr_pe\u001b[1;34m(units, method)\u001b[0m\n\u001b[0;32m   4753\u001b[0m _Coalgas \u001b[38;5;241m=\u001b[39m pp\u001b[38;5;241m.\u001b[39mout(\u001b[38;5;124m\"\u001b[39m\u001b[38;5;124mcoal_gas\u001b[39m\u001b[38;5;124m\"\u001b[39m, units)\n\u001b[0;32m   4755\u001b[0m \u001b[38;5;66;03m# Calculate shares for ppl feeding into g_ppl_co2scr (gas_cc and gas_ppl)\u001b[39;00m\n\u001b[1;32m-> 4756\u001b[0m _gas_cc_shr \u001b[38;5;241m=\u001b[39m (\u001b[43mpp\u001b[49m\u001b[38;5;241;43m.\u001b[39;49m\u001b[43mout\u001b[49m\u001b[43m(\u001b[49m\u001b[38;5;124;43m\"\u001b[39;49m\u001b[38;5;124;43mgas_cc\u001b[39;49m\u001b[38;5;124;43m\"\u001b[39;49m\u001b[43m)\u001b[49m\u001b[43m \u001b[49m\u001b[38;5;241;43m/\u001b[39;49m\u001b[43m \u001b[49m\u001b[43mpp\u001b[49m\u001b[38;5;241;43m.\u001b[39;49m\u001b[43mout\u001b[49m\u001b[43m(\u001b[49m\u001b[43m[\u001b[49m\u001b[38;5;124;43m\"\u001b[39;49m\u001b[38;5;124;43mgas_cc\u001b[39;49m\u001b[38;5;124;43m\"\u001b[39;49m\u001b[43m,\u001b[49m\u001b[43m \u001b[49m\u001b[38;5;124;43m\"\u001b[39;49m\u001b[38;5;124;43mgas_ppl\u001b[39;49m\u001b[38;5;124;43m\"\u001b[39;49m\u001b[43m]\u001b[49m\u001b[43m)\u001b[49m)\u001b[38;5;241m.\u001b[39mfillna(\u001b[38;5;241m0\u001b[39m)\n\u001b[0;32m   4758\u001b[0m _gas_ppl_shr \u001b[38;5;241m=\u001b[39m (pp\u001b[38;5;241m.\u001b[39mout(\u001b[38;5;124m\"\u001b[39m\u001b[38;5;124mgas_ppl\u001b[39m\u001b[38;5;124m\"\u001b[39m) \u001b[38;5;241m/\u001b[39m pp\u001b[38;5;241m.\u001b[39mout([\u001b[38;5;124m\"\u001b[39m\u001b[38;5;124mgas_cc\u001b[39m\u001b[38;5;124m\"\u001b[39m, \u001b[38;5;124m\"\u001b[39m\u001b[38;5;124mgas_ppl\u001b[39m\u001b[38;5;124m\"\u001b[39m]))\u001b[38;5;241m.\u001b[39mfillna(\u001b[38;5;241m0\u001b[39m)\n\u001b[0;32m   4760\u001b[0m \u001b[38;5;66;03m# Example of a set\u001b[39;00m\n",
      "File \u001b[1;32m~\\Anaconda3\\envs\\message_env\\lib\\site-packages\\pandas\\core\\ops\\common.py:76\u001b[0m, in \u001b[0;36m_unpack_zerodim_and_defer.<locals>.new_method\u001b[1;34m(self, other)\u001b[0m\n\u001b[0;32m     72\u001b[0m             \u001b[38;5;28;01mreturn\u001b[39;00m \u001b[38;5;28mNotImplemented\u001b[39m\n\u001b[0;32m     74\u001b[0m other \u001b[38;5;241m=\u001b[39m item_from_zerodim(other)\n\u001b[1;32m---> 76\u001b[0m \u001b[38;5;28;01mreturn\u001b[39;00m \u001b[43mmethod\u001b[49m\u001b[43m(\u001b[49m\u001b[38;5;28;43mself\u001b[39;49m\u001b[43m,\u001b[49m\u001b[43m \u001b[49m\u001b[43mother\u001b[49m\u001b[43m)\u001b[49m\n",
      "File \u001b[1;32m~\\Anaconda3\\envs\\message_env\\lib\\site-packages\\pandas\\core\\arraylike.py:210\u001b[0m, in \u001b[0;36mOpsMixin.__truediv__\u001b[1;34m(self, other)\u001b[0m\n\u001b[0;32m    208\u001b[0m \u001b[38;5;129m@unpack_zerodim_and_defer\u001b[39m(\u001b[38;5;124m\"\u001b[39m\u001b[38;5;124m__truediv__\u001b[39m\u001b[38;5;124m\"\u001b[39m)\n\u001b[0;32m    209\u001b[0m \u001b[38;5;28;01mdef\u001b[39;00m \u001b[38;5;21m__truediv__\u001b[39m(\u001b[38;5;28mself\u001b[39m, other):\n\u001b[1;32m--> 210\u001b[0m     \u001b[38;5;28;01mreturn\u001b[39;00m \u001b[38;5;28;43mself\u001b[39;49m\u001b[38;5;241;43m.\u001b[39;49m\u001b[43m_arith_method\u001b[49m\u001b[43m(\u001b[49m\u001b[43mother\u001b[49m\u001b[43m,\u001b[49m\u001b[43m \u001b[49m\u001b[43moperator\u001b[49m\u001b[38;5;241;43m.\u001b[39;49m\u001b[43mtruediv\u001b[49m\u001b[43m)\u001b[49m\n",
      "File \u001b[1;32m~\\Anaconda3\\envs\\message_env\\lib\\site-packages\\pandas\\core\\frame.py:7644\u001b[0m, in \u001b[0;36mDataFrame._arith_method\u001b[1;34m(self, other, op)\u001b[0m\n\u001b[0;32m   7641\u001b[0m \u001b[38;5;28mself\u001b[39m, other \u001b[38;5;241m=\u001b[39m \u001b[38;5;28mself\u001b[39m\u001b[38;5;241m.\u001b[39m_align_for_op(other, axis, flex\u001b[38;5;241m=\u001b[39m\u001b[38;5;28;01mTrue\u001b[39;00m, level\u001b[38;5;241m=\u001b[39m\u001b[38;5;28;01mNone\u001b[39;00m)\n\u001b[0;32m   7643\u001b[0m \u001b[38;5;28;01mwith\u001b[39;00m np\u001b[38;5;241m.\u001b[39merrstate(\u001b[38;5;28mall\u001b[39m\u001b[38;5;241m=\u001b[39m\u001b[38;5;124m\"\u001b[39m\u001b[38;5;124mignore\u001b[39m\u001b[38;5;124m\"\u001b[39m):\n\u001b[1;32m-> 7644\u001b[0m     new_data \u001b[38;5;241m=\u001b[39m \u001b[38;5;28;43mself\u001b[39;49m\u001b[38;5;241;43m.\u001b[39;49m\u001b[43m_dispatch_frame_op\u001b[49m\u001b[43m(\u001b[49m\u001b[43mother\u001b[49m\u001b[43m,\u001b[49m\u001b[43m \u001b[49m\u001b[43mop\u001b[49m\u001b[43m,\u001b[49m\u001b[43m \u001b[49m\u001b[43maxis\u001b[49m\u001b[38;5;241;43m=\u001b[39;49m\u001b[43maxis\u001b[49m\u001b[43m)\u001b[49m\n\u001b[0;32m   7645\u001b[0m \u001b[38;5;28;01mreturn\u001b[39;00m \u001b[38;5;28mself\u001b[39m\u001b[38;5;241m.\u001b[39m_construct_result(new_data)\n",
      "File \u001b[1;32m~\\Anaconda3\\envs\\message_env\\lib\\site-packages\\pandas\\core\\frame.py:7687\u001b[0m, in \u001b[0;36mDataFrame._dispatch_frame_op\u001b[1;34m(self, right, func, axis)\u001b[0m\n\u001b[0;32m   7681\u001b[0m     \u001b[38;5;28;01massert\u001b[39;00m \u001b[38;5;28mself\u001b[39m\u001b[38;5;241m.\u001b[39mcolumns\u001b[38;5;241m.\u001b[39mequals(right\u001b[38;5;241m.\u001b[39mcolumns)\n\u001b[0;32m   7682\u001b[0m     \u001b[38;5;66;03m# TODO: The previous assertion `assert right._indexed_same(self)`\u001b[39;00m\n\u001b[0;32m   7683\u001b[0m     \u001b[38;5;66;03m#  fails in cases with empty columns reached via\u001b[39;00m\n\u001b[0;32m   7684\u001b[0m     \u001b[38;5;66;03m#  _frame_arith_method_with_reindex\u001b[39;00m\n\u001b[0;32m   7685\u001b[0m \n\u001b[0;32m   7686\u001b[0m     \u001b[38;5;66;03m# TODO operate_blockwise expects a manager of the same type\u001b[39;00m\n\u001b[1;32m-> 7687\u001b[0m     bm \u001b[38;5;241m=\u001b[39m \u001b[38;5;28;43mself\u001b[39;49m\u001b[38;5;241;43m.\u001b[39;49m\u001b[43m_mgr\u001b[49m\u001b[38;5;241;43m.\u001b[39;49m\u001b[43moperate_blockwise\u001b[49m\u001b[43m(\u001b[49m\n\u001b[0;32m   7688\u001b[0m \u001b[43m        \u001b[49m\u001b[38;5;66;43;03m# error: Argument 1 to \"operate_blockwise\" of \"ArrayManager\" has\u001b[39;49;00m\n\u001b[0;32m   7689\u001b[0m \u001b[43m        \u001b[49m\u001b[38;5;66;43;03m# incompatible type \"Union[ArrayManager, BlockManager]\"; expected\u001b[39;49;00m\n\u001b[0;32m   7690\u001b[0m \u001b[43m        \u001b[49m\u001b[38;5;66;43;03m# \"ArrayManager\"\u001b[39;49;00m\n\u001b[0;32m   7691\u001b[0m \u001b[43m        \u001b[49m\u001b[38;5;66;43;03m# error: Argument 1 to \"operate_blockwise\" of \"BlockManager\" has\u001b[39;49;00m\n\u001b[0;32m   7692\u001b[0m \u001b[43m        \u001b[49m\u001b[38;5;66;43;03m# incompatible type \"Union[ArrayManager, BlockManager]\"; expected\u001b[39;49;00m\n\u001b[0;32m   7693\u001b[0m \u001b[43m        \u001b[49m\u001b[38;5;66;43;03m# \"BlockManager\"\u001b[39;49;00m\n\u001b[0;32m   7694\u001b[0m \u001b[43m        \u001b[49m\u001b[43mright\u001b[49m\u001b[38;5;241;43m.\u001b[39;49m\u001b[43m_mgr\u001b[49m\u001b[43m,\u001b[49m\u001b[43m  \u001b[49m\u001b[38;5;66;43;03m# type: ignore[arg-type]\u001b[39;49;00m\n\u001b[0;32m   7695\u001b[0m \u001b[43m        \u001b[49m\u001b[43marray_op\u001b[49m\u001b[43m,\u001b[49m\n\u001b[0;32m   7696\u001b[0m \u001b[43m    \u001b[49m\u001b[43m)\u001b[49m\n\u001b[0;32m   7697\u001b[0m     \u001b[38;5;28;01mreturn\u001b[39;00m \u001b[38;5;28mself\u001b[39m\u001b[38;5;241m.\u001b[39m_constructor_from_mgr(bm, axes\u001b[38;5;241m=\u001b[39mbm\u001b[38;5;241m.\u001b[39maxes)\n\u001b[0;32m   7699\u001b[0m \u001b[38;5;28;01melif\u001b[39;00m \u001b[38;5;28misinstance\u001b[39m(right, Series) \u001b[38;5;129;01mand\u001b[39;00m axis \u001b[38;5;241m==\u001b[39m \u001b[38;5;241m1\u001b[39m:\n\u001b[0;32m   7700\u001b[0m     \u001b[38;5;66;03m# axis=1 means we want to operate row-by-row\u001b[39;00m\n",
      "File \u001b[1;32m~\\Anaconda3\\envs\\message_env\\lib\\site-packages\\pandas\\core\\internals\\managers.py:1470\u001b[0m, in \u001b[0;36mBlockManager.operate_blockwise\u001b[1;34m(self, other, array_op)\u001b[0m\n\u001b[0;32m   1466\u001b[0m \u001b[38;5;28;01mdef\u001b[39;00m \u001b[38;5;21moperate_blockwise\u001b[39m(\u001b[38;5;28mself\u001b[39m, other: BlockManager, array_op) \u001b[38;5;241m-\u001b[39m\u001b[38;5;241m>\u001b[39m BlockManager:\n\u001b[0;32m   1467\u001b[0m \u001b[38;5;250m    \u001b[39m\u001b[38;5;124;03m\"\"\"\u001b[39;00m\n\u001b[0;32m   1468\u001b[0m \u001b[38;5;124;03m    Apply array_op blockwise with another (aligned) BlockManager.\u001b[39;00m\n\u001b[0;32m   1469\u001b[0m \u001b[38;5;124;03m    \"\"\"\u001b[39;00m\n\u001b[1;32m-> 1470\u001b[0m     \u001b[38;5;28;01mreturn\u001b[39;00m \u001b[43moperate_blockwise\u001b[49m\u001b[43m(\u001b[49m\u001b[38;5;28;43mself\u001b[39;49m\u001b[43m,\u001b[49m\u001b[43m \u001b[49m\u001b[43mother\u001b[49m\u001b[43m,\u001b[49m\u001b[43m \u001b[49m\u001b[43marray_op\u001b[49m\u001b[43m)\u001b[49m\n",
      "File \u001b[1;32m~\\Anaconda3\\envs\\message_env\\lib\\site-packages\\pandas\\core\\internals\\ops.py:65\u001b[0m, in \u001b[0;36moperate_blockwise\u001b[1;34m(left, right, array_op)\u001b[0m\n\u001b[0;32m     63\u001b[0m res_blks: \u001b[38;5;28mlist\u001b[39m[Block] \u001b[38;5;241m=\u001b[39m []\n\u001b[0;32m     64\u001b[0m \u001b[38;5;28;01mfor\u001b[39;00m lvals, rvals, locs, left_ea, right_ea, rblk \u001b[38;5;129;01min\u001b[39;00m _iter_block_pairs(left, right):\n\u001b[1;32m---> 65\u001b[0m     res_values \u001b[38;5;241m=\u001b[39m \u001b[43marray_op\u001b[49m\u001b[43m(\u001b[49m\u001b[43mlvals\u001b[49m\u001b[43m,\u001b[49m\u001b[43m \u001b[49m\u001b[43mrvals\u001b[49m\u001b[43m)\u001b[49m\n\u001b[0;32m     66\u001b[0m     \u001b[38;5;28;01mif\u001b[39;00m (\n\u001b[0;32m     67\u001b[0m         left_ea\n\u001b[0;32m     68\u001b[0m         \u001b[38;5;129;01mand\u001b[39;00m \u001b[38;5;129;01mnot\u001b[39;00m right_ea\n\u001b[0;32m     69\u001b[0m         \u001b[38;5;129;01mand\u001b[39;00m \u001b[38;5;28mhasattr\u001b[39m(res_values, \u001b[38;5;124m\"\u001b[39m\u001b[38;5;124mreshape\u001b[39m\u001b[38;5;124m\"\u001b[39m)\n\u001b[0;32m     70\u001b[0m         \u001b[38;5;129;01mand\u001b[39;00m \u001b[38;5;129;01mnot\u001b[39;00m is_1d_only_ea_dtype(res_values\u001b[38;5;241m.\u001b[39mdtype)\n\u001b[0;32m     71\u001b[0m     ):\n\u001b[0;32m     72\u001b[0m         res_values \u001b[38;5;241m=\u001b[39m res_values\u001b[38;5;241m.\u001b[39mreshape(\u001b[38;5;241m1\u001b[39m, \u001b[38;5;241m-\u001b[39m\u001b[38;5;241m1\u001b[39m)\n",
      "File \u001b[1;32m~\\Anaconda3\\envs\\message_env\\lib\\site-packages\\pandas\\core\\ops\\array_ops.py:285\u001b[0m, in \u001b[0;36marithmetic_op\u001b[1;34m(left, right, op)\u001b[0m\n\u001b[0;32m    281\u001b[0m     _bool_arith_check(op, left, right)  \u001b[38;5;66;03m# type: ignore[arg-type]\u001b[39;00m\n\u001b[0;32m    283\u001b[0m     \u001b[38;5;66;03m# error: Argument 1 to \"_na_arithmetic_op\" has incompatible type\u001b[39;00m\n\u001b[0;32m    284\u001b[0m     \u001b[38;5;66;03m# \"Union[ExtensionArray, ndarray[Any, Any]]\"; expected \"ndarray[Any, Any]\"\u001b[39;00m\n\u001b[1;32m--> 285\u001b[0m     res_values \u001b[38;5;241m=\u001b[39m \u001b[43m_na_arithmetic_op\u001b[49m\u001b[43m(\u001b[49m\u001b[43mleft\u001b[49m\u001b[43m,\u001b[49m\u001b[43m \u001b[49m\u001b[43mright\u001b[49m\u001b[43m,\u001b[49m\u001b[43m \u001b[49m\u001b[43mop\u001b[49m\u001b[43m)\u001b[49m  \u001b[38;5;66;03m# type: ignore[arg-type]\u001b[39;00m\n\u001b[0;32m    287\u001b[0m \u001b[38;5;28;01mreturn\u001b[39;00m res_values\n",
      "File \u001b[1;32m~\\Anaconda3\\envs\\message_env\\lib\\site-packages\\pandas\\core\\ops\\array_ops.py:229\u001b[0m, in \u001b[0;36m_na_arithmetic_op\u001b[1;34m(left, right, op, is_cmp)\u001b[0m\n\u001b[0;32m    221\u001b[0m \u001b[38;5;28;01mexcept\u001b[39;00m \u001b[38;5;167;01mTypeError\u001b[39;00m:\n\u001b[0;32m    222\u001b[0m     \u001b[38;5;28;01mif\u001b[39;00m \u001b[38;5;129;01mnot\u001b[39;00m is_cmp \u001b[38;5;129;01mand\u001b[39;00m (\n\u001b[0;32m    223\u001b[0m         left\u001b[38;5;241m.\u001b[39mdtype \u001b[38;5;241m==\u001b[39m \u001b[38;5;28mobject\u001b[39m \u001b[38;5;129;01mor\u001b[39;00m \u001b[38;5;28mgetattr\u001b[39m(right, \u001b[38;5;124m\"\u001b[39m\u001b[38;5;124mdtype\u001b[39m\u001b[38;5;124m\"\u001b[39m, \u001b[38;5;28;01mNone\u001b[39;00m) \u001b[38;5;241m==\u001b[39m \u001b[38;5;28mobject\u001b[39m\n\u001b[0;32m    224\u001b[0m     ):\n\u001b[1;32m   (...)\u001b[0m\n\u001b[0;32m    227\u001b[0m         \u001b[38;5;66;03m# Don't do this for comparisons, as that will handle complex numbers\u001b[39;00m\n\u001b[0;32m    228\u001b[0m         \u001b[38;5;66;03m#  incorrectly, see GH#32047\u001b[39;00m\n\u001b[1;32m--> 229\u001b[0m         result \u001b[38;5;241m=\u001b[39m \u001b[43m_masked_arith_op\u001b[49m\u001b[43m(\u001b[49m\u001b[43mleft\u001b[49m\u001b[43m,\u001b[49m\u001b[43m \u001b[49m\u001b[43mright\u001b[49m\u001b[43m,\u001b[49m\u001b[43m \u001b[49m\u001b[43mop\u001b[49m\u001b[43m)\u001b[49m\n\u001b[0;32m    230\u001b[0m     \u001b[38;5;28;01melse\u001b[39;00m:\n\u001b[0;32m    231\u001b[0m         \u001b[38;5;28;01mraise\u001b[39;00m\n",
      "File \u001b[1;32m~\\Anaconda3\\envs\\message_env\\lib\\site-packages\\pandas\\core\\ops\\array_ops.py:165\u001b[0m, in \u001b[0;36m_masked_arith_op\u001b[1;34m(x, y, op)\u001b[0m\n\u001b[0;32m    163\u001b[0m     \u001b[38;5;66;03m# See GH#5284, GH#5035, GH#19448 for historical reference\u001b[39;00m\n\u001b[0;32m    164\u001b[0m     \u001b[38;5;28;01mif\u001b[39;00m mask\u001b[38;5;241m.\u001b[39many():\n\u001b[1;32m--> 165\u001b[0m         result[mask] \u001b[38;5;241m=\u001b[39m \u001b[43mop\u001b[49m\u001b[43m(\u001b[49m\u001b[43mxrav\u001b[49m\u001b[43m[\u001b[49m\u001b[43mmask\u001b[49m\u001b[43m]\u001b[49m\u001b[43m,\u001b[49m\u001b[43m \u001b[49m\u001b[43myrav\u001b[49m\u001b[43m[\u001b[49m\u001b[43mmask\u001b[49m\u001b[43m]\u001b[49m\u001b[43m)\u001b[49m\n\u001b[0;32m    167\u001b[0m \u001b[38;5;28;01melse\u001b[39;00m:\n\u001b[0;32m    168\u001b[0m     \u001b[38;5;28;01mif\u001b[39;00m \u001b[38;5;129;01mnot\u001b[39;00m is_scalar(y):\n",
      "\u001b[1;31mTypeError\u001b[0m: unsupported operand type(s) for /: 'str' and 'str'"
     ]
    }
   ],
   "source": [
    "# report baseline\n",
    "from message_data.tools.post_processing.iamc_report_hackathon import report as reporting\n",
    "reporting(\n",
    "    mp,\n",
    "    base,\n",
    "    # NB(PNK) this is not an error; .iamc_report_hackathon.report() expects a\n",
    "    #         string containing \"True\" or \"False\" instead of an actual bool.\n",
    "    \"True\",\n",
    "    base.model,\n",
    "    base.scenario,\n",
    "    merge_hist=True,\n",
    "    merge_ts=True,\n",
    "    #run_config=\"materials_run_config.yaml\",\n",
    ")"
   ]
  },
  {
   "cell_type": "code",
   "execution_count": null,
   "id": "7dab6dfe",
   "metadata": {},
   "outputs": [],
   "source": []
  },
  {
   "cell_type": "code",
   "execution_count": null,
   "id": "b732f9f1",
   "metadata": {},
   "outputs": [],
   "source": []
  },
  {
   "cell_type": "markdown",
   "id": "7d4cf7f5",
   "metadata": {},
   "source": [
    "This part is just to generate a dummy scenario as basis for adding technology parameters. Need to be removed once integrated"
   ]
  },
  {
   "cell_type": "code",
   "execution_count": null,
   "id": "8664097c",
   "metadata": {},
   "outputs": [],
   "source": [
    "base = message_ix.Scenario(\n",
    "    mp, model=\"GENIE_sandbox_daccstest\", scenario=\"baseline\", version=\"new\"\n",
    ")\n",
    "data_file = 'GENIE_sandbox_daccstest.xlsx'\n",
    "base.read_excel(data_file, add_units=True, init_items=True)"
   ]
  },
  {
   "cell_type": "code",
   "execution_count": 2,
   "id": "8045df80",
   "metadata": {},
   "outputs": [],
   "source": [
    "base = message_ix.Scenario(mp, model=\"GENIE_sandbox\", scenario=\"baseline\")"
   ]
  },
  {
   "cell_type": "code",
   "execution_count": 7,
   "id": "34cf0deb",
   "metadata": {},
   "outputs": [],
   "source": [
    "\n",
    "scen = base.clone(\n",
    "    \"GENIE_sandbox\",\n",
    "    \"add_tech_baseline\",\n",
    "    \"introducing the add_tech feature on MESSAGEix\", \n",
    "    keep_solution=False, \n",
    ")\n",
    "scen.check_out()\n",
    "\n",
    "year_df = scen.vintage_and_active_years()\n",
    "vintage_years, act_years = year_df[\"year_vtg\"], year_df[\"year_act\"]\n",
    "model_horizon = scen.set(\"year\")"
   ]
  },
  {
   "cell_type": "markdown",
   "id": "abcbfbe2",
   "metadata": {},
   "source": [
    "## Run the model"
   ]
  },
  {
   "cell_type": "code",
   "execution_count": 8,
   "id": "32bf3996",
   "metadata": {},
   "outputs": [],
   "source": [
    "scen.commit(comment=\"Copy and run baseline scenario\")\n",
    "scen.set_as_default()\n"
   ]
  },
  {
   "cell_type": "code",
   "execution_count": 9,
   "id": "88d11fc5",
   "metadata": {},
   "outputs": [
    {
     "name": "stdout",
     "output_type": "stream",
     "text": [
      "Unexpected exception formatting exception. Falling back to standard exception\n"
     ]
    },
    {
     "name": "stderr",
     "output_type": "stream",
     "text": [
      "Traceback (most recent call last):\n",
      "  File \"ObjectInputStream.java\", line 472, in java.io.ObjectInputStream.readObject\n",
      "Exception: Java Exception\n",
      "\n",
      "The above exception was the direct cause of the following exception:\n",
      "\n",
      "Traceback (most recent call last):\n",
      "  File \"C:\\Users\\pratama\\Anaconda3\\envs\\message_env\\lib\\site-packages\\IPython\\core\\interactiveshell.py\", line 3460, in run_code\n",
      "    exec(code_obj, self.user_global_ns, self.user_ns)\n",
      "  File \"C:\\Users\\pratama\\AppData\\Local\\Temp\\ipykernel_4156\\1102867249.py\", line 4, in <module>\n",
      "    scen.solve(gams_args = [\"--macromode='linked'\"]) # this is to pass a GAMS argument macromode='linked' to activate MACRO runs, default is 'none'\n",
      "  File \"C:\\Users\\pratama\\Documents\\GitHub\\MESSAGEix\\message_ix\\message_ix\\core.py\", line 677, in solve\n",
      "    super().solve(model=model, solve_options=solve_options, **kwargs)\n",
      "  File \"C:\\Users\\pratama\\Anaconda3\\envs\\message_env\\lib\\site-packages\\ixmp\\core\\scenario.py\", line 836, in solve\n",
      "    model_obj.run(self)\n",
      "  File \"C:\\Users\\pratama\\Documents\\GitHub\\MESSAGEix\\message_ix\\message_ix\\models.py\", line 371, in run\n",
      "    result = super().run(scenario)\n",
      "  File \"C:\\Users\\pratama\\Anaconda3\\envs\\message_env\\lib\\site-packages\\ixmp\\model\\gams.py\", line 276, in run\n",
      "    scenario.platform._backend.write_file(\n",
      "  File \"C:\\Users\\pratama\\Anaconda3\\envs\\message_env\\lib\\site-packages\\ixmp\\backend\\jdbc.py\", line 580, in write_file\n",
      "    self.jindex[ts].toGDX(str(path.parent), path.name, False)\n",
      "java.lang.java.lang.OutOfMemoryError: java.lang.OutOfMemoryError: Java heap space\n",
      "\n",
      "During handling of the above exception, another exception occurred:\n",
      "\n",
      "Traceback (most recent call last):\n",
      "  File \"C:\\Users\\pratama\\Anaconda3\\envs\\message_env\\lib\\site-packages\\IPython\\core\\interactiveshell.py\", line 2057, in showtraceback\n",
      "    stb = self.InteractiveTB.structured_traceback(\n",
      "  File \"C:\\Users\\pratama\\Anaconda3\\envs\\message_env\\lib\\site-packages\\IPython\\core\\ultratb.py\", line 1288, in structured_traceback\n",
      "    return FormattedTB.structured_traceback(\n",
      "  File \"C:\\Users\\pratama\\Anaconda3\\envs\\message_env\\lib\\site-packages\\IPython\\core\\ultratb.py\", line 1177, in structured_traceback\n",
      "    return VerboseTB.structured_traceback(\n",
      "  File \"C:\\Users\\pratama\\Anaconda3\\envs\\message_env\\lib\\site-packages\\IPython\\core\\ultratb.py\", line 1049, in structured_traceback\n",
      "    formatted_exceptions += self.format_exception_as_a_whole(etype, evalue, etb, lines_of_context,\n",
      "  File \"C:\\Users\\pratama\\Anaconda3\\envs\\message_env\\lib\\site-packages\\IPython\\core\\ultratb.py\", line 935, in format_exception_as_a_whole\n",
      "    self.get_records(etb, number_of_lines_of_context, tb_offset) if etb else []\n",
      "  File \"C:\\Users\\pratama\\Anaconda3\\envs\\message_env\\lib\\site-packages\\IPython\\core\\ultratb.py\", line 1003, in get_records\n",
      "    lines, first = inspect.getsourcelines(etb.tb_frame)\n",
      "  File \"C:\\Users\\pratama\\Anaconda3\\envs\\message_env\\lib\\inspect.py\", line 1129, in getsourcelines\n",
      "    lines, lnum = findsource(object)\n",
      "  File \"C:\\Users\\pratama\\Anaconda3\\envs\\message_env\\lib\\inspect.py\", line 958, in findsource\n",
      "    raise OSError('could not get source code')\n",
      "OSError: could not get source code\n"
     ]
    }
   ],
   "source": [
    "# To run scenario with MESSAGE only\n",
    "#scen.solve(solve_options={'barcrossalg': '2','scaind':'1'})\n",
    "# To run scenario with MESSAGE-MACRO\n",
    "scen.solve(gams_args = [\"--macromode='linked'\"]) # this is to pass a GAMS argument macromode='linked' to activate MACRO runs, default is 'none'\n",
    "           \n",
    "scen.var(\"OBJ\")[\"lvl\"]"
   ]
  },
  {
   "cell_type": "markdown",
   "id": "92dd9c90",
   "metadata": {},
   "source": [
    "## Close connection"
   ]
  },
  {
   "cell_type": "code",
   "execution_count": 8,
   "id": "f8e3cad8",
   "metadata": {},
   "outputs": [],
   "source": [
    "mp.close_db()"
   ]
  },
  {
   "cell_type": "code",
   "execution_count": null,
   "id": "0742df19",
   "metadata": {},
   "outputs": [],
   "source": []
  }
 ],
 "metadata": {
  "kernelspec": {
   "display_name": "Python 3 (ipykernel)",
   "language": "python",
   "name": "python3"
  },
  "language_info": {
   "codemirror_mode": {
    "name": "ipython",
    "version": 3
   },
   "file_extension": ".py",
   "mimetype": "text/x-python",
   "name": "python",
   "nbconvert_exporter": "python",
   "pygments_lexer": "ipython3",
   "version": "3.10.9"
  }
 },
 "nbformat": 4,
 "nbformat_minor": 5
}

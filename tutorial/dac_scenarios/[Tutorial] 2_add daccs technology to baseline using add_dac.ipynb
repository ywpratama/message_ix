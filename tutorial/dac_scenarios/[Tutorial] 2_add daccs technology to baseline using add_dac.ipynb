{
 "cells": [
  {
   "cell_type": "markdown",
   "id": "9ce2dbbc",
   "metadata": {},
   "source": [
    "# Adding DACCS to the baseline scenario\n",
    "\n",
    "In this tutorial, we will learn how DACCS is added as a technology in the baseline scenario. For this tutorial to run properly, you have to previously be able to run the `GENIE_sandbox_daccstest` model with `baseline` scenario. \n",
    "\n",
    "Similar to the previous tutorial, we firstly need to import all the required tools we need, including the `add_dac` tool."
   ]
  },
  {
   "cell_type": "code",
   "execution_count": null,
   "id": "db473272",
   "metadata": {},
   "outputs": [],
   "source": [
    "import ixmp\n",
    "import message_ix\n",
    "import numpy as np\n",
    "import pandas as pd\n",
    "import yaml\n",
    "\n",
    "from collections.abc import Mapping\n",
    "from itertools import repeat\n",
    "from message_ix.models import MESSAGE_ITEMS\n",
    "from message_ix.utils import make_df\n",
    "from message_ix.tools.add_dac import add_dac\n",
    "\n",
    "%matplotlib inline\n",
    "\n",
    "mp = ixmp.Platform('local')\n",
    "#mp.scenario_list()"
   ]
  },
  {
   "cell_type": "markdown",
   "id": "7d4cf7f5",
   "metadata": {},
   "source": [
    "In this part, we will build a new scenario by first copying the baseline scenario we created in the previous tutorial as the `base` scenario. We will call the new scenario `scen` as the `daccs_baseline`"
   ]
  },
  {
   "cell_type": "code",
   "execution_count": null,
   "id": "34cf0deb",
   "metadata": {},
   "outputs": [],
   "source": [
    "base = message_ix.Scenario(mp, model='GENIE_sandbox_daccstest', scenario=\"baseline\")\n",
    "\n",
    "scen = base.clone(\n",
    "    \"GENIE_sandbox_daccstest\",\n",
    "    \"daccs_baseline\",\n",
    "    \"adding daccs as a new technology using add_dac\", \n",
    "    keep_solution=False, \n",
    ")\n",
    "scen.check_out()\n",
    "\n",
    "year_df = scen.vintage_and_active_years()\n",
    "vintage_years, act_years = year_df[\"year_vtg\"], year_df[\"year_act\"]\n",
    "model_horizon = scen.set(\"year\")"
   ]
  },
  {
   "cell_type": "markdown",
   "id": "8ec4d656",
   "metadata": {},
   "source": [
    "## Adding DACCS to the scenario using `add_dac` tool\n",
    "In the `westeros` tutorial, you have learned how to add technology parameters, such as investment cost, technical lifetime, etc., into a model by using `add_par`.\n",
    "\n",
    "This `add_dac` tool does the same thing. But, instead of adding the parameters one by one, this tool adds all DACCS parameters at once. What you need to do here is just type `add_dac(scenario,pathfile)` and include the scenario object in the parenthesis. This tool takes 2 arguments: 1) scenario object and 2) location of DACCS data set you want to include. The default location for DACCS parameters data is `~/message_ix/messae_ix/tools/add_dac/DAC_all_data.yaml`. "
   ]
  },
  {
   "cell_type": "code",
   "execution_count": null,
   "id": "ce0556e8",
   "metadata": {},
   "outputs": [],
   "source": [
    "add_dac(scen)\n"
   ]
  },
  {
   "cell_type": "markdown",
   "id": "abcbfbe2",
   "metadata": {},
   "source": [
    "## Run the model"
   ]
  },
  {
   "cell_type": "code",
   "execution_count": null,
   "id": "32bf3996",
   "metadata": {},
   "outputs": [],
   "source": [
    "scen.commit(comment=\"Add DACCS to baseline scenario\")\n",
    "scen.set_as_default()\n",
    "scen.solve(solve_options={'barcrossalg': '2','scaind':'1'})\n",
    "scen.var(\"OBJ\")[\"lvl\"]"
   ]
  },
  {
   "cell_type": "markdown",
   "id": "92dd9c90",
   "metadata": {},
   "source": [
    "## Close connection"
   ]
  },
  {
   "cell_type": "code",
   "execution_count": null,
   "id": "f8e3cad8",
   "metadata": {},
   "outputs": [],
   "source": [
    "mp.close_db()"
   ]
  },
  {
   "cell_type": "code",
   "execution_count": null,
   "id": "0742df19",
   "metadata": {},
   "outputs": [],
   "source": []
  }
 ],
 "metadata": {
  "kernelspec": {
   "display_name": "Python 3 (ipykernel)",
   "language": "python",
   "name": "python3"
  },
  "language_info": {
   "codemirror_mode": {
    "name": "ipython",
    "version": 3
   },
   "file_extension": ".py",
   "mimetype": "text/x-python",
   "name": "python",
   "nbconvert_exporter": "python",
   "pygments_lexer": "ipython3",
   "version": "3.10.9"
  }
 },
 "nbformat": 4,
 "nbformat_minor": 5
}

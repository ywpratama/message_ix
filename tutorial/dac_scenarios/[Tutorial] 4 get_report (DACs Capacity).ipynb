{
 "cells": [
  {
   "cell_type": "markdown",
   "id": "9ce2dbbc",
   "metadata": {},
   "source": [
    "This script is to add data general. \n",
    "Import all required tools"
   ]
  },
  {
   "cell_type": "code",
   "execution_count": 1,
   "id": "db473272",
   "metadata": {},
   "outputs": [
    {
     "data": {
      "application/javascript": [
       "if (typeof IPython !== 'undefined') { IPython.OutputArea.prototype._should_scroll = function(lines){ return false; }}"
      ],
      "text/plain": [
       "<IPython.core.display.Javascript object>"
      ]
     },
     "metadata": {},
     "output_type": "display_data"
    },
    {
     "name": "stderr",
     "output_type": "stream",
     "text": [
      "C:\\Users\\pratama\\Documents\\GitHub\\MESSAGEix\\message_ix\\message_ix\\reporting\\__init__.py:98: FutureWarning: Importing from genno.computations will be deprecated in a future version; use genno.operator instead.\n",
      "  (\"tom:nl-t-yv-ya\", (genno.computations.add, \"fom:nl-t-yv-ya\", \"vom:nl-t-yv-ya\")),\n"
     ]
    }
   ],
   "source": [
    "import ixmp\n",
    "import message_ix\n",
    "import numpy as np\n",
    "import pandas as pd\n",
    "import yaml\n",
    "\n",
    "from collections.abc import Mapping\n",
    "from itertools import repeat\n",
    "from message_ix.models import MESSAGE_ITEMS\n",
    "from message_ix.utils import make_df\n",
    "from message_ix.tools.get_report import get_report\n",
    "\n",
    "%matplotlib inline\n",
    "\n",
    "mp = ixmp.Platform('local')"
   ]
  },
  {
   "cell_type": "markdown",
   "id": "7d4cf7f5",
   "metadata": {},
   "source": [
    "This part is just to generate a dummy scenario as basis for adding technology parameters. Need to be removed once integrated"
   ]
  },
  {
   "cell_type": "code",
   "execution_count": 2,
   "id": "34cf0deb",
   "metadata": {},
   "outputs": [],
   "source": [
    "base = message_ix.Scenario(mp, model='GENIE_sandbox', scenario=\"add_tech_emission_bound1000\")\n",
    "\n"
   ]
  },
  {
   "cell_type": "markdown",
   "id": "103d6759",
   "metadata": {},
   "source": [
    "Creating basic dataframe to be filled in later"
   ]
  },
  {
   "cell_type": "code",
   "execution_count": 3,
   "id": "e3248a4e",
   "metadata": {},
   "outputs": [
    {
     "name": "stdout",
     "output_type": "stream",
     "text": [
      "year_act  1960  1965  1970  1975  1980  1985  1990  1995  2000  2005  ...  \\\n",
      "node_loc                                                              ...   \n",
      "R11_AFR    0.0   0.0   0.0   0.0   0.0   0.0   0.0   0.0   0.0   0.0  ...   \n",
      "R11_CPA    0.0   0.0   0.0   0.0   0.0   0.0   0.0   0.0   0.0   0.0  ...   \n",
      "R11_EEU    0.0   0.0   0.0   0.0   0.0   0.0   0.0   0.0   0.0   0.0  ...   \n",
      "R11_FSU    0.0   0.0   0.0   0.0   0.0   0.0   0.0   0.0   0.0   0.0  ...   \n",
      "R11_LAM    0.0   0.0   0.0   0.0   0.0   0.0   0.0   0.0   0.0   0.0  ...   \n",
      "R11_MEA    0.0   0.0   0.0   0.0   0.0   0.0   0.0   0.0   0.0   0.0  ...   \n",
      "R11_NAM    0.0   0.0   0.0   0.0   0.0   0.0   0.0   0.0   0.0   0.0  ...   \n",
      "R11_PAO    0.0   0.0   0.0   0.0   0.0   0.0   0.0   0.0   0.0   0.0  ...   \n",
      "R11_PAS    0.0   0.0   0.0   0.0   0.0   0.0   0.0   0.0   0.0   0.0  ...   \n",
      "R11_SAS    0.0   0.0   0.0   0.0   0.0   0.0   0.0   0.0   0.0   0.0  ...   \n",
      "R11_WEU    0.0   0.0   0.0   0.0   0.0   0.0   0.0   0.0   0.0   0.0  ...   \n",
      "World      0.0   0.0   0.0   0.0   0.0   0.0   0.0   0.0   0.0   0.0  ...   \n",
      "\n",
      "year_act  2040  2045  2050  2055  2060        2070         2080         2090  \\\n",
      "node_loc                                                                       \n",
      "R11_AFR    0.0   0.0   0.0   0.0   0.0    0.000000   345.295638  1422.604984   \n",
      "R11_CPA    0.0   0.0   0.0   0.0   0.0    0.000000   136.931427  1189.122886   \n",
      "R11_EEU    0.0   0.0   0.0   0.0   0.0    9.084707    31.083113   106.509547   \n",
      "R11_FSU    0.0   0.0   0.0   0.0   0.0    0.000000    35.934393   676.257677   \n",
      "R11_LAM    0.0   0.0   0.0   0.0   0.0    0.000000   229.153286   904.680298   \n",
      "R11_MEA    0.0   0.0   0.0   0.0   0.0    0.000000   344.147937  1609.144651   \n",
      "R11_NAM    0.0   0.0   0.0   0.0   0.0  213.551698   454.832376  1922.403274   \n",
      "R11_PAO    0.0   0.0   0.0   0.0   0.0    0.000000    61.011516   371.773561   \n",
      "R11_PAS    0.0   0.0   0.0   0.0   0.0    0.000000    70.252290   400.661257   \n",
      "R11_SAS    0.0   0.0   0.0   0.0   0.0    0.000000   291.576791   640.172920   \n",
      "R11_WEU    0.0   0.0   0.0   0.0   0.0    0.000000   161.795362   380.691605   \n",
      "World      0.0   0.0   0.0   0.0   0.0  222.636405  2162.014127  9624.022659   \n",
      "\n",
      "year_act          2100          2110  \n",
      "node_loc                              \n",
      "R11_AFR    3141.241682   3727.690748  \n",
      "R11_CPA    1186.685276   1095.162923  \n",
      "R11_EEU     128.243031    128.978114  \n",
      "R11_FSU     658.290480    677.781590  \n",
      "R11_LAM    1638.463840   1947.014041  \n",
      "R11_MEA    3370.519990   5180.066677  \n",
      "R11_NAM    1992.185085   2231.368703  \n",
      "R11_PAO     346.774824    382.961104  \n",
      "R11_PAS     365.535112    397.114914  \n",
      "R11_SAS     799.409229   1097.057180  \n",
      "R11_WEU     361.074619    401.339756  \n",
      "World     13988.423168  17266.535749  \n",
      "\n",
      "[12 rows x 26 columns]\n"
     ]
    }
   ],
   "source": [
    "get_report(base,'DACs')"
   ]
  },
  {
   "cell_type": "code",
   "execution_count": 4,
   "id": "f8e3cad8",
   "metadata": {},
   "outputs": [],
   "source": [
    "mp.close_db()"
   ]
  },
  {
   "cell_type": "code",
   "execution_count": null,
   "id": "e8592eb1",
   "metadata": {},
   "outputs": [],
   "source": []
  }
 ],
 "metadata": {
  "kernelspec": {
   "display_name": "Python 3 (ipykernel)",
   "language": "python",
   "name": "python3"
  },
  "language_info": {
   "codemirror_mode": {
    "name": "ipython",
    "version": 3
   },
   "file_extension": ".py",
   "mimetype": "text/x-python",
   "name": "python",
   "nbconvert_exporter": "python",
   "pygments_lexer": "ipython3",
   "version": "3.10.9"
  }
 },
 "nbformat": 4,
 "nbformat_minor": 5
}

{
 "cells": [
  {
   "cell_type": "markdown",
   "id": "9ce2dbbc",
   "metadata": {},
   "source": [
    "This script is to add data general. \n",
    "Import all required tools"
   ]
  },
  {
   "cell_type": "code",
   "execution_count": 1,
   "id": "db473272",
   "metadata": {},
   "outputs": [
    {
     "data": {
      "application/javascript": [
       "if (typeof IPython !== 'undefined') { IPython.OutputArea.prototype._should_scroll = function(lines){ return false; }}"
      ],
      "text/plain": [
       "<IPython.core.display.Javascript object>"
      ]
     },
     "metadata": {},
     "output_type": "display_data"
    }
   ],
   "source": [
    "import ixmp\n",
    "import message_ix\n",
    "import numpy as np\n",
    "import pandas as pd\n",
    "import yaml\n",
    "\n",
    "from collections.abc import Mapping\n",
    "from itertools import repeat\n",
    "from message_ix.models import MESSAGE_ITEMS\n",
    "from message_ix.utils import make_df\n",
    "from message_ix.tools.get_report import get_report\n",
    "from message_ix.tools.add_dac import add_dac\n",
    "\n",
    "%matplotlib inline\n",
    "\n",
    "mp = ixmp.Platform()"
   ]
  },
  {
   "cell_type": "code",
   "execution_count": null,
   "id": "f67c026c",
   "metadata": {},
   "outputs": [],
   "source": [
    "#df_scenario = mp.scenario_list()\n",
    "#df_scenario.to_excel('scenarios.xlsx')"
   ]
  },
  {
   "cell_type": "markdown",
   "id": "7d4cf7f5",
   "metadata": {},
   "source": [
    "This part is just to generate a dummy scenario as basis for adding technology parameters. Need to be removed once integrated"
   ]
  },
  {
   "cell_type": "code",
   "execution_count": 2,
   "id": "34cf0deb",
   "metadata": {},
   "outputs": [
    {
     "name": "stderr",
     "output_type": "stream",
     "text": [
      "Existing index sets of 'EMISSION_EQUIVALENCE' ['node', 'emission', 'type_tec', 'year'] do not match []\n"
     ]
    }
   ],
   "source": [
    "#base = message_ix.Scenario(mp, model='GENIE_sandbox', scenario=\"baseline\")\n",
    "#base = message_ix.Scenario(mp, model='GENIE_sandbox', scenario=\"daccsNoBound\")\n",
    "scen = message_ix.Scenario(mp, model='GENIE_sandbox', scenario=\"daccs1000\")\n"
   ]
  },
  {
   "cell_type": "code",
   "execution_count": null,
   "id": "477d6717",
   "metadata": {},
   "outputs": [],
   "source": [
    "#scen = base.clone(\"GENIE_sandbox\", \"daccsNoBound\", \"reporting test no CO2 bound\", keep_solution=False)\n",
    "#scen = base.clone(\"GENIE_sandbox\", \"daccs1000_nodaccs\", \"reporting test\", keep_solution=False)\n",
    "scen = base.clone(\"GENIE_sandbox\", \"daccs1000\", \"reporting test\", keep_solution=False)\n",
    "scen.check_out()\n",
    "\n",
    "year_df = scen.vintage_and_active_years()\n",
    "vintage_years, act_years = year_df[\"year_vtg\"], year_df[\"year_act\"]\n",
    "model_horizon = scen.set(\"year\")"
   ]
  },
  {
   "cell_type": "code",
   "execution_count": null,
   "id": "0f2a9228",
   "metadata": {},
   "outputs": [],
   "source": [
    "# adding DACCS\n",
    "add_dac(scen)"
   ]
  },
  {
   "cell_type": "code",
   "execution_count": null,
   "id": "0f1ddeb9",
   "metadata": {},
   "outputs": [],
   "source": [
    "# add emission bound\n",
    "scen.add_par('bound_emission', ['World', 'TCE_CO2', 'all', 'cumulative'], value=2421.17, unit=\"tC\")"
   ]
  },
  {
   "cell_type": "code",
   "execution_count": null,
   "id": "f80ad943",
   "metadata": {},
   "outputs": [],
   "source": [
    "scen.commit(comment=\"Copy and run daccs1000 budget with daccs scenario\")\n"
   ]
  },
  {
   "cell_type": "code",
   "execution_count": null,
   "id": "2eb1618e",
   "metadata": {},
   "outputs": [],
   "source": [
    "scen.set_as_default()\n"
   ]
  },
  {
   "cell_type": "code",
   "execution_count": null,
   "id": "2197ee3c",
   "metadata": {},
   "outputs": [],
   "source": [
    "scen.solve(solve_options={'barcrossalg': '2','scaind':'1'})"
   ]
  },
  {
   "cell_type": "markdown",
   "id": "ff37c110",
   "metadata": {},
   "source": [
    "# Before running report, check in GDX if results show daccs deployment"
   ]
  },
  {
   "cell_type": "code",
   "execution_count": null,
   "id": "af0a4b77",
   "metadata": {},
   "outputs": [],
   "source": [
    "from message_data.tools.post_processing.iamc_report_hackathon import report as reporting\n",
    "reporting(\n",
    "    mp,\n",
    "    scen,\n",
    "    \"False\",\n",
    "    scen.model,\n",
    "    scen.scenario,\n",
    "    merge_hist=True,\n",
    "    merge_ts=True,\n",
    "    run_config=\"SSP_dev_run_config.yaml\",\n",
    "    #run_config=\"ENGAGE_SSP2_v417_run_config.yaml\",\n",
    ")\n"
   ]
  },
  {
   "cell_type": "code",
   "execution_count": null,
   "id": "6fac9283",
   "metadata": {},
   "outputs": [],
   "source": []
  },
  {
   "cell_type": "code",
   "execution_count": null,
   "id": "9188fea6",
   "metadata": {},
   "outputs": [],
   "source": []
  },
  {
   "cell_type": "code",
   "execution_count": null,
   "id": "ffe17c05",
   "metadata": {},
   "outputs": [],
   "source": []
  },
  {
   "cell_type": "markdown",
   "id": "103d6759",
   "metadata": {},
   "source": [
    "Creating basic dataframe to be filled in later"
   ]
  },
  {
   "cell_type": "code",
   "execution_count": 3,
   "id": "e3248a4e",
   "metadata": {},
   "outputs": [
    {
     "name": "stdout",
     "output_type": "stream",
     "text": [
      "year_act  1960  1965  1970  1975  1980  1985  1990  1995  2000  2005  ...  \\\n",
      "node_loc                                                              ...   \n",
      "R12_AFR    0.0   0.0   0.0   0.0   0.0   0.0   0.0   0.0   0.0   0.0  ...   \n",
      "R12_CHN    0.0   0.0   0.0   0.0   0.0   0.0   0.0   0.0   0.0   0.0  ...   \n",
      "R12_EEU    0.0   0.0   0.0   0.0   0.0   0.0   0.0   0.0   0.0   0.0  ...   \n",
      "R12_FSU    0.0   0.0   0.0   0.0   0.0   0.0   0.0   0.0   0.0   0.0  ...   \n",
      "R12_LAM    0.0   0.0   0.0   0.0   0.0   0.0   0.0   0.0   0.0   0.0  ...   \n",
      "R12_MEA    0.0   0.0   0.0   0.0   0.0   0.0   0.0   0.0   0.0   0.0  ...   \n",
      "R12_NAM    0.0   0.0   0.0   0.0   0.0   0.0   0.0   0.0   0.0   0.0  ...   \n",
      "R12_PAO    0.0   0.0   0.0   0.0   0.0   0.0   0.0   0.0   0.0   0.0  ...   \n",
      "R12_PAS    0.0   0.0   0.0   0.0   0.0   0.0   0.0   0.0   0.0   0.0  ...   \n",
      "R12_RCPA   0.0   0.0   0.0   0.0   0.0   0.0   0.0   0.0   0.0   0.0  ...   \n",
      "R12_SAS    0.0   0.0   0.0   0.0   0.0   0.0   0.0   0.0   0.0   0.0  ...   \n",
      "R12_WEU    0.0   0.0   0.0   0.0   0.0   0.0   0.0   0.0   0.0   0.0  ...   \n",
      "World      0.0   0.0   0.0   0.0   0.0   0.0   0.0   0.0   0.0   0.0  ...   \n",
      "\n",
      "year_act  2040  2045  2050  2055  2060  2070        2080         2090  \\\n",
      "node_loc                                                                \n",
      "R12_AFR    0.0   0.0   0.0   0.0   0.0   0.0  218.427954  1177.341424   \n",
      "R12_CHN    0.0   0.0   0.0   0.0   0.0   0.0    0.000000   604.921721   \n",
      "R12_EEU    0.0   0.0   0.0   0.0   0.0   0.0    0.000000    64.220909   \n",
      "R12_FSU    0.0   0.0   0.0   0.0   0.0   0.0    0.000000   216.303249   \n",
      "R12_LAM    0.0   0.0   0.0   0.0   0.0   0.0  129.776438  1116.181328   \n",
      "R12_MEA    0.0   0.0   0.0   0.0   0.0   0.0    0.000000  1145.200843   \n",
      "R12_NAM    0.0   0.0   0.0   0.0   0.0   0.0  167.364177  1522.912342   \n",
      "R12_PAO    0.0   0.0   0.0   0.0   0.0   0.0   23.728531   353.883640   \n",
      "R12_PAS    0.0   0.0   0.0   0.0   0.0   0.0    0.000000   221.096917   \n",
      "R12_RCPA   0.0   0.0   0.0   0.0   0.0   0.0   11.106337   235.588599   \n",
      "R12_SAS    0.0   0.0   0.0   0.0   0.0   0.0    0.000000   364.177136   \n",
      "R12_WEU    0.0   0.0   0.0   0.0   0.0   0.0    0.000000   660.602943   \n",
      "World      0.0   0.0   0.0   0.0   0.0   0.0  550.403437  7682.431049   \n",
      "\n",
      "year_act          2100          2110  \n",
      "node_loc                              \n",
      "R12_AFR    2537.659411   1948.988699  \n",
      "R12_CHN     615.380578    739.790755  \n",
      "R12_EEU      79.663760    118.977764  \n",
      "R12_FSU     522.126211    802.974651  \n",
      "R12_LAM    2449.134470   2747.976375  \n",
      "R12_MEA    2114.776584   2004.580448  \n",
      "R12_NAM    1810.621799   2179.666449  \n",
      "R12_PAO     345.738371    463.285743  \n",
      "R12_PAS     414.084410    631.681900  \n",
      "R12_RCPA    315.142429    377.514890  \n",
      "R12_SAS     570.056894    760.891356  \n",
      "R12_WEU     808.772353   1012.890763  \n",
      "World     12583.157268  13789.219793  \n",
      "\n",
      "[13 rows x 26 columns]\n"
     ]
    }
   ],
   "source": [
    "get_report(scen,'DACs')"
   ]
  },
  {
   "cell_type": "code",
   "execution_count": 4,
   "id": "f8e3cad8",
   "metadata": {},
   "outputs": [],
   "source": [
    "mp.close_db()"
   ]
  },
  {
   "cell_type": "code",
   "execution_count": null,
   "id": "e8592eb1",
   "metadata": {},
   "outputs": [],
   "source": []
  }
 ],
 "metadata": {
  "kernelspec": {
   "display_name": "Python 3 (ipykernel)",
   "language": "python",
   "name": "python3"
  },
  "language_info": {
   "codemirror_mode": {
    "name": "ipython",
    "version": 3
   },
   "file_extension": ".py",
   "mimetype": "text/x-python",
   "name": "python",
   "nbconvert_exporter": "python",
   "pygments_lexer": "ipython3",
   "version": "3.10.9"
  }
 },
 "nbformat": 4,
 "nbformat_minor": 5
}

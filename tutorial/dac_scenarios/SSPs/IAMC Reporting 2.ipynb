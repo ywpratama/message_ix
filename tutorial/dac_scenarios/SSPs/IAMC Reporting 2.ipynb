{
 "cells": [
  {
   "cell_type": "markdown",
   "id": "296d488b",
   "metadata": {},
   "source": [
    "# IAMC Reporting"
   ]
  },
  {
   "cell_type": "code",
   "execution_count": 1,
   "id": "cf5722a5",
   "metadata": {},
   "outputs": [
    {
     "data": {
      "application/javascript": [
       "if (typeof IPython !== 'undefined') { IPython.OutputArea.prototype._should_scroll = function(lines){ return false; }}"
      ],
      "text/plain": [
       "<IPython.core.display.Javascript object>"
      ]
     },
     "metadata": {},
     "output_type": "display_data"
    },
    {
     "name": "stderr",
     "output_type": "stream",
     "text": [
      "C:\\Users\\pratama\\Documents\\GitHub\\MESSAGEix\\message_ix\\message_ix\\reporting\\__init__.py:98: FutureWarning: Importing from genno.computations will be deprecated in a future version; use genno.operator instead.\n",
      "  (\"tom:nl-t-yv-ya\", (genno.computations.add, \"fom:nl-t-yv-ya\", \"vom:nl-t-yv-ya\")),\n"
     ]
    },
    {
     "name": "stdout",
     "output_type": "stream",
     "text": [
      "SSP2 -- CCUS SSP with DAC\n",
      "Reporting standard variables\n",
      "processing Table: Primary Energy\n",
      "processing Table: Final Energy\n",
      "no emissions included\n",
      "no emissions included\n",
      "Starting to upload timeseries\n",
      "    region                                         variable   unit       2020  \\\n",
      "0  R12_AFR                                   Primary Energy  EJ/yr  18.382272   \n",
      "1  R12_AFR                                   Primary Energy  EJ/yr  18.382272   \n",
      "2  R12_AFR                           Primary Energy|Biomass  EJ/yr   6.634020   \n",
      "3  R12_AFR            Primary Energy|Biomass|1st Generation  EJ/yr   0.000000   \n",
      "4  R12_AFR  Primary Energy|Biomass|1st Generation|Biodiesel  EJ/yr   0.000000   \n",
      "\n",
      "        2025       2030       2035       2040       2045       2050  \\\n",
      "0  19.636602  21.822317  25.281486  28.045608  33.112731  38.265423   \n",
      "1  19.636602  21.822317  25.281486  28.045608  33.112731  38.265423   \n",
      "2   8.235278   9.098310   9.798011  10.099070  10.709221  11.705738   \n",
      "3   0.000000   0.000000   0.000000   0.000000   0.000000   0.000000   \n",
      "4   0.000000   0.000000   0.000000   0.000000   0.000000   0.000000   \n",
      "\n",
      "        2055       2060       2070       2080        2090        2100  \\\n",
      "0  44.751164  50.336063  67.103581  90.274720  115.276923  139.017913   \n",
      "1  44.751164  50.336063  67.103581  90.274720  115.276923  139.017913   \n",
      "2  12.558237  13.608812  13.005446  13.190046   14.104493   17.349566   \n",
      "3   0.000000   0.000000   0.000000   0.000000    0.000000    0.000000   \n",
      "4   0.000000   0.000000   0.000000   0.000000    0.000000    0.000000   \n",
      "\n",
      "         2110  \n",
      "0  164.645011  \n",
      "1  164.645011  \n",
      "2   18.469464  \n",
      "3    0.000000  \n",
      "4    0.000000  \n",
      "Finished uploading timeseries\n"
     ]
    }
   ],
   "source": [
    "import ixmp\n",
    "import message_ix\n",
    "\n",
    "#from message_data.model.material.report.reporting import report\n",
    "from message_data.tools.post_processing.iamc_report_hackathon import (\n",
    "    report as reporting)\n",
    "\n",
    "import warnings\n",
    "warnings.filterwarnings('ignore')\n",
    "\n",
    "ssps = [#\"LED\",\n",
    "        #\"SSP1\",\n",
    "        \"SSP2\",\n",
    "        #\"SSP3\",\n",
    "        #\"SSP4\",\n",
    "        #\"SSP5\"\n",
    "]\n",
    "\n",
    "setups = {#'Base without DAC':'1000f_no-dac',\n",
    "          #'CCUS SSP without DAC':'1000f_all-ssp-param_no-dac',\n",
    "          'CCUS SSP with DAC':'1000f_all-ssp-param'}\n",
    "          \n",
    "for ssp in ssps:\n",
    "    for key,val in setups.items():\n",
    "        print(ssp,'--',key)\n",
    "        mp = ixmp.Platform()\n",
    "        mo_name = f'SSP_dev_{ssp}_v0.1_materials-dac-co2split'\n",
    "        sc_name = val\n",
    "        scen = message_ix.Scenario(mp, model=mo_name, scenario=sc_name)\n",
    "        \n",
    "        # report(scenario)\n",
    "        print(\"Reporting standard variables\")\n",
    "        reporting(\n",
    "            mp,\n",
    "            scen,\n",
    "            # NB(PNK) this is not an error; .iamc_report_hackathon.report() expects a\n",
    "            #         string containing \"True\" or \"False\" instead of an actual bool.\n",
    "            \"False\",\n",
    "            scen.model,\n",
    "            scen.scenario,\n",
    "            merge_hist=True,\n",
    "            merge_ts=True,\n",
    "            run_config=\"SSP_dev_run_config.yaml\",\n",
    "        )\n",
    "        mp.close_db()"
   ]
  },
  {
   "cell_type": "code",
   "execution_count": null,
   "id": "436c0f8e",
   "metadata": {},
   "outputs": [],
   "source": []
  },
  {
   "cell_type": "code",
   "execution_count": null,
   "id": "3726ca7a",
   "metadata": {},
   "outputs": [],
   "source": []
  }
 ],
 "metadata": {
  "kernelspec": {
   "display_name": "Python 3 (ipykernel)",
   "language": "python",
   "name": "python3"
  },
  "language_info": {
   "codemirror_mode": {
    "name": "ipython",
    "version": 3
   },
   "file_extension": ".py",
   "mimetype": "text/x-python",
   "name": "python",
   "nbconvert_exporter": "python",
   "pygments_lexer": "ipython3",
   "version": "3.10.9"
  }
 },
 "nbformat": 4,
 "nbformat_minor": 5
}

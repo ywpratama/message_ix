{
 "cells": [
  {
   "cell_type": "code",
   "execution_count": null,
   "id": "38289ac0",
   "metadata": {},
   "outputs": [],
   "source": [
    "import ixmp\n",
    "import message_ix\n",
    "import numpy as np\n",
    "import pandas as pd\n",
    "import yaml\n",
    "\n",
    "from collections.abc import Mapping\n",
    "from itertools import repeat\n",
    "from message_ix.models import MESSAGE_ITEMS\n",
    "from message_ix.utils import make_df\n",
    "from message_ix.tools.add_dac import *\n",
    "#from message_ix.tools.add_dac import get_values\n",
    "\n",
    "%matplotlib inline"
   ]
  },
  {
   "cell_type": "code",
   "execution_count": null,
   "id": "69b4ed18",
   "metadata": {},
   "outputs": [],
   "source": [
    "# read storage potential in GtCO2\n",
    "potentials = pd.read_excel(\"storage_by_country.xlsx\").set_index(\"ISO\")\n",
    "\n",
    "# read regional country lists\n",
    "reg_list_path = \"region_code_list.yaml\"\n",
    "\n",
    "with open(reg_list_path, 'r') as file:\n",
    "    reg_data = yaml.safe_load(file)\n",
    "\n",
    "# creating R12 potentials dataframe\n",
    "R12_pot = pd.DataFrame(columns=[\"Potential\"])\n",
    "\n",
    "for reg in set(reg_data.keys()) - {\"World\"}:\n",
    "    val = potentials.loc[reg_data[reg][\"child\"]][\"Potential\"].sum()\n",
    "    R12_pot.loc[reg] = np.round(val, 3)\n"
   ]
  },
  {
   "cell_type": "code",
   "execution_count": null,
   "id": "7c7004d7",
   "metadata": {},
   "outputs": [],
   "source": []
  },
  {
   "cell_type": "code",
   "execution_count": null,
   "id": "2cda81ae",
   "metadata": {},
   "outputs": [],
   "source": []
  }
 ],
 "metadata": {
  "kernelspec": {
   "display_name": "Python 3 (ipykernel)",
   "language": "python",
   "name": "python3"
  },
  "language_info": {
   "codemirror_mode": {
    "name": "ipython",
    "version": 3
   },
   "file_extension": ".py",
   "mimetype": "text/x-python",
   "name": "python",
   "nbconvert_exporter": "python",
   "pygments_lexer": "ipython3",
   "version": "3.10.9"
  }
 },
 "nbformat": 4,
 "nbformat_minor": 5
}

{
 "cells": [
  {
   "cell_type": "markdown",
   "id": "9ce2dbbc",
   "metadata": {},
   "source": [
    "## Import all required libraries"
   ]
  },
  {
   "cell_type": "code",
   "execution_count": 1,
   "id": "db473272",
   "metadata": {},
   "outputs": [
    {
     "data": {
      "application/javascript": [
       "if (typeof IPython !== 'undefined') { IPython.OutputArea.prototype._should_scroll = function(lines){ return false; }}"
      ],
      "text/plain": [
       "<IPython.core.display.Javascript object>"
      ]
     },
     "metadata": {},
     "output_type": "display_data"
    },
    {
     "name": "stderr",
     "output_type": "stream",
     "text": [
      "C:\\Users\\pratama\\Documents\\GitHub\\MESSAGEix\\message_ix\\message_ix\\reporting\\__init__.py:98: FutureWarning: Importing from genno.computations will be deprecated in a future version; use genno.operator instead.\n",
      "  (\"tom:nl-t-yv-ya\", (genno.computations.add, \"fom:nl-t-yv-ya\", \"vom:nl-t-yv-ya\")),\n"
     ]
    }
   ],
   "source": [
    "import ixmp\n",
    "import message_ix\n",
    "import numpy as np\n",
    "import pandas as pd\n",
    "import yaml\n",
    "\n",
    "from collections.abc import Mapping\n",
    "from itertools import repeat\n",
    "from message_ix.models import MESSAGE_ITEMS\n",
    "from message_ix.utils import make_df\n",
    "from message_ix.tools.add_dac import *\n",
    "\n",
    "%matplotlib inline\n",
    "\n",
    "\n",
    "mp = ixmp.Platform()\n"
   ]
  },
  {
   "cell_type": "code",
   "execution_count": 2,
   "id": "fa3e46dd",
   "metadata": {},
   "outputs": [],
   "source": [
    "def plotvars(scenario):\n",
    "    # CO2 Emission\n",
    "    emiss = scenario.var(\"EMISS\")\n",
    "    emiss = emiss.loc[(emiss['type_tec'] == 'all') & \n",
    "                      (emiss['node'] == 'World') & \n",
    "                      (emiss['emission'] == 'TCE')]\n",
    "    emiss_plot = emiss[['year','lvl']].set_index(['year']).div(1000)\n",
    "\n",
    "    # CO2 Removal\n",
    "    removal = scenario.var(\"EMISS\")\n",
    "    removal = removal.loc[(removal['type_tec'] == 'all') & \n",
    "                          (removal['node'] == 'World') & \n",
    "                          (removal['emission'] == 'CO2_storage')]\n",
    "    removal_plot = removal[['year','lvl']].set_index(['year']).div(1000)\n",
    "\n",
    "    # CO2 Prices\n",
    "    CO2Price = (scenario.var(\"PRICE_EMISSION\")\n",
    "                .loc[scenario.var(\"PRICE_EMISSION\")['type_emission'] == 'TCE'][['year','lvl']]\n",
    "                .set_index(['year'])).div(1000)\n",
    "    \n",
    "    \n",
    "    plt.figure(figsize=(4,4))\n",
    "    # Plottings\n",
    "    plt.plot(emiss_plot, label='CO2 Emission')\n",
    "    plt.plot(removal_plot, label='CO2 Removal')\n",
    "    plt.plot(CO2Price, label='CO2 Price')\n",
    "    \n",
    "    plt.ylim(-10,40)\n",
    "    plt.ylabel(\"thousands of var unit\")\n",
    "    \n",
    "    plt.legend()\n",
    "    plt.show()"
   ]
  },
  {
   "cell_type": "markdown",
   "id": "7d4cf7f5",
   "metadata": {},
   "source": [
    "## Clone old scenario and create split infrastructure scenario"
   ]
  },
  {
   "cell_type": "code",
   "execution_count": 3,
   "id": "d24e7d79",
   "metadata": {},
   "outputs": [],
   "source": [
    "ssp = \"SSP5\""
   ]
  },
  {
   "cell_type": "code",
   "execution_count": 4,
   "id": "34cf0deb",
   "metadata": {},
   "outputs": [],
   "source": [
    "# this is to import scenario from data base and clone to local\n",
    "base = message_ix.Scenario(mp, model=f'SSP_dev_{ssp}_v0.1_dac', scenario=\"baseline_v0.13\")\n",
    "scen = base.clone(\n",
    "    f\"SSP_dev_{ssp}_v0.1_dac\",\n",
    "    \"baseline_v0.13_dac-co2split\",\n",
    "    \"dac baseline with split CO2 transmission and disposal\",\n",
    "    keep_solution=False, \n",
    ")\n",
    "scen.check_out()\n",
    "\n",
    "year_df = scen.vintage_and_active_years()\n",
    "vintage_years, act_years = year_df[\"year_vtg\"], year_df[\"year_act\"]\n",
    "model_horizon = scen.set(\"year\")\n"
   ]
  },
  {
   "cell_type": "markdown",
   "id": "50d76971",
   "metadata": {},
   "source": [
    "## Split CO2 infrastructure\n",
    "**1) Removing old setup:**"
   ]
  },
  {
   "cell_type": "code",
   "execution_count": 5,
   "id": "a20c90e9",
   "metadata": {},
   "outputs": [],
   "source": [
    "# REMOVE RELATIONS\n",
    "# list of parameters to remove\n",
    "params = ['relation_activity']\n",
    "\n",
    "# list of technologies to remove\n",
    "techs = ['co2_tr_dis', 'bco2_tr_dis',\n",
    "         'bio_istig_ccs','bio_ppl_co2scr','eth_bio_ccs','h2_bio_ccs','liq_bio_ccs',\n",
    "         'c_ppl_co2scr','cement_co2scr','coal_adv_ccs','g_ppl_co2scr','gas_cc_ccs',\n",
    "         'h2_coal_ccs','h2_smr_ccs','igcc_ccs','meth_coal_ccs','meth_ng_ccs','syn_liq_ccs']\n",
    "rels = ['co2_trans_disp','bco2_trans_disp','CO2_Emission_Global_Total', 'CO2_Emission',]\n",
    "\n",
    "# removing parameters\n",
    "for par in params:\n",
    "    scen.remove_par(par, scen.par(par,{'technology':techs,'relation':rels}))\n",
    "    \n",
    "# REMOVE PIPELIENES\n",
    "# list of parameters to remove\n",
    "params = ['inv_cost','fix_cost','input','capacity_factor','technical_lifetime',\n",
    "          'construction_time','abs_cost_activity_soft_up','growth_activity_lo',\n",
    "          'level_cost_activity_soft_lo','level_cost_activity_soft_up','relation_activity',\n",
    "          'var_cost','output','emission_factor','soft_activity_lo','soft_activity_up',\n",
    "          'growth_activity_up','initial_activity_up']\n",
    "\n",
    "# list of technologies to remove\n",
    "pipes = ['co2_tr_dis', 'bco2_tr_dis']\n",
    "# removing parameters\n",
    "for par in params:\n",
    "    scen.remove_par(par, scen.par(par,{'technology':pipes}))\n",
    "    \n",
    "# REMOVE SETS    \n",
    "# removing daccs from technology set\n",
    "scen.remove_set('technology',pipes)\n",
    "scen.remove_set('relation',rels[0:2])\n"
   ]
  },
  {
   "cell_type": "markdown",
   "id": "63420f04",
   "metadata": {},
   "source": [
    "**2) Add new set of technologies:**"
   ]
  },
  {
   "cell_type": "code",
   "execution_count": 6,
   "id": "9872d889",
   "metadata": {},
   "outputs": [],
   "source": [
    "# add CO2_storage\n",
    "scen.add_set('emission',\"CO2_storage\")\n",
    "\n",
    "# add related technologies\n",
    "filepath = 'C:/Users/pratama/Documents/GitHub/MESSAGEix/message_ix/tutorial/dac_scenarios/SSPs/ssp_data/co2infrastructure_data_ssp2dev.yaml'\n",
    "add_tech(scen,filepath=filepath)"
   ]
  },
  {
   "cell_type": "code",
   "execution_count": 7,
   "id": "ac0d9969",
   "metadata": {},
   "outputs": [],
   "source": [
    "# removing some pipelines parameters\n",
    "newpipesnstors = ['co2_stor','co2_tr_ld', 'co2_tr_sd']\n",
    "pars2remove = ['var_cost','input','output','emission_factor','capacity_factor']\n",
    "for par in pars2remove:\n",
    "    df = scen.par(par,{'technology':newpipesnstors})\n",
    "    df= df.loc[df['year_vtg'] != df['year_act']]\n",
    "    scen.remove_par(par, df)\n",
    "\n",
    "# removing excess year_act\n",
    "pars2remove = ['output']\n",
    "for par in pars2remove:\n",
    "    df = scen.par(par,{'technology':techs})\n",
    "    df = df.loc[df['year_act'] > df['year_vtg'].add(30)]\n",
    "    scen.remove_par(par, df)"
   ]
  },
  {
   "cell_type": "code",
   "execution_count": 8,
   "id": "129716de",
   "metadata": {},
   "outputs": [],
   "source": [
    "# add daccs\n",
    "filepath = 'C:/Users/pratama/Documents/GitHub/MESSAGEix/message_ix/tutorial/dac_scenarios/SSPs/ssp_data/daccs_setup_data_ssp2dev.yaml'\n",
    "add_tech(scen,filepath=filepath)"
   ]
  },
  {
   "cell_type": "code",
   "execution_count": 9,
   "id": "59a72c27",
   "metadata": {},
   "outputs": [],
   "source": [
    "# removing some parameters\n",
    "newpipesnstors = ['co2_tr_sd','co2_stor']\n",
    "pars2remove = ['emission_factor','capacity_factor','var_cost','input','output']\n",
    "for par in pars2remove:\n",
    "    df = scen.par(par,{'technology':newpipesnstors})\n",
    "    df= df.loc[df['year_vtg'] != df['year_act']]\n",
    "    scen.remove_par(par, df)\n",
    "\n",
    "# removing excess year_act\n",
    "pars2remove = ['capacity_factor','fix_cost','input','output']\n",
    "techs = ['dac_2', 'dac_1', 'dac_3', 'dac_4', 'dac_5']\n",
    "for par in pars2remove:\n",
    "    df = scen.par(par,{'technology':techs})\n",
    "    df = df.loc[df['year_act'] > df['year_vtg'].add(30)]\n",
    "    scen.remove_par(par, df)\n",
    "    \n",
    "# adding relation_upper and _lower\n",
    "nodes = [node for node in scen.set(\"node\") if node != \"World\"]\n",
    "rels = [\"DAC_mpen_c\"]\n",
    "df_list = []\n",
    "for rel in rels:\n",
    "    for node in nodes:\n",
    "        df = make_df(\"relation_upper\",\n",
    "                     relation=rel,\n",
    "                     node_rel=node,\n",
    "                     year_rel=list(sorted(set(act_years))),\n",
    "                     unit = \"-\",\n",
    "                     value = 0\n",
    "                    )\n",
    "        df_list = df_list + [df]\n",
    "dfpar2add = pd.concat(df_list)\n",
    "scen.add_par(\"relation_upper\", dfpar2add)\n",
    "scen.add_par(\"relation_lower\", dfpar2add)"
   ]
  },
  {
   "cell_type": "code",
   "execution_count": 10,
   "id": "821b4450",
   "metadata": {},
   "outputs": [],
   "source": [
    "scen.commit(comment=f\"{ssp} baseline scenario with dac and split CO2 infrastructure\")\n",
    "scen.set_as_default()"
   ]
  },
  {
   "cell_type": "code",
   "execution_count": 11,
   "id": "5ff50487",
   "metadata": {},
   "outputs": [
    {
     "data": {
      "text/plain": [
       "3100069.0"
      ]
     },
     "execution_count": 11,
     "metadata": {},
     "output_type": "execute_result"
    }
   ],
   "source": [
    "scen.solve(solve_options={'barcrossalg': '2','scaind':'0'}) # solve_options={'barcrossalg': '2','scaind':'1'}\n",
    "scen.var(\"OBJ\")[\"lvl\"]"
   ]
  },
  {
   "cell_type": "code",
   "execution_count": 12,
   "id": "cf565247",
   "metadata": {},
   "outputs": [
    {
     "data": {
      "image/png": "[encoded data removed]",
      "text/plain": [
       "<Figure size 400x400 with 1 Axes>"
      ]
     },
     "metadata": {},
     "output_type": "display_data"
    }
   ],
   "source": [
    "plotvars(scen)"
   ]
  },
  {
   "cell_type": "markdown",
   "id": "41d8f2bd",
   "metadata": {},
   "source": [
    "## Run 1000f scenario"
   ]
  },
  {
   "cell_type": "code",
   "execution_count": 13,
   "id": "76671882",
   "metadata": {},
   "outputs": [],
   "source": [
    "# this is to import scenario from data base and clone to local\n",
    "co2bound_scen = scen.clone(\n",
    "    f\"SSP_dev_{ssp}_v0.1_dac\",\n",
    "    \"1000f_v0.13_dac-co2split\",\n",
    "    \"dac 1000f carbon budget with split CO2 transmission and disposal\",\n",
    "    keep_solution=False, \n",
    ")\n",
    "co2bound_scen.check_out()\n",
    "\n",
    "# add emission bound\n",
    "co2bound_scen.add_par('bound_emission', ['World', 'TCE', 'all', 'cumulative'], value=4046, unit=\"tC\")"
   ]
  },
  {
   "cell_type": "code",
   "execution_count": 14,
   "id": "f592e504",
   "metadata": {},
   "outputs": [],
   "source": [
    "co2bound_scen.commit(comment=f\"{ssp}_dev 1000f without DAC scenario\")\n",
    "co2bound_scen.set_as_default()"
   ]
  },
  {
   "cell_type": "code",
   "execution_count": 15,
   "id": "b3a820d0",
   "metadata": {},
   "outputs": [
    {
     "data": {
      "image/png": "[encoded data removed]",
      "text/plain": [
       "<Figure size 400x400 with 1 Axes>"
      ]
     },
     "metadata": {},
     "output_type": "display_data"
    }
   ],
   "source": [
    "co2bound_scen.solve(solve_options={'scaind': '1'}) # solve_options={'barcrossalg': '2','scaind':'1'}\n",
    "co2bound_scen.var(\"OBJ\")[\"lvl\"]\n",
    "plotvars(co2bound_scen)"
   ]
  },
  {
   "cell_type": "markdown",
   "id": "92dd9c90",
   "metadata": {},
   "source": [
    "## Close connection"
   ]
  },
  {
   "cell_type": "code",
   "execution_count": 16,
   "id": "f8e3cad8",
   "metadata": {},
   "outputs": [],
   "source": [
    "mp.close_db()"
   ]
  },
  {
   "cell_type": "code",
   "execution_count": null,
   "id": "861d55bf",
   "metadata": {},
   "outputs": [],
   "source": []
  }
 ],
 "metadata": {
  "kernelspec": {
   "display_name": "Python 3 (ipykernel)",
   "language": "python",
   "name": "python3"
  },
  "language_info": {
   "codemirror_mode": {
    "name": "ipython",
    "version": 3
   },
   "file_extension": ".py",
   "mimetype": "text/x-python",
   "name": "python",
   "nbconvert_exporter": "python",
   "pygments_lexer": "ipython3",
   "version": "3.10.9"
  }
 },
 "nbformat": 4,
 "nbformat_minor": 5
}

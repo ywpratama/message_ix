{
 "cells": [
  {
   "cell_type": "code",
   "execution_count": 1,
   "id": "38289ac0",
   "metadata": {},
   "outputs": [
    {
     "data": {
      "application/javascript": [
       "if (typeof IPython !== 'undefined') { IPython.OutputArea.prototype._should_scroll = function(lines){ return false; }}"
      ],
      "text/plain": [
       "<IPython.core.display.Javascript object>"
      ]
     },
     "metadata": {},
     "output_type": "display_data"
    },
    {
     "name": "stderr",
     "output_type": "stream",
     "text": [
      "C:\\Users\\pratama\\Documents\\GitHub\\MESSAGEix\\message_ix\\message_ix\\reporting\\__init__.py:98: FutureWarning: Importing from genno.computations will be deprecated in a future version; use genno.operator instead.\n",
      "  (\"tom:nl-t-yv-ya\", (genno.computations.add, \"fom:nl-t-yv-ya\", \"vom:nl-t-yv-ya\")),\n"
     ]
    }
   ],
   "source": [
    "import ixmp\n",
    "import message_ix\n",
    "import numpy as np\n",
    "import pandas as pd\n",
    "import yaml\n",
    "\n",
    "from collections.abc import Mapping\n",
    "from itertools import repeat\n",
    "from message_ix.models import MESSAGE_ITEMS\n",
    "from message_ix.utils import make_df\n",
    "from message_ix.tools.add_dac import *\n",
    "#from message_ix.tools.add_dac import get_values\n",
    "\n",
    "%matplotlib inline"
   ]
  },
  {
   "cell_type": "code",
   "execution_count": 11,
   "id": "607f21b9",
   "metadata": {},
   "outputs": [],
   "source": [
    "# CONNECT TO DATABASE\n",
    "mp = ixmp.Platform()\n",
    "\n",
    "# this is to import scenario from data base and clone to local\n",
    "ssp = \"SSP2\"\n",
    "dacsspscen = message_ix.Scenario(mp, model=f'SSP_dev_{ssp}_v0.1_dac', scenario=\"1000f_v0.13_dac-co2split_mpen3\")"
   ]
  },
  {
   "cell_type": "code",
   "execution_count": 4,
   "id": "e80b6b10",
   "metadata": {},
   "outputs": [],
   "source": [
    "acts = get_values(dacsspscen,\"ACT\").droplevel([\"mode\",\"time\"])\n",
    "#removal = (acts.loc[:, scenariotec, :, :][\"lvl\"].unstack().fillna(0)\n",
    "#           .groupby([\"node_loc\"]).sum())\n",
    "#removal.loc[\"World\"] = removal.sum(axis=0)"
   ]
  },
  {
   "cell_type": "code",
   "execution_count": 31,
   "id": "9b751c91",
   "metadata": {},
   "outputs": [
    {
     "data": {
      "text/plain": [
       "year_act\n",
       "2025      12.252592\n",
       "2030      32.137684\n",
       "2035      71.461844\n",
       "2040     143.975237\n",
       "2045     259.202373\n",
       "2050     463.444610\n",
       "2055     800.831520\n",
       "2060    1357.456378\n",
       "2070    3160.449874\n",
       "2080    5471.950467\n",
       "2090    6958.385397\n",
       "2100    7518.320922\n",
       "2110    7127.828741\n",
       "Name: lvl, dtype: float64"
      ]
     },
     "execution_count": 31,
     "metadata": {},
     "output_type": "execute_result"
    }
   ],
   "source": [
    "rem = (dacsspscen.var(\"ACT\",{\"technology\":\"co2_tr_sd\",\"mode\":\"M1\"})\n",
    "       .set_index([\"node_loc\",\"technology\",\"year_vtg\",\"year_act\",\"mode\",\"time\"])\n",
    "       .droplevel([\"mode\",\"time\"])).mul(3.67)\n",
    "rem.groupby(\"year_act\").sum()[\"lvl\"]"
   ]
  },
  {
   "cell_type": "code",
   "execution_count": 22,
   "id": "1bc46a05",
   "metadata": {},
   "outputs": [],
   "source": [
    "scenariotec = \"dac_lt\"\n",
    "acts = get_values(dacsspscen,\"ACT\").droplevel([\"mode\",\"time\"])\n",
    "removal = (acts.loc[:, scenariotec, :, :][\"lvl\"].unstack().fillna(0)\n",
    "           .groupby([\"node_loc\"]).sum())\n",
    "removal.loc[\"World\"] = removal.sum(axis=0)"
   ]
  },
  {
   "cell_type": "code",
   "execution_count": 28,
   "id": "95862e28",
   "metadata": {},
   "outputs": [
    {
     "data": {
      "text/plain": [
       "year_act\n",
       "2025    0.0\n",
       "2030    0.0\n",
       "2035    0.0\n",
       "2040    0.0\n",
       "2045    0.0\n",
       "2050    0.0\n",
       "2055    0.0\n",
       "2060    0.0\n",
       "2070    0.0\n",
       "2080    0.0\n",
       "2090    0.0\n",
       "2100    0.0\n",
       "2110    0.0\n",
       "Name: World, dtype: float64"
      ]
     },
     "execution_count": 28,
     "metadata": {},
     "output_type": "execute_result"
    }
   ],
   "source": [
    "removal.loc[\"World\"]"
   ]
  },
  {
   "cell_type": "code",
   "execution_count": null,
   "id": "e0f78297",
   "metadata": {},
   "outputs": [],
   "source": []
  },
  {
   "cell_type": "code",
   "execution_count": 8,
   "id": "25896faf",
   "metadata": {},
   "outputs": [],
   "source": [
    "# CLOSE CONNECTION\n",
    "mp.close_db()"
   ]
  },
  {
   "cell_type": "code",
   "execution_count": null,
   "id": "69b4ed18",
   "metadata": {},
   "outputs": [],
   "source": []
  }
 ],
 "metadata": {
  "kernelspec": {
   "display_name": "Python 3 (ipykernel)",
   "language": "python",
   "name": "python3"
  },
  "language_info": {
   "codemirror_mode": {
    "name": "ipython",
    "version": 3
   },
   "file_extension": ".py",
   "mimetype": "text/x-python",
   "name": "python",
   "nbconvert_exporter": "python",
   "pygments_lexer": "ipython3",
   "version": "3.10.9"
  }
 },
 "nbformat": 4,
 "nbformat_minor": 5
}

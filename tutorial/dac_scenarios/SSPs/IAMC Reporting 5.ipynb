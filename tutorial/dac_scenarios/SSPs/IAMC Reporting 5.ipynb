{
 "cells": [
  {
   "cell_type": "markdown",
   "id": "296d488b",
   "metadata": {},
   "source": [
    "# IAMC Reporting"
   ]
  },
  {
   "cell_type": "code",
   "execution_count": 1,
   "id": "cf5722a5",
   "metadata": {},
   "outputs": [
    {
     "data": {
      "application/javascript": [
       "if (typeof IPython !== 'undefined') { IPython.OutputArea.prototype._should_scroll = function(lines){ return false; }}"
      ],
      "text/plain": [
       "<IPython.core.display.Javascript object>"
      ]
     },
     "metadata": {},
     "output_type": "display_data"
    },
    {
     "name": "stderr",
     "output_type": "stream",
     "text": [
      "C:\\Users\\pratama\\Documents\\GitHub\\MESSAGEix\\message_ix\\message_ix\\reporting\\__init__.py:98: FutureWarning: Importing from genno.computations will be deprecated in a future version; use genno.operator instead.\n",
      "  (\"tom:nl-t-yv-ya\", (genno.computations.add, \"fom:nl-t-yv-ya\", \"vom:nl-t-yv-ya\")),\n"
     ]
    },
    {
     "name": "stdout",
     "output_type": "stream",
     "text": [
      "SSP5 -- CCUS SSP without DAC\n",
      "Reporting standard variables\n",
      "processing Table: Primary Energy\n",
      "processing Table: Final Energy\n",
      "no emissions included\n",
      "no emissions included\n",
      "Starting to upload timeseries\n",
      "    region                                          variable   unit  \\\n",
      "0  R12_AFR                                    Primary Energy  EJ/yr   \n",
      "1  R12_AFR                            Primary Energy|Biomass  EJ/yr   \n",
      "2  R12_AFR             Primary Energy|Biomass|1st Generation  EJ/yr   \n",
      "3  R12_AFR   Primary Energy|Biomass|1st Generation|Biodiesel  EJ/yr   \n",
      "4  R12_AFR  Primary Energy|Biomass|1st Generation|Bioethanol  EJ/yr   \n",
      "\n",
      "        2020       2025       2030       2035       2040       2045  \\\n",
      "0  18.512275  19.870557  22.988921  27.523403  33.370508  42.454661   \n",
      "1   6.617628   8.262957   9.405767  10.278848  10.471807  10.631352   \n",
      "2   0.000000   0.000000   0.000000   0.000000   0.000000   0.000000   \n",
      "3   0.000000   0.000000   0.000000   0.000000   0.000000   0.000000   \n",
      "4   0.000000   0.000000   0.000000   0.000000   0.000000   0.000000   \n",
      "\n",
      "        2050       2055       2060        2070        2080        2090  \\\n",
      "0  52.364900  63.747204  77.355784  109.526420  135.367581  156.969735   \n",
      "1  11.662321  13.677217  15.591367   19.237622   23.079847   27.043824   \n",
      "2   0.000000   0.000000   0.000000    0.000000    0.000000    0.000000   \n",
      "3   0.000000   0.000000   0.000000    0.000000    0.000000    0.000000   \n",
      "4   0.000000   0.000000   0.000000    0.000000    0.000000    0.000000   \n",
      "\n",
      "         2100        2110  \n",
      "0  175.539694  199.174113  \n",
      "1   28.845666   32.550184  \n",
      "2    0.000000    0.000000  \n",
      "3    0.000000    0.000000  \n",
      "4    0.000000    0.000000  \n",
      "Finished uploading timeseries\n",
      "SSP5 -- CCUS SSP with DAC\n",
      "Reporting standard variables\n",
      "processing Table: Primary Energy\n",
      "processing Table: Final Energy\n",
      "no emissions included\n",
      "no emissions included\n",
      "Starting to upload timeseries\n",
      "    region                                          variable   unit  \\\n",
      "0  R12_AFR                                    Primary Energy  EJ/yr   \n",
      "1  R12_AFR                            Primary Energy|Biomass  EJ/yr   \n",
      "2  R12_AFR             Primary Energy|Biomass|1st Generation  EJ/yr   \n",
      "3  R12_AFR   Primary Energy|Biomass|1st Generation|Biodiesel  EJ/yr   \n",
      "4  R12_AFR  Primary Energy|Biomass|1st Generation|Bioethanol  EJ/yr   \n",
      "\n",
      "        2020       2025       2030       2035       2040       2045  \\\n",
      "0  18.325168  19.828547  22.801679  27.365178  33.298977  42.291987   \n",
      "1   6.638354   8.275658   9.343297  10.002182  10.180686  10.054609   \n",
      "2   0.000000   0.000000   0.000000   0.000000   0.000000   0.000000   \n",
      "3   0.000000   0.000000   0.000000   0.000000   0.000000   0.000000   \n",
      "4   0.000000   0.000000   0.000000   0.000000   0.000000   0.000000   \n",
      "\n",
      "        2050       2055       2060        2070        2080        2090  \\\n",
      "0  52.463860  63.405560  75.995248  104.646730  128.183083  151.764061   \n",
      "1  11.099789  12.270471  13.362662   14.964177   18.799125   24.480797   \n",
      "2   0.000000   0.000000   0.000000    0.000000    0.000000    0.000000   \n",
      "3   0.000000   0.000000   0.000000    0.000000    0.000000    0.000000   \n",
      "4   0.000000   0.000000   0.000000    0.000000    0.000000    0.000000   \n",
      "\n",
      "         2100        2110  \n",
      "0  171.042747  183.649837  \n",
      "1   28.465227   25.591848  \n",
      "2    0.000000    0.000000  \n",
      "3    0.000000    0.000000  \n",
      "4    0.000000    0.000000  \n",
      "Finished uploading timeseries\n"
     ]
    }
   ],
   "source": [
    "import ixmp\n",
    "import message_ix\n",
    "\n",
    "#from message_data.model.material.report.reporting import report\n",
    "from message_data.tools.post_processing.iamc_report_hackathon import (\n",
    "    report as reporting)\n",
    "\n",
    "import warnings\n",
    "warnings.filterwarnings('ignore')\n",
    "\n",
    "ssps = [#\"LED\",\n",
    "        #\"SSP1\",\n",
    "        #\"SSP2\",\n",
    "        #\"SSP3\",\n",
    "        #\"SSP4\",\n",
    "        \"SSP5\"\n",
    "]\n",
    "\n",
    "setups = {#'Base without DAC':'1000f_no-dac',\n",
    "          'CCUS SSP without DAC':'1000f_all-ssp-param_no-dac',\n",
    "          'CCUS SSP with DAC':'1000f_all-ssp-param'}\n",
    "          \n",
    "for ssp in ssps:\n",
    "    for key,val in setups.items():\n",
    "        print(ssp,'--',key)\n",
    "        mp = ixmp.Platform()\n",
    "        mo_name = f'SSP_dev_{ssp}_v0.1_materials-dac-co2split'\n",
    "        sc_name = val\n",
    "        scen = message_ix.Scenario(mp, model=mo_name, scenario=sc_name)\n",
    "        \n",
    "        # report(scenario)\n",
    "        print(\"Reporting standard variables\")\n",
    "        reporting(\n",
    "            mp,\n",
    "            scen,\n",
    "            # NB(PNK) this is not an error; .iamc_report_hackathon.report() expects a\n",
    "            #         string containing \"True\" or \"False\" instead of an actual bool.\n",
    "            \"False\",\n",
    "            scen.model,\n",
    "            scen.scenario,\n",
    "            merge_hist=True,\n",
    "            merge_ts=True,\n",
    "            run_config=\"SSP_dev_run_config.yaml\",\n",
    "        )\n",
    "        mp.close_db()"
   ]
  },
  {
   "cell_type": "code",
   "execution_count": null,
   "id": "436c0f8e",
   "metadata": {},
   "outputs": [],
   "source": []
  }
 ],
 "metadata": {
  "kernelspec": {
   "display_name": "Python 3 (ipykernel)",
   "language": "python",
   "name": "python3"
  },
  "language_info": {
   "codemirror_mode": {
    "name": "ipython",
    "version": 3
   },
   "file_extension": ".py",
   "mimetype": "text/x-python",
   "name": "python",
   "nbconvert_exporter": "python",
   "pygments_lexer": "ipython3",
   "version": "3.10.9"
  }
 },
 "nbformat": 4,
 "nbformat_minor": 5
}

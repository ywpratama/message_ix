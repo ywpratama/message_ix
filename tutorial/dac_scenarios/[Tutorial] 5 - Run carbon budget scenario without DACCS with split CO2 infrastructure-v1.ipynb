{
 "cells": [
  {
   "cell_type": "markdown",
   "id": "9ce2dbbc",
   "metadata": {},
   "source": [
    "## Import all required tools: SENSE CHECKING PARS is TURNED OFF. TURN IT BACK ON"
   ]
  },
  {
   "cell_type": "code",
   "execution_count": 1,
   "id": "db473272",
   "metadata": {},
   "outputs": [
    {
     "data": {
      "application/javascript": [
       "if (typeof IPython !== 'undefined') { IPython.OutputArea.prototype._should_scroll = function(lines){ return false; }}"
      ],
      "text/plain": [
       "<IPython.core.display.Javascript object>"
      ]
     },
     "metadata": {},
     "output_type": "display_data"
    },
    {
     "name": "stderr",
     "output_type": "stream",
     "text": [
      "C:\\Users\\pratama\\Documents\\GitHub\\MESSAGEix\\message_ix\\message_ix\\reporting\\__init__.py:98: FutureWarning: Importing from genno.computations will be deprecated in a future version; use genno.operator instead.\n",
      "  (\"tom:nl-t-yv-ya\", (genno.computations.add, \"fom:nl-t-yv-ya\", \"vom:nl-t-yv-ya\")),\n"
     ]
    }
   ],
   "source": [
    "import ixmp\n",
    "import message_ix\n",
    "import numpy as np\n",
    "import pandas as pd\n",
    "import yaml\n",
    "\n",
    "from collections.abc import Mapping\n",
    "from itertools import repeat\n",
    "from message_ix.models import MESSAGE_ITEMS\n",
    "from message_ix.utils import make_df\n",
    "from message_ix.tools.add_dac import *\n",
    "\n",
    "%matplotlib inline\n",
    "\n",
    "\n",
    "mp = ixmp.Platform()\n"
   ]
  },
  {
   "cell_type": "markdown",
   "id": "7d4cf7f5",
   "metadata": {},
   "source": [
    "## Clone baseline and create emission bound scenario"
   ]
  },
  {
   "cell_type": "code",
   "execution_count": 2,
   "id": "34cf0deb",
   "metadata": {},
   "outputs": [],
   "source": [
    "# this is to import scenario from data base and clone to local\n",
    "base = message_ix.Scenario(mp, model='GENIE_sandbox', scenario=\"cb1000\")\n",
    "scen = base.clone(\n",
    "    \"GENIE_sandbox\",\n",
    "    \"cb1000_splitCO2transdisp\",\n",
    "    \"1000 carbon budget with split CO2 transmission and disposal\",\n",
    "    keep_solution=False, \n",
    ")\n",
    "scen.check_out()\n",
    "\n",
    "year_df = scen.vintage_and_active_years()\n",
    "vintage_years, act_years = year_df[\"year_vtg\"], year_df[\"year_act\"]\n",
    "model_horizon = scen.set(\"year\")\n"
   ]
  },
  {
   "cell_type": "markdown",
   "id": "50d76971",
   "metadata": {},
   "source": [
    "## Split CO2 infrastructure using add_dac tool"
   ]
  },
  {
   "cell_type": "code",
   "execution_count": 3,
   "id": "a20c90e9",
   "metadata": {},
   "outputs": [],
   "source": [
    "# REMOVE RELATIONS\n",
    "# list of parameters to remove\n",
    "params = ['relation_activity']\n",
    "\n",
    "# list of technologies to remove\n",
    "techs = ['co2_tr_dis', 'bco2_tr_dis',\n",
    "         'bio_istig_ccs','bio_ppl_co2scr','eth_bio_ccs','h2_bio_ccs','liq_bio_ccs',\n",
    "         'c_ppl_co2scr','cement_co2scr','coal_adv_ccs','g_ppl_co2scr','gas_cc_ccs',\n",
    "             'h2_coal_ccs','h2_smr_ccs','igcc_ccs','meth_coal_ccs','meth_ng_ccs','syn_liq_ccs']\n",
    "rels = ['co2_trans_disp','bco2_trans_disp','CO2_Emission_Global_Total', 'CO2_Emission',]\n",
    "\n",
    "# removing parameters\n",
    "for par in params:\n",
    "    scen.remove_par(par, scen.par(par,{'technology':techs,'relation':rels}))\n",
    "\n",
    "    \n",
    "    \n",
    "# REMOVE PIPELIENES\n",
    "# list of parameters to remove\n",
    "params = ['inv_cost','fix_cost','input','capacity_factor','technical_lifetime',\n",
    "          'construction_time','abs_cost_activity_soft_up','growth_activity_lo',\n",
    "          'level_cost_activity_soft_lo','level_cost_activity_soft_up','relation_activity',\n",
    "          'var_cost','output','emission_factor','soft_activity_lo','soft_activity_up',\n",
    "          'growth_activity_up','initial_activity_up']\n",
    "# list of technologies to remove\n",
    "pipes = ['co2_tr_dis', 'bco2_tr_dis']\n",
    "# removing parameters\n",
    "for par in params:\n",
    "    scen.remove_par(par, scen.par(par,{'technology':pipes}))\n",
    "\n",
    "    \n",
    "    \n",
    "# REMOVE SETS    \n",
    "# removing daccs from technology set\n",
    "scen.remove_set('technology',pipes)\n",
    "scen.remove_set('relation',rels[0:2])\n"
   ]
  },
  {
   "cell_type": "markdown",
   "id": "63420f04",
   "metadata": {},
   "source": [
    "**Add new set of technologies:**"
   ]
  },
  {
   "cell_type": "code",
   "execution_count": 4,
   "id": "9872d889",
   "metadata": {},
   "outputs": [],
   "source": [
    "# add related technologies\n",
    "filepath = 'C:/Users/pratama/Documents/GitHub/MESSAGEix/message_ix/tutorial/dac_scenarios/data/tech_data-split_TnD_v3.yaml'\n",
    "add_dac(scen,filepath=filepath)"
   ]
  },
  {
   "cell_type": "code",
   "execution_count": 5,
   "id": "ac0d9969",
   "metadata": {},
   "outputs": [],
   "source": [
    "# removing some pipelines parameters\n",
    "newpipesnstors = ['co2_stor','co2_tr_dis', 'bco2_tr_dis']\n",
    "pars2remove = ['var_cost','input','output','emission_factor','capacity_factor']\n",
    "for par in pars2remove:\n",
    "    df = scen.par(par,{'technology':newpipesnstors})\n",
    "    df= df.loc[df['year_vtg'] != df['year_act']]\n",
    "    scen.remove_par(par, df)"
   ]
  },
  {
   "cell_type": "markdown",
   "id": "abcbfbe2",
   "metadata": {},
   "source": [
    "## Run the model"
   ]
  },
  {
   "cell_type": "code",
   "execution_count": 6,
   "id": "40c954f1",
   "metadata": {},
   "outputs": [],
   "source": [
    "scen.commit(comment=\"emission bound with split CO2 infrastructure\")\n",
    "scen.set_as_default()"
   ]
  },
  {
   "cell_type": "code",
   "execution_count": 7,
   "id": "32bf3996",
   "metadata": {
    "scrolled": false
   },
   "outputs": [
    {
     "data": {
      "text/plain": [
       "2609317.5"
      ]
     },
     "execution_count": 7,
     "metadata": {},
     "output_type": "execute_result"
    }
   ],
   "source": [
    "scen.solve(solve_options={'barcrossalg': '2','scaind':'0'}) # solve_options={'barcrossalg': '2','scaind':'1'}\n",
    "scen.var(\"OBJ\")[\"lvl\"]"
   ]
  },
  {
   "cell_type": "markdown",
   "id": "992a2f8c",
   "metadata": {},
   "source": [
    "## Key variables report\n",
    "- CO2_emission\n",
    "- CO2_removal\n",
    "- CO2_price"
   ]
  },
  {
   "cell_type": "code",
   "execution_count": 8,
   "id": "7a96c580",
   "metadata": {},
   "outputs": [],
   "source": [
    "# CO2 Emission\n",
    "emiss = scen.var(\"EMISS\")\n",
    "emiss = emiss.loc[(emiss['type_tec'] == 'all') & (emiss['node'] == 'World') & (emiss['emission'] == 'TCE')]\n",
    "emiss_plot = emiss[['year','lvl']].set_index(['year'])\n",
    "\n",
    "# CO2 Removal\n",
    "removal = scen.var(\"EMISS\")\n",
    "removal = removal.loc[(removal['type_tec'] == 'all') & (removal['node'] == 'World') & (removal['emission'] == 'CO2_storage')]\n",
    "removal_plot = removal[['year','lvl']].set_index(['year'])\n",
    "\n",
    "# CO2 Prices\n",
    "CO2Price = scen.var(\"PRICE_EMISSION\")[['year','lvl']].set_index(['year'])"
   ]
  },
  {
   "cell_type": "code",
   "execution_count": 9,
   "id": "f4c46907",
   "metadata": {},
   "outputs": [
    {
     "data": {
      "image/png": "[encoded data removed]",
      "text/plain": [
       "<Figure size 640x480 with 1 Axes>"
      ]
     },
     "metadata": {},
     "output_type": "display_data"
    }
   ],
   "source": [
    "# Plottings\n",
    "plt.plot(emiss_plot, label='CO2 Emission')\n",
    "plt.plot(removal_plot, label='CO2 Removal')\n",
    "plt.plot(CO2Price, label='CO2 Price')\n",
    "plt.legend()\n",
    "plt.show()"
   ]
  },
  {
   "cell_type": "markdown",
   "id": "92dd9c90",
   "metadata": {},
   "source": [
    "## Close connection"
   ]
  },
  {
   "cell_type": "code",
   "execution_count": 10,
   "id": "f8e3cad8",
   "metadata": {},
   "outputs": [],
   "source": [
    "mp.close_db()"
   ]
  }
 ],
 "metadata": {
  "kernelspec": {
   "display_name": "Python 3 (ipykernel)",
   "language": "python",
   "name": "python3"
  },
  "language_info": {
   "codemirror_mode": {
    "name": "ipython",
    "version": 3
   },
   "file_extension": ".py",
   "mimetype": "text/x-python",
   "name": "python",
   "nbconvert_exporter": "python",
   "pygments_lexer": "ipython3",
   "version": "3.10.9"
  }
 },
 "nbformat": 4,
 "nbformat_minor": 5
}

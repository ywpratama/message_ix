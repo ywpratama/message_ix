{
 "cells": [
  {
   "cell_type": "markdown",
   "metadata": {},
   "source": [
    "# Westeros Tutorial: Running MESSAGE in Recursive Dynamic Mode\n",
    "\n",
    "While considering the full time horizon in a single run is useful for a long-term energy systems planning, the recursive dynamic approach can provide insights that reflect the relevant foresight windows decision makers can have in making adaptive and robust planning.\n",
    "\n",
    "In addition to running the model with the perfect foresights, MESSAGE can also be run using the recursive dynamic approach. Here, the model is run iteratively throughout the periods with key decision variables from the previous periods, or iterations, are fixed so that new informations do not alter decisions that are already made in the previous periods. These variables\n",
    "include $CAP$ , $CAP\\_NEW$, $ACT$, and $EXT$. \n",
    "\n",
    "In this tutorial, we will implement the recursive dynamic mode on Westeros baseline scenario. Hence, before we start, we have to make sure that we can successfully run the baseline scenarion (``westeros_baseline.ipynb``).\n",
    "\n",
    "Let's start with importing all the libraries we need and connect to the `ixmp` platform."
   ]
  },
  {
   "cell_type": "code",
   "execution_count": 1,
   "metadata": {
    "scrolled": false
   },
   "outputs": [],
   "source": [
    "import os\n",
    "import matplotlib.pyplot as plt\n",
    "import pandas as pd\n",
    "import ixmp\n",
    "import message_ix\n",
    "\n",
    "from message_ix.util import make_df\n",
    "from message_ix.tools.add_tech import add_tech\n",
    "\n",
    "\n",
    "%matplotlib inline\n",
    "\n",
    "mp = ixmp.Platform(\"local\")"
   ]
  },
  {
   "cell_type": "code",
   "execution_count": 2,
   "metadata": {},
   "outputs": [
    {
     "data": {
      "text/html": [
       "<div>\n",
       "<style scoped>\n",
       "    .dataframe tbody tr th:only-of-type {\n",
       "        vertical-align: middle;\n",
       "    }\n",
       "\n",
       "    .dataframe tbody tr th {\n",
       "        vertical-align: top;\n",
       "    }\n",
       "\n",
       "    .dataframe thead th {\n",
       "        text-align: right;\n",
       "    }\n",
       "</style>\n",
       "<table border=\"1\" class=\"dataframe\">\n",
       "  <thead>\n",
       "    <tr style=\"text-align: right;\">\n",
       "      <th></th>\n",
       "      <th>model</th>\n",
       "      <th>scenario</th>\n",
       "      <th>scheme</th>\n",
       "      <th>is_default</th>\n",
       "      <th>is_locked</th>\n",
       "      <th>cre_user</th>\n",
       "      <th>cre_date</th>\n",
       "      <th>upd_user</th>\n",
       "      <th>upd_date</th>\n",
       "      <th>lock_user</th>\n",
       "      <th>lock_date</th>\n",
       "      <th>annotation</th>\n",
       "      <th>version</th>\n",
       "    </tr>\n",
       "  </thead>\n",
       "  <tbody>\n",
       "    <tr>\n",
       "      <th>0</th>\n",
       "      <td>GENIE_sandbox</td>\n",
       "      <td>1000f_no-learning</td>\n",
       "      <td>MESSAGE</td>\n",
       "      <td>1</td>\n",
       "      <td>0</td>\n",
       "      <td>pratama</td>\n",
       "      <td>2024-06-25 18:09:08.760000</td>\n",
       "      <td>pratama</td>\n",
       "      <td>2024-06-25 18:14:26.261000</td>\n",
       "      <td>None</td>\n",
       "      <td>None</td>\n",
       "      <td>Import from GENIE_dac-sandbox_1000f.xlsx</td>\n",
       "      <td>1</td>\n",
       "    </tr>\n",
       "    <tr>\n",
       "      <th>1</th>\n",
       "      <td>Westeros Electrified</td>\n",
       "      <td>baseline</td>\n",
       "      <td>MESSAGE</td>\n",
       "      <td>1</td>\n",
       "      <td>0</td>\n",
       "      <td>pratama</td>\n",
       "      <td>2024-08-07 14:00:23.973000</td>\n",
       "      <td>pratama</td>\n",
       "      <td>2024-08-07 14:00:25.410000</td>\n",
       "      <td>None</td>\n",
       "      <td>None</td>\n",
       "      <td>basic model of Westeros electrification</td>\n",
       "      <td>1</td>\n",
       "    </tr>\n",
       "    <tr>\n",
       "      <th>2</th>\n",
       "      <td>Westeros Electrified</td>\n",
       "      <td>baseline_recursive-dynamic</td>\n",
       "      <td>MESSAGE</td>\n",
       "      <td>1</td>\n",
       "      <td>0</td>\n",
       "      <td>pratama</td>\n",
       "      <td>2024-10-03 16:10:22.818000</td>\n",
       "      <td>pratama</td>\n",
       "      <td>2024-10-03 16:10:24.066000</td>\n",
       "      <td>None</td>\n",
       "      <td>None</td>\n",
       "      <td>clone Scenario from 'Westeros Electrified|base...</td>\n",
       "      <td>46</td>\n",
       "    </tr>\n",
       "    <tr>\n",
       "      <th>3</th>\n",
       "      <td>Westeros Electrified</td>\n",
       "      <td>emission-bound_adaptive</td>\n",
       "      <td>MESSAGE</td>\n",
       "      <td>1</td>\n",
       "      <td>0</td>\n",
       "      <td>pratama</td>\n",
       "      <td>2024-10-03 16:10:24.184000</td>\n",
       "      <td>pratama</td>\n",
       "      <td>2024-10-03 16:10:25.265000</td>\n",
       "      <td>None</td>\n",
       "      <td>None</td>\n",
       "      <td>clone Scenario from 'Westeros Electrified|emis...</td>\n",
       "      <td>43</td>\n",
       "    </tr>\n",
       "    <tr>\n",
       "      <th>4</th>\n",
       "      <td>Westeros Electrified</td>\n",
       "      <td>emission-bound_adaptive-learning</td>\n",
       "      <td>MESSAGE</td>\n",
       "      <td>1</td>\n",
       "      <td>0</td>\n",
       "      <td>pratama</td>\n",
       "      <td>2024-10-03 16:10:25.341000</td>\n",
       "      <td>pratama</td>\n",
       "      <td>2024-10-03 16:10:26.561000</td>\n",
       "      <td>None</td>\n",
       "      <td>None</td>\n",
       "      <td>clone Scenario from 'Westeros Electrified|emis...</td>\n",
       "      <td>44</td>\n",
       "    </tr>\n",
       "    <tr>\n",
       "      <th>5</th>\n",
       "      <td>Westeros Electrified</td>\n",
       "      <td>emission_bound</td>\n",
       "      <td>MESSAGE</td>\n",
       "      <td>1</td>\n",
       "      <td>0</td>\n",
       "      <td>pratama</td>\n",
       "      <td>2024-08-07 14:03:28.466000</td>\n",
       "      <td>pratama</td>\n",
       "      <td>2024-08-07 14:03:29.889000</td>\n",
       "      <td>None</td>\n",
       "      <td>None</td>\n",
       "      <td>clone Scenario from 'Westeros Electrified|base...</td>\n",
       "      <td>1</td>\n",
       "    </tr>\n",
       "  </tbody>\n",
       "</table>\n",
       "</div>"
      ],
      "text/plain": [
       "                  model                          scenario   scheme  \\\n",
       "0         GENIE_sandbox                 1000f_no-learning  MESSAGE   \n",
       "1  Westeros Electrified                          baseline  MESSAGE   \n",
       "2  Westeros Electrified        baseline_recursive-dynamic  MESSAGE   \n",
       "3  Westeros Electrified           emission-bound_adaptive  MESSAGE   \n",
       "4  Westeros Electrified  emission-bound_adaptive-learning  MESSAGE   \n",
       "5  Westeros Electrified                    emission_bound  MESSAGE   \n",
       "\n",
       "   is_default  is_locked cre_user                    cre_date upd_user  \\\n",
       "0           1          0  pratama  2024-06-25 18:09:08.760000  pratama   \n",
       "1           1          0  pratama  2024-08-07 14:00:23.973000  pratama   \n",
       "2           1          0  pratama  2024-10-03 16:10:22.818000  pratama   \n",
       "3           1          0  pratama  2024-10-03 16:10:24.184000  pratama   \n",
       "4           1          0  pratama  2024-10-03 16:10:25.341000  pratama   \n",
       "5           1          0  pratama  2024-08-07 14:03:28.466000  pratama   \n",
       "\n",
       "                     upd_date lock_user lock_date  \\\n",
       "0  2024-06-25 18:14:26.261000      None      None   \n",
       "1  2024-08-07 14:00:25.410000      None      None   \n",
       "2  2024-10-03 16:10:24.066000      None      None   \n",
       "3  2024-10-03 16:10:25.265000      None      None   \n",
       "4  2024-10-03 16:10:26.561000      None      None   \n",
       "5  2024-08-07 14:03:29.889000      None      None   \n",
       "\n",
       "                                          annotation  version  \n",
       "0           Import from GENIE_dac-sandbox_1000f.xlsx        1  \n",
       "1            basic model of Westeros electrification        1  \n",
       "2  clone Scenario from 'Westeros Electrified|base...       46  \n",
       "3  clone Scenario from 'Westeros Electrified|emis...       43  \n",
       "4  clone Scenario from 'Westeros Electrified|emis...       44  \n",
       "5  clone Scenario from 'Westeros Electrified|base...        1  "
      ]
     },
     "execution_count": 2,
     "metadata": {},
     "output_type": "execute_result"
    }
   ],
   "source": [
    "mp.scenario_list()"
   ]
  },
  {
   "cell_type": "markdown",
   "metadata": {},
   "source": [
    "## `baseline` scenario with recursive dynamic mode"
   ]
  },
  {
   "cell_type": "code",
   "execution_count": 3,
   "metadata": {},
   "outputs": [],
   "source": [
    "# cloning baseline scenario and crate \n",
    "model = \"GENIE_sandbox\"\n",
    "\n",
    "base = message_ix.Scenario(mp, model=model, scenario=\"1000f_no-learning\")\n",
    "scen = base.clone(\n",
    "    model,\n",
    "    \"1000f_adaptive_no-learning\",\n",
    "    \"1000f scenario without learning\",\n",
    "    keep_solution=False,\n",
    ")\n",
    "scen.check_out()\n",
    "\n",
    "year_df = scen.vintage_and_active_years()\n",
    "vintage_years, act_years = year_df[\"year_vtg\"], year_df[\"year_act\"]\n",
    "model_horizon = scen.set(\"year\")\n",
    "country = \"Westeros\""
   ]
  },
  {
   "cell_type": "markdown",
   "metadata": {},
   "source": [
    "**Time to Solve the Model**\n",
    "\n",
    "In perfect foresight mode, the solve statement we add is `scen.solve()` without any additional arguments. By default, this will tell MESSAGE to run in the perfect foreseight mode. To run MESSAGE using the recursive dynamic approach, we need to add `gams_args =[\"--foresight=X\"]` argument to the solve statement, with `X` being the length of the foresight windows. This will pass the argument directly to `GAMS`, overiding the default values set in `MESSAGE_master.gms` and `model_setup.gms` scripts. Here, let's use `X=1` as an example. \n",
    "\n",
    "Similarly, technology cost learning module can be activated by setting `learningmode` value to 1. This can also be done by passing `\"--learningmode=1\"` GAMS argument in the solve statement, i.e., `gams_args =[\"--foresight=X\",\"--learningmode=1\"]`. It is important to note that the learning module lives under the recursive dynamic module. Hence, this module needs to be active if learning module is used."
   ]
  },
  {
   "cell_type": "code",
   "execution_count": 5,
   "metadata": {},
   "outputs": [
    {
     "ename": "ModelError",
     "evalue": "GAMS errored with return code 3:\n    There was an execution error\n\nFor details, see the terminal output above, plus:\nListing   : C:\\Users\\pratama\\Documents\\GitHub\\MESSAGEix\\message_ix\\message_ix\\model\\MESSAGE_run.lst\nInput data: C:\\Users\\pratama\\Documents\\GitHub\\MESSAGEix\\message_ix\\message_ix\\model\\data\\MsgData_GENIE_sandbox_1000f_adaptive_no-learning.gdx",
     "output_type": "error",
     "traceback": [
      "\u001b[1;31m---------------------------------------------------------------------------\u001b[0m",
      "\u001b[1;31mModelError\u001b[0m                                Traceback (most recent call last)",
      "Cell \u001b[1;32mIn[5], line 4\u001b[0m\n\u001b[0;32m      1\u001b[0m scen\u001b[38;5;241m.\u001b[39mcommit(comment\u001b[38;5;241m=\u001b[39m\u001b[38;5;124m\"\u001b[39m\u001b[38;5;124mSandbox 1000f scenario with adaptive optimization run\u001b[39m\u001b[38;5;124m\"\u001b[39m)\n\u001b[0;32m      2\u001b[0m scen\u001b[38;5;241m.\u001b[39mset_as_default()\n\u001b[1;32m----> 4\u001b[0m \u001b[43mscen\u001b[49m\u001b[38;5;241;43m.\u001b[39;49m\u001b[43msolve\u001b[49m\u001b[43m(\u001b[49m\u001b[43mgams_args\u001b[49m\u001b[43m \u001b[49m\u001b[38;5;241;43m=\u001b[39;49m\u001b[43m \u001b[49m\u001b[43m[\u001b[49m\u001b[38;5;124;43m\"\u001b[39;49m\u001b[38;5;124;43m--foresight=13\u001b[39;49m\u001b[38;5;124;43m\"\u001b[39;49m\u001b[43m]\u001b[49m\u001b[43m)\u001b[49m\n\u001b[0;32m      6\u001b[0m scen\u001b[38;5;241m.\u001b[39mvar(\u001b[38;5;124m\"\u001b[39m\u001b[38;5;124mOBJ\u001b[39m\u001b[38;5;124m\"\u001b[39m)[\u001b[38;5;124m\"\u001b[39m\u001b[38;5;124mlvl\u001b[39m\u001b[38;5;124m\"\u001b[39m]\n",
      "File \u001b[1;32m~\\Documents\\GitHub\\MESSAGEix\\message_ix\\message_ix\\core.py:707\u001b[0m, in \u001b[0;36mScenario.solve\u001b[1;34m(self, model, solve_options, **kwargs)\u001b[0m\n\u001b[0;32m    688\u001b[0m \u001b[38;5;28;01mdef\u001b[39;00m \u001b[38;5;21msolve\u001b[39m(\u001b[38;5;28mself\u001b[39m, model\u001b[38;5;241m=\u001b[39m\u001b[38;5;124m\"\u001b[39m\u001b[38;5;124mMESSAGE\u001b[39m\u001b[38;5;124m\"\u001b[39m, solve_options\u001b[38;5;241m=\u001b[39m{}, \u001b[38;5;241m*\u001b[39m\u001b[38;5;241m*\u001b[39mkwargs):\n\u001b[0;32m    689\u001b[0m \u001b[38;5;250m    \u001b[39m\u001b[38;5;124;03m\"\"\"Solve MESSAGE or MESSAGE-MACRO for the Scenario.\u001b[39;00m\n\u001b[0;32m    690\u001b[0m \n\u001b[0;32m    691\u001b[0m \u001b[38;5;124;03m    By default, :meth:`ixmp.Scenario.solve` is called with 'MESSAGE' as the\u001b[39;00m\n\u001b[1;32m   (...)\u001b[0m\n\u001b[0;32m    705\u001b[0m \u001b[38;5;124;03m        :class:`.MESSAGE_MACRO` class and :class:`.GAMSModel`.\u001b[39;00m\n\u001b[0;32m    706\u001b[0m \u001b[38;5;124;03m    \"\"\"\u001b[39;00m\n\u001b[1;32m--> 707\u001b[0m     \u001b[38;5;28msuper\u001b[39m()\u001b[38;5;241m.\u001b[39msolve(model\u001b[38;5;241m=\u001b[39mmodel, solve_options\u001b[38;5;241m=\u001b[39msolve_options, \u001b[38;5;241m*\u001b[39m\u001b[38;5;241m*\u001b[39mkwargs)\n",
      "File \u001b[1;32m~\\Anaconda3\\envs\\message_env\\lib\\site-packages\\ixmp\\core\\scenario.py:878\u001b[0m, in \u001b[0;36mScenario.solve\u001b[1;34m(self, model, callback, cb_kwargs, **model_options)\u001b[0m\n\u001b[0;32m    876\u001b[0m \u001b[38;5;66;03m# Iterate until convergence\u001b[39;00m\n\u001b[0;32m    877\u001b[0m \u001b[38;5;28;01mwhile\u001b[39;00m \u001b[38;5;28;01mTrue\u001b[39;00m:\n\u001b[1;32m--> 878\u001b[0m     \u001b[43mmodel_obj\u001b[49m\u001b[38;5;241;43m.\u001b[39;49m\u001b[43mrun\u001b[49m\u001b[43m(\u001b[49m\u001b[38;5;28;43mself\u001b[39;49m\u001b[43m)\u001b[49m\n\u001b[0;32m    880\u001b[0m     \u001b[38;5;66;03m# Store an iteration number to help the callback\u001b[39;00m\n\u001b[0;32m    881\u001b[0m     \u001b[38;5;28;01mif\u001b[39;00m \u001b[38;5;129;01mnot\u001b[39;00m \u001b[38;5;28mhasattr\u001b[39m(\u001b[38;5;28mself\u001b[39m, \u001b[38;5;124m\"\u001b[39m\u001b[38;5;124miteration\u001b[39m\u001b[38;5;124m\"\u001b[39m):\n",
      "File \u001b[1;32m~\\Documents\\GitHub\\MESSAGEix\\message_ix\\message_ix\\models.py:219\u001b[0m, in \u001b[0;36mGAMSModel.run\u001b[1;34m(self, scenario)\u001b[0m\n\u001b[0;32m    216\u001b[0m lines2 \u001b[38;5;241m=\u001b[39m (\u001b[38;5;124m\"\u001b[39m\u001b[38;5;132;01m{}\u001b[39;00m\u001b[38;5;124m = \u001b[39m\u001b[38;5;132;01m{}\u001b[39;00m\u001b[38;5;124m\"\u001b[39m\u001b[38;5;241m.\u001b[39mformat(\u001b[38;5;241m*\u001b[39mkv) \u001b[38;5;28;01mfor\u001b[39;00m kv \u001b[38;5;129;01min\u001b[39;00m \u001b[38;5;28mself\u001b[39m\u001b[38;5;241m.\u001b[39mcplex_opts\u001b[38;5;241m.\u001b[39mitems())\n\u001b[0;32m    217\u001b[0m optfile2\u001b[38;5;241m.\u001b[39mwrite_text(\u001b[38;5;124m\"\u001b[39m\u001b[38;5;130;01m\\n\u001b[39;00m\u001b[38;5;124m\"\u001b[39m\u001b[38;5;241m.\u001b[39mjoin(lines2))\n\u001b[1;32m--> 219\u001b[0m result \u001b[38;5;241m=\u001b[39m \u001b[38;5;28;43msuper\u001b[39;49m\u001b[43m(\u001b[49m\u001b[43m)\u001b[49m\u001b[38;5;241;43m.\u001b[39;49m\u001b[43mrun\u001b[49m\u001b[43m(\u001b[49m\u001b[43mscenario\u001b[49m\u001b[43m)\u001b[49m\n\u001b[0;32m    221\u001b[0m \u001b[38;5;66;03m# In previous versions, the `cplex.opt` file(s) were removed at this point\u001b[39;00m\n\u001b[0;32m    222\u001b[0m \u001b[38;5;66;03m# in the workflow. This has been removed due to issues when running\u001b[39;00m\n\u001b[0;32m    223\u001b[0m \u001b[38;5;66;03m# scenarios asynchronously.\u001b[39;00m\n\u001b[0;32m    225\u001b[0m \u001b[38;5;28;01mreturn\u001b[39;00m result\n",
      "File \u001b[1;32m~\\Anaconda3\\envs\\message_env\\lib\\site-packages\\ixmp\\model\\gams.py:374\u001b[0m, in \u001b[0;36mGAMSModel.run\u001b[1;34m(self, scenario)\u001b[0m\n\u001b[0;32m    362\u001b[0m     scenario\u001b[38;5;241m.\u001b[39mplatform\u001b[38;5;241m.\u001b[39m_backend\u001b[38;5;241m.\u001b[39mread_file(\n\u001b[0;32m    363\u001b[0m         \u001b[38;5;28mself\u001b[39m\u001b[38;5;241m.\u001b[39mout_file,\n\u001b[0;32m    364\u001b[0m         ItemType\u001b[38;5;241m.\u001b[39mMODEL,\n\u001b[1;32m   (...)\u001b[0m\n\u001b[0;32m    369\u001b[0m         var_list\u001b[38;5;241m=\u001b[39mas_str_list(\u001b[38;5;28mself\u001b[39m\u001b[38;5;241m.\u001b[39mvar_list) \u001b[38;5;129;01mor\u001b[39;00m [],\n\u001b[0;32m    370\u001b[0m     )\n\u001b[0;32m    371\u001b[0m \u001b[38;5;28;01mexcept\u001b[39;00m (CalledProcessError, \u001b[38;5;167;01mRuntimeError\u001b[39;00m) \u001b[38;5;28;01mas\u001b[39;00m exc:\n\u001b[0;32m    372\u001b[0m     \u001b[38;5;66;03m# CalledProcessError from run(); RuntimeError from read_file()\u001b[39;00m\n\u001b[0;32m    373\u001b[0m     \u001b[38;5;66;03m# Do not remove self.temp_dir; the user may want to inspect the GDX file\u001b[39;00m\n\u001b[1;32m--> 374\u001b[0m     \u001b[38;5;28;01mraise\u001b[39;00m \u001b[38;5;28mself\u001b[39m\u001b[38;5;241m.\u001b[39mformat_exception(\n\u001b[0;32m    375\u001b[0m         exc, model_file, scenario\u001b[38;5;241m.\u001b[39mplatform\u001b[38;5;241m.\u001b[39m_backend\u001b[38;5;241m.\u001b[39m\u001b[38;5;18m__class__\u001b[39m\n\u001b[0;32m    376\u001b[0m     ) \u001b[38;5;28;01mfrom\u001b[39;00m \u001b[38;5;28mNone\u001b[39m\n\u001b[0;32m    378\u001b[0m \u001b[38;5;66;03m# Finished: remove the temporary directory, if any\u001b[39;00m\n\u001b[0;32m    379\u001b[0m \u001b[38;5;28mself\u001b[39m\u001b[38;5;241m.\u001b[39mremove_temp_dir()\n",
      "\u001b[1;31mModelError\u001b[0m: GAMS errored with return code 3:\n    There was an execution error\n\nFor details, see the terminal output above, plus:\nListing   : C:\\Users\\pratama\\Documents\\GitHub\\MESSAGEix\\message_ix\\message_ix\\model\\MESSAGE_run.lst\nInput data: C:\\Users\\pratama\\Documents\\GitHub\\MESSAGEix\\message_ix\\message_ix\\model\\data\\MsgData_GENIE_sandbox_1000f_adaptive_no-learning.gdx"
     ]
    }
   ],
   "source": [
    "scen.commit(comment=\"Sandbox 1000f scenario with adaptive optimization run\")\n",
    "scen.set_as_default()\n",
    "\n",
    "scen.solve(gams_args = [\"--foresight=13\"])\n",
    "\n",
    "scen.var(\"OBJ\")[\"lvl\"]"
   ]
  },
  {
   "cell_type": "markdown",
   "metadata": {},
   "source": [
    "## `emission_bound` scenario with adaptive optimization mode"
   ]
  },
  {
   "cell_type": "code",
   "execution_count": null,
   "metadata": {},
   "outputs": [],
   "source": [
    "# cloning baseline scenario and crate \n",
    "bound_base = message_ix.Scenario(mp, model=model, scenario=\"1000f_adaptive-learning\")\n",
    "bound_scen = bound_base.clone(\n",
    "    model,\n",
    "    \"1000f_adaptive-learning\",\n",
    "    \"introducing adaptive optimisation\",\n",
    "    keep_solution=False,\n",
    ")\n",
    "bound_scen.check_out()\n",
    "\n",
    "year_df = bound_scen.vintage_and_active_years()\n",
    "vintage_years, act_years = year_df[\"year_vtg\"], year_df[\"year_act\"]\n",
    "model_horizon = bound_scen.set(\"year\")\n",
    "country = \"Westeros\""
   ]
  },
  {
   "cell_type": "code",
   "execution_count": null,
   "metadata": {},
   "outputs": [],
   "source": [
    "bound_scen.commit(comment=\"Introducing recursive dynamic mode in MESSAGE\")\n",
    "bound_scen.set_as_default()\n",
    "\n",
    "bound_scen.solve(gams_args = [\"--foresight=3\"])\n",
    "\n",
    "bound_scen.var(\"OBJ\")[\"lvl\"]"
   ]
  },
  {
   "cell_type": "markdown",
   "metadata": {},
   "source": [
    "## `emission_bound` scenario with adaptive optimisation and learning mode"
   ]
  },
  {
   "cell_type": "code",
   "execution_count": null,
   "metadata": {},
   "outputs": [],
   "source": [
    "# cloning baseline scenario and crate \n",
    "learning_scen = bound_base.clone(\n",
    "    model,\n",
    "    \"emission-bound_adaptive-learning\",\n",
    "    \"introducing adaptive optimisation with learning\",\n",
    "    keep_solution=False,\n",
    ")\n",
    "learning_scen.check_out()\n",
    "\n",
    "year_df = learning_scen.vintage_and_active_years()\n",
    "vintage_years, act_years = year_df[\"year_vtg\"], year_df[\"year_act\"]\n",
    "model_horizon = learning_scen.set(\"year\")\n",
    "country = \"Westeros\""
   ]
  },
  {
   "cell_type": "raw",
   "metadata": {},
   "source": [
    "new_tecs = [\"wind_ppl\",\"coal_ppl\"]\n",
    "for tec in new_tecs:\n",
    "    learning_scen.add_set(\"newtec\",tec)\n",
    "learning_scen.set(\"newtec\")"
   ]
  },
  {
   "cell_type": "code",
   "execution_count": null,
   "metadata": {},
   "outputs": [],
   "source": [
    "learning_scen.set(\"technology\")"
   ]
  },
  {
   "cell_type": "code",
   "execution_count": null,
   "metadata": {},
   "outputs": [],
   "source": [
    "learning_pars = {\n",
    "    \"coal_ppl\": {\n",
    "        \"alpha\"          : 0.0,\n",
    "        \"beta_unit\"      : 0.3,\n",
    "        \"beta_proj\"      : 0.0,\n",
    "        \"gamma_unit\"     : 0.04,\n",
    "        \"gamma_proj\"     : 0.03,\n",
    "        \"inv_cost_refidx\": 1,\n",
    "        \"knref_unit\"     : 1,\n",
    "        \"sizeref_unit\"   : 1,\n",
    "        \"sizeref_proj\"   : 1,\n",
    "    },\n",
    "    \"wind_ppl\": {\n",
    "        \"alpha\"          : 0.2,\n",
    "        \"beta_unit\"      : 0.3,\n",
    "        \"beta_proj\"      : 0.0,\n",
    "        \"gamma_unit\"     : 0.03,\n",
    "        \"gamma_proj\"     : 0.03,\n",
    "        \"inv_cost_refidx\": 1,\n",
    "        \"knref_unit\"     :30,\n",
    "        \"sizeref_unit\"   : 1,\n",
    "        \"sizeref_proj\"   :10,\n",
    "    }\n",
    "    \n",
    "}\n",
    "\n",
    "for key,val in learning_pars.items():\n",
    "    \n",
    "    learning_scen.add_set(\"newtec\",key)\n",
    "    \n",
    "    for key1,val1 in val.items():\n",
    "        df_par = make_df(key1,\n",
    "                         technology = key,\n",
    "                         value = val1,\n",
    "                         unit = \"-\"\n",
    "                        )\n",
    "        learning_scen.add_par(key1,df_par)\n",
    "        df_par"
   ]
  },
  {
   "cell_type": "code",
   "execution_count": null,
   "metadata": {},
   "outputs": [],
   "source": [
    "learning_scen.par(\"alpha\")"
   ]
  },
  {
   "cell_type": "code",
   "execution_count": null,
   "metadata": {},
   "outputs": [],
   "source": [
    "learning_scen.commit(comment=\"Introducing recursive dynamic mode in MESSAGE\")\n",
    "learning_scen.set_as_default()\n",
    "\n",
    "learning_scen.solve(gams_args = [\"--foresight=3\",\"--learningmode=1\"])\n",
    "\n",
    "print(\"OBJ without learning:\", bound_scen.var(\"OBJ\")[\"lvl\"])\n",
    "print(\"OBJ with learning   :\", learning_scen.var(\"OBJ\")[\"lvl\"])"
   ]
  },
  {
   "cell_type": "markdown",
   "metadata": {},
   "source": [
    "### Let's compare the results"
   ]
  },
  {
   "cell_type": "code",
   "execution_count": null,
   "metadata": {},
   "outputs": [],
   "source": [
    "scenarios = [bound_scen, learning_scen]\n",
    "labels = [\"without learning\", \"with learning\"]\n",
    "\n",
    "for s in range(len(scenarios)):\n",
    "    df = (scenarios[s].var(\"CAP\", {\"node_loc\":\"Westeros\",\"technology\": \"wind_ppl\", \"year_act\":act_years})\n",
    "          .drop([\"node_loc\",\"technology\",\"year_vtg\"], axis=1).set_index(\"year_act\").groupby(level=0).sum()[[\"lvl\"]])\n",
    "    tick_loc = -1.5 if s == 0 else 1.5\n",
    "    plt.bar(df.index+tick_loc,df[\"lvl\"], width=3, label=labels[s])\n",
    "plt.xticks(df.index)\n",
    "plt.ylabel(\"wind_ppl capacity\")\n",
    "plt.legend()\n",
    "plt.show()"
   ]
  },
  {
   "cell_type": "markdown",
   "metadata": {},
   "source": [
    "## With learning"
   ]
  },
  {
   "cell_type": "raw",
   "metadata": {},
   "source": [
    "from message_ix.report import Reporter\n",
    "from message_ix.util.tutorial import prepare_plots\n",
    "\n",
    "# Create a Reporter object to describe and carry out reporting\n",
    "# calculations and operations (like plotting) based on `scenario`\n",
    "rep = Reporter.from_scenario(learning_scen)\n",
    "\n",
    "# \"prepare_plots\" enables several to describe reporting operations, e.g.\n",
    "# \"plot activity\", \"plot capacity\", or \"plot prices\"\n",
    "# See message_ix/util/tutorial.py for more information\n",
    "prepare_plots(rep)\n",
    "rep.set_filters(t=[\"coal_ppl\", \"wind_ppl\"], ya=[700, 710, 720])\n",
    "# Create a different plot. The same filters are still active.\n",
    "rep.get(\"plot capacity\")"
   ]
  },
  {
   "cell_type": "markdown",
   "metadata": {},
   "source": [
    "## Without learning"
   ]
  },
  {
   "cell_type": "raw",
   "metadata": {
    "scrolled": false
   },
   "source": [
    "from message_ix.report import Reporter\n",
    "from message_ix.util.tutorial import prepare_plots\n",
    "\n",
    "# Create a Reporter object to describe and carry out reporting\n",
    "# calculations and operations (like plotting) based on `scenario`\n",
    "rep = Reporter.from_scenario(bound_scen)\n",
    "\n",
    "# \"prepare_plots\" enables several to describe reporting operations, e.g.\n",
    "# \"plot activity\", \"plot capacity\", or \"plot prices\"\n",
    "# See message_ix/util/tutorial.py for more information\n",
    "prepare_plots(rep)\n",
    "rep.set_filters(t=[\"coal_ppl\", \"wind_ppl\"], ya=[700, 710, 720])\n",
    "# Create a different plot. The same filters are still active.\n",
    "rep.get(\"plot capacity\")"
   ]
  },
  {
   "cell_type": "markdown",
   "metadata": {},
   "source": [
    "## Parameters and variables check"
   ]
  },
  {
   "cell_type": "raw",
   "metadata": {},
   "source": [
    "learning_scen.par(\"inv_cost\")"
   ]
  },
  {
   "cell_type": "raw",
   "metadata": {
    "scrolled": true
   },
   "source": [
    "years =         [  690,   700,   710,   720]\n",
    "IC = {\n",
    "    \"coal\"    : [1.000, 1.000, 1.000, 1.000],\n",
    "    \"wind_ppl\": [1.000, 0.987, 0.891, 0.755],\n",
    "}\n",
    "\n",
    "inv_cost0 = {\n",
    "    \"coal\"    :  500,\n",
    "    \"wind_ppl\": 1500,\n",
    "}\n",
    "\n",
    "for tech in IC.keys():\n",
    "    plt.plot(years,[inv_cost0[tech]*ic for ic in IC[tech]])\n",
    "\n",
    "plt.ylim(-100,2100)    \n",
    "plt.show()"
   ]
  },
  {
   "cell_type": "markdown",
   "metadata": {},
   "source": [
    "## Close the connection to the database"
   ]
  },
  {
   "cell_type": "code",
   "execution_count": null,
   "metadata": {},
   "outputs": [],
   "source": [
    "mp.close_db()"
   ]
  }
 ],
 "metadata": {
  "kernelspec": {
   "display_name": "Python 3 (ipykernel)",
   "language": "python",
   "name": "python3"
  },
  "language_info": {
   "codemirror_mode": {
    "name": "ipython",
    "version": 3
   },
   "file_extension": ".py",
   "mimetype": "text/x-python",
   "name": "python",
   "nbconvert_exporter": "python",
   "pygments_lexer": "ipython3",
   "version": "3.10.9"
  }
 },
 "nbformat": 4,
 "nbformat_minor": 2
}

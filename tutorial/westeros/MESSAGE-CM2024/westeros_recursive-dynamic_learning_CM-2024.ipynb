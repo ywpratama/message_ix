{
 "cells": [
  {
   "cell_type": "markdown",
   "metadata": {},
   "source": [
    "# Westeros Tutorial: Running MESSAGE in Recursive Dynamic Mode\n",
    "\n",
    "While considering the full time horizon in a single run is useful for a long-term energy systems planning, the recursive dynamic approach can provide insights that reflect the relevant foresight windows decision makers can have in making adaptive and robust planning.\n",
    "\n",
    "In addition to running the model with the perfect foresights, MESSAGE can also be run using the recursive dynamic approach. Here, the model is run iteratively throughout the periods with key decision variables from the previous periods, or iterations, are fixed so that new informations do not alter decisions that are already made in the previous periods. These variables\n",
    "include $CAP$ , $CAP\\_NEW$, $ACT$, and $EXT$. \n",
    "\n",
    "In this tutorial, we will implement the recursive dynamic mode on Westeros baseline scenario. Hence, before we start, we have to make sure that we can successfully run the baseline scenarion (``westeros_baseline.ipynb``).\n",
    "\n",
    "Let's start with importing all the libraries we need and connect to the `ixmp` platform."
   ]
  },
  {
   "cell_type": "code",
   "execution_count": 1,
   "metadata": {
    "scrolled": false
   },
   "outputs": [],
   "source": [
    "import os\n",
    "import matplotlib.pyplot as plt\n",
    "import pandas as pd\n",
    "import ixmp\n",
    "import message_ix\n",
    "\n",
    "from message_ix.util import make_df\n",
    "from message_ix.tools.add_tech import add_tech\n",
    "\n",
    "\n",
    "%matplotlib inline\n",
    "\n",
    "mp = ixmp.Platform(\"local\")"
   ]
  },
  {
   "cell_type": "markdown",
   "metadata": {},
   "source": [
    "## `baseline` scenario with recursive dynamic mode"
   ]
  },
  {
   "cell_type": "code",
   "execution_count": 2,
   "metadata": {},
   "outputs": [],
   "source": [
    "# cloning baseline scenario and crate \n",
    "model = \"Westeros Electrified\"\n",
    "\n",
    "base = message_ix.Scenario(mp, model=model, scenario=\"baseline\")\n",
    "scen = base.clone(\n",
    "    model,\n",
    "    \"baseline_recursive-dynamic\",\n",
    "    \"introducing recursive dynamic mode\",\n",
    "    keep_solution=False,\n",
    ")\n",
    "scen.check_out()\n",
    "\n",
    "year_df = scen.vintage_and_active_years()\n",
    "vintage_years, act_years = year_df[\"year_vtg\"], year_df[\"year_act\"]\n",
    "model_horizon = scen.set(\"year\")\n",
    "country = \"Westeros\""
   ]
  },
  {
   "cell_type": "markdown",
   "metadata": {},
   "source": [
    "**Time to Solve the Model**\n",
    "\n",
    "In perfect foresight mode, the solve statement we add is `scen.solve()` without any additional arguments. By default, this will tell MESSAGE to run in the perfect foreseight mode. To run MESSAGE using the recursive dynamic approach, we need to add `gams_args =[\"--foresight=X\"]` argument to the solve statement, with `X` being the length of the foresight windows. This will pass the argument directly to `GAMS`, overiding the default values set in `MESSAGE_master.gms` and `model_setup.gms` scripts. Here, let's use `X=1` as an example. \n",
    "\n",
    "Similarly, technology cost learning module can be activated by setting `learningmode` value to 1. This can also be done by passing `\"--learningmode=1\"` GAMS argument in the solve statement, i.e., `gams_args =[\"--foresight=X\",\"--learningmode=1\"]`. It is important to note that the learning module lives under the recursive dynamic module. Hence, this module needs to be active if learning module is used."
   ]
  },
  {
   "cell_type": "code",
   "execution_count": 3,
   "metadata": {},
   "outputs": [
    {
     "data": {
      "text/plain": [
       "159025.828125"
      ]
     },
     "execution_count": 3,
     "metadata": {},
     "output_type": "execute_result"
    }
   ],
   "source": [
    "scen.commit(comment=\"Introducing recursive dynamic mode in MESSAGE\")\n",
    "scen.set_as_default()\n",
    "\n",
    "scen.solve(gams_args =[\"--foresight=1\"])\n",
    "\n",
    "scen.var(\"OBJ\")[\"lvl\"]"
   ]
  },
  {
   "cell_type": "markdown",
   "metadata": {},
   "source": [
    "## `emission_bound` scenario with adaptive optimization mode"
   ]
  },
  {
   "cell_type": "code",
   "execution_count": 4,
   "metadata": {},
   "outputs": [],
   "source": [
    "# cloning baseline scenario and crate \n",
    "model = \"Westeros Electrified\"\n",
    "\n",
    "bound_base = message_ix.Scenario(mp, model=model, scenario=\"emission_bound\")\n",
    "bound_scen = bound_base.clone(\n",
    "    model,\n",
    "    \"emission-bound_adaptive\",\n",
    "    \"introducing adaptive optimisation\",\n",
    "    keep_solution=False,\n",
    ")\n",
    "bound_scen.check_out()\n",
    "\n",
    "year_df = bound_scen.vintage_and_active_years()\n",
    "vintage_years, act_years = year_df[\"year_vtg\"], year_df[\"year_act\"]\n",
    "model_horizon = bound_scen.set(\"year\")\n",
    "country = \"Westeros\""
   ]
  },
  {
   "cell_type": "code",
   "execution_count": 5,
   "metadata": {},
   "outputs": [
    {
     "data": {
      "text/plain": [
       "191510.796875"
      ]
     },
     "execution_count": 5,
     "metadata": {},
     "output_type": "execute_result"
    }
   ],
   "source": [
    "bound_scen.commit(comment=\"Introducing recursive dynamic mode in MESSAGE\")\n",
    "bound_scen.set_as_default()\n",
    "\n",
    "bound_scen.solve(gams_args = [\"--foresight=3\"])\n",
    "\n",
    "bound_scen.var(\"OBJ\")[\"lvl\"]"
   ]
  },
  {
   "cell_type": "markdown",
   "metadata": {},
   "source": [
    "## `emission_bound` scenario with adaptive optimisation and learning mode"
   ]
  },
  {
   "cell_type": "code",
   "execution_count": 6,
   "metadata": {},
   "outputs": [],
   "source": [
    "# cloning baseline scenario and crate \n",
    "learning_scen = bound_base.clone(\n",
    "    model,\n",
    "    \"emission-bound_adaptive-learning\",\n",
    "    \"introducing adaptive optimisation with learning\",\n",
    "    keep_solution=False,\n",
    ")\n",
    "learning_scen.check_out()\n",
    "\n",
    "year_df = learning_scen.vintage_and_active_years()\n",
    "vintage_years, act_years = year_df[\"year_vtg\"], year_df[\"year_act\"]\n",
    "model_horizon = learning_scen.set(\"year\")\n",
    "country = \"Westeros\""
   ]
  },
  {
   "cell_type": "code",
   "execution_count": 7,
   "metadata": {},
   "outputs": [
    {
     "data": {
      "text/html": [
       "<div>\n",
       "<style scoped>\n",
       "    .dataframe tbody tr th:only-of-type {\n",
       "        vertical-align: middle;\n",
       "    }\n",
       "\n",
       "    .dataframe tbody tr th {\n",
       "        vertical-align: top;\n",
       "    }\n",
       "\n",
       "    .dataframe thead th {\n",
       "        text-align: right;\n",
       "    }\n",
       "</style>\n",
       "<table border=\"1\" class=\"dataframe\">\n",
       "  <thead>\n",
       "    <tr style=\"text-align: right;\">\n",
       "      <th></th>\n",
       "      <th>technology</th>\n",
       "    </tr>\n",
       "  </thead>\n",
       "  <tbody>\n",
       "    <tr>\n",
       "      <th>0</th>\n",
       "      <td>wind_ppl</td>\n",
       "    </tr>\n",
       "  </tbody>\n",
       "</table>\n",
       "</div>"
      ],
      "text/plain": [
       "  technology\n",
       "0   wind_ppl"
      ]
     },
     "execution_count": 7,
     "metadata": {},
     "output_type": "execute_result"
    }
   ],
   "source": [
    "learning_scen.add_set(\"newtec\",\"wind_ppl\")\n",
    "learning_scen.set(\"newtec\")"
   ]
  },
  {
   "cell_type": "code",
   "execution_count": 8,
   "metadata": {},
   "outputs": [],
   "source": [
    "learning_pars = {\n",
    "    \"alpha\"          : 0.9,\n",
    "    \"beta_unit\"      : 0.7,\n",
    "    \"beta_proj\"      : 0,\n",
    "    \"gamma_unit\"     : 0.03,\n",
    "    \"gamma_proj\"     : 0.0,\n",
    "    \"inv_cost_refidx\": 1,\n",
    "    \"knref_unit\"     :30,\n",
    "    \"sizeref_unit\"   : 1,\n",
    "    \"sizeref_proj\"   :10,\n",
    "}\n",
    "\n",
    "for key,val in learning_pars.items():\n",
    "    df_par = make_df(key,\n",
    "                     technology = \"wind_ppl\",\n",
    "                     value = val,\n",
    "                     unit = \"-\"\n",
    "                    )\n",
    "    learning_scen.add_par(key,df_par)"
   ]
  },
  {
   "cell_type": "code",
   "execution_count": 9,
   "metadata": {},
   "outputs": [
    {
     "data": {
      "text/html": [
       "<div>\n",
       "<style scoped>\n",
       "    .dataframe tbody tr th:only-of-type {\n",
       "        vertical-align: middle;\n",
       "    }\n",
       "\n",
       "    .dataframe tbody tr th {\n",
       "        vertical-align: top;\n",
       "    }\n",
       "\n",
       "    .dataframe thead th {\n",
       "        text-align: right;\n",
       "    }\n",
       "</style>\n",
       "<table border=\"1\" class=\"dataframe\">\n",
       "  <thead>\n",
       "    <tr style=\"text-align: right;\">\n",
       "      <th></th>\n",
       "      <th>technology</th>\n",
       "      <th>value</th>\n",
       "      <th>unit</th>\n",
       "    </tr>\n",
       "  </thead>\n",
       "  <tbody>\n",
       "    <tr>\n",
       "      <th>0</th>\n",
       "      <td>wind_ppl</td>\n",
       "      <td>0.9</td>\n",
       "      <td>-</td>\n",
       "    </tr>\n",
       "  </tbody>\n",
       "</table>\n",
       "</div>"
      ],
      "text/plain": [
       "  technology  value unit\n",
       "0   wind_ppl    0.9    -"
      ]
     },
     "execution_count": 9,
     "metadata": {},
     "output_type": "execute_result"
    }
   ],
   "source": [
    "learning_scen.par(\"alpha\")"
   ]
  },
  {
   "cell_type": "code",
   "execution_count": 10,
   "metadata": {},
   "outputs": [
    {
     "name": "stdout",
     "output_type": "stream",
     "text": [
      "OBJ without learning: 191510.796875\n",
      "OBJ with learning   : 178483.546875\n"
     ]
    }
   ],
   "source": [
    "learning_scen.commit(comment=\"Introducing recursive dynamic mode in MESSAGE\")\n",
    "learning_scen.set_as_default()\n",
    "\n",
    "learning_scen.solve(gams_args = [\"--foresight=3\",\"--learningmode=1\"])\n",
    "\n",
    "print(\"OBJ without learning:\", bound_scen.var(\"OBJ\")[\"lvl\"])\n",
    "print(\"OBJ with learning   :\", learning_scen.var(\"OBJ\")[\"lvl\"])"
   ]
  },
  {
   "cell_type": "markdown",
   "metadata": {},
   "source": [
    "### Let's compare the results"
   ]
  },
  {
   "cell_type": "raw",
   "metadata": {},
   "source": [
    "scenarios = [bound_scen, learning_scen]\n",
    "labels = [\"without learning\", \"with learning\"]\n",
    "\n",
    "for s in range(len(scenarios)):\n",
    "    df = (scenarios[s].var(\"CAP\", {\"node_loc\":\"Westeros\",\"technology\": \"wind_ppl\", \"year_act\":act_years})\n",
    "          .drop([\"node_loc\",\"technology\",\"year_vtg\"], axis=1).set_index(\"year_act\").groupby(level=0).sum()[[\"lvl\"]])\n",
    "    tick_loc = -1.5 if s == 0 else 1.5\n",
    "    plt.bar(df.index+tick_loc,df[\"lvl\"], width=3, label=labels[s])\n",
    "plt.xticks(df.index)\n",
    "plt.ylabel(\"wind_ppl capacity\")\n",
    "plt.legend()\n",
    "plt.show()"
   ]
  },
  {
   "cell_type": "markdown",
   "metadata": {},
   "source": [
    "## With learning"
   ]
  },
  {
   "cell_type": "code",
   "execution_count": 11,
   "metadata": {},
   "outputs": [
    {
     "data": {
      "application/javascript": [
       "if (typeof IPython !== 'undefined') { IPython.OutputArea.prototype._should_scroll = function(lines){ return false; }}"
      ],
      "text/plain": [
       "<IPython.core.display.Javascript object>"
      ]
     },
     "metadata": {},
     "output_type": "display_data"
    },
    {
     "data": {
      "text/plain": [
       "<Axes: title={'center': 'Westeros Energy System Capacity'}, xlabel='Year', ylabel='GW'>"
      ]
     },
     "execution_count": 11,
     "metadata": {},
     "output_type": "execute_result"
    },
    {
     "data": {
      "image/png": "[encoded data removed]",
      "text/plain": [
       "<Figure size 640x480 with 1 Axes>"
      ]
     },
     "metadata": {},
     "output_type": "display_data"
    }
   ],
   "source": [
    "from message_ix.report import Reporter\n",
    "from message_ix.util.tutorial import prepare_plots\n",
    "\n",
    "# Create a Reporter object to describe and carry out reporting\n",
    "# calculations and operations (like plotting) based on `scenario`\n",
    "rep = Reporter.from_scenario(learning_scen)\n",
    "\n",
    "# \"prepare_plots\" enables several to describe reporting operations, e.g.\n",
    "# \"plot activity\", \"plot capacity\", or \"plot prices\"\n",
    "# See message_ix/util/tutorial.py for more information\n",
    "prepare_plots(rep)\n",
    "rep.set_filters(t=[\"coal_ppl\", \"wind_ppl\"], ya=[700, 710, 720])\n",
    "# Create a different plot. The same filters are still active.\n",
    "rep.get(\"plot capacity\")"
   ]
  },
  {
   "cell_type": "markdown",
   "metadata": {},
   "source": [
    "## Without learning"
   ]
  },
  {
   "cell_type": "code",
   "execution_count": 12,
   "metadata": {},
   "outputs": [
    {
     "data": {
      "text/plain": [
       "<Axes: title={'center': 'Westeros Energy System Capacity'}, xlabel='Year', ylabel='GW'>"
      ]
     },
     "execution_count": 12,
     "metadata": {},
     "output_type": "execute_result"
    },
    {
     "data": {
      "image/png": "[encoded data removed]",
      "text/plain": [
       "<Figure size 640x480 with 1 Axes>"
      ]
     },
     "metadata": {},
     "output_type": "display_data"
    }
   ],
   "source": [
    "from message_ix.report import Reporter\n",
    "from message_ix.util.tutorial import prepare_plots\n",
    "\n",
    "# Create a Reporter object to describe and carry out reporting\n",
    "# calculations and operations (like plotting) based on `scenario`\n",
    "rep = Reporter.from_scenario(bound_scen)\n",
    "\n",
    "# \"prepare_plots\" enables several to describe reporting operations, e.g.\n",
    "# \"plot activity\", \"plot capacity\", or \"plot prices\"\n",
    "# See message_ix/util/tutorial.py for more information\n",
    "prepare_plots(rep)\n",
    "rep.set_filters(t=[\"coal_ppl\", \"wind_ppl\"], ya=[700, 710, 720])\n",
    "# Create a different plot. The same filters are still active.\n",
    "rep.get(\"plot capacity\")"
   ]
  },
  {
   "cell_type": "markdown",
   "metadata": {},
   "source": [
    "## Close the connection to the database"
   ]
  },
  {
   "cell_type": "code",
   "execution_count": 13,
   "metadata": {},
   "outputs": [],
   "source": [
    "mp.close_db()"
   ]
  },
  {
   "cell_type": "code",
   "execution_count": null,
   "metadata": {},
   "outputs": [],
   "source": []
  }
 ],
 "metadata": {
  "kernelspec": {
   "display_name": "Python 3 (ipykernel)",
   "language": "python",
   "name": "python3"
  },
  "language_info": {
   "codemirror_mode": {
    "name": "ipython",
    "version": 3
   },
   "file_extension": ".py",
   "mimetype": "text/x-python",
   "name": "python",
   "nbconvert_exporter": "python",
   "pygments_lexer": "ipython3",
   "version": "3.10.9"
  }
 },
 "nbformat": 4,
 "nbformat_minor": 2
}

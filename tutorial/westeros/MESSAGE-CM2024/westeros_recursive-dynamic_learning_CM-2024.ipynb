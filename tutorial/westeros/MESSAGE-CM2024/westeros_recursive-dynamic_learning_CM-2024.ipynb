{
 "cells": [
  {
   "cell_type": "markdown",
   "metadata": {},
   "source": [
    "# Westeros Tutorial: Running MESSAGE in Recursive Dynamic Mode\n",
    "\n",
    "While considering the full time horizon in a single run is useful for a long-term energy systems planning, the recursive dynamic approach can provide insights that reflect the relevant foresight windows decision makers can have in making adaptive and robust planning.\n",
    "\n",
    "In addition to running the model with the perfect foresights, MESSAGE can also be run using the recursive dynamic approach. Here, the model is run iteratively throughout the periods with key decision variables from the previous periods, or iterations, are fixed so that new informations do not alter decisions that are already made in the previous periods. These variables\n",
    "include $CAP$ , $CAP\\_NEW$, $ACT$, and $EXT$. \n",
    "\n",
    "In this tutorial, we will implement the recursive dynamic mode on Westeros baseline scenario. Hence, before we start, we have to make sure that we can successfully run the baseline scenarion (``westeros_baseline.ipynb``).\n",
    "\n",
    "Let's start with importing all the libraries we need and connect to the `ixmp` platform."
   ]
  },
  {
   "cell_type": "code",
   "execution_count": 1,
   "metadata": {},
   "outputs": [],
   "source": [
    "import os\n",
    "\n",
    "import pandas as pd\n",
    "import ixmp\n",
    "import message_ix\n",
    "\n",
    "from message_ix.util import make_df\n",
    "from message_ix.tools.add_tech import add_tech\n",
    "\n",
    "\n",
    "%matplotlib inline\n",
    "\n",
    "mp = ixmp.Platform()"
   ]
  },
  {
   "cell_type": "markdown",
   "metadata": {},
   "source": [
    "## `baseline` scenario with recursive dynamic mode"
   ]
  },
  {
   "cell_type": "code",
   "execution_count": 2,
   "metadata": {},
   "outputs": [],
   "source": [
    "# cloning baseline scenario and crate \n",
    "model = \"Westeros Electrified\"\n",
    "\n",
    "base = message_ix.Scenario(mp, model=model, scenario=\"baseline\")\n",
    "scen = base.clone(\n",
    "    model,\n",
    "    \"baseline_recursive-dynamic\",\n",
    "    \"introducing recursive dynamic mode\",\n",
    "    keep_solution=False,\n",
    ")\n",
    "scen.check_out()\n",
    "\n",
    "year_df = scen.vintage_and_active_years()\n",
    "vintage_years, act_years = year_df[\"year_vtg\"], year_df[\"year_act\"]\n",
    "model_horizon = scen.set(\"year\")\n",
    "country = \"Westeros\""
   ]
  },
  {
   "cell_type": "markdown",
   "metadata": {},
   "source": [
    "**Time to Solve the Model**\n",
    "\n",
    "In perfect foresight mode, the solve statement we add is `scen.solve()` without any additional arguments. By default, this will tell MESSAGE to run in the perfect foreseight mode. To run MESSAGE using the recursive dynamic approach, we need to add `gams_args =[\"--foresight=X\"]` argument to the solve statement, with `X` being the length of the foresight windows. This will pass the argument directly to `GAMS`, overiding the default values set in `MESSAGE_master.gms` and `model_setup.gms` scripts. Here, let's use `X=1` as an example. \n",
    "\n",
    "Similarly, technology cost learning module can be activated by setting `learningmode` value to 1. This can also be done by passing `\"--learningmode=1\"` GAMS argument in the solve statement, i.e., `gams_args =[\"--foresight=X\",\"--learningmode=1\"]`. It is important to note that the learning module lives under the recursive dynamic module. Hence, this module needs to be active if learning module is used."
   ]
  },
  {
   "cell_type": "code",
   "execution_count": 3,
   "metadata": {},
   "outputs": [
    {
     "data": {
      "text/plain": [
       "173795.09375"
      ]
     },
     "execution_count": 3,
     "metadata": {},
     "output_type": "execute_result"
    }
   ],
   "source": [
    "scen.commit(comment=\"Introducing recursive dynamic mode in MESSAGE\")\n",
    "scen.set_as_default()\n",
    "\n",
    "scen.solve(gams_args =[\"--foresight=1\"])\n",
    "\n",
    "scen.var(\"OBJ\")[\"lvl\"]"
   ]
  },
  {
   "cell_type": "markdown",
   "metadata": {},
   "source": [
    "## `emission_bound` scenario with adaptive optimization mode"
   ]
  },
  {
   "cell_type": "code",
   "execution_count": 4,
   "metadata": {},
   "outputs": [],
   "source": [
    "# cloning baseline scenario and crate \n",
    "model = \"Westeros Electrified\"\n",
    "\n",
    "bound_base = message_ix.Scenario(mp, model=model, scenario=\"emission_bound\")\n",
    "bound_scen = bound_base.clone(\n",
    "    model,\n",
    "    \"emission-bound_adaptive\",\n",
    "    \"introducing adaptive optimisation\",\n",
    "    keep_solution=False,\n",
    ")\n",
    "bound_scen.check_out()\n",
    "\n",
    "year_df = bound_scen.vintage_and_active_years()\n",
    "vintage_years, act_years = year_df[\"year_vtg\"], year_df[\"year_act\"]\n",
    "model_horizon = bound_scen.set(\"year\")\n",
    "country = \"Westeros\""
   ]
  },
  {
   "cell_type": "code",
   "execution_count": 5,
   "metadata": {},
   "outputs": [
    {
     "data": {
      "text/plain": [
       "206280.0625"
      ]
     },
     "execution_count": 5,
     "metadata": {},
     "output_type": "execute_result"
    }
   ],
   "source": [
    "bound_scen.commit(comment=\"Introducing recursive dynamic mode in MESSAGE\")\n",
    "bound_scen.set_as_default()\n",
    "\n",
    "bound_scen.solve(gams_args = [\"--foresight=3\"])\n",
    "\n",
    "bound_scen.var(\"OBJ\")[\"lvl\"]"
   ]
  },
  {
   "cell_type": "markdown",
   "metadata": {},
   "source": [
    "## `emission_bound` scenario with adaptive optimisation and learning mode"
   ]
  },
  {
   "cell_type": "code",
   "execution_count": 6,
   "metadata": {},
   "outputs": [],
   "source": [
    "# cloning baseline scenario and crate \n",
    "learning_scen = bound_base.clone(\n",
    "    model,\n",
    "    \"emission-bound_adaptive-learning\",\n",
    "    \"introducing adaptive optimisation with learning\",\n",
    "    keep_solution=False,\n",
    ")\n",
    "learning_scen.check_out()\n",
    "\n",
    "year_df = learning_scen.vintage_and_active_years()\n",
    "vintage_years, act_years = year_df[\"year_vtg\"], year_df[\"year_act\"]\n",
    "model_horizon = learning_scen.set(\"year\")\n",
    "country = \"Westeros\""
   ]
  },
  {
   "cell_type": "code",
   "execution_count": 7,
   "metadata": {},
   "outputs": [
    {
     "data": {
      "text/plain": [
       "205758.5625"
      ]
     },
     "execution_count": 7,
     "metadata": {},
     "output_type": "execute_result"
    }
   ],
   "source": [
    "learning_scen.commit(comment=\"Introducing recursive dynamic mode in MESSAGE\")\n",
    "learning_scen.set_as_default()\n",
    "\n",
    "learning_scen.solve(gams_args = [\"--foresight=3\",\"--learningmode=1\"])\n",
    "\n",
    "learning_scen.var(\"OBJ\")[\"lvl\"]"
   ]
  },
  {
   "cell_type": "markdown",
   "metadata": {},
   "source": [
    "## `emission_bound` scenario with adaptive optimisation, learning mode, and DAC"
   ]
  },
  {
   "cell_type": "code",
   "execution_count": 8,
   "metadata": {},
   "outputs": [],
   "source": [
    "dac_scenario = bound_base.clone(\n",
    "    model,\n",
    "    \"emission-bound_adaptive-learning_dac\",\n",
    "    \"adaptive learning with add_tech tool for DAC\",\n",
    "    keep_solution=False,)\n",
    "dac_scenario.check_out()"
   ]
  },
  {
   "cell_type": "code",
   "execution_count": 9,
   "metadata": {},
   "outputs": [],
   "source": [
    "mp.add_unit(\"USD/(tCO2/yr)\")\n",
    "mp.add_unit(\"USD/(tCO2/yr)/yr\")\n",
    "mp.add_unit(\"USD/tCO2\")\n",
    "mp.add_unit(\"tCO2/tCO2\")\n",
    "mp.add_unit(\"tCO2\")\n",
    "mp.add_unit(\"Mt CO2/yr\")\n",
    "\n",
    "\n",
    "filepath = os.path.join(os.getcwd(), \"tech_data.yaml\")\n",
    "add_tech(dac_scenario, filepath=filepath)\n"
   ]
  },
  {
   "cell_type": "code",
   "execution_count": 10,
   "metadata": {},
   "outputs": [
    {
     "name": "stdout",
     "output_type": "stream",
     "text": [
      "Objective Value\n",
      "Without DACCS:  206280.0625\n",
      "With DACCS   :  191064.9375\n"
     ]
    }
   ],
   "source": [
    "dac_scenario.commit(comment=\"Adding daccs using add_dac tool\")\n",
    "dac_scenario.set_as_default()\n",
    "\n",
    "dac_scenario.solve()\n",
    "dac_scenario.var(\"OBJ\")[\"lvl\"]\n",
    "\n",
    "print('Objective Value')\n",
    "print('Without DACCS: ', bound_scen.var(\"OBJ\")[\"lvl\"])\n",
    "print('With DACCS   : ', dac_scenario.var(\"OBJ\")[\"lvl\"])"
   ]
  },
  {
   "cell_type": "markdown",
   "metadata": {},
   "source": [
    "## Plotting Results"
   ]
  },
  {
   "cell_type": "raw",
   "metadata": {},
   "source": [
    "from message_ix.reporting import Reporter\n",
    "from message_ix.util.tutorial import prepare_plots\n",
    "\n",
    "rep = Reporter.from_scenario(scen)\n",
    "prepare_plots(rep)"
   ]
  },
  {
   "cell_type": "markdown",
   "metadata": {},
   "source": [
    "### Activity\n",
    "\n",
    "How much energy is generated in each time period from the different potential sources?"
   ]
  },
  {
   "cell_type": "raw",
   "metadata": {},
   "source": [
    "rep.set_filters(t=[\"coal_ppl\", \"wind_ppl\"])\n",
    "rep.get(\"plot activity\")"
   ]
  },
  {
   "cell_type": "markdown",
   "metadata": {},
   "source": [
    "### Capacity\n",
    "\n",
    "How much capacity of each plant is installed in each period?"
   ]
  },
  {
   "cell_type": "raw",
   "metadata": {},
   "source": [
    "rep.get(\"plot capacity\")"
   ]
  },
  {
   "cell_type": "markdown",
   "metadata": {},
   "source": [
    "## Close the connection to the database"
   ]
  },
  {
   "cell_type": "code",
   "execution_count": 11,
   "metadata": {},
   "outputs": [],
   "source": [
    "mp.close_db()"
   ]
  },
  {
   "cell_type": "code",
   "execution_count": null,
   "metadata": {},
   "outputs": [],
   "source": []
  }
 ],
 "metadata": {
  "kernelspec": {
   "display_name": "Python 3 (ipykernel)",
   "language": "python",
   "name": "python3"
  },
  "language_info": {
   "codemirror_mode": {
    "name": "ipython",
    "version": 3
   },
   "file_extension": ".py",
   "mimetype": "text/x-python",
   "name": "python",
   "nbconvert_exporter": "python",
   "pygments_lexer": "ipython3",
   "version": "3.10.9"
  }
 },
 "nbformat": 4,
 "nbformat_minor": 2
}

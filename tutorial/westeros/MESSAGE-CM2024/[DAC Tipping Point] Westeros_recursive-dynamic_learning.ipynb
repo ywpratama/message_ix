{
 "cells": [
  {
   "cell_type": "markdown",
   "metadata": {},
   "source": [
    "# Westeros Tutorial: Running MESSAGE in Recursive Dynamic Mode\n",
    "\n",
    "While considering the full time horizon in a single run is useful for a long-term energy systems planning, the recursive dynamic approach can provide insights that reflect the relevant foresight windows decision makers can have in making adaptive and robust planning.\n",
    "\n",
    "In addition to running the model with the perfect foresights, MESSAGE can also be run using the recursive dynamic approach. Here, the model is run iteratively throughout the periods with key decision variables from the previous periods, or iterations, are fixed so that new informations do not alter decisions that are already made in the previous periods. These variables\n",
    "include $CAP$ , $CAP\\_NEW$, $ACT$, and $EXT$. \n",
    "\n",
    "In this tutorial, we will implement the recursive dynamic mode on Westeros baseline scenario. Hence, before we start, we have to make sure that we can successfully run the baseline scenarion (``westeros_baseline.ipynb``).\n",
    "\n",
    "Let's start with importing all the libraries we need and connect to the `ixmp` platform."
   ]
  },
  {
   "cell_type": "code",
   "execution_count": 1,
   "metadata": {
    "scrolled": false
   },
   "outputs": [
    {
     "ename": "RuntimeError",
     "evalue": "unhandled Java exception: \nUnable to obtain connection from database (jdbc:hsqldb:file:C:/Users/pratama/.local/share/ixmp/localdb/default) for user 'ixmp': Database lock acquisition failure: lockFile: org.hsqldb.persist.LockFile@a51b7340[file =C:\\Users\\pratama\\.local\\share\\ixmp\\localdb\\default.lck, exists=true, locked=false, valid=false, ] method: checkHeartbeat read: 2024-10-04 11:04:38 heartbeat - read: -7514 ms.\n-------------------------------------------------------------------------------------------------------------------------------------------------------------------------------------------------------------------------------------------------------------------------------------------------------------------------------------------------------------------------------------------------------\nSQL State  : S1000\nError Code : -451\nMessage    : Database lock acquisition failure: lockFile: org.hsqldb.persist.LockFile@a51b7340[file =C:\\Users\\pratama\\.local\\share\\ixmp\\localdb\\default.lck, exists=true, locked=false, valid=false, ] method: checkHeartbeat read: 2024-10-04 11:04:38 heartbeat - read: -7514 ms.\n",
     "output_type": "error",
     "traceback": [
      "\u001b[1;31m---------------------------------------------------------------------------\u001b[0m",
      "\u001b[1;31mRuntimeError\u001b[0m                              Traceback (most recent call last)",
      "Cell \u001b[1;32mIn[1], line 13\u001b[0m\n\u001b[0;32m      8\u001b[0m \u001b[38;5;28;01mfrom\u001b[39;00m \u001b[38;5;21;01mmessage_ix\u001b[39;00m\u001b[38;5;21;01m.\u001b[39;00m\u001b[38;5;21;01mtools\u001b[39;00m\u001b[38;5;21;01m.\u001b[39;00m\u001b[38;5;21;01madd_tech\u001b[39;00m \u001b[38;5;28;01mimport\u001b[39;00m add_tech\n\u001b[0;32m     11\u001b[0m get_ipython()\u001b[38;5;241m.\u001b[39mrun_line_magic(\u001b[38;5;124m'\u001b[39m\u001b[38;5;124mmatplotlib\u001b[39m\u001b[38;5;124m'\u001b[39m, \u001b[38;5;124m'\u001b[39m\u001b[38;5;124minline\u001b[39m\u001b[38;5;124m'\u001b[39m)\n\u001b[1;32m---> 13\u001b[0m mp \u001b[38;5;241m=\u001b[39m \u001b[43mixmp\u001b[49m\u001b[38;5;241;43m.\u001b[39;49m\u001b[43mPlatform\u001b[49m\u001b[43m(\u001b[49m\u001b[38;5;124;43m\"\u001b[39;49m\u001b[38;5;124;43mlocal\u001b[39;49m\u001b[38;5;124;43m\"\u001b[39;49m\u001b[43m)\u001b[49m\n",
      "File \u001b[1;32m~\\Anaconda3\\envs\\message_env\\lib\\site-packages\\ixmp\\core\\platform.py:94\u001b[0m, in \u001b[0;36mPlatform.__init__\u001b[1;34m(self, name, backend, **backend_args)\u001b[0m\n\u001b[0;32m     88\u001b[0m     \u001b[38;5;28;01mraise\u001b[39;00m \u001b[38;5;167;01mValueError\u001b[39;00m(\n\u001b[0;32m     89\u001b[0m         \u001b[38;5;124mf\u001b[39m\u001b[38;5;124m\"\u001b[39m\u001b[38;5;124mbackend class \u001b[39m\u001b[38;5;132;01m{\u001b[39;00m\u001b[38;5;28mrepr\u001b[39m(backend_class_name)\u001b[38;5;132;01m}\u001b[39;00m\u001b[38;5;124m not among \u001b[39m\u001b[38;5;124m\"\u001b[39m\n\u001b[0;32m     90\u001b[0m         \u001b[38;5;241m+\u001b[39m \u001b[38;5;28mstr\u001b[39m(\u001b[38;5;28msorted\u001b[39m(BACKENDS\u001b[38;5;241m.\u001b[39mkeys()))\n\u001b[0;32m     91\u001b[0m     )\n\u001b[0;32m     93\u001b[0m \u001b[38;5;66;03m# Instantiate the backend\u001b[39;00m\n\u001b[1;32m---> 94\u001b[0m \u001b[38;5;28mself\u001b[39m\u001b[38;5;241m.\u001b[39m_backend \u001b[38;5;241m=\u001b[39m backend_class(\u001b[38;5;241m*\u001b[39m\u001b[38;5;241m*\u001b[39mkwargs)\n",
      "File \u001b[1;32m~\\Anaconda3\\envs\\message_env\\lib\\site-packages\\ixmp\\backend\\jdbc.py:319\u001b[0m, in \u001b[0;36mJDBCBackend.__init__\u001b[1;34m(self, jvmargs, **kwargs)\u001b[0m\n\u001b[0;32m    313\u001b[0m             msg \u001b[38;5;241m+\u001b[39m\u001b[38;5;241m=\u001b[39m (\n\u001b[0;32m    314\u001b[0m                 \u001b[38;5;124m\"\u001b[39m\u001b[38;5;130;01m\\n\u001b[39;00m\u001b[38;5;130;01m\\n\u001b[39;00m\u001b[38;5;124mThe schema of the database does not match the schema of \u001b[39m\u001b[38;5;124m\"\u001b[39m\n\u001b[0;32m    315\u001b[0m                 \u001b[38;5;124m\"\u001b[39m\u001b[38;5;124mthis version of ixmp. To resolve, either install the version \u001b[39m\u001b[38;5;124m\"\u001b[39m\n\u001b[0;32m    316\u001b[0m                 \u001b[38;5;124m\"\u001b[39m\u001b[38;5;124mof ixmp used to create the database, or delete it and retry.\u001b[39m\u001b[38;5;124m\"\u001b[39m\n\u001b[0;32m    317\u001b[0m             )\n\u001b[0;32m    318\u001b[0m     \u001b[38;5;28;01melse\u001b[39;00m:\n\u001b[1;32m--> 319\u001b[0m         \u001b[43m_raise_jexception\u001b[49m\u001b[43m(\u001b[49m\u001b[43me\u001b[49m\u001b[43m)\u001b[49m\n\u001b[0;32m    320\u001b[0m     \u001b[38;5;28;01mraise\u001b[39;00m \u001b[38;5;167;01mRuntimeError\u001b[39;00m(\u001b[38;5;124mf\u001b[39m\u001b[38;5;124m\"\u001b[39m\u001b[38;5;132;01m{\u001b[39;00mmsg\u001b[38;5;132;01m}\u001b[39;00m\u001b[38;5;130;01m\\n\u001b[39;00m\u001b[38;5;124m(Java: \u001b[39m\u001b[38;5;132;01m{\u001b[39;00mjclass\u001b[38;5;132;01m}\u001b[39;00m\u001b[38;5;124m)\u001b[39m\u001b[38;5;124m\"\u001b[39m)\n\u001b[0;32m    322\u001b[0m \u001b[38;5;66;03m# Set the log level\u001b[39;00m\n",
      "File \u001b[1;32m~\\Anaconda3\\envs\\message_env\\lib\\site-packages\\ixmp\\backend\\jdbc.py:141\u001b[0m, in \u001b[0;36m_raise_jexception\u001b[1;34m(exc, msg)\u001b[0m\n\u001b[0;32m    138\u001b[0m \u001b[38;5;28;01melse\u001b[39;00m:\n\u001b[0;32m    139\u001b[0m     msg \u001b[38;5;241m+\u001b[39m\u001b[38;5;241m=\u001b[39m exc\u001b[38;5;241m.\u001b[39mmessage()\n\u001b[1;32m--> 141\u001b[0m \u001b[38;5;28;01mraise\u001b[39;00m \u001b[38;5;167;01mRuntimeError\u001b[39;00m(msg) \u001b[38;5;28;01mfrom\u001b[39;00m \u001b[38;5;28mNone\u001b[39m\n",
      "\u001b[1;31mRuntimeError\u001b[0m: unhandled Java exception: \nUnable to obtain connection from database (jdbc:hsqldb:file:C:/Users/pratama/.local/share/ixmp/localdb/default) for user 'ixmp': Database lock acquisition failure: lockFile: org.hsqldb.persist.LockFile@a51b7340[file =C:\\Users\\pratama\\.local\\share\\ixmp\\localdb\\default.lck, exists=true, locked=false, valid=false, ] method: checkHeartbeat read: 2024-10-04 11:04:38 heartbeat - read: -7514 ms.\n-------------------------------------------------------------------------------------------------------------------------------------------------------------------------------------------------------------------------------------------------------------------------------------------------------------------------------------------------------------------------------------------------------\nSQL State  : S1000\nError Code : -451\nMessage    : Database lock acquisition failure: lockFile: org.hsqldb.persist.LockFile@a51b7340[file =C:\\Users\\pratama\\.local\\share\\ixmp\\localdb\\default.lck, exists=true, locked=false, valid=false, ] method: checkHeartbeat read: 2024-10-04 11:04:38 heartbeat - read: -7514 ms.\n"
     ]
    }
   ],
   "source": [
    "import os\n",
    "import matplotlib.pyplot as plt\n",
    "import pandas as pd\n",
    "import ixmp\n",
    "import message_ix\n",
    "\n",
    "from message_ix.util import make_df\n",
    "from message_ix.tools.add_tech import add_tech\n",
    "\n",
    "\n",
    "%matplotlib inline\n",
    "\n",
    "mp = ixmp.Platform(\"local\")"
   ]
  },
  {
   "cell_type": "markdown",
   "metadata": {},
   "source": [
    "## `baseline` scenario with recursive dynamic mode"
   ]
  },
  {
   "cell_type": "code",
   "execution_count": null,
   "metadata": {},
   "outputs": [],
   "source": [
    "# cloning baseline scenario and crate \n",
    "model = \"Westeros Electrified\"\n",
    "\n",
    "base = message_ix.Scenario(mp, model=model, scenario=\"baseline\")\n",
    "scen = base.clone(\n",
    "    model,\n",
    "    \"baseline_recursive-dynamic\",\n",
    "    \"introducing recursive dynamic mode\",\n",
    "    keep_solution=False,\n",
    ")\n",
    "scen.check_out()\n",
    "\n",
    "year_df = scen.vintage_and_active_years()\n",
    "vintage_years, act_years = year_df[\"year_vtg\"], year_df[\"year_act\"]\n",
    "model_horizon = scen.set(\"year\")\n",
    "country = \"Westeros\""
   ]
  },
  {
   "cell_type": "markdown",
   "metadata": {},
   "source": [
    "**Time to Solve the Model**\n",
    "\n",
    "In perfect foresight mode, the solve statement we add is `scen.solve()` without any additional arguments. By default, this will tell MESSAGE to run in the perfect foreseight mode. To run MESSAGE using the recursive dynamic approach, we need to add `gams_args =[\"--foresight=X\"]` argument to the solve statement, with `X` being the length of the foresight windows. This will pass the argument directly to `GAMS`, overiding the default values set in `MESSAGE_master.gms` and `model_setup.gms` scripts. Here, let's use `X=1` as an example. \n",
    "\n",
    "Similarly, technology cost learning module can be activated by setting `learningmode` value to 1. This can also be done by passing `\"--learningmode=1\"` GAMS argument in the solve statement, i.e., `gams_args =[\"--foresight=X\",\"--learningmode=1\"]`. It is important to note that the learning module lives under the recursive dynamic module. Hence, this module needs to be active if learning module is used."
   ]
  },
  {
   "cell_type": "code",
   "execution_count": null,
   "metadata": {},
   "outputs": [],
   "source": [
    "scen.commit(comment=\"Introducing recursive dynamic mode in MESSAGE\")\n",
    "scen.set_as_default()\n",
    "\n",
    "scen.solve(gams_args =[\"--foresight=1\"])\n",
    "\n",
    "scen.var(\"OBJ\")[\"lvl\"]"
   ]
  },
  {
   "cell_type": "markdown",
   "metadata": {},
   "source": [
    "## `emission_bound` scenario with adaptive optimization mode"
   ]
  },
  {
   "cell_type": "code",
   "execution_count": null,
   "metadata": {},
   "outputs": [],
   "source": [
    "# cloning baseline scenario and crate \n",
    "model = \"Westeros Electrified\"\n",
    "\n",
    "bound_base = message_ix.Scenario(mp, model=model, scenario=\"emission_bound\")\n",
    "bound_scen = bound_base.clone(\n",
    "    model,\n",
    "    \"emission-bound_adaptive\",\n",
    "    \"introducing adaptive optimisation\",\n",
    "    keep_solution=False,\n",
    ")\n",
    "bound_scen.check_out()\n",
    "\n",
    "year_df = bound_scen.vintage_and_active_years()\n",
    "vintage_years, act_years = year_df[\"year_vtg\"], year_df[\"year_act\"]\n",
    "model_horizon = bound_scen.set(\"year\")\n",
    "country = \"Westeros\""
   ]
  },
  {
   "cell_type": "code",
   "execution_count": null,
   "metadata": {},
   "outputs": [],
   "source": [
    "bound_scen.commit(comment=\"Introducing recursive dynamic mode in MESSAGE\")\n",
    "bound_scen.set_as_default()\n",
    "\n",
    "bound_scen.solve(gams_args = [\"--foresight=3\"])\n",
    "\n",
    "bound_scen.var(\"OBJ\")[\"lvl\"]"
   ]
  },
  {
   "cell_type": "markdown",
   "metadata": {},
   "source": [
    "## `emission_bound` scenario with adaptive optimisation and learning mode"
   ]
  },
  {
   "cell_type": "code",
   "execution_count": null,
   "metadata": {},
   "outputs": [],
   "source": [
    "# cloning baseline scenario and crate \n",
    "learning_scen = bound_base.clone(\n",
    "    model,\n",
    "    \"emission-bound_adaptive-learning\",\n",
    "    \"introducing adaptive optimisation with learning\",\n",
    "    keep_solution=False,\n",
    ")\n",
    "learning_scen.check_out()\n",
    "\n",
    "year_df = learning_scen.vintage_and_active_years()\n",
    "vintage_years, act_years = year_df[\"year_vtg\"], year_df[\"year_act\"]\n",
    "model_horizon = learning_scen.set(\"year\")\n",
    "country = \"Westeros\""
   ]
  },
  {
   "cell_type": "raw",
   "metadata": {},
   "source": [
    "new_tecs = [\"wind_ppl\",\"coal_ppl\"]\n",
    "for tec in new_tecs:\n",
    "    learning_scen.add_set(\"newtec\",tec)\n",
    "learning_scen.set(\"newtec\")"
   ]
  },
  {
   "cell_type": "code",
   "execution_count": null,
   "metadata": {},
   "outputs": [],
   "source": [
    "learning_scen.set(\"technology\")"
   ]
  },
  {
   "cell_type": "code",
   "execution_count": null,
   "metadata": {},
   "outputs": [],
   "source": [
    "learning_pars = {\n",
    "    \"coal_ppl\": {\n",
    "        \"alpha\"          : 0.0,\n",
    "        \"beta_unit\"      : 0.1,\n",
    "        \"beta_proj\"      : 0.0,\n",
    "        \"gamma_unit\"     : 0.04,\n",
    "        \"gamma_proj\"     : 0.03,\n",
    "        \"inv_cost_refidx\": 1,\n",
    "        \"knref_unit\"     : 1,\n",
    "        \"sizeref_unit\"   : 1,\n",
    "        \"sizeref_proj\"   : 1,\n",
    "    },\n",
    "    \"wind_ppl\": {\n",
    "        \"alpha\"          : 0.9,\n",
    "        \"beta_unit\"      : 0.9,\n",
    "        \"beta_proj\"      : 0.0,\n",
    "        \"gamma_unit\"     : 0.03,\n",
    "        \"gamma_proj\"     : 0.03,\n",
    "        \"inv_cost_refidx\": 1,\n",
    "        \"knref_unit\"     :30,\n",
    "        \"sizeref_unit\"   : 1,\n",
    "        \"sizeref_proj\"   :10,\n",
    "    }\n",
    "    \n",
    "}\n",
    "\n",
    "for key,val in learning_pars.items():\n",
    "    \n",
    "    learning_scen.add_set(\"newtec\",key)\n",
    "    \n",
    "    for key1,val1 in val.items():\n",
    "        df_par = make_df(key1,\n",
    "                         technology = key,\n",
    "                         value = val1,\n",
    "                         unit = \"-\"\n",
    "                        )\n",
    "        learning_scen.add_par(key1,df_par)\n",
    "        df_par"
   ]
  },
  {
   "cell_type": "code",
   "execution_count": null,
   "metadata": {},
   "outputs": [],
   "source": [
    "learning_scen.par(\"alpha\")"
   ]
  },
  {
   "cell_type": "code",
   "execution_count": null,
   "metadata": {},
   "outputs": [],
   "source": [
    "learning_scen.commit(comment=\"Introducing recursive dynamic mode in MESSAGE\")\n",
    "learning_scen.set_as_default()\n",
    "\n",
    "learning_scen.solve(gams_args = [\"--foresight=3\",\"--learningmode=1\"])\n",
    "\n",
    "print(\"OBJ without learning:\", bound_scen.var(\"OBJ\")[\"lvl\"])\n",
    "print(\"OBJ with learning   :\", learning_scen.var(\"OBJ\")[\"lvl\"])"
   ]
  },
  {
   "cell_type": "markdown",
   "metadata": {},
   "source": [
    "### Let's compare the results"
   ]
  },
  {
   "cell_type": "code",
   "execution_count": null,
   "metadata": {},
   "outputs": [],
   "source": [
    "scenarios = [bound_scen, learning_scen]\n",
    "labels = [\"without learning\", \"with learning\"]\n",
    "\n",
    "for s in range(len(scenarios)):\n",
    "    df = (scenarios[s].var(\"CAP\", {\"node_loc\":\"Westeros\",\"technology\": \"wind_ppl\", \"year_act\":act_years})\n",
    "          .drop([\"node_loc\",\"technology\",\"year_vtg\"], axis=1).set_index(\"year_act\").groupby(level=0).sum()[[\"lvl\"]])\n",
    "    tick_loc = -1.5 if s == 0 else 1.5\n",
    "    plt.bar(df.index+tick_loc,df[\"lvl\"], width=3, label=labels[s])\n",
    "plt.xticks(df.index)\n",
    "plt.ylabel(\"wind_ppl capacity\")\n",
    "plt.legend()\n",
    "plt.show()"
   ]
  },
  {
   "cell_type": "markdown",
   "metadata": {},
   "source": [
    "## With learning"
   ]
  },
  {
   "cell_type": "raw",
   "metadata": {},
   "source": [
    "from message_ix.report import Reporter\n",
    "from message_ix.util.tutorial import prepare_plots\n",
    "\n",
    "# Create a Reporter object to describe and carry out reporting\n",
    "# calculations and operations (like plotting) based on `scenario`\n",
    "rep = Reporter.from_scenario(learning_scen)\n",
    "\n",
    "# \"prepare_plots\" enables several to describe reporting operations, e.g.\n",
    "# \"plot activity\", \"plot capacity\", or \"plot prices\"\n",
    "# See message_ix/util/tutorial.py for more information\n",
    "prepare_plots(rep)\n",
    "rep.set_filters(t=[\"coal_ppl\", \"wind_ppl\"], ya=[700, 710, 720])\n",
    "# Create a different plot. The same filters are still active.\n",
    "rep.get(\"plot capacity\")"
   ]
  },
  {
   "cell_type": "markdown",
   "metadata": {},
   "source": [
    "## Without learning"
   ]
  },
  {
   "cell_type": "raw",
   "metadata": {
    "scrolled": false
   },
   "source": [
    "from message_ix.report import Reporter\n",
    "from message_ix.util.tutorial import prepare_plots\n",
    "\n",
    "# Create a Reporter object to describe and carry out reporting\n",
    "# calculations and operations (like plotting) based on `scenario`\n",
    "rep = Reporter.from_scenario(bound_scen)\n",
    "\n",
    "# \"prepare_plots\" enables several to describe reporting operations, e.g.\n",
    "# \"plot activity\", \"plot capacity\", or \"plot prices\"\n",
    "# See message_ix/util/tutorial.py for more information\n",
    "prepare_plots(rep)\n",
    "rep.set_filters(t=[\"coal_ppl\", \"wind_ppl\"], ya=[700, 710, 720])\n",
    "# Create a different plot. The same filters are still active.\n",
    "rep.get(\"plot capacity\")"
   ]
  },
  {
   "cell_type": "markdown",
   "metadata": {},
   "source": [
    "## Parameters and variables check"
   ]
  },
  {
   "cell_type": "raw",
   "metadata": {},
   "source": [
    "learning_scen.par(\"inv_cost\")"
   ]
  },
  {
   "cell_type": "raw",
   "metadata": {
    "scrolled": true
   },
   "source": [
    "years =         [  690,   700,   710,   720]\n",
    "IC = {\n",
    "    \"coal\"    : [1.000, 1.000, 1.000, 1.000],\n",
    "    \"wind_ppl\": [1.000, 0.987, 0.891, 0.755],\n",
    "}\n",
    "\n",
    "inv_cost0 = {\n",
    "    \"coal\"    :  500,\n",
    "    \"wind_ppl\": 1500,\n",
    "}\n",
    "\n",
    "for tech in IC.keys():\n",
    "    plt.plot(years,[inv_cost0[tech]*ic for ic in IC[tech]])\n",
    "\n",
    "plt.ylim(-100,2100)    \n",
    "plt.show()"
   ]
  },
  {
   "cell_type": "markdown",
   "metadata": {},
   "source": [
    "## Close the connection to the database"
   ]
  },
  {
   "cell_type": "code",
   "execution_count": 2,
   "metadata": {},
   "outputs": [
    {
     "ename": "NameError",
     "evalue": "name 'mp' is not defined",
     "output_type": "error",
     "traceback": [
      "\u001b[1;31m---------------------------------------------------------------------------\u001b[0m",
      "\u001b[1;31mNameError\u001b[0m                                 Traceback (most recent call last)",
      "Cell \u001b[1;32mIn[2], line 1\u001b[0m\n\u001b[1;32m----> 1\u001b[0m \u001b[43mmp\u001b[49m\u001b[38;5;241m.\u001b[39mclose_db()\n",
      "\u001b[1;31mNameError\u001b[0m: name 'mp' is not defined"
     ]
    }
   ],
   "source": [
    "mp.close_db()"
   ]
  },
  {
   "cell_type": "code",
   "execution_count": null,
   "metadata": {},
   "outputs": [],
   "source": []
  }
 ],
 "metadata": {
  "kernelspec": {
   "display_name": "Python 3 (ipykernel)",
   "language": "python",
   "name": "python3"
  },
  "language_info": {
   "codemirror_mode": {
    "name": "ipython",
    "version": 3
   },
   "file_extension": ".py",
   "mimetype": "text/x-python",
   "name": "python",
   "nbconvert_exporter": "python",
   "pygments_lexer": "ipython3",
   "version": "3.10.9"
  }
 },
 "nbformat": 4,
 "nbformat_minor": 2
}

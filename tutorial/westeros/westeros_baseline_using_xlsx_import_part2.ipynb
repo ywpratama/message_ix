{
 "cells": [
  {
   "cell_type": "markdown",
   "metadata": {
    "slideshow": {
     "slide_type": "slide"
    }
   },
   "source": [
    "# Westeros Tutorial - Introducing the use of Excel files: Building a scenario by importing data from multiple \".xlsx\" file"
   ]
  },
  {
   "attachments": {},
   "cell_type": "markdown",
   "metadata": {
    "slideshow": {
     "slide_type": "slide"
    }
   },
   "source": [
    "## Scope of this tutorial\n",
    "\n",
    "This tutorial builds on \"Westeros Tutorial Part 3.2.1\", which explained how data from the Westeros Baseline scenario can be exported to an Excel (.xlsx) file using the function [`ixmp.Scenario.to_excel()`](https://docs.messageix.org/projects/ixmp/en/latest/api.html#ixmp.Scenario.to_excel) and how this data can be used to build a new scenario via [`ixmp.Scenario.read_excel()`](https://docs.messageix.org/projects/ixmp/en/latest/api.html#ixmp.Scenario.read_excel). This tutorial will look at the workflow of building a new scenario from data stored in an Excel file more carefully. \n",
    "\n",
    "**Pre-requisites**\n",
    "- You have the *MESSAGEix* framework installed and working\n",
    "- You have run Westeros baseline scenario (``westeros_baseline.ipynb``) and solved it successfully\n",
    "- You have gone through Westeros Tutorial 4a, part 1 on importing data from an Excel file  (``westeros_baseline_using_xlsx_import_part1.ipynb``)\n",
    "\n",
    "To do this, we are again going to build the Westeros Baseline, but this time combining elements from the original baseline tutorial with the import of data from multiple Excel files (see figure below - the red line indicates at which point of the process this tutorial will commence i.e. the source Excel files have already been generated). \n",
    "\n",
    "<img src='_static/westeros_baseline_xlsx_workflow_part2.jpg'>\n",
    "\n",
    "The first part will create a scenario and basic parameters will be added including the modeling time-horizon and the discount rate. This code is a repetition of that used in the tutorial `westeros_baseline.ipynb`, which will be referred to as the \"original\" scenario throughout the remainder of this tutorial.\n",
    "\n",
    "The second part will then import various parameters from Excel files, adding technologies, demand, and constraints to the model. We have chosen to distribute the import of data across various Excel files. This helps to outline a possible approach on how to structure the import methods if used for loading large amounts of data into scenarios. It further demonstrates the required data contents of the Excel files."
   ]
  },
  {
   "attachments": {},
   "cell_type": "markdown",
   "metadata": {},
   "source": [
    "<div class=\"alert alert-block alert-success\">\n",
    " \n",
    "**Please Note:**\n",
    "\n",
    "This tutorial specifically targets users looking to build larger models using the Excel import functionalities. The advantage of using multiple files, especially for large data sets, is that this provides a more transparent structuring of the underlying workflow. Scripts related to creating the Excel source files and the respective imports will be limited to certain model aspects. \n",
    "    \n",
    "<u>An example:</u>\n",
    "    \n",
    "As shown in the figure above (right panel), a script can generate and import \"technology\" data, another the \"demand\" and a third generates \"constraints\". If alternative demand projects are to be used, for example to account for more factors influencing near term economic growth, then only a single script will need to be revised.  \n",
    "    \n",
    "This means that maintenance and updates can be performed more readily in the future. While acknowledging the fact that in some cases, for example when transitioning from other model platforms, importing data as demonstrated in this tutorial is possible, it is only advised to rely on these methods temporarily. Using multiple Excel files can aid in this respect. It allows the modeler to subsequently replace the use of `read_excel()` functionality in a more structured manner, updating the workflow for smaller more manageable scenario aspects."
   ]
  },
  {
   "cell_type": "markdown",
   "metadata": {},
   "source": [
    "## Step 1. Setting up the scenario"
   ]
  },
  {
   "cell_type": "markdown",
   "metadata": {
    "slideshow": {
     "slide_type": "slide"
    }
   },
   "source": [
    "As in the \"original\" tutorial, we start by importing all the packages we need."
   ]
  },
  {
   "cell_type": "code",
   "execution_count": 1,
   "metadata": {
    "slideshow": {
     "slide_type": "fragment"
    }
   },
   "outputs": [
    {
     "data": {
      "application/javascript": [
       "if (typeof IPython !== 'undefined') { IPython.OutputArea.prototype._should_scroll = function(lines){ return false; }}"
      ],
      "text/plain": [
       "<IPython.core.display.Javascript object>"
      ]
     },
     "metadata": {},
     "output_type": "display_data"
    }
   ],
   "source": [
    "import pandas as pd\n",
    "import ixmp\n",
    "import message_ix\n",
    "\n",
    "%matplotlib inline"
   ]
  },
  {
   "cell_type": "code",
   "execution_count": 2,
   "metadata": {
    "slideshow": {
     "slide_type": "fragment"
    }
   },
   "outputs": [],
   "source": [
    "# Loading Modeling platform\n",
    "mp = ixmp.Platform()"
   ]
  },
  {
   "cell_type": "code",
   "execution_count": 3,
   "metadata": {
    "slideshow": {
     "slide_type": "fragment"
    }
   },
   "outputs": [],
   "source": [
    "# Creating a new, empty scenario\n",
    "scenario = message_ix.Scenario(\n",
    "    mp, model=\"Westeros Electrified\", scenario=\"baseline_xlsx\", version=\"new\"\n",
    ")"
   ]
  },
  {
   "attachments": {},
   "cell_type": "markdown",
   "metadata": {
    "slideshow": {
     "slide_type": "slide"
    }
   },
   "source": [
    "## Model Structure\n",
    "\n",
    "As in the original tutorial, basic characteristics of the model, including model years, location, and the energy system structure are defined. We also define the interest rate."
   ]
  },
  {
   "cell_type": "code",
   "execution_count": 4,
   "metadata": {
    "slideshow": {
     "slide_type": "fragment"
    }
   },
   "outputs": [],
   "source": [
    "# Defining historical and model (optimization) years\n",
    "history = [690]\n",
    "model_horizon = [700, 710, 720]\n",
    "scenario.add_horizon(year=history + model_horizon, firstmodelyear=model_horizon[0])"
   ]
  },
  {
   "cell_type": "code",
   "execution_count": 5,
   "metadata": {
    "slideshow": {
     "slide_type": "fragment"
    }
   },
   "outputs": [],
   "source": [
    "# Defining a spatial level and adding a node to it\n",
    "node = \"Westeros\"\n",
    "scenario.add_spatial_sets({\"country\": node})"
   ]
  },
  {
   "attachments": {},
   "cell_type": "markdown",
   "metadata": {},
   "source": [
    "Contrary to the original tutorial for building the Westeros model, we only define commodities and levels here. If additional `\"commodity\"` or `\"level\"` types are required later on, these can also be defined with uploading technologoy data using the Excel files. Either method is fine.\n",
    "Note that we populated the set `\"technology\"` and `\"mode\"` in the original tutorial. We will address these in the second half of this tutorial."
   ]
  },
  {
   "cell_type": "code",
   "execution_count": 6,
   "metadata": {
    "slideshow": {
     "slide_type": "fragment"
    }
   },
   "outputs": [],
   "source": [
    "# Adding elements to MESSAGEix sets\n",
    "scenario.add_set(\"commodity\", [\"electricity\", \"light\"])\n",
    "scenario.add_set(\"level\", [\"secondary\", \"final\", \"useful\"])"
   ]
  },
  {
   "cell_type": "code",
   "execution_count": 7,
   "metadata": {},
   "outputs": [],
   "source": [
    "# Adding interest rate of 5% per model year\n",
    "scenario.add_par(\"interestrate\", model_horizon, value=0.05, unit=\"-\")"
   ]
  },
  {
   "attachments": {},
   "cell_type": "markdown",
   "metadata": {},
   "source": [
    "Note that the data has not yet been commited. This is because at a minimum, the set technology needs to be defined, otherwise an error message will be raised when commiting the scenario. Hence, we will continue in this tutorial by adding data, step-by-step, in the process of which commits are automatically made."
   ]
  },
  {
   "cell_type": "markdown",
   "metadata": {
    "slideshow": {
     "slide_type": "slide"
    }
   },
   "source": [
    "## Step 2: Importing data from Excel\n"
   ]
  },
  {
   "cell_type": "markdown",
   "metadata": {
    "slideshow": {
     "slide_type": "slide"
    }
   },
   "source": [
    "### 2.1 Supply and Demand (or Balancing Commodities)"
   ]
  },
  {
   "attachments": {},
   "cell_type": "markdown",
   "metadata": {
    "slideshow": {
     "slide_type": "fragment"
    }
   },
   "source": [
    "Instead of using the `message_ix.Scenario.add_par()` for adding data to a MESSAGEix parameter, we import data from an xlsx file. The argument `add_units` has been set to `True`, so that any units which have not yet been specified in the modeling platform will be defined automatically."
   ]
  },
  {
   "cell_type": "code",
   "execution_count": 8,
   "metadata": {},
   "outputs": [],
   "source": [
    "scenario.read_excel(\"westeros_baseline_demand.xlsx\", add_units=True, commit_steps=False)"
   ]
  },
  {
   "attachments": {},
   "cell_type": "markdown",
   "metadata": {},
   "source": [
    "Open the above indicated xlsx (\"westeros_baseline_demand.xlsx\") file and browse its contents. You will find that it includes two sheets, of which we will need only one here (the other will be explained below). Namely, the sheet \"demand\", which contains the data based on the index structure of the parameter `\"demand\"`."
   ]
  },
  {
   "cell_type": "code",
   "execution_count": 9,
   "metadata": {},
   "outputs": [
    {
     "name": "stdout",
     "output_type": "stream",
     "text": [
      "['node', 'commodity', 'level', 'year', 'time']\n"
     ]
    }
   ],
   "source": [
    "print(scenario.idx_names(\"demand\"))"
   ]
  },
  {
   "cell_type": "markdown",
   "metadata": {},
   "source": [
    "In addition, numerical values have been added under the index-name `value` and the units have been specified under the index-name `unit`. These two index names are used for adding numerical values and units across all parameters."
   ]
  },
  {
   "attachments": {},
   "cell_type": "markdown",
   "metadata": {},
   "source": [
    "### 2.2 Adding technologies\n",
    "\n",
    "The next step is to add a basic configuration for technologies, using the data input file \"westeros_baseline_technology_basic.xlsx\".\n",
    "This Excel file has the following sheets:\n",
    "\n",
    "- mode\n",
    "- technology\n",
    "- capacity_factor\n",
    "- input\n",
    "- output\n",
    "- technical_lifetime\n",
    "- ix_type_mapping\n",
    "\n",
    "The `ixmp` documentation ([“Scenario/model data”](https://docs.messageix.org/projects/ixmp/en/latest/file-io.html#excel-data-format) section of the “File formats and input/output” page) gives a complete description of the file format. To summarize:\n",
    "- Most sheets have a name like \"technology\" or \"input\" that corresponds to a set or parameter in the MESSAGE formulation\n",
    "- The \"ix_type_mapping\" sheet is used by the export/import code to keep track of this correspondence\n",
    "\n",
    "The importer handles sets first, and then parameters. The sheets for sets *must* include all elements used by the parameter data; otherwise the data is invalid and a Python exception will be raised. For example, if data in the sheet `\"capacity_factor\"` refers to a technology which is not listed in the sheet \"technology\", the data are invalid. If the files are created by hand (instead of using the `to_excel()` method), it is important to ensure they are valid."
   ]
  },
  {
   "cell_type": "code",
   "execution_count": 10,
   "metadata": {
    "slideshow": {
     "slide_type": "fragment"
    }
   },
   "outputs": [],
   "source": [
    "scenario.read_excel(\n",
    "    \"westeros_baseline_technology_basic.xlsx\", add_units=True, commit_steps=False\n",
    ")"
   ]
  },
  {
   "cell_type": "markdown",
   "metadata": {},
   "source": [
    "In order to view which technologies we have added, we can do the following:"
   ]
  },
  {
   "cell_type": "code",
   "execution_count": 11,
   "metadata": {},
   "outputs": [
    {
     "data": {
      "text/plain": [
       "0    coal_ppl\n",
       "1    wind_ppl\n",
       "2        grid\n",
       "3        bulb\n",
       "dtype: object"
      ]
     },
     "execution_count": 11,
     "metadata": {},
     "output_type": "execute_result"
    }
   ],
   "source": [
    "scenario.set(\"technology\")"
   ]
  },
  {
   "cell_type": "markdown",
   "metadata": {},
   "source": [
    "We can also look at the specific parameters by:"
   ]
  },
  {
   "cell_type": "code",
   "execution_count": 12,
   "metadata": {},
   "outputs": [
    {
     "data": {
      "text/html": [
       "<div>\n",
       "<style scoped>\n",
       "    .dataframe tbody tr th:only-of-type {\n",
       "        vertical-align: middle;\n",
       "    }\n",
       "\n",
       "    .dataframe tbody tr th {\n",
       "        vertical-align: top;\n",
       "    }\n",
       "\n",
       "    .dataframe thead th {\n",
       "        text-align: right;\n",
       "    }\n",
       "</style>\n",
       "<table border=\"1\" class=\"dataframe\">\n",
       "  <thead>\n",
       "    <tr style=\"text-align: right;\">\n",
       "      <th></th>\n",
       "      <th>node_loc</th>\n",
       "      <th>technology</th>\n",
       "      <th>year_vtg</th>\n",
       "      <th>year_act</th>\n",
       "      <th>time</th>\n",
       "      <th>value</th>\n",
       "      <th>unit</th>\n",
       "    </tr>\n",
       "  </thead>\n",
       "  <tbody>\n",
       "    <tr>\n",
       "      <th>0</th>\n",
       "      <td>Westeros</td>\n",
       "      <td>coal_ppl</td>\n",
       "      <td>690</td>\n",
       "      <td>700</td>\n",
       "      <td>year</td>\n",
       "      <td>1.00</td>\n",
       "      <td>-</td>\n",
       "    </tr>\n",
       "    <tr>\n",
       "      <th>1</th>\n",
       "      <td>Westeros</td>\n",
       "      <td>coal_ppl</td>\n",
       "      <td>690</td>\n",
       "      <td>710</td>\n",
       "      <td>year</td>\n",
       "      <td>1.00</td>\n",
       "      <td>-</td>\n",
       "    </tr>\n",
       "    <tr>\n",
       "      <th>2</th>\n",
       "      <td>Westeros</td>\n",
       "      <td>coal_ppl</td>\n",
       "      <td>690</td>\n",
       "      <td>720</td>\n",
       "      <td>year</td>\n",
       "      <td>1.00</td>\n",
       "      <td>-</td>\n",
       "    </tr>\n",
       "    <tr>\n",
       "      <th>3</th>\n",
       "      <td>Westeros</td>\n",
       "      <td>coal_ppl</td>\n",
       "      <td>700</td>\n",
       "      <td>700</td>\n",
       "      <td>year</td>\n",
       "      <td>1.00</td>\n",
       "      <td>-</td>\n",
       "    </tr>\n",
       "    <tr>\n",
       "      <th>4</th>\n",
       "      <td>Westeros</td>\n",
       "      <td>coal_ppl</td>\n",
       "      <td>700</td>\n",
       "      <td>710</td>\n",
       "      <td>year</td>\n",
       "      <td>1.00</td>\n",
       "      <td>-</td>\n",
       "    </tr>\n",
       "    <tr>\n",
       "      <th>5</th>\n",
       "      <td>Westeros</td>\n",
       "      <td>coal_ppl</td>\n",
       "      <td>700</td>\n",
       "      <td>720</td>\n",
       "      <td>year</td>\n",
       "      <td>1.00</td>\n",
       "      <td>-</td>\n",
       "    </tr>\n",
       "    <tr>\n",
       "      <th>6</th>\n",
       "      <td>Westeros</td>\n",
       "      <td>coal_ppl</td>\n",
       "      <td>710</td>\n",
       "      <td>710</td>\n",
       "      <td>year</td>\n",
       "      <td>1.00</td>\n",
       "      <td>-</td>\n",
       "    </tr>\n",
       "    <tr>\n",
       "      <th>7</th>\n",
       "      <td>Westeros</td>\n",
       "      <td>coal_ppl</td>\n",
       "      <td>710</td>\n",
       "      <td>720</td>\n",
       "      <td>year</td>\n",
       "      <td>1.00</td>\n",
       "      <td>-</td>\n",
       "    </tr>\n",
       "    <tr>\n",
       "      <th>8</th>\n",
       "      <td>Westeros</td>\n",
       "      <td>coal_ppl</td>\n",
       "      <td>720</td>\n",
       "      <td>720</td>\n",
       "      <td>year</td>\n",
       "      <td>1.00</td>\n",
       "      <td>-</td>\n",
       "    </tr>\n",
       "    <tr>\n",
       "      <th>9</th>\n",
       "      <td>Westeros</td>\n",
       "      <td>wind_ppl</td>\n",
       "      <td>690</td>\n",
       "      <td>700</td>\n",
       "      <td>year</td>\n",
       "      <td>0.36</td>\n",
       "      <td>-</td>\n",
       "    </tr>\n",
       "    <tr>\n",
       "      <th>10</th>\n",
       "      <td>Westeros</td>\n",
       "      <td>wind_ppl</td>\n",
       "      <td>690</td>\n",
       "      <td>710</td>\n",
       "      <td>year</td>\n",
       "      <td>0.36</td>\n",
       "      <td>-</td>\n",
       "    </tr>\n",
       "    <tr>\n",
       "      <th>11</th>\n",
       "      <td>Westeros</td>\n",
       "      <td>wind_ppl</td>\n",
       "      <td>690</td>\n",
       "      <td>720</td>\n",
       "      <td>year</td>\n",
       "      <td>0.36</td>\n",
       "      <td>-</td>\n",
       "    </tr>\n",
       "    <tr>\n",
       "      <th>12</th>\n",
       "      <td>Westeros</td>\n",
       "      <td>wind_ppl</td>\n",
       "      <td>700</td>\n",
       "      <td>700</td>\n",
       "      <td>year</td>\n",
       "      <td>0.36</td>\n",
       "      <td>-</td>\n",
       "    </tr>\n",
       "    <tr>\n",
       "      <th>13</th>\n",
       "      <td>Westeros</td>\n",
       "      <td>wind_ppl</td>\n",
       "      <td>700</td>\n",
       "      <td>710</td>\n",
       "      <td>year</td>\n",
       "      <td>0.36</td>\n",
       "      <td>-</td>\n",
       "    </tr>\n",
       "    <tr>\n",
       "      <th>14</th>\n",
       "      <td>Westeros</td>\n",
       "      <td>wind_ppl</td>\n",
       "      <td>700</td>\n",
       "      <td>720</td>\n",
       "      <td>year</td>\n",
       "      <td>0.36</td>\n",
       "      <td>-</td>\n",
       "    </tr>\n",
       "    <tr>\n",
       "      <th>15</th>\n",
       "      <td>Westeros</td>\n",
       "      <td>wind_ppl</td>\n",
       "      <td>710</td>\n",
       "      <td>710</td>\n",
       "      <td>year</td>\n",
       "      <td>0.36</td>\n",
       "      <td>-</td>\n",
       "    </tr>\n",
       "    <tr>\n",
       "      <th>16</th>\n",
       "      <td>Westeros</td>\n",
       "      <td>wind_ppl</td>\n",
       "      <td>710</td>\n",
       "      <td>720</td>\n",
       "      <td>year</td>\n",
       "      <td>0.36</td>\n",
       "      <td>-</td>\n",
       "    </tr>\n",
       "    <tr>\n",
       "      <th>17</th>\n",
       "      <td>Westeros</td>\n",
       "      <td>wind_ppl</td>\n",
       "      <td>720</td>\n",
       "      <td>720</td>\n",
       "      <td>year</td>\n",
       "      <td>0.36</td>\n",
       "      <td>-</td>\n",
       "    </tr>\n",
       "    <tr>\n",
       "      <th>18</th>\n",
       "      <td>Westeros</td>\n",
       "      <td>bulb</td>\n",
       "      <td>690</td>\n",
       "      <td>700</td>\n",
       "      <td>year</td>\n",
       "      <td>1.00</td>\n",
       "      <td>-</td>\n",
       "    </tr>\n",
       "    <tr>\n",
       "      <th>19</th>\n",
       "      <td>Westeros</td>\n",
       "      <td>bulb</td>\n",
       "      <td>690</td>\n",
       "      <td>710</td>\n",
       "      <td>year</td>\n",
       "      <td>1.00</td>\n",
       "      <td>-</td>\n",
       "    </tr>\n",
       "    <tr>\n",
       "      <th>20</th>\n",
       "      <td>Westeros</td>\n",
       "      <td>bulb</td>\n",
       "      <td>690</td>\n",
       "      <td>720</td>\n",
       "      <td>year</td>\n",
       "      <td>1.00</td>\n",
       "      <td>-</td>\n",
       "    </tr>\n",
       "    <tr>\n",
       "      <th>21</th>\n",
       "      <td>Westeros</td>\n",
       "      <td>bulb</td>\n",
       "      <td>700</td>\n",
       "      <td>700</td>\n",
       "      <td>year</td>\n",
       "      <td>1.00</td>\n",
       "      <td>-</td>\n",
       "    </tr>\n",
       "    <tr>\n",
       "      <th>22</th>\n",
       "      <td>Westeros</td>\n",
       "      <td>bulb</td>\n",
       "      <td>700</td>\n",
       "      <td>710</td>\n",
       "      <td>year</td>\n",
       "      <td>1.00</td>\n",
       "      <td>-</td>\n",
       "    </tr>\n",
       "    <tr>\n",
       "      <th>23</th>\n",
       "      <td>Westeros</td>\n",
       "      <td>bulb</td>\n",
       "      <td>700</td>\n",
       "      <td>720</td>\n",
       "      <td>year</td>\n",
       "      <td>1.00</td>\n",
       "      <td>-</td>\n",
       "    </tr>\n",
       "    <tr>\n",
       "      <th>24</th>\n",
       "      <td>Westeros</td>\n",
       "      <td>bulb</td>\n",
       "      <td>710</td>\n",
       "      <td>710</td>\n",
       "      <td>year</td>\n",
       "      <td>1.00</td>\n",
       "      <td>-</td>\n",
       "    </tr>\n",
       "    <tr>\n",
       "      <th>25</th>\n",
       "      <td>Westeros</td>\n",
       "      <td>bulb</td>\n",
       "      <td>710</td>\n",
       "      <td>720</td>\n",
       "      <td>year</td>\n",
       "      <td>1.00</td>\n",
       "      <td>-</td>\n",
       "    </tr>\n",
       "    <tr>\n",
       "      <th>26</th>\n",
       "      <td>Westeros</td>\n",
       "      <td>bulb</td>\n",
       "      <td>720</td>\n",
       "      <td>720</td>\n",
       "      <td>year</td>\n",
       "      <td>1.00</td>\n",
       "      <td>-</td>\n",
       "    </tr>\n",
       "  </tbody>\n",
       "</table>\n",
       "</div>"
      ],
      "text/plain": [
       "    node_loc technology  year_vtg  year_act  time  value unit\n",
       "0   Westeros   coal_ppl       690       700  year   1.00    -\n",
       "1   Westeros   coal_ppl       690       710  year   1.00    -\n",
       "2   Westeros   coal_ppl       690       720  year   1.00    -\n",
       "3   Westeros   coal_ppl       700       700  year   1.00    -\n",
       "4   Westeros   coal_ppl       700       710  year   1.00    -\n",
       "5   Westeros   coal_ppl       700       720  year   1.00    -\n",
       "6   Westeros   coal_ppl       710       710  year   1.00    -\n",
       "7   Westeros   coal_ppl       710       720  year   1.00    -\n",
       "8   Westeros   coal_ppl       720       720  year   1.00    -\n",
       "9   Westeros   wind_ppl       690       700  year   0.36    -\n",
       "10  Westeros   wind_ppl       690       710  year   0.36    -\n",
       "11  Westeros   wind_ppl       690       720  year   0.36    -\n",
       "12  Westeros   wind_ppl       700       700  year   0.36    -\n",
       "13  Westeros   wind_ppl       700       710  year   0.36    -\n",
       "14  Westeros   wind_ppl       700       720  year   0.36    -\n",
       "15  Westeros   wind_ppl       710       710  year   0.36    -\n",
       "16  Westeros   wind_ppl       710       720  year   0.36    -\n",
       "17  Westeros   wind_ppl       720       720  year   0.36    -\n",
       "18  Westeros       bulb       690       700  year   1.00    -\n",
       "19  Westeros       bulb       690       710  year   1.00    -\n",
       "20  Westeros       bulb       690       720  year   1.00    -\n",
       "21  Westeros       bulb       700       700  year   1.00    -\n",
       "22  Westeros       bulb       700       710  year   1.00    -\n",
       "23  Westeros       bulb       700       720  year   1.00    -\n",
       "24  Westeros       bulb       710       710  year   1.00    -\n",
       "25  Westeros       bulb       710       720  year   1.00    -\n",
       "26  Westeros       bulb       720       720  year   1.00    -"
      ]
     },
     "execution_count": 12,
     "metadata": {},
     "output_type": "execute_result"
    }
   ],
   "source": [
    "scenario.par(\"capacity_factor\")"
   ]
  },
  {
   "attachments": {},
   "cell_type": "markdown",
   "metadata": {
    "slideshow": {
     "slide_type": "slide"
    }
   },
   "source": [
    "### 2.3 Technological Diffusion and Contraction\n",
    "As we have already undertaken an initial definition of technologies, and will now proceed to add additional parameters for already defined technologies, the input data file (\"westeros_baseline_technology_constraint.xlsx\") does not contain any sheets relating to sets. Still, we import the parameter `\"growth_activity_up\"` from there."
   ]
  },
  {
   "cell_type": "code",
   "execution_count": 13,
   "metadata": {},
   "outputs": [],
   "source": [
    "scenario.read_excel(\n",
    "    \"westeros_baseline_technology_constraint.xlsx\", add_units=True, commit_steps=False\n",
    ")"
   ]
  },
  {
   "cell_type": "markdown",
   "metadata": {
    "slideshow": {
     "slide_type": "slide"
    }
   },
   "source": [
    "### 2.4 Defining an Energy Mix (Model Calibration)\n",
    "In this part, we import data of the historical years."
   ]
  },
  {
   "cell_type": "code",
   "execution_count": 14,
   "metadata": {
    "slideshow": {
     "slide_type": "fragment"
    }
   },
   "outputs": [],
   "source": [
    "scenario.read_excel(\n",
    "    \"westeros_baseline_technology_historic.xlsx\", add_units=True, commit_steps=False\n",
    ")"
   ]
  },
  {
   "attachments": {},
   "cell_type": "markdown",
   "metadata": {
    "slideshow": {
     "slide_type": "slide"
    }
   },
   "source": [
    "### 2.5 Investment, Fixed O&M and Variable O&M Costs\n",
    "Here, we import the cost data from a separate file."
   ]
  },
  {
   "cell_type": "code",
   "execution_count": 15,
   "metadata": {},
   "outputs": [],
   "source": [
    "scenario.read_excel(\n",
    "    \"westeros_baseline_technology_economic.xlsx\", add_units=True, commit_steps=False\n",
    ")"
   ]
  },
  {
   "cell_type": "markdown",
   "metadata": {
    "slideshow": {
     "slide_type": "slide"
    }
   },
   "source": [
    "## Time to Solve the Model"
   ]
  },
  {
   "cell_type": "code",
   "execution_count": 16,
   "metadata": {
    "slideshow": {
     "slide_type": "fragment"
    }
   },
   "outputs": [],
   "source": [
    "scenario.set_as_default()"
   ]
  },
  {
   "cell_type": "code",
   "execution_count": 17,
   "metadata": {
    "slideshow": {
     "slide_type": "fragment"
    }
   },
   "outputs": [],
   "source": [
    "scenario.solve()"
   ]
  },
  {
   "cell_type": "markdown",
   "metadata": {},
   "source": [
    "## Check the objective value\n",
    "Finally, we can check the objective value of the original baseline scenario with that of the newly created version."
   ]
  },
  {
   "cell_type": "code",
   "execution_count": 18,
   "metadata": {},
   "outputs": [
    {
     "name": "stderr",
     "output_type": "stream",
     "text": [
      "This Scenario has a solution, use `Scenario.remove_solution()` or `Scenario.clone(..., keep_solution=False)`\n"
     ]
    },
    {
     "data": {
      "text/plain": [
       "173795.09375"
      ]
     },
     "execution_count": 18,
     "metadata": {},
     "output_type": "execute_result"
    }
   ],
   "source": [
    "# Objective value of the original 'baseline' scenario.\n",
    "base = message_ix.Scenario(mp, model=\"Westeros Electrified\", scenario=\"baseline\")\n",
    "base.var(\"OBJ\")[\"lvl\"]"
   ]
  },
  {
   "cell_type": "code",
   "execution_count": 19,
   "metadata": {},
   "outputs": [
    {
     "data": {
      "text/plain": [
       "369297.75"
      ]
     },
     "execution_count": 19,
     "metadata": {},
     "output_type": "execute_result"
    }
   ],
   "source": [
    "# Objective value of scenario built using the Excel file.\n",
    "scenario.var(\"OBJ\")[\"lvl\"]"
   ]
  },
  {
   "cell_type": "code",
   "execution_count": 20,
   "metadata": {
    "slideshow": {
     "slide_type": "skip"
    }
   },
   "outputs": [],
   "source": [
    "mp.close_db()"
   ]
  }
 ],
 "metadata": {
  "anaconda-cloud": {},
  "kernelspec": {
   "display_name": "Python 3 (ipykernel)",
   "language": "python",
   "name": "python3"
  },
  "language_info": {
   "codemirror_mode": {
    "name": "ipython",
    "version": 3
   },
   "file_extension": ".py",
   "mimetype": "text/x-python",
   "name": "python",
   "nbconvert_exporter": "python",
   "pygments_lexer": "ipython3",
   "version": "3.10.9"
  }
 },
 "nbformat": 4,
 "nbformat_minor": 2
}

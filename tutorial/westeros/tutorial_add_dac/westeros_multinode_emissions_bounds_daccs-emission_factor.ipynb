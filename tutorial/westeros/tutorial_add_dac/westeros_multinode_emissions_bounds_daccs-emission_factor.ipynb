{
 "cells": [
  {
   "cell_type": "markdown",
   "id": "3ce427fd",
   "metadata": {},
   "source": [
    "# Westeros multinode tutorial: Adding DACCS in climate mitigation scenario\n",
    "In the previous tutorials, we have learnt how to create a baseline scenario (`westeros_baseline.ipynb`) and add emissions bounds (`westeros_emissions_bounds.ipynb`) to the baseline scenario. Here, we will show how to include an additional/new technology to a MESSAGE model. While the combination of currently existing technologies might be able to deliver the Paris targets, the deployment of some new technologies might improve the probability of meeting the targets and/or reducing the costs. These technologies include CO2 removal (CDR) technologies. Hence, in this tutorial, we will use direct air carbon capture and storage (DACCS) as an example of new technologies to be considered in climate mitigation pathways. \n",
    "\n",
    "In order to smoothly follow this tutorial, you have to alrady have the MESSAGEix framework installed and working. Additionally, you should have run the Westeros baseline and emissions bounds scenarios successfully as this tutorial is built on top of those scenarios.\n",
    "\n",
    "If all set, we can start by importing all the packages we need and connect to a database that store the scenario input and results. We can also name the model as `Westeros Electrified` here.\n",
    "\n",
    "In this tutorial, we will use add_dac tool which requires user to specify the location of the data, in yaml format. As such, we use os package to help us specifying the yaml file."
   ]
  },
  {
   "cell_type": "code",
   "execution_count": 1,
   "id": "239a17a2",
   "metadata": {},
   "outputs": [
    {
     "data": {
      "application/javascript": [
       "if (typeof IPython !== 'undefined') { IPython.OutputArea.prototype._should_scroll = function(lines){ return false; }}"
      ],
      "text/plain": [
       "<IPython.core.display.Javascript object>"
      ]
     },
     "metadata": {},
     "output_type": "display_data"
    },
    {
     "name": "stderr",
     "output_type": "stream",
     "text": [
      "C:\\Users\\pratama\\Documents\\GitHub\\MESSAGEix\\message_ix\\message_ix\\reporting\\__init__.py:98: FutureWarning: Importing from genno.computations will be deprecated in a future version; use genno.operator instead.\n",
      "  (\"tom:nl-t-yv-ya\", (genno.computations.add, \"fom:nl-t-yv-ya\", \"vom:nl-t-yv-ya\")),\n"
     ]
    }
   ],
   "source": [
    "import os\n",
    "\n",
    "import pandas as pd\n",
    "import ixmp\n",
    "import message_ix\n",
    "import warnings\n",
    "warnings.filterwarnings('ignore')\n",
    "\n",
    "from message_ix.utils import make_df\n",
    "from message_ix.tools.add_dac import add_dac\n",
    "\n",
    "\n",
    "\n",
    "%matplotlib inline\n",
    "\n",
    "mp = ixmp.Platform()\n",
    "\n",
    "model = \"Westeros Electrified\""
   ]
  },
  {
   "cell_type": "markdown",
   "id": "c82f18ff",
   "metadata": {},
   "source": [
    "After we are connected to the database, we can call the prevously run `\"emission_bound\"` scenario as our base model and clone the data before we start adding DACCS to the model. As prevoiusly mentioned, to run this tutorial, you have to have succesfully run the `\"emission_bound\"` scenario, which was built based on the `\"baseline\"` scenario."
   ]
  },
  {
   "cell_type": "code",
   "execution_count": 2,
   "id": "9a868ad2",
   "metadata": {},
   "outputs": [],
   "source": [
    "base = message_ix.Scenario(mp, model=model, scenario=\"multinode_hub\")\n",
    "\n",
    "scenario = base.clone(\n",
    "    model,\n",
    "    \"multinode_hub_emission_bound\",\n",
    "    \"multinode_hub with emission bound\",\n",
    "    keep_solution=False,)\n",
    "scenario.check_out()\n",
    "\n",
    "year_df = scenario.vintage_and_active_years()\n",
    "vintage_years, act_years = year_df[\"year_vtg\"], year_df[\"year_act\"]\n",
    "model_horizon = scenario.set(\"year\")\n",
    "regions = [reg for reg in scenario.set(\"node\") if reg not in [\"World\",\"hub\"]]"
   ]
  },
  {
   "cell_type": "code",
   "execution_count": 3,
   "id": "76550d22",
   "metadata": {},
   "outputs": [],
   "source": [
    "# add emission factor\n",
    "# First we introduce the emission of CO2 and the emission category GHG\n",
    "scenario.add_set(\"emission\", \"CO2\")\n",
    "scenario.add_cat(\"emission\", \"GHG\", \"CO2\")\n",
    "\n",
    "# Then we add new units to the model library (needed only once)\n",
    "mp.add_unit(\"tCO2/kWa\")\n",
    "mp.add_unit(\"MtCO2\")\n",
    "\n",
    "model_years = sorted(list(set(act_years)))\n",
    "\n",
    "# Last we add CO2 emissions factor to the coal powerplant\n",
    "for reg in regions:\n",
    "    emission_factor = make_df(\n",
    "        \"emission_factor\",\n",
    "        node_loc=reg,\n",
    "        year_vtg=vintage_years,\n",
    "        year_act=act_years,\n",
    "        mode=\"standard\",\n",
    "        unit=\"tCO2/kWa\",\n",
    "        technology=\"coal_ppl\",\n",
    "        emission=\"CO2\",\n",
    "        value=7.4,\n",
    "    )\n",
    "    scenario.add_par(\"emission_factor\", emission_factor)"
   ]
  },
  {
   "cell_type": "code",
   "execution_count": 4,
   "id": "65261ea0",
   "metadata": {},
   "outputs": [
    {
     "data": {
      "text/html": [
       "<div>\n",
       "<style scoped>\n",
       "    .dataframe tbody tr th:only-of-type {\n",
       "        vertical-align: middle;\n",
       "    }\n",
       "\n",
       "    .dataframe tbody tr th {\n",
       "        vertical-align: top;\n",
       "    }\n",
       "\n",
       "    .dataframe thead th {\n",
       "        text-align: right;\n",
       "    }\n",
       "</style>\n",
       "<table border=\"1\" class=\"dataframe\">\n",
       "  <thead>\n",
       "    <tr style=\"text-align: right;\">\n",
       "      <th></th>\n",
       "      <th>node_parent</th>\n",
       "      <th>node</th>\n",
       "    </tr>\n",
       "  </thead>\n",
       "  <tbody>\n",
       "    <tr>\n",
       "      <th>0</th>\n",
       "      <td>World</td>\n",
       "      <td>World</td>\n",
       "    </tr>\n",
       "    <tr>\n",
       "      <th>1</th>\n",
       "      <td>World</td>\n",
       "      <td>Westeros</td>\n",
       "    </tr>\n",
       "    <tr>\n",
       "      <th>2</th>\n",
       "      <td>Westeros</td>\n",
       "      <td>Westeros</td>\n",
       "    </tr>\n",
       "  </tbody>\n",
       "</table>\n",
       "</div>"
      ],
      "text/plain": [
       "  node_parent      node\n",
       "0       World     World\n",
       "1       World  Westeros\n",
       "2    Westeros  Westeros"
      ]
     },
     "execution_count": 4,
     "metadata": {},
     "output_type": "execute_result"
    }
   ],
   "source": [
    "scenario.set(\"map_node\")"
   ]
  },
  {
   "cell_type": "code",
   "execution_count": 5,
   "id": "5b9a8ad5",
   "metadata": {},
   "outputs": [],
   "source": [
    "# map regions to \"World\"\n",
    "for reg in regions:\n",
    "    if reg not in set(scenario.set(\"map_node\")[\"node\"]):\n",
    "        scenario.add_set(\"map_node\", [\"World\",reg])"
   ]
  },
  {
   "cell_type": "code",
   "execution_count": 6,
   "id": "08e01c46",
   "metadata": {},
   "outputs": [],
   "source": [
    "# add emission bound\n",
    "scenario.add_par(\n",
    "    \"bound_emission\", [\"World\", \"GHG\", \"all\", \"cumulative\"], value=1500.0, unit=\"MtCO2\"\n",
    ")"
   ]
  },
  {
   "cell_type": "markdown",
   "id": "292a8a04",
   "metadata": {},
   "source": [
    "**Solve scenario without DACCS**"
   ]
  },
  {
   "cell_type": "code",
   "execution_count": 7,
   "id": "c1ad537b",
   "metadata": {},
   "outputs": [
    {
     "name": "stdout",
     "output_type": "stream",
     "text": [
      "Objective value:  490718.46875\n"
     ]
    }
   ],
   "source": [
    "scenario.commit(comment=\"Multinode scenario emission bound without daccs\")\n",
    "scenario.set_as_default()\n",
    "\n",
    "scenario.solve()\n",
    "scenario.var(\"OBJ\")[\"lvl\"]\n",
    "\n",
    "print('Objective value: ', scenario.var(\"OBJ\")[\"lvl\"])"
   ]
  },
  {
   "cell_type": "markdown",
   "id": "e8ae8744",
   "metadata": {},
   "source": [
    "**Comparing results**\n",
    "\n",
    "**--- Without emissions limit:**"
   ]
  },
  {
   "cell_type": "code",
   "execution_count": 8,
   "id": "055b7ed2",
   "metadata": {},
   "outputs": [
    {
     "data": {
      "text/html": [
       "<div>\n",
       "<style scoped>\n",
       "    .dataframe tbody tr th:only-of-type {\n",
       "        vertical-align: middle;\n",
       "    }\n",
       "\n",
       "    .dataframe tbody tr th {\n",
       "        vertical-align: top;\n",
       "    }\n",
       "\n",
       "    .dataframe thead th {\n",
       "        text-align: right;\n",
       "    }\n",
       "</style>\n",
       "<table border=\"1\" class=\"dataframe\">\n",
       "  <thead>\n",
       "    <tr style=\"text-align: right;\">\n",
       "      <th></th>\n",
       "      <th>node</th>\n",
       "      <th>commodity</th>\n",
       "      <th>level</th>\n",
       "      <th>year</th>\n",
       "      <th>time</th>\n",
       "      <th>lvl</th>\n",
       "      <th>mrg</th>\n",
       "    </tr>\n",
       "  </thead>\n",
       "  <tbody>\n",
       "    <tr>\n",
       "      <th>0</th>\n",
       "      <td>Westeros</td>\n",
       "      <td>light</td>\n",
       "      <td>useful</td>\n",
       "      <td>700</td>\n",
       "      <td>year</td>\n",
       "      <td>166.445336</td>\n",
       "      <td>0.0</td>\n",
       "    </tr>\n",
       "    <tr>\n",
       "      <th>1</th>\n",
       "      <td>Westeros</td>\n",
       "      <td>light</td>\n",
       "      <td>useful</td>\n",
       "      <td>710</td>\n",
       "      <td>year</td>\n",
       "      <td>162.039539</td>\n",
       "      <td>0.0</td>\n",
       "    </tr>\n",
       "    <tr>\n",
       "      <th>2</th>\n",
       "      <td>Westeros</td>\n",
       "      <td>light</td>\n",
       "      <td>useful</td>\n",
       "      <td>720</td>\n",
       "      <td>year</td>\n",
       "      <td>161.002627</td>\n",
       "      <td>0.0</td>\n",
       "    </tr>\n",
       "    <tr>\n",
       "      <th>3</th>\n",
       "      <td>Essos</td>\n",
       "      <td>light</td>\n",
       "      <td>useful</td>\n",
       "      <td>700</td>\n",
       "      <td>year</td>\n",
       "      <td>166.445336</td>\n",
       "      <td>0.0</td>\n",
       "    </tr>\n",
       "    <tr>\n",
       "      <th>4</th>\n",
       "      <td>Essos</td>\n",
       "      <td>light</td>\n",
       "      <td>useful</td>\n",
       "      <td>710</td>\n",
       "      <td>year</td>\n",
       "      <td>162.039539</td>\n",
       "      <td>0.0</td>\n",
       "    </tr>\n",
       "    <tr>\n",
       "      <th>5</th>\n",
       "      <td>Essos</td>\n",
       "      <td>light</td>\n",
       "      <td>useful</td>\n",
       "      <td>720</td>\n",
       "      <td>year</td>\n",
       "      <td>161.002627</td>\n",
       "      <td>0.0</td>\n",
       "    </tr>\n",
       "    <tr>\n",
       "      <th>6</th>\n",
       "      <td>Stepstones</td>\n",
       "      <td>light</td>\n",
       "      <td>useful</td>\n",
       "      <td>700</td>\n",
       "      <td>year</td>\n",
       "      <td>161.402965</td>\n",
       "      <td>0.0</td>\n",
       "    </tr>\n",
       "    <tr>\n",
       "      <th>7</th>\n",
       "      <td>Stepstones</td>\n",
       "      <td>light</td>\n",
       "      <td>useful</td>\n",
       "      <td>710</td>\n",
       "      <td>year</td>\n",
       "      <td>162.039539</td>\n",
       "      <td>0.0</td>\n",
       "    </tr>\n",
       "    <tr>\n",
       "      <th>8</th>\n",
       "      <td>Stepstones</td>\n",
       "      <td>light</td>\n",
       "      <td>useful</td>\n",
       "      <td>720</td>\n",
       "      <td>year</td>\n",
       "      <td>161.002627</td>\n",
       "      <td>0.0</td>\n",
       "    </tr>\n",
       "  </tbody>\n",
       "</table>\n",
       "</div>"
      ],
      "text/plain": [
       "         node commodity   level  year  time         lvl  mrg\n",
       "0    Westeros     light  useful   700  year  166.445336  0.0\n",
       "1    Westeros     light  useful   710  year  162.039539  0.0\n",
       "2    Westeros     light  useful   720  year  161.002627  0.0\n",
       "3       Essos     light  useful   700  year  166.445336  0.0\n",
       "4       Essos     light  useful   710  year  162.039539  0.0\n",
       "5       Essos     light  useful   720  year  161.002627  0.0\n",
       "6  Stepstones     light  useful   700  year  161.402965  0.0\n",
       "7  Stepstones     light  useful   710  year  162.039539  0.0\n",
       "8  Stepstones     light  useful   720  year  161.002627  0.0"
      ]
     },
     "execution_count": 8,
     "metadata": {},
     "output_type": "execute_result"
    }
   ],
   "source": [
    "base.var(\"PRICE_COMMODITY\", {\"commodity\": \"light\"})"
   ]
  },
  {
   "cell_type": "markdown",
   "id": "75dacb1a",
   "metadata": {},
   "source": [
    "**--- With emissions limit:**"
   ]
  },
  {
   "cell_type": "code",
   "execution_count": 9,
   "id": "2f45ad85",
   "metadata": {},
   "outputs": [
    {
     "data": {
      "text/html": [
       "<div>\n",
       "<style scoped>\n",
       "    .dataframe tbody tr th:only-of-type {\n",
       "        vertical-align: middle;\n",
       "    }\n",
       "\n",
       "    .dataframe tbody tr th {\n",
       "        vertical-align: top;\n",
       "    }\n",
       "\n",
       "    .dataframe thead th {\n",
       "        text-align: right;\n",
       "    }\n",
       "</style>\n",
       "<table border=\"1\" class=\"dataframe\">\n",
       "  <thead>\n",
       "    <tr style=\"text-align: right;\">\n",
       "      <th></th>\n",
       "      <th>node</th>\n",
       "      <th>commodity</th>\n",
       "      <th>level</th>\n",
       "      <th>year</th>\n",
       "      <th>time</th>\n",
       "      <th>lvl</th>\n",
       "      <th>mrg</th>\n",
       "    </tr>\n",
       "  </thead>\n",
       "  <tbody>\n",
       "    <tr>\n",
       "      <th>0</th>\n",
       "      <td>Westeros</td>\n",
       "      <td>light</td>\n",
       "      <td>useful</td>\n",
       "      <td>700</td>\n",
       "      <td>year</td>\n",
       "      <td>266.349390</td>\n",
       "      <td>0.0</td>\n",
       "    </tr>\n",
       "    <tr>\n",
       "      <th>1</th>\n",
       "      <td>Westeros</td>\n",
       "      <td>light</td>\n",
       "      <td>useful</td>\n",
       "      <td>710</td>\n",
       "      <td>year</td>\n",
       "      <td>317.023518</td>\n",
       "      <td>0.0</td>\n",
       "    </tr>\n",
       "    <tr>\n",
       "      <th>2</th>\n",
       "      <td>Westeros</td>\n",
       "      <td>light</td>\n",
       "      <td>useful</td>\n",
       "      <td>720</td>\n",
       "      <td>year</td>\n",
       "      <td>413.455198</td>\n",
       "      <td>0.0</td>\n",
       "    </tr>\n",
       "    <tr>\n",
       "      <th>3</th>\n",
       "      <td>Essos</td>\n",
       "      <td>light</td>\n",
       "      <td>useful</td>\n",
       "      <td>700</td>\n",
       "      <td>year</td>\n",
       "      <td>266.349390</td>\n",
       "      <td>0.0</td>\n",
       "    </tr>\n",
       "    <tr>\n",
       "      <th>4</th>\n",
       "      <td>Essos</td>\n",
       "      <td>light</td>\n",
       "      <td>useful</td>\n",
       "      <td>710</td>\n",
       "      <td>year</td>\n",
       "      <td>317.023518</td>\n",
       "      <td>0.0</td>\n",
       "    </tr>\n",
       "    <tr>\n",
       "      <th>5</th>\n",
       "      <td>Essos</td>\n",
       "      <td>light</td>\n",
       "      <td>useful</td>\n",
       "      <td>720</td>\n",
       "      <td>year</td>\n",
       "      <td>413.455198</td>\n",
       "      <td>0.0</td>\n",
       "    </tr>\n",
       "    <tr>\n",
       "      <th>6</th>\n",
       "      <td>Stepstones</td>\n",
       "      <td>light</td>\n",
       "      <td>useful</td>\n",
       "      <td>700</td>\n",
       "      <td>year</td>\n",
       "      <td>256.549684</td>\n",
       "      <td>0.0</td>\n",
       "    </tr>\n",
       "    <tr>\n",
       "      <th>7</th>\n",
       "      <td>Stepstones</td>\n",
       "      <td>light</td>\n",
       "      <td>useful</td>\n",
       "      <td>710</td>\n",
       "      <td>year</td>\n",
       "      <td>317.023518</td>\n",
       "      <td>0.0</td>\n",
       "    </tr>\n",
       "    <tr>\n",
       "      <th>8</th>\n",
       "      <td>Stepstones</td>\n",
       "      <td>light</td>\n",
       "      <td>useful</td>\n",
       "      <td>720</td>\n",
       "      <td>year</td>\n",
       "      <td>413.455198</td>\n",
       "      <td>0.0</td>\n",
       "    </tr>\n",
       "  </tbody>\n",
       "</table>\n",
       "</div>"
      ],
      "text/plain": [
       "         node commodity   level  year  time         lvl  mrg\n",
       "0    Westeros     light  useful   700  year  266.349390  0.0\n",
       "1    Westeros     light  useful   710  year  317.023518  0.0\n",
       "2    Westeros     light  useful   720  year  413.455198  0.0\n",
       "3       Essos     light  useful   700  year  266.349390  0.0\n",
       "4       Essos     light  useful   710  year  317.023518  0.0\n",
       "5       Essos     light  useful   720  year  413.455198  0.0\n",
       "6  Stepstones     light  useful   700  year  256.549684  0.0\n",
       "7  Stepstones     light  useful   710  year  317.023518  0.0\n",
       "8  Stepstones     light  useful   720  year  413.455198  0.0"
      ]
     },
     "execution_count": 9,
     "metadata": {},
     "output_type": "execute_result"
    }
   ],
   "source": [
    "scenario.var(\"PRICE_COMMODITY\", {\"commodity\": \"light\"})"
   ]
  },
  {
   "cell_type": "markdown",
   "id": "b5db71ca",
   "metadata": {},
   "source": [
    "# Adding DACCS description\n",
    "First step of adding DACCS as a technology in the model is by including DACCS into the `\"technology\"` set."
   ]
  },
  {
   "cell_type": "code",
   "execution_count": 10,
   "id": "4ecb3adb",
   "metadata": {},
   "outputs": [],
   "source": [
    "dac_scenario = scenario.clone(\n",
    "    model,\n",
    "    \"multinode_hub_emission_bound_dac\",\n",
    "    \"multinode_hub with emission bound and dac\",\n",
    "    keep_solution=False,)\n",
    "dac_scenario.check_out()"
   ]
  },
  {
   "cell_type": "code",
   "execution_count": 11,
   "id": "3b203192",
   "metadata": {
    "scrolled": true
   },
   "outputs": [],
   "source": [
    "mp.add_unit(\"USD/(tCO2/yr)\")\n",
    "mp.add_unit(\"USD/(tCO2/yr)/yr\")\n",
    "mp.add_unit(\"USD/tCO2\")\n",
    "mp.add_unit(\"tCO2/tCO2\")\n",
    "mp.add_unit(\"tCO2\")\n",
    "mp.add_unit(\"Mt CO2/yr\")\n",
    "\n",
    "\n",
    "filepath = os.path.join(os.getcwd(), \"data/tech_data_multinode.yaml\")\n",
    "add_dac(dac_scenario, filepath=filepath)"
   ]
  },
  {
   "cell_type": "markdown",
   "id": "017c5ca3",
   "metadata": {},
   "source": [
    "Similar to what we did when generating the `\"baseline\"` scenario, the first thing we need to do is defining the input and output comodities of each technology. "
   ]
  },
  {
   "cell_type": "markdown",
   "id": "54cc0111",
   "metadata": {},
   "source": [
    "# Solve Statement\n",
    "Finally, this is the solve statement"
   ]
  },
  {
   "cell_type": "code",
   "execution_count": 12,
   "id": "3131e0dd",
   "metadata": {},
   "outputs": [
    {
     "name": "stdout",
     "output_type": "stream",
     "text": [
      "Objective Value\n",
      "Without DACCS:  490718.46875\n",
      "With DACCS   :  474525.78125\n"
     ]
    }
   ],
   "source": [
    "dac_scenario.commit(comment=\"Multinode DACCS\")\n",
    "dac_scenario.set_as_default()\n",
    "\n",
    "dac_scenario.solve()\n",
    "dac_scenario.var(\"OBJ\")[\"lvl\"]\n",
    "\n",
    "print('Objective Value')\n",
    "print('Without DACCS: ', scenario.var(\"OBJ\")[\"lvl\"])\n",
    "print('With DACCS   : ', dac_scenario.var(\"OBJ\")[\"lvl\"])"
   ]
  },
  {
   "cell_type": "markdown",
   "id": "dad6cedb",
   "metadata": {},
   "source": [
    "# Plotting Results and Compare\n",
    "Finally, this is the plotting results command to compare emissions bound scenarios with and without DACCS"
   ]
  },
  {
   "cell_type": "code",
   "execution_count": 13,
   "id": "19e29174",
   "metadata": {
    "scrolled": false
   },
   "outputs": [],
   "source": [
    "# Create a Reporter object to describe and carry out reporting\n",
    "# calculations and operations (like plotting) based on `scenario`\n",
    "# Add keys like \"plot activity\" to describe reporting operations.\n",
    "# See tutorial/utils/plotting.py\n",
    "from message_ix.reporting import Reporter\n",
    "from message_ix.util.tutorial import prepare_plots\n",
    "import matplotlib.pyplot as plt\n",
    "\n",
    "rep_ori = Reporter.from_scenario(scenario)\n",
    "rep_new = Reporter.from_scenario(dac_scenario)"
   ]
  },
  {
   "cell_type": "code",
   "execution_count": 14,
   "id": "e8f9d606",
   "metadata": {},
   "outputs": [
    {
     "data": {
      "text/plain": [
       "<message_ix.reporting.Reporter at 0x25503174e80>"
      ]
     },
     "execution_count": 14,
     "metadata": {},
     "output_type": "execute_result"
    }
   ],
   "source": [
    "rep_new"
   ]
  },
  {
   "cell_type": "code",
   "execution_count": 17,
   "id": "22d922e8",
   "metadata": {},
   "outputs": [],
   "source": [
    "rep_new.set_filters(t=[\"coal_ppl\", \"wind_ppl\"],node=\"Westeros\")"
   ]
  },
  {
   "cell_type": "markdown",
   "id": "eb382f4d",
   "metadata": {},
   "source": [
    "## System acticity"
   ]
  },
  {
   "cell_type": "code",
   "execution_count": 21,
   "id": "ea31acff",
   "metadata": {
    "scrolled": true
   },
   "outputs": [
    {
     "name": "stdout",
     "output_type": "stream",
     "text": [
      "Without DACCS\n"
     ]
    },
    {
     "data": {
      "image/png": "[encoded data removed]",
      "text/plain": [
       "<Figure size 640x480 with 1 Axes>"
      ]
     },
     "metadata": {},
     "output_type": "display_data"
    },
    {
     "name": "stdout",
     "output_type": "stream",
     "text": [
      "With DACCS\n"
     ]
    },
    {
     "data": {
      "image/png": "[encoded data removed]",
      "text/plain": [
       "<Figure size 640x480 with 1 Axes>"
      ]
     },
     "metadata": {},
     "output_type": "display_data"
    }
   ],
   "source": [
    "print(\"Without DACCS\")\n",
    "prepare_plots(rep_ori)\n",
    "rep_ori.set_filters(t=[\"coal_ppl\", \"wind_ppl\"],nl=\"Westeros\")\n",
    "rep_ori.get(\"plot activity\")\n",
    "plt.show()\n",
    "\n",
    "print(\"With DACCS\")\n",
    "prepare_plots(rep_new)\n",
    "rep_new.set_filters(t=[\"coal_ppl\", \"wind_ppl\"],nl=\"Westeros\")\n",
    "rep_new.get(\"plot activity\")\n",
    "plt.show()"
   ]
  },
  {
   "cell_type": "markdown",
   "id": "0a1c03d1",
   "metadata": {},
   "source": [
    "## DACCS Capacity"
   ]
  },
  {
   "cell_type": "code",
   "execution_count": null,
   "id": "59637e3d",
   "metadata": {},
   "outputs": [],
   "source": [
    "prepare_plots(rep_new)\n",
    "rep_new.set_filters(t=[\"daccs\"])\n",
    "rep_new.get(\"plot daccs capacity\")\n",
    "plt.show()"
   ]
  },
  {
   "cell_type": "markdown",
   "id": "15ddfc37",
   "metadata": {},
   "source": [
    "## Emissions"
   ]
  },
  {
   "cell_type": "code",
   "execution_count": null,
   "id": "01420a57",
   "metadata": {},
   "outputs": [],
   "source": [
    "print(\"Without DACCS\")\n",
    "prepare_plots(rep_ori)\n",
    "rep_ori.set_filters(t=[\"coal_ppl\", \"wind_ppl\"])\n",
    "rep_ori.get(\"plot emission\")\n",
    "plt.show()\n",
    "\n",
    "print(\"With DACCS\")\n",
    "prepare_plots(rep_new)\n",
    "rep_new.set_filters(t=[\"coal_ppl\", \"wind_ppl\",\"daccs\"])\n",
    "rep_new.get(\"plot emission\")\n",
    "plt.show()"
   ]
  },
  {
   "cell_type": "markdown",
   "id": "3c83b884",
   "metadata": {},
   "source": [
    "**Comparing prices**\n",
    "\n",
    "**--- Without DACCS:**"
   ]
  },
  {
   "cell_type": "code",
   "execution_count": null,
   "id": "769b5684",
   "metadata": {},
   "outputs": [],
   "source": [
    "scenario.var(\"PRICE_COMMODITY\", {\"commodity\": \"light\"})"
   ]
  },
  {
   "cell_type": "markdown",
   "id": "c6908324",
   "metadata": {},
   "source": [
    "**--- With DACCS:**"
   ]
  },
  {
   "cell_type": "code",
   "execution_count": null,
   "id": "3fa44357",
   "metadata": {},
   "outputs": [],
   "source": [
    "dac_scenario.var(\"PRICE_COMMODITY\", {\"commodity\": \"light\"})"
   ]
  },
  {
   "cell_type": "markdown",
   "id": "436e75d0",
   "metadata": {},
   "source": [
    "## Close the connection with the database"
   ]
  },
  {
   "cell_type": "code",
   "execution_count": null,
   "id": "ff03f487",
   "metadata": {},
   "outputs": [],
   "source": [
    "mp.close_db()"
   ]
  },
  {
   "cell_type": "code",
   "execution_count": null,
   "id": "c907fa13",
   "metadata": {},
   "outputs": [],
   "source": []
  }
 ],
 "metadata": {
  "kernelspec": {
   "display_name": "Python 3 (ipykernel)",
   "language": "python",
   "name": "python3"
  },
  "language_info": {
   "codemirror_mode": {
    "name": "ipython",
    "version": 3
   },
   "file_extension": ".py",
   "mimetype": "text/x-python",
   "name": "python",
   "nbconvert_exporter": "python",
   "pygments_lexer": "ipython3",
   "version": "3.10.9"
  }
 },
 "nbformat": 4,
 "nbformat_minor": 5
}

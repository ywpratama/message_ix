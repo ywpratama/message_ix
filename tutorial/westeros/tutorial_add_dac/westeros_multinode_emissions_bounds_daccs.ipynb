{
 "cells": [
  {
   "cell_type": "markdown",
   "id": "3ce427fd",
   "metadata": {},
   "source": [
    "# Westeros tutorial - Adding DACCS in climate mitigation scenario (v-CO2)\n",
    "In the previous tutorials, we have learnt how to create a baseline scenario (`westeros_baseline.ipynb`) and add emissions bounds (`westeros_emissions_bounds.ipynb`) to the baseline scenario. Here, we will show how to include an additional/new technology to a MESSAGE model. While the combination of currently existing technologies might be able to deliver the Paris targets, the deployment of some new technologies might improve the probability of meeting the targets and/or reducing the costs. These technologies include CO2 removal (CDR) technologies. Hence, in this tutorial, we will use direct air carbon capture and storage (DACCS) as an example of new technologies to be considered in climate mitigation pathways. \n",
    "\n",
    "In order to smoothly follow this tutorial, you have to alrady have the MESSAGEix framework installed and working. Additionally, you should have run the Westeros baseline and emissions bounds scenarios successfully as this tutorial is built on top of those scenarios.\n",
    "\n",
    "If all set, we can start by importing all the packages we need and connect to a database that store the scenario input and results. We can also name the model as `Westeros Electrified` here.\n",
    "\n",
    "In this tutorial, we will use add_dac tool which requires user to specify the location of the data, in yaml format. As such, we use os package to help us specifying the yaml file."
   ]
  },
  {
   "cell_type": "code",
   "execution_count": 1,
   "id": "239a17a2",
   "metadata": {},
   "outputs": [
    {
     "data": {
      "application/javascript": [
       "if (typeof IPython !== 'undefined') { IPython.OutputArea.prototype._should_scroll = function(lines){ return false; }}"
      ],
      "text/plain": [
       "<IPython.core.display.Javascript object>"
      ]
     },
     "metadata": {},
     "output_type": "display_data"
    },
    {
     "name": "stderr",
     "output_type": "stream",
     "text": [
      "C:\\Users\\pratama\\Documents\\GitHub\\MESSAGEix\\message_ix\\message_ix\\reporting\\__init__.py:98: FutureWarning: Importing from genno.computations will be deprecated in a future version; use genno.operator instead.\n",
      "  (\"tom:nl-t-yv-ya\", (genno.computations.add, \"fom:nl-t-yv-ya\", \"vom:nl-t-yv-ya\")),\n"
     ]
    }
   ],
   "source": [
    "import os\n",
    "\n",
    "import pandas as pd\n",
    "import ixmp\n",
    "import message_ix\n",
    "import warnings\n",
    "warnings.filterwarnings('ignore')\n",
    "\n",
    "from message_ix.utils import make_df\n",
    "from message_ix.tools.add_dac import *\n",
    "\n",
    "\n",
    "\n",
    "%matplotlib inline\n",
    "\n",
    "mp = ixmp.Platform()\n",
    "\n",
    "model = \"Westeros Electrified\""
   ]
  },
  {
   "cell_type": "markdown",
   "id": "c82f18ff",
   "metadata": {},
   "source": [
    "After we are connected to the database, we can call the prevously run `\"emission_bound\"` scenario as our base model and clone the data before we start adding DACCS to the model. As prevoiusly mentioned, to run this tutorial, you have to have succesfully run the `\"emission_bound\"` scenario, which was built based on the `\"baseline\"` scenario."
   ]
  },
  {
   "cell_type": "code",
   "execution_count": 18,
   "id": "9a868ad2",
   "metadata": {},
   "outputs": [],
   "source": [
    "base = message_ix.Scenario(mp, model=model, scenario=\"multinode_hub\")\n",
    "\n",
    "scenario = base.clone(\n",
    "    model,\n",
    "    \"multinode_hub_emission_bound\",\n",
    "    \"multinode_hub with emission bound\",\n",
    "    keep_solution=False,)\n",
    "scenario.check_out()\n",
    "\n",
    "year_df = scenario.vintage_and_active_years()\n",
    "vintage_years, act_years = year_df[\"year_vtg\"], year_df[\"year_act\"]\n",
    "model_horizon = scenario.set(\"year\")\n"
   ]
  },
  {
   "cell_type": "code",
   "execution_count": 22,
   "id": "d8c2e79b",
   "metadata": {},
   "outputs": [],
   "source": [
    "# add \"World\" node\n",
    "scenario.add_set(\"node\",\"World\")\n",
    "\n",
    "# add \"WorldEmiss\" technology\n",
    "scenario.add_set(\"technology\",\"WorldEmiss\")\n",
    "\n",
    "# add \"CO2\" commodity\n",
    "scenario.add_set(\"commodity\",\"CO2\")\n"
   ]
  },
  {
   "cell_type": "code",
   "execution_count": null,
   "id": "82e6ac30",
   "metadata": {},
   "outputs": [],
   "source": []
  },
  {
   "cell_type": "code",
   "execution_count": 20,
   "id": "37a699fd",
   "metadata": {},
   "outputs": [
    {
     "data": {
      "text/html": [
       "<div>\n",
       "<style scoped>\n",
       "    .dataframe tbody tr th:only-of-type {\n",
       "        vertical-align: middle;\n",
       "    }\n",
       "\n",
       "    .dataframe tbody tr th {\n",
       "        vertical-align: top;\n",
       "    }\n",
       "\n",
       "    .dataframe thead th {\n",
       "        text-align: right;\n",
       "    }\n",
       "</style>\n",
       "<table border=\"1\" class=\"dataframe\">\n",
       "  <thead>\n",
       "    <tr style=\"text-align: right;\">\n",
       "      <th></th>\n",
       "      <th>node_loc</th>\n",
       "      <th>technology</th>\n",
       "      <th>year_vtg</th>\n",
       "      <th>year_act</th>\n",
       "      <th>mode</th>\n",
       "      <th>emission</th>\n",
       "      <th>value</th>\n",
       "      <th>unit</th>\n",
       "    </tr>\n",
       "  </thead>\n",
       "  <tbody>\n",
       "    <tr>\n",
       "      <th>0</th>\n",
       "      <td>World</td>\n",
       "      <td>WorldEmiss</td>\n",
       "      <td>720</td>\n",
       "      <td>720</td>\n",
       "      <td>standard</td>\n",
       "      <td>CO2</td>\n",
       "      <td>1.0</td>\n",
       "      <td>tCO2/kWa</td>\n",
       "    </tr>\n",
       "    <tr>\n",
       "      <th>1</th>\n",
       "      <td>World</td>\n",
       "      <td>WorldEmiss</td>\n",
       "      <td>700</td>\n",
       "      <td>700</td>\n",
       "      <td>standard</td>\n",
       "      <td>CO2</td>\n",
       "      <td>1.0</td>\n",
       "      <td>tCO2/kWa</td>\n",
       "    </tr>\n",
       "    <tr>\n",
       "      <th>2</th>\n",
       "      <td>World</td>\n",
       "      <td>WorldEmiss</td>\n",
       "      <td>710</td>\n",
       "      <td>710</td>\n",
       "      <td>standard</td>\n",
       "      <td>CO2</td>\n",
       "      <td>1.0</td>\n",
       "      <td>tCO2/kWa</td>\n",
       "    </tr>\n",
       "  </tbody>\n",
       "</table>\n",
       "</div>"
      ],
      "text/plain": [
       "  node_loc  technology  year_vtg  year_act      mode emission  value      unit\n",
       "0    World  WorldEmiss       720       720  standard      CO2    1.0  tCO2/kWa\n",
       "1    World  WorldEmiss       700       700  standard      CO2    1.0  tCO2/kWa\n",
       "2    World  WorldEmiss       710       710  standard      CO2    1.0  tCO2/kWa"
      ]
     },
     "execution_count": 20,
     "metadata": {},
     "output_type": "execute_result"
    }
   ],
   "source": [
    "# add emission factor\n",
    "# First we introduce the emission of CO2 and the emission category GHG\n",
    "scenario.add_set(\"emission\", \"CO2\")\n",
    "scenario.add_cat(\"emission\", \"GHG\", \"CO2\")\n",
    "\n",
    "# Then we add new units to the model library (needed only once)\n",
    "mp.add_unit(\"tCO2/kWa\")\n",
    "mp.add_unit(\"MtCO2\")\n",
    "\n",
    "model_years = list(set(act_years)) \n",
    "\n",
    "# Last we add CO2 emissions to the WorldEmiss\n",
    "emission_factor = make_df(\n",
    "    \"emission_factor\",\n",
    "    node_loc=\"World\",\n",
    "    year_vtg=model_years,\n",
    "    year_act=model_years,\n",
    "    mode=\"standard\",\n",
    "    unit=\"tCO2/kWa\",\n",
    "    technology=\"WorldEmiss\",\n",
    "    emission=\"CO2\",\n",
    "    value=1,\n",
    ")\n",
    "scenario.add_par(\"emission_factor\", emission_factor)\n",
    "scenario.par(\"emission_factor\")"
   ]
  },
  {
   "cell_type": "code",
   "execution_count": 23,
   "id": "2ece2c7b",
   "metadata": {},
   "outputs": [],
   "source": [
    "# adding emission output\n",
    "# Parametrization of \"output\" for import technologies\n",
    "# The destination of import is the level of \"secondary\" in each country\n",
    "base_output = {\n",
    "    \"technology\": \"WorldEmiss\",\n",
    "    \"commodity\": \"CO2\",\n",
    "    \"level\": \"secondary\",\n",
    "    \"year_vtg\": model_years,\n",
    "    \"year_act\": model_years,\n",
    "    \"mode\": \"standard\",\n",
    "    \"time\": \"year\",\n",
    "    \"time_dest\": \"year\",\n",
    "    \"value\": 1,\n",
    "    \"unit\": \"-\",\n",
    "}\n",
    "\n",
    "# We add this data for each node (other than \"hub\")\n",
    "out = make_df(\"output\", **base_output, node_loc=\"World\", node_dest=\"World\")\n",
    "scenario.add_par(\"output\", out)"
   ]
  },
  {
   "cell_type": "code",
   "execution_count": null,
   "id": "3de746cc",
   "metadata": {},
   "outputs": [],
   "source": [
    "# add relation, relating coal activity with WorldEmiss activity\n",
    "# don't forget to include relation upper and lower to 0"
   ]
  },
  {
   "cell_type": "code",
   "execution_count": null,
   "id": "f63c7ccf",
   "metadata": {},
   "outputs": [],
   "source": [
    "# add emission bound\n",
    "scenario.add_par(\n",
    "    \"bound_emission\", [\"World\", \"GHG\", \"all\", \"cumulative\"], value=1500.0, unit=\"MtCO2\"\n",
    ")"
   ]
  },
  {
   "cell_type": "markdown",
   "id": "bc879ea7",
   "metadata": {},
   "source": [
    "**Solve scenario without DACCS**"
   ]
  },
  {
   "cell_type": "code",
   "execution_count": null,
   "id": "101389f9",
   "metadata": {},
   "outputs": [],
   "source": [
    "scenario.commit(comment=\"Multinode scenario emission bound without daccs\")\n",
    "scenario.set_as_default()\n",
    "\n",
    "scenario.solve()\n",
    "scenario.var(\"OBJ\")[\"lvl\"]\n",
    "\n",
    "print('Objective value: ', scenario.var(\"OBJ\")[\"lvl\"])"
   ]
  },
  {
   "cell_type": "markdown",
   "id": "b5db71ca",
   "metadata": {},
   "source": [
    "# Adding DACCS description\n",
    "First step of adding DACCS as a technology in the model is by including DACCS into the `\"technology\"` set."
   ]
  },
  {
   "cell_type": "code",
   "execution_count": null,
   "id": "ff578f7a",
   "metadata": {},
   "outputs": [],
   "source": []
  },
  {
   "cell_type": "code",
   "execution_count": null,
   "id": "3b203192",
   "metadata": {
    "scrolled": true
   },
   "outputs": [],
   "source": [
    "mp.add_unit(\"USD/(tCO2/yr)\")\n",
    "mp.add_unit(\"USD/(tCO2/yr)/yr\")\n",
    "mp.add_unit(\"USD/tCO2\")\n",
    "mp.add_unit(\"tCO2/tCO2\")\n",
    "mp.add_unit(\"tCO2\")\n",
    "mp.add_unit(\"Mt CO2/yr\")\n",
    "\n",
    "\n",
    "filepath = os.path.join(os.getcwd(), \"data/tech_data.yaml\")\n",
    "add_dac(scenario, filepath=filepath)\n"
   ]
  },
  {
   "cell_type": "markdown",
   "id": "017c5ca3",
   "metadata": {},
   "source": [
    "Similar to what we did when generating the `\"baseline\"` scenario, the first thing we need to do is defining the input and output comodities of each technology. "
   ]
  },
  {
   "cell_type": "markdown",
   "id": "54cc0111",
   "metadata": {},
   "source": [
    "# Solve Statement\n",
    "Finally, this is the solve statement"
   ]
  },
  {
   "cell_type": "code",
   "execution_count": null,
   "id": "3131e0dd",
   "metadata": {},
   "outputs": [],
   "source": [
    "scenario.commit(comment=\"Adding daccs using add_dac tool\")\n",
    "scenario.set_as_default()\n",
    "\n",
    "scenario.solve()\n",
    "scenario.var(\"OBJ\")[\"lvl\"]\n",
    "\n",
    "print('Objective value: ', scenario.var(\"OBJ\")[\"lvl\"])"
   ]
  },
  {
   "cell_type": "markdown",
   "id": "dad6cedb",
   "metadata": {},
   "source": [
    "# Plotting Results and Compare\n",
    "Finally, this is the plotting results command to compare emissions bound scenarios with and without DACCS"
   ]
  },
  {
   "cell_type": "code",
   "execution_count": null,
   "id": "19e29174",
   "metadata": {
    "scrolled": false
   },
   "outputs": [],
   "source": [
    "# Create a Reporter object to describe and carry out reporting\n",
    "# calculations and operations (like plotting) based on `scenario`\n",
    "# Add keys like \"plot activity\" to describe reporting operations.\n",
    "# See tutorial/utils/plotting.py\n",
    "from message_ix.reporting import Reporter\n",
    "from message_ix.util.tutorial import prepare_plots\n",
    "\n",
    "rep_ori = Reporter.from_scenario(base)\n",
    "rep_new = Reporter.from_scenario(scenario)"
   ]
  },
  {
   "cell_type": "markdown",
   "id": "eb382f4d",
   "metadata": {},
   "source": [
    "## System acticity"
   ]
  },
  {
   "cell_type": "code",
   "execution_count": null,
   "id": "ea31acff",
   "metadata": {},
   "outputs": [],
   "source": [
    "print(\"Without DACCS\")\n",
    "prepare_plots(rep_ori)\n",
    "rep_ori.set_filters(t=[\"coal_ppl\", \"wind_ppl\"])\n",
    "rep_ori.get(\"plot activity\")\n",
    "plt.show()\n",
    "\n",
    "print(\"With DACCS\")\n",
    "prepare_plots(rep_new)\n",
    "rep_new.set_filters(t=[\"coal_ppl\", \"wind_ppl\"])\n",
    "rep_new.get(\"plot activity\")\n",
    "plt.show()"
   ]
  },
  {
   "cell_type": "markdown",
   "id": "f28be730",
   "metadata": {},
   "source": [
    "### DACCS Capacity"
   ]
  },
  {
   "cell_type": "code",
   "execution_count": null,
   "id": "803233f0",
   "metadata": {},
   "outputs": [],
   "source": [
    "prepare_plots(rep_new)\n",
    "rep_new.set_filters(t=[\"daccs\"])\n",
    "rep_new.get(\"plot daccs capacity\")\n",
    "plt.show()"
   ]
  },
  {
   "cell_type": "markdown",
   "id": "d03f4f74",
   "metadata": {},
   "source": [
    "## Emissions"
   ]
  },
  {
   "cell_type": "code",
   "execution_count": null,
   "id": "76423c69",
   "metadata": {},
   "outputs": [],
   "source": [
    "print(\"Without DACCS\")\n",
    "prepare_plots(rep_ori)\n",
    "rep_ori.set_filters(t=[\"coal_ppl\", \"wind_ppl\"])\n",
    "rep_ori.get(\"plot emission\")\n",
    "plt.show()\n",
    "\n",
    "print(\"With DACCS\")\n",
    "prepare_plots(rep_new)\n",
    "rep_new.set_filters(t=[\"coal_ppl\", \"wind_ppl\",\"daccs\"])\n",
    "rep_new.get(\"plot emission\")\n",
    "plt.show()"
   ]
  },
  {
   "cell_type": "markdown",
   "id": "436e75d0",
   "metadata": {},
   "source": [
    "## Close the connection with the database"
   ]
  },
  {
   "cell_type": "code",
   "execution_count": null,
   "id": "ff03f487",
   "metadata": {},
   "outputs": [],
   "source": [
    "mp.close_db()"
   ]
  },
  {
   "cell_type": "code",
   "execution_count": null,
   "id": "c907fa13",
   "metadata": {},
   "outputs": [],
   "source": []
  }
 ],
 "metadata": {
  "kernelspec": {
   "display_name": "Python 3 (ipykernel)",
   "language": "python",
   "name": "python3"
  },
  "language_info": {
   "codemirror_mode": {
    "name": "ipython",
    "version": 3
   },
   "file_extension": ".py",
   "mimetype": "text/x-python",
   "name": "python",
   "nbconvert_exporter": "python",
   "pygments_lexer": "ipython3",
   "version": "3.10.9"
  }
 },
 "nbformat": 4,
 "nbformat_minor": 5
}
